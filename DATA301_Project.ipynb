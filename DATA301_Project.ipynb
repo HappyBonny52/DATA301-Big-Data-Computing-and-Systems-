{
  "nbformat": 4,
  "nbformat_minor": 0,
  "metadata": {
    "colab": {
      "provenance": [],
      "authorship_tag": "ABX9TyMIVfkWsYa8B8XzmUxOorhJ",
      "include_colab_link": true
    },
    "kernelspec": {
      "name": "python3",
      "display_name": "Python 3"
    },
    "language_info": {
      "name": "python"
    }
  },
  "cells": [
    {
      "cell_type": "markdown",
      "metadata": {
        "id": "view-in-github",
        "colab_type": "text"
      },
      "source": [
        "<a href=\"https://colab.research.google.com/github/HappyBonny52/DATA301-Big-Data-Computing-and-Systems-/blob/main/DATA301_Project.ipynb\" target=\"_parent\"><img src=\"https://colab.research.google.com/assets/colab-badge.svg\" alt=\"Open In Colab\"/></a>"
      ]
    },
    {
      "cell_type": "markdown",
      "source": [
        "\n",
        "# **DATA301 Project**\n",
        "\n",
        "*   Name : Bonghyun Kwon\n",
        "*   Student ID : 91816426\n",
        "\n",
        "\\\n",
        "\n",
        "**Hypothesis :**\n",
        "\n",
        " The Market Basket Analysis with the Apriori algorithm and cosine similarity will both be effective in generating personalized product recommendations on Amazon. However, it is hypothesized that the effectiveness and efficiency of the two approaches may vary in different situations. Market Basket Analysis with the Apriori algorithm is expected to excel in capturing frequent itemsets and association rules, leading to accurate recommendations based on customer purchase history. On the other hand, cosine similarity is anticipated to be effective in identifying similar customers and recommending products based on their preferences. It is expected that the performance of the algorithms will depend on factors such as the sparsity of the data, the diversity of the product catalog, and the availability of customer purchase history. By implementing and evaluating both algorithms, the research aims to validate or refute this hypothesis and obtain insights of different characteristics of these algorithms when it comes to recommending products.\n",
        "\n",
        "\\\n",
        "**The research question :**\n",
        "\n",
        "### \"What personalized items can be recommended to customers on AMAZON using Market Basket Analysis and Cosine similarity? And what difference do they make when it comes to recommending personalized products?\""
      ],
      "metadata": {
        "id": "18l9pwDc_mUA"
      }
    },
    {
      "cell_type": "markdown",
      "source": [
        "# **Setup for project**"
      ],
      "metadata": {
        "id": "Hnt-bn9QqDTr"
      }
    },
    {
      "cell_type": "markdown",
      "source": [
        "Install pyspark"
      ],
      "metadata": {
        "id": "lNQ3IodUV8GA"
      }
    },
    {
      "cell_type": "code",
      "execution_count": null,
      "metadata": {
        "id": "_PO57iYKpxBc",
        "colab": {
          "base_uri": "https://localhost:8080/"
        },
        "outputId": "02d9d110-996b-476c-ce14-6e2818d77348"
      },
      "outputs": [
        {
          "output_type": "stream",
          "name": "stdout",
          "text": [
            "\u001b[2K     \u001b[90m━━━━━━━━━━━━━━━━━━━━━━━━━━━━━━━━━━━━━━━\u001b[0m \u001b[32m310.8/310.8 MB\u001b[0m \u001b[31m2.5 MB/s\u001b[0m eta \u001b[36m0:00:00\u001b[0m\n",
            "\u001b[?25h  Preparing metadata (setup.py) ... \u001b[?25l\u001b[?25hdone\n",
            "  Building wheel for pyspark (setup.py) ... \u001b[?25l\u001b[?25hdone\n"
          ]
        }
      ],
      "source": [
        "!apt-get install openjdk-8-jdk-headless -qq > /dev/null\n",
        "!pip install -q pyspark"
      ]
    },
    {
      "cell_type": "markdown",
      "source": [
        "Start the Spark Context"
      ],
      "metadata": {
        "id": "0xZ_QW0lAnjb"
      }
    },
    {
      "cell_type": "code",
      "source": [
        "import pyspark\n",
        "from pyspark import SparkConf, SparkContext\n",
        "from pyspark.sql import *\n",
        "spark = SparkSession.builder.master(\"local[*]\").appName('SparkExample').config(\n",
        "    \"spark.executor.memory\", \"1g\").config(\n",
        "        \"spark.executorEnv.PYTHONHASHSEED\",\"0\").config(\"spark.ui.port\", \"4050\"\n",
        "        ).getOrCreate()\n",
        "sc = spark.sparkContext"
      ],
      "metadata": {
        "id": "FyVzYpTCAnE1"
      },
      "execution_count": null,
      "outputs": []
    },
    {
      "cell_type": "markdown",
      "source": [
        "# **Load Dataset**\n",
        "\n",
        "We use AMAZON REVIEW DATASET(2018) for MBA\n",
        "\n",
        "from link : https://cseweb.ucsd.edu/~jmcauley/datasets/amazon_v2/\n",
        "\n",
        "Specifically, we use meta data in the category of\n",
        "\"*Grocery and Gourment Food*\" containing 287,209 products\n",
        "\n",
        "Given url for this meta data is : https://datarepo.eng.ucsd.edu/mcauley_group/data/amazon_v2/metaFiles2/meta_Grocery_and_Gourmet_Food.json.gz"
      ],
      "metadata": {
        "id": "12J7IgQKA20G"
      }
    },
    {
      "cell_type": "code",
      "source": [
        "import urllib.request\n",
        "url = \"https://datarepo.eng.ucsd.edu/mcauley_group/data/amazon_v2/metaFiles2/meta_Grocery_and_Gourmet_Food.json.gz\"\n",
        "filename = 'meta_Grocery_Food.json.gz'\n",
        "urllib.request.urlretrieve(url, filename)"
      ],
      "metadata": {
        "colab": {
          "base_uri": "https://localhost:8080/"
        },
        "id": "XfokPe0BVPUd",
        "outputId": "90071bfe-2824-458b-9546-d46fd2158f3c"
      },
      "execution_count": null,
      "outputs": [
        {
          "output_type": "execute_result",
          "data": {
            "text/plain": [
              "('meta_Grocery_Food.json.gz', <http.client.HTTPMessage at 0x7fe8736b7a30>)"
            ]
          },
          "metadata": {},
          "execution_count": 3
        }
      ]
    },
    {
      "cell_type": "markdown",
      "source": [
        "Display the number of datasets/baskets"
      ],
      "metadata": {
        "id": "ZDrwGLtkhV88"
      }
    },
    {
      "cell_type": "code",
      "source": [
        "item_purchased = spark.read.json('meta_Grocery_Food.json.gz').rdd\n",
        "\n",
        "num_basket = item_purchased.count()\n",
        "print(f\"The number of datasets(baskets) : {num_basket}\")"
      ],
      "metadata": {
        "colab": {
          "base_uri": "https://localhost:8080/"
        },
        "id": "GxuOGgK0hakb",
        "outputId": "cb565da8-bf57-4922-951f-2be7e4c3372f"
      },
      "execution_count": null,
      "outputs": [
        {
          "output_type": "stream",
          "name": "stdout",
          "text": [
            "The number of datasets(baskets) : 287051\n"
          ]
        }
      ]
    },
    {
      "cell_type": "markdown",
      "source": [
        "## Appendix A. For displaying the contents of imported DATASET"
      ],
      "metadata": {
        "id": "UKrJOBBjiSP4"
      }
    },
    {
      "cell_type": "code",
      "source": [
        "first_5_item_purchased = item_purchased.take(5)\n",
        "\n",
        "print(\"First five datasets\\n\")\n",
        "for i in range(5):\n",
        "  print(f\"Row {i+1} (\")\n",
        "  print(f\"\\talso_buy = {first_5_item_purchased[i][0]},\")\n",
        "  print(f\"\\talso_view = {first_5_item_purchased[i][1]},\")\n",
        "  print(f\"\\tasin = '{first_5_item_purchased[i][2]}',\")\n",
        "  print(f\"\\tbrand = '{first_5_item_purchased[i][3]}',\")\n",
        "  print(f\"\\tcategory = {first_5_item_purchased[i][4]},\")\n",
        "  print(f\"\\tdate = '{first_5_item_purchased[i][5]}',\")\n",
        "  print(f\"\\tdescription = {first_5_item_purchased[i][6]},\")\n",
        "  print(f\"\\tdetails = {first_5_item_purchased[i][7]},\")\n",
        "  print(f\"\\tfeature = {first_5_item_purchased[i][8]},\")\n",
        "  print(f\"\\tfit = '{first_5_item_purchased[i][9]}',\")\n",
        "  print(f\"\\timageURL = {first_5_item_purchased[i][10]},\")\n",
        "  print(f\"\\timageURLHighRes = {first_5_item_purchased[i][11]},\")\n",
        "  print(f\"\\tmain_cat = '{first_5_item_purchased[i][12]}',\")\n",
        "  print(f\"\\tprice = {first_5_item_purchased[i][13]},\")\n",
        "  print(f\"\\trank = {first_5_item_purchased[i][14]},\")\n",
        "  print(f\"\\ttitle = '{first_5_item_purchased[i][18]}',\")\n",
        "  print(\")\\n\")"
      ],
      "metadata": {
        "colab": {
          "base_uri": "https://localhost:8080/"
        },
        "id": "PtosSLZFA8MR",
        "outputId": "bca57549-87d4-413e-e5d3-c8a0b125e091"
      },
      "execution_count": null,
      "outputs": [
        {
          "output_type": "stream",
          "name": "stdout",
          "text": [
            "First five datasets\n",
            "\n",
            "Row 1 (\n",
            "\talso_buy = [],\n",
            "\talso_view = ['B0000D9MYM', 'B0000D9MYL', 'B00ADHIGBA', 'B00H9OX598', 'B001LM42GY', 'B001LM5TDY'],\n",
            "\tasin = '0681727810',\n",
            "\tbrand = 'Ariola Imports',\n",
            "\tcategory = ['Grocery & Gourmet Food', 'Dairy, Cheese & Eggs', 'Cheese', 'Gouda'],\n",
            "\tdate = '',\n",
            "\tdescription = ['BEEMSTER GOUDA CHEESE AGED 18/24 MONTHS', 'Statements regarding dietary supplements have not been evaluated by the FDA and are not intended to diagnose, treat, cure, or prevent any disease or health condition.'],\n",
            "\tdetails = None,\n",
            "\tfeature = [],\n",
            "\tfit = '',\n",
            "\timageURL = [],\n",
            "\timageURLHighRes = [],\n",
            "\tmain_cat = 'Grocery',\n",
            "\tprice = $41.91,\n",
            "\trank = 165,181 in Grocery & Gourmet Food (,\n",
            "\ttitle = 'Beemster Gouda - Aged 18/24 Months - App. 1.5 Lbs',\n",
            ")\n",
            "\n",
            "Row 2 (\n",
            "\talso_buy = ['B01898YHXK', 'B01BCM6LAC', 'B00Q4OL47O', 'B00Q4OL5QE', '0804189986', 'B00Q4OL2F8', '1101902663', 'B019PDEUU8', 'B01AC97ONO', 'B01LZIS4VX', 'B019QN2DN8', 'B019PDYP7Q', '1101902639', 'B00Q4OL0S2', 'B019PHEIVA', 'B019QNGPSW', 'B0041RGD0E', '0998089508', '0988775115', 'B0006Z7NNG', 'B00MU73UKS', 'B01KIJ7JGA', 'B005F9W9JQ'],\n",
            "\talso_view = [],\n",
            "\tasin = '0853347867',\n",
            "\tbrand = '',\n",
            "\tcategory = ['Grocery & Gourmet Food', 'Cooking & Baking', 'Sugar Substitutes', 'Xylitol'],\n",
            "\tdate = '',\n",
            "\tdescription = ['Shipped from UK, please allow 10 to 21 business days for arrival. ex lib pub by Applied Science Publishers ltd', 'Statements regarding dietary supplements have not been evaluated by the FDA and are not intended to diagnose, treat, cure, or prevent any disease or health condition.'],\n",
            "\tdetails = None,\n",
            "\tfeature = [],\n",
            "\tfit = '',\n",
            "\timageURL = ['https://images-na.ssl-images-amazon.com/images/I/5135fT93xtL._SS40_.jpg', 'https://images-na.ssl-images-amazon.com/images/I/21IAIOeQruL._SS40_.jpg'],\n",
            "\timageURLHighRes = ['https://images-na.ssl-images-amazon.com/images/I/5135fT93xtL.jpg', 'https://images-na.ssl-images-amazon.com/images/I/21IAIOeQruL.jpg'],\n",
            "\tmain_cat = 'Grocery',\n",
            "\tprice = ,\n",
            "\trank = 315,867 in Grocery & Gourmet Food (,\n",
            "\ttitle = 'Trim Healthy Mama Xylitol',\n",
            ")\n",
            "\n",
            "Row 3 (\n",
            "\talso_buy = [],\n",
            "\talso_view = ['B07DXN65TF'],\n",
            "\tasin = '1888861118',\n",
            "\tbrand = 'Unik Occasions',\n",
            "\tcategory = ['Grocery & Gourmet Food', 'Cooking & Baking', 'Frosting, Icing & Decorations', 'Cake & Cupcake Toppers', 'Cake Toppers'],\n",
            "\tdate = 'September 21, 2010',\n",
            "\tdescription = ['Jazz up your cakes with a sparkling monogram from our Sparkling collection! These single letter monograms are silver plated covered in crystal rhinestones and come in several sizes for your convenience. You can use these simple yet elegant monogram cake toppers to make a Sweet 16 even sweeter or use them for a wedding cake to make the cake more special.'],\n",
            "\tdetails = None,\n",
            "\tfeature = [],\n",
            "\tfit = '',\n",
            "\timageURL = [],\n",
            "\timageURLHighRes = [],\n",
            "\tmain_cat = 'Amazon Home',\n",
            "\tprice = $29.95,\n",
            "\trank = [\">#669,941 in Kitchen & Dining (See Top 100 in Kitchen & Dining)\",\">#9,899 in Kitchen & Dining > Bakeware > Decorating Tools > Cake & Cupcake Toppers > Cake Toppers\"],\n",
            "\ttitle = 'Letter C - Swarovski Crystal Monogram Wedding Cake Topper Letter',\n",
            ")\n",
            "\n",
            "Row 4 (\n",
            "\talso_buy = [],\n",
            "\talso_view = [],\n",
            "\tasin = '1888861517',\n",
            "\tbrand = 'Other',\n",
            "\tcategory = ['Grocery & Gourmet Food', 'Cooking & Baking', 'Frosting, Icing & Decorations', 'Cake & Cupcake Toppers', 'Cake Toppers'],\n",
            "\tdate = 'September 11, 2011',\n",
            "\tdescription = ['Large Letter - Height 4.75\"'],\n",
            "\tdetails = None,\n",
            "\tfeature = ['Large Letter - Height 4.75\"'],\n",
            "\tfit = '',\n",
            "\timageURL = [],\n",
            "\timageURLHighRes = [],\n",
            "\tmain_cat = 'Amazon Home',\n",
            "\tprice = $11.45,\n",
            "\trank = [\">#832,581 in Kitchen & Dining (See Top 100 in Kitchen & Dining)\",\">#12,883 in Kitchen & Dining > Bakeware > Decorating Tools > Cake & Cupcake Toppers > Cake Toppers\"],\n",
            "\ttitle = 'Letter H - Swarovski Crystal Monogram Wedding Cake Topper Letter',\n",
            ")\n",
            "\n",
            "Row 5 (\n",
            "\talso_buy = [],\n",
            "\talso_view = [],\n",
            "\tasin = '1888861614',\n",
            "\tbrand = 'Unik Occasions',\n",
            "\tcategory = ['Grocery & Gourmet Food', 'Cooking & Baking', 'Frosting, Icing & Decorations', 'Cake & Cupcake Toppers', 'Cake Toppers'],\n",
            "\tdate = 'September 11, 2011',\n",
            "\tdescription = ['4.75\"'],\n",
            "\tdetails = None,\n",
            "\tfeature = ['4.75\" height'],\n",
            "\tfit = '',\n",
            "\timageURL = [],\n",
            "\timageURLHighRes = [],\n",
            "\tmain_cat = 'Amazon Home',\n",
            "\tprice = $15.00,\n",
            "\trank = [\">#590,999 in Kitchen & Dining (See Top 100 in Kitchen & Dining)\",\">#8,585 in Kitchen & Dining > Bakeware > Decorating Tools > Cake & Cupcake Toppers > Cake Toppers\"],\n",
            "\ttitle = 'Letter S - Swarovski Crystal Monogram Wedding Cake Topper Letter',\n",
            ")\n",
            "\n"
          ]
        }
      ]
    },
    {
      "cell_type": "markdown",
      "source": [
        "# **Extract and create the useful datasets for Market Basket Analysis**\n",
        "For Amazon products, each product has an Identification called as 'ASIN'\n",
        "ASIN stands for Amazon Standard Identification Number which consists of ten-digit alphanumeric code\n",
        "\n",
        "---\n",
        "\n",
        "Datasets we need are :\n",
        "\n",
        "\\\n",
        "\n",
        "*   **1 - The number of customers who bought products on Amazon**\n",
        "\n",
        "    *(To get the number of baskets and use it for calculating interest and confidence)*\n",
        "*   **2 - ASIN and the name of its product**\n",
        "\n",
        "    (*Since ASIN is the id, it's hard to tell what this product is by looking from the code, so this is to get the descriptive name of the product to know what this product represents)*\n",
        "*  **3 - Baskets containing one or more items per customer they purchased**\n",
        "\n",
        "    *(To figure out what items/products are in each basket and there are one or more products per basket)*\n",
        "\n",
        "\\\n",
        "> Note that since the name of each product is long, we use ASIN(identification of each product) for dataset and show the name of it when recommending it to customer to let them know what they are\n",
        "\n",
        "\n",
        "\n",
        "\n"
      ],
      "metadata": {
        "id": "y_Pfdc16K8jt"
      }
    },
    {
      "cell_type": "markdown",
      "source": [
        "**1 - The number of customers who bought products on Amazon**\n",
        "\n",
        "Since the number of datasets corresponds to basket per each customer,\n",
        "dataset is equal to the number of basket what we get from the above in load dataset section."
      ],
      "metadata": {
        "id": "yyA7yBj2h-Hd"
      }
    },
    {
      "cell_type": "code",
      "source": [
        "print(\"The number of customers : \", num_basket)"
      ],
      "metadata": {
        "colab": {
          "base_uri": "https://localhost:8080/"
        },
        "id": "_iJRUHe9LP-J",
        "outputId": "487a114f-5d83-4438-9a06-2680d9158814"
      },
      "execution_count": null,
      "outputs": [
        {
          "output_type": "stream",
          "name": "stdout",
          "text": [
            "The number of customers :  287051\n"
          ]
        }
      ]
    },
    {
      "cell_type": "markdown",
      "source": [
        "**2 - ASIN and the name of its product**"
      ],
      "metadata": {
        "id": "3FQz9GtgjiGf"
      }
    },
    {
      "cell_type": "code",
      "source": [
        "asin = item_purchased.map(lambda x : x[2])\n",
        "title = item_purchased.map(lambda x : x[18])\n",
        "\n",
        "index_asin = asin.zipWithIndex().map(lambda x : (x[1], x[0]))\n",
        "index_title = title.zipWithIndex().map(lambda x : (x[1], x[0]))\n",
        "\n",
        "join_asin_title = index_asin.join(index_title).map(lambda x : x[1])\n",
        "\n",
        "print(join_asin_title.take(5))"
      ],
      "metadata": {
        "colab": {
          "base_uri": "https://localhost:8080/"
        },
        "id": "RUgw5mGMjoq-",
        "outputId": "04074c14-f05d-4545-ae91-56a2660f483f"
      },
      "execution_count": null,
      "outputs": [
        {
          "output_type": "stream",
          "name": "stdout",
          "text": [
            "[('0681727810', 'Beemster Gouda - Aged 18/24 Months - App. 1.5 Lbs'), ('1888861118', 'Letter C - Swarovski Crystal Monogram Wedding Cake Topper Letter'), ('1888861614', 'Letter S - Swarovski Crystal Monogram Wedding Cake Topper Letter'), ('1888861339', '1 X Fully Covered in Crystal Monogram Wedding Cake Topper Letter - Letter O'), ('188886155X', 'Letter L - Swarovski Crystal Monogram Wedding Cake Topper Letter')]\n"
          ]
        }
      ]
    },
    {
      "cell_type": "markdown",
      "source": [
        "**3 - Baskets containing one or more items per customer they purchased**\n"
      ],
      "metadata": {
        "id": "nFd8aINOkmIl"
      }
    },
    {
      "cell_type": "code",
      "source": [
        "also_buy = item_purchased.map(lambda x : x[0])\n",
        "index_also_buy = also_buy.zipWithIndex().map(lambda x : (x[1], x[0]))\n",
        "\n",
        "all_items_in_basket_with_indx = index_asin.join(index_also_buy)\n",
        "list_of_baskets_with_indx = all_items_in_basket_with_indx.map(lambda x : (x[0], [x[1][0]]+(x[1][1])))\n",
        "list_of_baskets = list_of_baskets_with_indx.sortBy(lambda x : x[0])\n",
        "num_products = list_of_baskets.flatMap(lambda x : x[1]).distinct().count()\n",
        "\n",
        "print(f\"The number of products : \", num_products)\n",
        "print(list_of_baskets.take(5))"
      ],
      "metadata": {
        "colab": {
          "base_uri": "https://localhost:8080/"
        },
        "id": "-GNn_AwZknZy",
        "outputId": "b56edb68-1a0c-47e0-987a-975fc584abb6"
      },
      "execution_count": null,
      "outputs": [
        {
          "output_type": "stream",
          "name": "stdout",
          "text": [
            "The number of products :  502705\n",
            "[(0, ['0681727810']), (1, ['0853347867', 'B01898YHXK', 'B01BCM6LAC', 'B00Q4OL47O', 'B00Q4OL5QE', '0804189986', 'B00Q4OL2F8', '1101902663', 'B019PDEUU8', 'B01AC97ONO', 'B01LZIS4VX', 'B019QN2DN8', 'B019PDYP7Q', '1101902639', 'B00Q4OL0S2', 'B019PHEIVA', 'B019QNGPSW', 'B0041RGD0E', '0998089508', '0988775115', 'B0006Z7NNG', 'B00MU73UKS', 'B01KIJ7JGA', 'B005F9W9JQ']), (2, ['1888861118']), (3, ['1888861517']), (4, ['1888861614'])]\n"
          ]
        }
      ]
    },
    {
      "cell_type": "markdown",
      "source": [
        "# **Apply A-priori algorithm**"
      ],
      "metadata": {
        "id": "yrdz1A4KvCnF"
      }
    },
    {
      "cell_type": "markdown",
      "source": [
        "### Step 1 : A-priori algorithm"
      ],
      "metadata": {
        "id": "0EFBPpYm57xE"
      }
    },
    {
      "cell_type": "code",
      "source": [
        "from operator import *\n",
        "#Most frequent items\n",
        "def a_priori_step1(items_per_basket):\n",
        "  items = items_per_basket.flatMap(lambda x: x[1])\n",
        "  itemsCount = items.map(lambda x : (x, 1)).reduceByKey(add)\n",
        "  return itemsCount\n",
        "\n",
        "print(\"Top 5 purchased items \",a_priori_step1(list_of_baskets).takeOrdered(5, lambda kv: -kv[1]))"
      ],
      "metadata": {
        "id": "JZqOhsqz58lj",
        "colab": {
          "base_uri": "https://localhost:8080/"
        },
        "outputId": "ffd59a84-9877-4948-973d-e827ddd1eebf"
      },
      "execution_count": null,
      "outputs": [
        {
          "output_type": "stream",
          "name": "stdout",
          "text": [
            "Top 5 purchased items  [('B07CX6LN8T', 3411), ('B008GVJ9S4', 2070), ('B0799CH1ZZ', 1740), ('B00HFC2E82', 1378), ('B003ZXEBOK', 1376)]\n"
          ]
        }
      ]
    },
    {
      "cell_type": "markdown",
      "source": [
        "### Step 2 : A-priori algorithm"
      ],
      "metadata": {
        "id": "pST2c_dmJOiA"
      }
    },
    {
      "cell_type": "code",
      "source": [
        "def a_priori(rdd, support=100):\n",
        "  supportItems = a_priori_step1(rdd).filter(lambda x : x[1] > support)\n",
        "  freqItems = sc.broadcast(supportItems.collectAsMap())\n",
        "\n",
        "  def filter_uncommon(text):\n",
        "    return [item  for item in text if item in freqItems.value]\n",
        "\n",
        "  def items_pair_tup(line):\n",
        "    \"\"\"Function for pairing up all items to tuple within the same line\"\"\"\n",
        "    return [tuple(sorted((line[j], line[i]))) for i in range(len(line)) for j in range(i)]\n",
        "\n",
        "  freqItemPerBasket = rdd.map(lambda x : x[1]).map(filter_uncommon)\n",
        "  freqItemPair = freqItemPerBasket.filter(lambda x : len(x)>=2).flatMap(items_pair_tup)\n",
        "  freqItemPairCount = freqItemPair.map(lambda x : (x, 1)).reduceByKey(add)\n",
        "\n",
        "  return freqItemPairCount\n",
        "\n",
        "print(\"Top 5 frequently co-purchased item pair \", a_priori(list_of_baskets).takeOrdered(5, lambda kv: -kv[1]))"
      ],
      "metadata": {
        "colab": {
          "base_uri": "https://localhost:8080/"
        },
        "id": "WJ6C9aWKJMke",
        "outputId": "3d02c4a9-c8ae-4b6d-ae5b-1b963be8783d"
      },
      "execution_count": null,
      "outputs": [
        {
          "output_type": "stream",
          "name": "stdout",
          "text": [
            "Top 5 frequently co-purchased item pair  [(('B003ZXEBOK', 'B008GVJ9S4'), 1003), (('B008GVJ9S4', 'B00HFC2E82'), 988), (('B0079OYIFS', 'B00H2AAXMQ'), 935), (('B0079OYIFS', 'B01G4I8WCE'), 917), (('B003ZXEBOK', 'B00HFC2E82'), 847)]\n"
          ]
        }
      ]
    },
    {
      "cell_type": "markdown",
      "source": [
        "### Useful Dataset for recommending itmes by MBA using apriori algorithm."
      ],
      "metadata": {
        "id": "ond_-3yW0toZ"
      }
    },
    {
      "cell_type": "code",
      "source": [
        "top_item_counts = a_priori_step1(list_of_baskets).filter(lambda kv: kv[1]>=100)\n",
        "top_pair_counts = a_priori(list_of_baskets, support=100)"
      ],
      "metadata": {
        "id": "gtW_n7wgUxNT"
      },
      "execution_count": null,
      "outputs": []
    },
    {
      "cell_type": "markdown",
      "source": [
        "### Association rules for evaluating item sets follow this formula:\n",
        "\n",
        "\\\n",
        "\n",
        " **Confidence, conf(I -> j) = support(I u j) / support(I)**\n",
        "\n",
        "\n",
        "\n",
        "**Interest, interest(I -> j) = conf(I -> j) - Pr[j]**\n",
        "\n",
        "\n",
        "\\\n",
        "obtained from lab3_part1 word document and associated knowledges has been achived from the Mining of Massive Datasets (3rd edition).(MMDS). Chapter 6\n"
      ],
      "metadata": {
        "id": "Go_6psqYdhNb"
      }
    },
    {
      "cell_type": "markdown",
      "source": [
        "### Calculate Confidence"
      ],
      "metadata": {
        "id": "y-RIX0IKJR6T"
      }
    },
    {
      "cell_type": "code",
      "source": [
        "def confidence(item_counts, pair_counts, n):\n",
        "  item_support = item_counts.map(lambda x : (x[0], x[1]/n))\n",
        "  pair_support = pair_counts.map(lambda x : (x[0], x[1]/n))\n",
        "  X_Ypair_map = pair_support.map(lambda x : (x[0][0],(x[0][1], x[1])))\n",
        "  Y_Xpair_map = pair_support.map(lambda x : (x[0][1],(x[0][0], x[1])))\n",
        "  X_Yjoin = item_support.join(X_Ypair_map)\n",
        "  Y_Xjoin = item_support.join(Y_Xpair_map)\n",
        "  confCombined = X_Yjoin.union(Y_Xjoin)\n",
        "  confidence = confCombined.map(lambda x : ((x[0],x[1][1][0]), x[1][1][1]/x[1][0]))\n",
        "  return confidence\n",
        "\n",
        "top_rule_confidences = confidence(top_item_counts, top_pair_counts, num_basket)\n",
        "print(top_rule_confidences.takeOrdered(5, lambda kv: -kv[1]))"
      ],
      "metadata": {
        "id": "CVWxYJNuJSgE",
        "colab": {
          "base_uri": "https://localhost:8080/"
        },
        "outputId": "d82608aa-a4fd-4936-bfa2-5bc39736229c"
      },
      "execution_count": null,
      "outputs": [
        {
          "output_type": "stream",
          "name": "stdout",
          "text": [
            "[(('B006K4O3VM', 'B0063AA7DG'), 1.0), (('B006K4O3VM', 'B006AQF62A'), 0.9919354838709676), (('B006K4O3VM', 'B005DJ8S02'), 0.9919354838709676), (('B00D62U00E', 'B000IDC8S6'), 0.990909090909091), (('B00D62U00E', 'B0063AA7DG'), 0.990909090909091)]\n"
          ]
        }
      ]
    },
    {
      "cell_type": "markdown",
      "source": [
        "### Calculate interest"
      ],
      "metadata": {
        "id": "AdxhWBrEJXzM"
      }
    },
    {
      "cell_type": "code",
      "source": [
        "def interest(item_counts, rule_confidences, n):\n",
        "  #Map the items with the corresponding its probability (Y, Probability of Y)\n",
        "  ProbY = item_counts.map(lambda x : (x[0], x[1]/n))\n",
        "\n",
        "  #Swap the pair((X, Y), _) form to (Y, (X, Conf(X->Y))) to make Y as key\n",
        "  X_YconfPair = rule_confidences.map(lambda x : (x[0][1],(x[0][0], x[1])))\n",
        "\n",
        "  #Join to get the form of (Y,(Prob(Y), (X, Conf(X->Y)))) to calculate interest next\n",
        "  X_Yjoin = ProbY.join(X_YconfPair)\n",
        "\n",
        "  #Calculate Interest by subtracting Conf(X->Y) - Prob(Y)\n",
        "  #and mapping them in form ((X, Y), Interest(X->Y))\n",
        "  interest = X_Yjoin.map(lambda x : ((x[1][1][0], x[0]), x[1][1][1]-x[1][0]))\n",
        "  return interest\n",
        "\n",
        "top_interest = interest(top_item_counts, top_rule_confidences, num_basket)\n",
        "print(top_interest.takeOrdered(5, lambda kv: -kv[1]))"
      ],
      "metadata": {
        "id": "BehJH5s4JXDl",
        "colab": {
          "base_uri": "https://localhost:8080/"
        },
        "outputId": "e74cbbbc-81bf-4ab2-c864-9bb363c1b825"
      },
      "execution_count": null,
      "outputs": [
        {
          "output_type": "stream",
          "name": "stdout",
          "text": [
            "[(('B006K4O3VM', 'B0063AA7DG'), 0.9994217055505816), (('B006K4O3VM', 'B005DJ8S02'), 0.9913606731230518), (('B006K4O3VM', 'B006AQF62A'), 0.9913328035110316), (('B00D62U00E', 'B000IDC8S6'), 0.9903447312656827), (('B00D62U00E', 'B005DJ8S02'), 0.9903342801611751)]\n"
          ]
        }
      ]
    },
    {
      "cell_type": "markdown",
      "source": [
        "# **Recommend Items based on Market Basket Anaylsis**"
      ],
      "metadata": {
        "id": "sJQojU9kgbeY"
      }
    },
    {
      "cell_type": "markdown",
      "source": [
        "### The few number of sample customers for recommending personalized items"
      ],
      "metadata": {
        "id": "ni5T8lvSEnZG"
      }
    },
    {
      "cell_type": "code",
      "source": [
        "sample_small = list_of_baskets.filter(lambda x : len(x[1])>=3).sample(False, 0.00005, 81)\n",
        "num_of_customer = sample_small.count()\n",
        "sample_customers = (sample_small.map(lambda x : x[0]).collect())\n",
        "print(f\"There are {num_of_customer} number of customers in this sample\")\n",
        "print(f\"List of customer's ID {sample_customers}\")\n",
        "print(f\"Each customer' ID and their baskets : \\n{sample_small.collect()}\")"
      ],
      "metadata": {
        "id": "f9bPtONkEn85",
        "colab": {
          "base_uri": "https://localhost:8080/"
        },
        "outputId": "027f97e7-519d-4f7c-9b07-c89b07d55c5b"
      },
      "execution_count": null,
      "outputs": [
        {
          "output_type": "stream",
          "name": "stdout",
          "text": [
            "There are 5 number of customers in this sample\n",
            "List of customer's ID [16321, 90887, 93660, 128345, 270219]\n",
            "Each customer' ID and their baskets : \n",
            "[(16321, ['B000I346XQ', 'B00716PFZQ', 'B007O58268', 'B00OGLF4NW', 'B006YVD9G6', 'B002HQT61E', 'B008F2JI8K', 'B00019FVUE', 'B0000ETAH7', 'B001M1DTYU', 'B001LO50SQ', 'B00DLNQHS2', 'B06ZZGNRHT', 'B001EQ5BQW', 'B01N5LU4I4', 'B0000CFTNR', 'B00C7BGB5I', 'B002MN424S', 'B007XNW1ZO', 'B001ACDOA0', 'B000WR4IRW', 'B00M75N9KY', 'B001HTRADI', 'B0078DPHQE', 'B0025VQE5W', 'B011PK0CFQ', 'B000XK0FFW', 'B001L048WO', 'B00716PFYM', 'B001K3L48I']), (90887, ['B005HPOVCQ', 'B01IHDB91A', 'B0014CWPQA', 'B00FVYF334', 'B00O6HRAO2', 'B00LWZYTZO', 'B01IRIONK4', 'B000R9EEH4', 'B000PYF8VM', 'B000Z4J53Y', 'B0748J34WZ', 'B000R2Z682', 'B0014E2OLY', 'B000R91EHW', 'B000RYFRVG', 'B07CX6LN8T', 'B01N0SS46Z']), (93660, ['B005P9WCVG', 'B005P9WFXG', 'B005P9W92S', 'B005P9WGUI', 'B0041HURTM', 'B005P9WIXS', 'B005P9WBVW', 'B000NY6PP2', 'B005P7YQ0I', 'B005P7YT5A', 'B00DL0AM40', 'B005P7YTOG', 'B005P7YU68', 'B005P7YSG0', 'B005P7YTVO', 'B005P7YVZI', 'B005P7YTSM', 'B005P7YQ7Q', 'B005P7YTGO', 'B005P9W8JM', 'B005P7YVKS', 'B005P9WB9O', 'B005P7YPVI', 'B005P7YTDM', 'B005P7YVOY']), (128345, ['B00AVIRYYQ', 'B003D4J0KG', 'B003D4IZSE', 'B00X7W965I', 'B00IJV946S', 'B006M4DMIU', 'B006M4D6NQ', 'B00B06C1PK', 'B00INK4X7U', 'B00B06C20O', 'B00A16Y9CS', 'B00E19WJ1E', 'B003D4IZF2', 'B004OINZZQ', 'B00PVZQBD4', 'B003D4IYQC', 'B003D4IYSU', 'B003D4MW38', 'B003D4IYLM', 'B000CQID6U', 'B00E19WCTS', 'B003D4MX78', 'B003D4IYYY', 'B079M8YRBM', 'B003D4F2US', 'B00E19WE82', 'B000CQID2Y', 'B003D4MUYY', 'B073VSQZPM', 'B003D4MYLS', 'B00E19WE7I', 'B003WO0IVM', 'B06XHR26FV', 'B003D4MWIS', 'B06XHSY8C9', 'B00PXRJFII', 'B00INK53D8', 'B005Q8BIK2', 'B003D4IZ7A', 'B07CTQ8THP', 'B00281PIBA', 'B003D4IY26', 'B00E19WCSE', 'B003D4F1HC', 'B003D4GVM6', 'B00B06C1VE', 'B000CQIDHY', 'B00JCJD72S', 'B00PXRJFVK', 'B000I1OLT2', 'B00E19WEAK', 'B000CQID74', 'B00E19WJ2S', 'B004OQBC8K', 'B00U9VTY48', 'B001KUWDMW', 'B008GVJ9S4', 'B07CZF4ZB3', 'B00PVZQMEC', 'B003D4J08I', 'B001EO5Z4W', 'B00FBCZCWS', 'B000Z4WRXE', 'B00PJCYOWE', 'B00K282KY4', 'B000CQC04Q', 'B07F6QMRP2', 'B003P7XXPE', 'B00MW639YE', 'B07BWCPP5G', 'B00V3M9HO4', 'B001B2SY9U', 'B003D4IVBU', 'B001EXV844', 'B079QXSH2M', 'B07CDF9Y17', 'B00OEXP0UE', 'B015MHHECM', 'B00DILCU92', 'B072LZYJ2B', 'B06XST6RRF', 'B00O7YA32K', 'B013HNTLTC', 'B00FQGP20Q', 'B00E19WE7S', 'B004UWZ090', 'B0007G9FEE', 'B003D4MXTG', 'B000CQG87Q', 'B01E6OLE64', 'B000CQG8K8', 'B073X69CCB', 'B00B06C1SC', 'B003D4F1QS', 'B01LNKHHZ6', 'B01AP9DXSQ']), (270219, ['B01AMDPQ9Y', 'B000Q6I7E4', 'B000MSZTQA', 'B00MHSRUPQ', 'B000Q6IA3M', 'B000Q6IAP0', 'B000Q6I5CS', 'B01AMDPOVO', 'B01AMDQ580', 'B01AMDQFH6', 'B01AMDQWUQ', 'B01AMDP2KM', 'B06WP86Y4X', 'B06XVXSGVR', 'B01AMDQ3J6', 'B01AMDP5H2', 'B01AMDPZ1I', 'B06WP86STW', 'B01AS90HN2', 'B003KK42V0', 'B01AMDPRWA', 'B01AS90G9M', 'B00A8PYXMS', 'B000MTA0U4', 'B06XC9QYFV', 'B01AMDPTAK', 'B06XC477ZY', 'B0069V18AU', 'B01AMDRA5W', 'B000VTBFKE', 'B01AMDQRJW', 'B004V01TS2', 'B007E8KCFY', 'B01AMDQH24', 'B01AMDP59K', 'B06XCHVB31', 'B000VTH3BE', 'B01AMDRC4G', 'B0000VMF02', 'B0013GMLRA', 'B000MTA1JO', 'B01AMDOZLO', 'B00KCUXRLC', 'B01AMDPIOM', 'B00IE72KRW', 'B01AMDP13K', 'B001T4OOOE', 'B0001W6NS0', 'B003BQDCA0', 'B0000VLH8S', 'B00F6ARC1E', 'B074ZG56GM', 'B01AMDPNDI', 'B008XAFC2K', 'B073P95LLP', 'B00IE6Y6J8', 'B0000VZC2K', 'B01AMDPM48', 'B00KKUAITI', 'B003KK9HD8', 'B01F3Y5U20', 'B00JGORXX8', 'B0000VMF0W', 'B01AMDQT6I', 'B00IE72JT6', 'B07DN6JX4H', 'B01AIGNI4U', 'B07843LJF5', 'B000MSXWT6', 'B07BTW5MN1', 'B01AMDP856', 'B01DWEZB5E', 'B0000CFN7X', 'B01N2YMMIG', 'B001M1V1IQ', 'B01AMDOV3G', 'B00H3TAUG0', 'B000MGQDAS', 'B001EPQTD2', 'B01KTW1CRS', 'B01MCSYFS1', 'B0713WBGJQ', 'B07C8HBLHF', 'B00E1QLUVM', 'B00IE72O7I', 'B01IMRSDNS', 'B00T4T93VK', 'B00PR3GAY0', 'B00004S7YQ', 'B071DPFFX3', 'B01NBWGIV6', 'B005SWNCWS', 'B001WT22AE', 'B01AMDQV8Y', 'B076ZQ3DVX', 'B01AMDQIVY', 'B06WVFG1K5', 'B01AMDPKT0', 'B078GW3DQ1', 'B0017JVH5A'])]\n"
          ]
        }
      ]
    },
    {
      "cell_type": "markdown",
      "source": [
        "### Recommend personalized items to customer based on their basket.\n",
        "Using interest & confidence calculated"
      ],
      "metadata": {
        "id": "bajZKiy9SH7O"
      }
    },
    {
      "cell_type": "code",
      "source": [
        "def recommend_items(sample_data_rdd, co_purchased_pairs_rdd, target_user):\n",
        "  # Create a lookup dictionary for user items\n",
        "  user_items_dict = dict(sample_data_rdd.collect())\n",
        "\n",
        "  # Get the items already purchased by the target user\n",
        "  purchased_items = user_items_dict.get(target_user, [])\n",
        "\n",
        "  # Filter the co-purchased pairs with interest higher than 0.6\n",
        "  filtered_pairs_rdd = co_purchased_pairs_rdd.filter(lambda x: x[1] > 0.5)\n",
        "\n",
        "  # Find the co-purchased items from the co-purchased pair list\n",
        "  recommendations = filtered_pairs_rdd.filter(lambda x: any(item in purchased_items for item in x[0]))\n",
        "\n",
        "  # Extract the recommended items\n",
        "  recommended_items = recommendations.flatMap(lambda x: x[0]).distinct().collect()\n",
        "\n",
        "  # Extract the recommended items\n",
        "  recommended_items = recommendations.flatMap(lambda x: x[0]).distinct().collect()\n",
        "  return target_user, recommended_items\n",
        "\n",
        "for target_user in sample_customers:\n",
        "  target_customer, recommendations = (recommend_items(sample_small, top_interest, target_user))\n",
        "  print((f\"Recommended Items for user {target_customer}\", recommendations))\n",
        "  print(f\"The number of recommended items for user {target_customer} : {len(recommendations)}\\n\")"
      ],
      "metadata": {
        "colab": {
          "base_uri": "https://localhost:8080/"
        },
        "id": "4Nk2eplVg7tI",
        "outputId": "f1b83367-3420-4d10-df8e-57c985f7c7e4"
      },
      "execution_count": null,
      "outputs": [
        {
          "output_type": "stream",
          "name": "stdout",
          "text": [
            "('Recommended Items for user 16321', ['B001CDTO6U', 'B01MCZWIRJ', 'B001ID2TPC', 'B005EG78OQ', 'B0037X4QDO', 'B00IRY8CJ2', 'B00PO9GEKC', 'B001CDVCCO', 'B004Y4Z9CC', 'B008L0T0TS', 'B001ACDOA0', 'B001L048WO', 'B009QDQVK0', 'B01MA28YIS', 'B00F8FHRF8', 'B008L0ZS44', 'B009YLDEMW', 'B01AP7LMS6', 'B008GQ1ITM', 'B011PK0CFQ', 'B06XPQ5WG6', 'B00AQB146W', 'B077YDC48D', '160774970X'])\n",
            "The number of recommended items for user 16321 : 24\n",
            "\n",
            "('Recommended Items for user 90887', ['B07CX6LN8T', 'B002RZ1SRU', 'B01C2JF1WS', 'B0014CXSFM', 'B01N0SS3EH', 'B013SGABHY', 'B00BNQLR9I', 'B01N183ZGT', 'B00DX53PWE', 'B000WHSD5A', 'B000UENHBU', 'B00FNNFCMK', 'B01IVTAW9A', 'B07B8N49KT', 'B003Y8EASI', 'B01GFPSAPA', 'B0014E2UP4', 'B000RUP0JE', 'B000WH6WIA', 'B00MZF1YHQ', 'B07G39L3Q6', 'B01AZ15E22', 'B00061ETX2', 'B000RULSYK', 'B07G38C4JG', 'B000PYF8VM', 'B00G4U6UY0', 'B000T9WLTK', 'B00G4U704Y', 'B00W0C9F5M', 'B000R9COOY', 'B000T9YBT8', 'B01N0SS46Z', 'B000RPVQC4', 'B0015GQBHE', 'B00091S3K4', 'B0014D1JWA', 'B000QJAWYE', 'B01MY05VGS', 'B00EFR0PYK', 'B00G4U6QJY', 'B000PYG3X4', 'B000PY53BC', 'B000PXZZM0', 'B000R2Z6AA', 'B00L8KDBCK', 'B000RLPJHQ', 'B004G7TJPA', 'B00FVYF334', 'B078HSBHM1', 'B01MSEJQED', 'B00L3O5CE6', 'B000PXZZQG', 'B01IF0GFQO', 'B00ZGSTI0Y', 'B078HRLNL6', 'B07B8YNV83', 'B0014CS1X6', 'B01LYO7RQO', 'B0015GSBUY', 'B01LZ0T9GK', 'B078LFJFQX', 'B01MY5FHT6', 'B01AZ15AMQ', 'B000UEUAGU', 'B000OV4FXI', 'B07CX3FHMB', 'B000R9EEH4', 'B00032GI88', 'B00KHKBK3Y', 'B000UESJ8Q', 'B07G348HYQ', 'B000T9UV2O', 'B004SCTJE4', 'B07CX6LG8J', 'B000RUQPPC', 'B0015Y7706', 'B078LFVSK2', 'B000T9SZOU', 'B07G348HYR'])\n",
            "The number of recommended items for user 90887 : 80\n",
            "\n",
            "('Recommended Items for user 93660', ['B001M0A8Y0', 'B005P7YQ0I', 'B00158KNJE', 'B005P9WGUI', 'B000NY6PM0', 'B005P7YTSM', 'B005P7YTDM', 'B000NY8OEM', 'B005P7YSG0', 'B0012Z6QPA'])\n",
            "The number of recommended items for user 93660 : 10\n",
            "\n",
            "('Recommended Items for user 128345', ['B005Q8BIK2', 'B003D4IZSE', 'B00E19WE7S', 'B008GVJ9S4', 'B0029JI9OE', 'B000V9EIJY', 'B005CUK20Q', 'B0042DIZIU', 'B072J9CHRZ', 'B074N9Y8P9', 'B00HF7W2JS', 'B00KE1E7YA', 'B00VVMH586', 'B0785P5MP5', 'B071KF6791', 'B00KMPYAEK', 'B013KTYFYO', 'B013DSZFIW', 'B01KQLV2A4', 'B077SMJZ96', 'B00LAQ4Z1I', 'B009POEULC', 'B000WL39JQ', 'B003WO0IVM', 'B002ULIPL8', 'B001ONPN5E', 'B00I6CRO6M', 'B073QMN75M', 'B076BYR9JP', 'B00U45YX2M', 'B00FZPTRMM', 'B074PTW8TX', 'B071YYWBRC', 'B00HC767CE', 'B07B8XYFL6', 'B07BFPZ655', 'B003P7XXPE', 'B00OEXP0UE', 'B00TYPVRTA', 'B00440FFVG', 'B01CLHR6JW', 'B005VBD2UI', 'B00CF5DFGE', 'B00CAC6XBG', 'B00ODEN5M4', 'B011W21U0I', 'B01L8LG6MU', 'B003D4MX1E', 'B004OT9522', 'B0025W9A5C', 'B004H6MUDI', 'B004E2OJFM', 'B00CF5D032', 'B01MFGKGWU', 'B010VUQCYQ', 'B00WI0T5AQ', 'B01LNKHDAK', 'B015OA6CJ8', 'B00CWYM3G6', 'B01MUEH2GF', 'B000IXUJOQ', 'B000PGHLNS', 'B0017Z9PWQ', 'B06XQ2K9TZ', 'B071L13FXH', 'B071XHP12B', 'B00QLDGSJM', 'B0097NLDK2', 'B01MRZZ3KC', 'B00BSW6LH0', 'B01MUCGVQL', 'B071J7HHS3', 'B073376ZKY', 'B0116WQ62G', 'B001EXV844', 'B01CF2G9O6', 'B00B90LCJ8', 'B00AQBCEHK', 'B001E55Z46', 'B00GFROV7A', 'B004YPJKBC', 'B01N0MKYHI', 'B00GFROQMK', 'B003D4MYLS', 'B003D4MW38', 'B003D4IYJO', 'B00E19WJ1E', 'B001M20XA2', 'B01M3RZBFH', 'B0179D40CY', 'B0769LRM95', 'B01GQ5WNC0', 'B06XCQNZ5P', 'B00WMBP1DQ', 'B00VB1XXVU', 'B00UZO14ZG', 'B0029JE7RC', 'B008500J8K', 'B000YPMKXQ', 'B000JIN1H2', 'B00CXAEDH6', 'B01E6OL3RO', 'B0723H1H5S', 'B0118P8NFE', 'B00GAQ2LVO', 'B00O1XAOCQ', 'B01N2UDYFM', 'B00ICT73A6', 'B0753NV4VG', 'B0024SIHAG', 'B0025UAJXG', 'B072C52KFY', 'B00SV4T6O8', 'B00GOAA76C', 'B00DOSIT5I', 'B00IO2RL8K', 'B004S07G2I', 'B0057FSR6W', 'B003D4F2US', 'B004SK4KIG', 'B001PAS5GK', 'B00649MYJG', 'B01N9FN67U', 'B01C7THQR6', 'B00JNEQ6IY', 'B01EAG3VZA', 'B00CHUCBIK', 'B079ZQNYML', 'B0757Y9V47', 'B072C8HBGW', 'B01KQLULJW', 'B076T5K3JQ', 'B07DQ9852M', 'B01IFMHYO4', 'B0036FEB4W', 'B01KH9SUBY', 'B075LZZ5MR', 'B00HFC2E82', 'B01CLWDQIC', 'B01GQ5GQEG', 'B00HC767P6', 'B00DILEFNQ', 'B077K4CVJ7', 'B00VB1XY1O', 'B00VB1XXY2', 'B00R0OCAMU', 'B00OXCMM1Q', 'B00PXNNVAU', 'B00U45YWNW', 'B00C3YAH4U', 'B00FQGOY78', 'B00BGDH9V8', 'B0024SASYY', 'B003SO58Y8', 'B00HQ4YSBA', 'B00FQGP20Q', 'B00VEJ6GHM', 'B000W7WRDE', 'B00GFROON6', 'B00T0BUKW8', 'B01LNKHHZ6', 'B006F63M8U', 'B00NBT2F00', 'B00HD5OACE', 'B005Q8BL72', 'B001HXI0V0', 'B000EQYSLC', 'B0032ZB03G', 'B000R7XBF2', 'B000F9XBIE', 'B007SNJDXM', 'B00FYR5HS4', 'B00D8VGDA4', 'B00HU1AJU8', 'B07D83162X', 'B079M8YRBM', 'B014V3R2RA', 'B00J4R85P2', 'B008KAM0XM', 'B07B4MQP18', 'B072M1NC4M', 'B01I2AB38W', 'B00NS7RWAI', 'B00CQ77XB4', 'B072YR7FB3', 'B06X6JR48M', 'B000HIFA8W', 'B00B42NQC2', 'B01LYR34WA', 'B00HKLK3X6', 'B00CWYM3OI', 'B01N39RV0A', 'B01KO1Q3O6', 'B00WI0T3JY', 'B00CHUDP58', 'B00DB55O0C', 'B016R8QM50', 'B00LMH5FZK', 'B073VSQZPM', 'B0025UCA9W', 'B0014EQHQC', 'B00EHAXP88', 'B01CLHRAFC', 'B016UMTPRK', 'B00U9WIN62', 'B01DBY8GEI', 'B00281PIBA', 'B00PJCYOWE', 'B00H46RK8S', 'B004WN7DNS', 'B00KZNGQT6', 'B003ZXEBOK', 'B001QCUKII', 'B004IS56Y0', 'B076H6F974', 'B011FEEBTU', 'B014ABUQVC', 'B00BXGB4NW', 'B01COWTO4O', 'B01MZ3HE0A', 'B00U45YWSW', 'B075MFCKJY', 'B01AT3DM5M', 'B00KRFL5SO', 'B07634D5SD', 'B01L9L6V1U', 'B000IXUK2W', 'B0029JAVZ4', 'B0054RPY7I', 'B000KGW2BY', 'B07179XBP9', 'B073S4TP58', 'B01FHG3R9M', 'B00FQGOY6E', 'B076H2J9TZ', 'B00VK5TFF0', 'B015SQAWLW', 'B07CZ83J92', 'B01MTCEZTU', 'B01MSZE1NQ', 'B00R29LF24', 'B06WWJXN3K', 'B00AJXRRK4', 'B001B2SVOS', 'B00WBGKJPW', 'B01KINTX38', 'B00M1YIR26', 'B018JZFQOM', 'B01CLHQZOY', 'B01LXBWYGF', 'B071W27L6J', 'B0014GV0R6', 'B01C361N7M'])\n",
            "The number of recommended items for user 128345 : 253\n",
            "\n",
            "('Recommended Items for user 270219', ['B00E1QLUVM', 'B002N7ST6U', 'B01AMDP59K', 'B006NV880O', 'B073P95LLP', 'B01M0WDQC1', 'B07D6F62PJ', 'B00YWL02TC', 'B0000VLH8S', 'B00IE72JY6', 'B00T65BLWQ', 'B002GZZVGU', 'B00IE72O78', 'B00MWOSFH2', 'B00MYTP7PI', 'B00MWOSEPA', 'B00JM75IH2', 'B0000CFMP7', 'B078GW3DQ1', 'B000SSZI0Q', 'B00HE5YK2I', 'B000JJO058', 'B000ZNOVCA', 'B0000VZC2K', 'B001WT22AE', 'B0013GMLRA', 'B00IE72KRW', 'B004V01TS2', 'B00RPMZA0Q', 'B00T65FO10', 'B00MUU90S6', 'B001OZS2ZA', 'B00BDTS1SK', 'B000VTG6LW', 'B000MSZTQA', 'B01EOK9OHG', 'B01DZM2W46', 'B001T4OOOE', 'B00JGORXX8', 'B000VTG6BW', 'B001PBM326', 'B00CRJDJTG', 'B002PFS2W6', 'B005TAXDPK', 'B001K7Q5PQ', 'B001ENF2NM', 'B0058JILJK', 'B01MDK1OMU', 'B00JKUERUU', 'B01EXHJCTA', 'B07843LJF5', 'B01AMDRA5W', 'B06WLNXV19', 'B002PO3KBK', 'B00N5OFFFI', 'B003TQILAS', 'B0056HJ0MG', 'B00IE6Y6J8', 'B001M1V1IQ', 'B01BXPHAFI', 'B002PEYXAM', 'B001UO0FHS', 'B005CRKX3K', 'B003KK9HD8', 'B0001CXUCW', 'B003KK42V0', 'B00PR3GAY0', 'B00IE72JT6', 'B00ZYASU5S', 'B001FXU6MS', 'B001UO4IVM', 'B004NG9A62', 'B06WP86STW', 'B000VTH3BE', 'B00794FC2G', 'B00JKUDS6O', 'B017TBGLMS', 'B00KKUAITI', 'B001UO2GXO', 'B001M1VWJO', 'B071CKC7L9', 'B01E4VVI6U', 'B000W5CGR8', 'B007SQ70DY', 'B003YJ14OU', 'B00G31DWWS', 'B0000CFN0Y', 'B000PBZHOS', 'B071NT1NCB', 'B06XC477ZY', 'B000VTBFKE', 'B0017JVH5A', 'B00T6GMUV6', 'B007KBBDLC', 'B00024WNVI', 'B00JKUE31I', 'B01D3O1XIW', 'B00F6ARC1E', 'B01EOK9OEY', 'B00MHSRNNK', 'B000MGQDAS', 'B008PU126I', 'B01GIHIFTG', 'B000T9M0LO', 'B00IE727OI', 'B01AMDPI0Q', 'B0000VMF02', 'B00F93MFRE', 'B07DVQKXCJ', 'B000FRUNL4', 'B000Q6I5CS', 'B001FXM9FK', 'B01N2H7T60', 'B00FB9R91I', 'B0016JC8M2', 'B00605WJ9O', 'B00482H2FW', 'B000FJPKWO', 'B06XXXGXT9', 'B002PFRE66', 'B072HXNRT2', 'B013S2EWSC', 'B003RFYDLC', 'B000VTDEUI', 'B01E07USC8', 'B00IE72BZ8', 'B0001XXB3E', 'B00KCUXRLC'])\n",
            "The number of recommended items for user 270219 : 128\n",
            "\n"
          ]
        }
      ]
    },
    {
      "cell_type": "markdown",
      "source": [
        "### Adding the name of the items to let customers specifically know what that recommended items are."
      ],
      "metadata": {
        "id": "Ux2mmgE_tinf"
      }
    },
    {
      "cell_type": "code",
      "source": [
        "def recommend_items_with_name(item_names_dict, sample_data_rdd, co_purchased_pairs_rdd, target_user):\n",
        "  # Create a lookup dictionary for user items\n",
        "  user_items_dict = dict(sample_data_rdd.collect())\n",
        "\n",
        "  # Get the items already purchased by the target user\n",
        "  purchased_items = user_items_dict.get(target_user, [])\n",
        "\n",
        "  # Filter the co-purchased pairs with interest higher than 0.6\n",
        "  filtered_pairs_rdd = co_purchased_pairs_rdd.filter(lambda x: x[1] > 0.6)\n",
        "\n",
        "  # Find the co-purchased items from the co-purchased pair list\n",
        "  recommendations = filtered_pairs_rdd.filter(lambda x: any(item in purchased_items for item in x[0]))\n",
        "\n",
        "  # Extract the recommended items\n",
        "  recommended_items = recommendations.flatMap(lambda x: x[0]).distinct().collect()\n",
        "\n",
        "  # Get the names of the recommended items\n",
        "  recommended_item_names = [item_names_dict.get(item, \"\") for item in recommended_items if item_names_dict.get(item, \"\")]\n",
        "  return (f\"Recommended Items for customer {target_user}\", recommended_item_names)\n",
        "\n",
        "# Create a lookup dictionary for item names\n",
        "item_names_dict = dict(join_asin_title.collect())\n",
        "for target_user in sample_customers:\n",
        "  # Print the recommended items with their names\n",
        "  print(recommend_items_with_name(item_names_dict, sample_small, top_interest, target_user))\n",
        "  print()"
      ],
      "metadata": {
        "colab": {
          "base_uri": "https://localhost:8080/"
        },
        "id": "NmK3BWR2m8K6",
        "outputId": "2a5051b7-399e-43ac-879d-36b7367ab7fa"
      },
      "execution_count": null,
      "outputs": [
        {
          "output_type": "stream",
          "name": "stdout",
          "text": [
            "('Recommended Items for customer 16321', [\"Peychaud's Aromatic Cocktail Bitters - 10 Ounce Bottle\", 'Fee Brothers Cherry Bitters 5oz', 'Fee Brothers Black Walnut Bitters 5oz', 'BOURBON BARREL FOODS WOODFORD RESERVE BOURBON CHERRIES WRCC', \"Regan's Orange Bitters No. 6, 10 Ounces\", 'Fee Brothers Aztec Chocolate Cocktail Bitters 5oz', 'Angostura Orange Bitters, 4-Ounce', 'Teavana Perfectea Rock Sugar (1 lb)', \"Peychaud's Bitters - 5 ounce\", 'Fee  Brothers Black Walnut Cocktail Bitters - 4 Ounce', 'Luxardo, Gourmet Cocktail Maraschino Cherries 400G Jar', 'Luxardo Maraschino Cherries, 418 mL'])\n",
            "\n",
            "('Recommended Items for customer 90887', [\"Kellogg's Breakfast Cereal, Frosted Mini-Wheats, Original, Low Fat, Excellent Source of Fiber, Family Size, 24 oz Box\", 'Smartfood Popcorn, White Cheddar, 12 ct Bags', 'Capri Sun Juice Drink, Fruit Punch, 10-Count, 6-Oz', 'Tostitos Salsa Con Queso - Medium, 15 Ounce', \"REESE'S Snack Size Peanut Butter Cups, 10.5 Ounce\", \"Cap'N Crunch Cereal, Crunchberries, 18.7oz\", 'Jif Creamy Peanut Butter Twin Pack, 80 Ounce', 'Ritz Original Crackers - Fresh Stacks, 11.8 Ounce', 'Cheez-It Baked Snack Cheese Crackers, Original, Family Size, 21 oz Box', 'Quaker Instant Oatmeal, Maple Brown Sugar, 10 ct', 'Pop-Tarts Breakfast Toaster Pastries, Frosted Strawberry Flavored, 22 oz (12 Count)', 'Swedish Fish Soft &amp; Chewy Candy, Original, 8-Ounce Bag', \"HERSHEY'S Chocolate Syrup, 24oz\", 'Philadelphia, Cream Cheese, Regular, 8 oz', 'Kraft Macaroni &amp; Cheese, Original Flavor, 7.25 oz', 'Pringles Potato Crisps Chips, Sour Cream and Onion Flavored, 5.5 oz Can', 'Frito-Lay Doritos &amp; Cheetos Mix Variety Pack, 20 Count', 'Ruffles Cheddar &amp; Sour Cream Flavored Potato Chips, 8.5 Ounce', ' Grocery &amp; Gourmet Food\" />'])\n",
            "\n",
            "('Recommended Items for customer 93660', ['Knorr Salat Kronung Dill-Krauter (Salad Herbs and Dill), 5-Count Packets', 'Knorr Fix hunter schnitzel (J&auml;ger-Schnitzel) (Pack of 4)', ' Jager Sauce (Hunter Sauce) (Knorr) 2 Liter ', 'MAGGI fix &amp; fresh creamy hunter schnitzel (J&auml;ger-Sahne Schnitzel) (Pack of 4)', 'Knorr Creamy Gravy for Meat ( Rahm Sose ) for 1.75 Liter', 'Knorr Fix crispy Wiener schnitzel (knuspriges Wiener-Schnitzel) (Pack of 4)', 'Knorr Fix goulash (Gulasch) (Pack of 4)', 'Knorr Roast Gravy ( Sosse Zum Braten ) for 2.75 Liter', 'Knorr Fix rouladen (Rouladen) (Pack of 4)'])\n",
            "\n",
            "('Recommended Items for customer 128345', ['Stash Tea, Fruity Herbal Tea Six Flavor Assortment, 116 Count Tea Bags in Foil (Pack of 6 boxes of 18-20 bags each) Variety of Herbal Tisane', 'Keebler,&nbsp;Cookies and Crackers, Variety Pack,  21.2 oz (20 Count)', 'Cookies Chips &amp; Candy Snacks Assortment Bulk Sampler by Variety Fun (Care Package 40 Count)', 'Kirkland Signature Variety Snacking Nuts, 3.0 Pound', 'Brownie Brittle, Salted Caramel &amp; Chocolate Chip Variety Pack, 1 Oz Bag (Pack of 20), The Unbelievably Delicious Chocolate Brownie Snack with Cookie Crunch (Packaging May Vary)', 'Planters Cashews, Salted, 1.5 Ounce Single Serve Bag (Pack of 18)', 'Wonderful Pistachios &amp; Almonds Roasted &amp; Salted, 1.5oz, 24 Count', 'REPUBLIC OF TEA Peppermint Chocolate, 36 CT', 'Old El Paso Traditional Refried Beans 16 oz Can (pack of 12)', \"Welch's Concord Grape Jelly (30 oz, 2 pk.)\", \"Nature's Valley granola bars, Crunchy Oats N Honey, 60 Count\", \"Kar's Sweet 'n Salty Mix (2 oz., 40 ct.)\", 'Nutri-Grain Cereal Bar Variety Pack - 1.3 oz. bar, 48 per case', 'Skinny Pop Popcorn Snack Bags, 24 Count, 15.6 Ounce', 'Lorna Doone-Shortbread Cookies, 30/1.50z Packs', 'Grandmas Big Cookie Variety Pack, 33 count', 'Frito Lay Classic Mix Variety Chips, 54 Bags', \"Nutri-Grain Kellogg's Cereal Bars Variety Pack, 48 Count\", 'Pepperidge Farm Goldfish Cheddar Crackers, 45 oz. Multi-pack Box, 30-count 1.5 oz. Snack Packs', ' The Republic of Tea Comfort and Joy Tea - Holiday Spice Blend Black Tea | Great Tea for Holiday Season | Great Served when Hot | 50 Unbleached Tea Bags ', 'Kraft Grated Parmesan Cheese, 16-Ounce Plastic Canister (Pack of 3)', \"Kellogg's Nutri-Grain, Soft Baked Breakfast Bars, Strawberry, Made with Whole Grain, Value Pack, 3 Packages of 20.8 oz ( 16 Count)\", 'Quaker Chewy Granola Bars, Variety Pack, 58 Count', 'Cheez-it Crackers, 1.5 oz Pack, 45 Packs/Box, Sold as 1 Carton', \"Kellogg's Breakfast Cereal\", 'Fruit Roll-Ups Fruit Snacks, Mega Pack - Strawberry - 15 oz', 'Famous Amos Chocolate Chip Cookies - 36/2 oz. by Famous Amos [Foods]', \"Hunt's Tomato Sauce Carton, 7.4 oz, 24 Pack\", \"M&amp;M'S Variety Pack Chocolate Candy Singles Size 30.58-Ounce 18-Count Box\", 'Lance Fresh Sandwich Crackers Variety Pack - 36 packs', \"Jack Link's Beef Sticks, Original, 20 count, 0.92 Ounce (packaging may Vary)\", 'Ultimate Snack Care Package, Variety Assortment of Chips, Cookies, Crackers &amp; More, 40 Count', 'Frito-Lay Variety Pack, Classic Mix, 30 pack- 51.5 oz', 'Pepperidge Farm Cheddar Goldfish Crackers, 1 Ounce, Pack of 45', 'Pepperidge Farm, Goldfish, Crackers, Classic Mix, 29 oz, Variety Pack, Box, Snack Packs, Pack Of 30', 'Smartfood White Cheddar Flavored Popcorn, 1 Ounce (Pack of 64)', 'Chex Mix Traditional Snack Mix 36ct - COS', 'Pop-Tarts Breakfast Toaster Pastries, Frosted Brown Sugar Cinnamon Flavored, Family Pack, 56.4 oz (32 Count)', 'Pringles 2 Flavor Snack Stacks, 0.63 Ounce, 18 count', \"Snyder's of Hanover Pretzel Variety Pack, 1.5 Ounce, (Pack of 36)\", 'The Republic of Tea Honey Ginseng Green Tea, Caffeinated (50 Tea Bags)', 'The Republic of Tea, Coconut Cocoa Herb Tea, 36-Count', 'The Republic Of Tea Caramel Vanilla Cuppa Cake, 50 Tea Bags, Blended Fine Black Tea, Gluten-Free', 'Barilla Pasta Sauce Variety Pack, 24 Ounce, 4 Jars', 'Stash Tea Green Tea Six Flavor Assortment, 18-20 Count Tea Bags in Foil (Pack of 6)', 'Doritos Nacho Cheese Flavored Tortilla Chips, 1.75 Ounce (Pack of 64)', 'Newtons Fig Fruit Chewy Cookies - Snack Packs, 12 Count Box, 24 Ounce (Pack of 4)', 'Skinny Pop Popcorn .65 oz Original &amp; White Cheddar 100 Calorie Bag Variety Pack of 10 with By The Cup Bag Clip', 'Sensible Portions Garden Veggie Snack Straws Shape Chips Variety Pack, 30 Count', 'Kind Bars - 18 Bar Variety Pack - 18 Flavors', 'Kettle Brand Potato Chips Variety Pack, Sea Salt &amp; Vinegar, Krinkle Salt &amp; Pepper, Backyard BBQ and Jalapeno, 30 Count', 'Sunchips Multigrain Snacks Variety Pack, Pack of 30', 'The Republic of Tea Biodynamic Turmeric Cinnamon, 36 CT', \"Hunt's Garlic &amp; Herb Pasta Sauce, 24 Oz. (Pack of 12)\", 'Prego Traditional Italian Sauce, 24 oz. (Pack of 6)', 'Cheez-It Baked Snack Cheese Crackers, Original, Single Serve, 1.5 oz Bags&nbsp;(36 Count)', 'Jack Link&rsquo;s Beef Jerky Variety Bag Original, Teriyaki 9ct 1.25oz Single-serve Bags', 'Pop-Tarts Breakfast&nbsp;Toaster Pastries, Frosted Strawberry Flavored, Family Pack, 58.6 oz (32 Count)', \"Mott's Medleys Fruit Snacks, Assorted Fruit Gluten Free Snacks, Family Size, 40 Pouches, 0.8 oz Each\", 'Kellogg&rsquo;s, Rice Krispies Treats Crispy Marshmallow Mini-Squares, Original, Single Serve, Display Box Caddy, 0.39 oz Bars&nbsp;(50 Count)', \"Jack Link's Original Protein On-the-Go Lunch Packs 5-0.625oz packs\", 'Oreo Mini Chocolate Sandwich Cookies, 12 Count Individual Snack Bags (Pack of 4)', 'Skinny Pop Popcorn, 100 Calorie Bags, 36-Count', 'The Republic of Tea Double Green Matcha, Gourmet Blend of Organic Green Tea And Matcha Powder (50 Tea Bags)'])\n",
            "\n",
            "('Recommended Items for customer 270219', ['CK Products 78-505T Cake Decorating Sanding Sugar Bottle, 4 oz, Teal', 'Super Gold Luster Dust, 4 gram container', 'Oasis supply Lustre Dust, Egyptian Gold (Super Gold), 2 Gram', 'Wilton Decorator Preferred Red Fondant, 24 oz. Fondant Icing', 'Printer-Mate TM Replacement Edible Ink 5 Pack for PGI 250XL CLI 251XL MG5420, MG5520, MG6420, MG6620, MX922, PGI-250BK, CLI-251 (5 Colors) CAKE PRINTING Italy ink FDA approved', 'Americolor Food Color Super Red 13.5 Oz', 'Wilton Holiday Sprinkles Assortment, 6.8 oz.', 'Oasis Supply Dragees Gold Sugar Cake Cupcake Cookie Sprinkles, 4mm', 'Rainbow Dust Metallic Food Paint Metallic Light Gold', 'Wilton 704-9987 Clear Piping Gel', 'RuiChy Fondant Silicone Cake Decoration Mould', ' Food Coloring AmeriColor AmeriMist Airbrush Kit, 12 .65 Ounce Bottles', ' Wilton 710-4065 Rainbow Nonpareils Food Decorative, 7.5-Ounce', 'Wilton White Nonpareils, 3 oz. - Cake Decorating Supplies', 'Americolor 2-Count Gourmet Writer Food Decorating Pens, Black', 'Americolor Soft Gel Paste Food Color, 13.5-Ounce, Leaf Green', 'Gold Highlighter Dust, 6 gram container', 'Fondarific Buttercream Antique White Fondant, 2-Pounds', ' Americolor Soft Gel Paste Food Color, 13.5-Ounce, Royal Blue', 'Wilton Edible Glitter Silver Stars,  0.4 oz.', 'Nu Silver- Coin Silver Luster Dust 2 grams Cake Decorating Dust DP-01', 'FondX Clear Mirror Glaze Piping Gel, 1 Pound', 'Americolor Soft Gel Paste Food Color, 6-Ounce, Bright White', 'US Cake Supply by Chefmaster Airbrush Cake Pearlescent Shimmer Metallic Color Set - The 6 Most Popular Metallic Colors in 0.7 fl. oz. (20ml) Bottles', \"Oasis supply Lustre Dust, Pharaoh's Gold (Old Gold), 2 Gram\", 'Wilton Fondant Gum-Tex Powder, For Decorators Working with Sugar Pastes, Helps Stiffen and Harden Fondant and Gum Pastes, 6 oz.', 'Satin Ice White Fondant, Vanilla, 5 Pounds', 'Wilton 710-039 Sparkling 5.25 oz Sugar Food Decorative- Blue', 'Americolor Soft Gel Paste Food Color, 4.5-Ounce, Super Red', 'Food Coloring AmeriColor - Bright White Soft Gel Paste, 20 Ounce', 'Nu Silver Luster Dust, 4 gram container', ' AmeriColor Amerimist Airbrush Color 9 Ounce, Silver Metallic Sheen', 'Ready-to-use Metallic Dark Gold 100% Edible Food Paint for Cake and Icing Decoration by Rainbow Dust', 'PME Edible Glaze Spray, 3.3 Ounce', 'Satin Ice White Gum Paste, 2 Pounds, Decorative Sugar Icing', 'Wilton Pearlized Gold Sprinkles, 3.8 oz. Edible Gold Glitter', 'Wilton Recipe Right Non-Stick 9-Inch Round Cake Pans Set, 2-Piece', 'Wilton White Sparkling Sugar, 8 oz.', 'Wilton 703-212 Elegant Shimmer Dust Food Decorative,3/Pack', 'Food Coloring AmeriColor Student Kit, 12 .75 Ounce Bottles Soft Gel Paste Colors', 'Chefmaster Liquid Whitener Food Color, 16-Ounce, White'])\n",
            "\n"
          ]
        }
      ]
    },
    {
      "cell_type": "markdown",
      "source": [
        "## Appendix B. If you'd like to see the name of each product in a more readable way\n",
        "\n",
        "Note that there are also unknown product's name which are not collected from this AMAZON REVIEW DATASET,\n",
        "\n",
        "so for unknown products, looking up its ASIN on google is recommended"
      ],
      "metadata": {
        "id": "hFH5-MO2g3Gn"
      }
    },
    {
      "cell_type": "code",
      "source": [
        "# Create a lookup dictionary for item names\n",
        "item_names_dict = dict(join_asin_title.collect())\n",
        "\n",
        "# Sample data RDD\n",
        "sample_data_rdd = sample_small\n",
        "\n",
        "# Co-purchased pair list RDD\n",
        "co_purchased_pairs_rdd = top_interest\n",
        "\n",
        "# Extract the items purchased by each user\n",
        "user_items_rdd = sample_data_rdd.map(lambda x: (x[0], x[1]))\n",
        "\n",
        "# Create a lookup dictionary for user items\n",
        "user_items_dict = dict(user_items_rdd.collect())\n",
        "\n",
        "# Get the user for whom you want to recommend additional items\n",
        "target_user = 16321\n",
        "\n",
        "# Get the items already purchased by the target user\n",
        "purchased_items = user_items_dict.get(target_user, [])\n",
        "\n",
        "# Filter the co-purchased pairs with interest higher than 0.6\n",
        "filtered_pairs_rdd = co_purchased_pairs_rdd.filter(lambda x: x[1] > 0.6)\n",
        "\n",
        "# Find the co-purchased items from the co-purchased pair list\n",
        "recommendations = filtered_pairs_rdd.filter(lambda x: any(item in purchased_items for item in x[0]))\n",
        "\n",
        "# Extract the recommended items\n",
        "recommended_items = recommendations.flatMap(lambda x: x[0]).distinct().collect()\n",
        "\n",
        "# Get the names of the recommended items\n",
        "recommended_item_names = [item_names_dict.get(item, \"Unknown\") for item in recommended_items]\n",
        "\n",
        "# Print the recommended items with their names\n",
        "print(f\"Recommended Items for user {target_user}:\")\n",
        "for item, name in zip(recommended_items, recommended_item_names):\n",
        "    print(\"Item:\", item)\n",
        "    print(\"Name:\", name)\n",
        "    print()"
      ],
      "metadata": {
        "colab": {
          "base_uri": "https://localhost:8080/"
        },
        "id": "wrOmdADzhB96",
        "outputId": "f427e4bb-87ef-40c4-e631-0fc61e6fa262"
      },
      "execution_count": null,
      "outputs": [
        {
          "output_type": "stream",
          "name": "stdout",
          "text": [
            "Recommended Items for user 16321:\n",
            "Item: B001CDTO6U\n",
            "Name: Peychaud's Aromatic Cocktail Bitters - 10 Ounce Bottle\n",
            "\n",
            "Item: B01MCZWIRJ\n",
            "Name: Unknown\n",
            "\n",
            "Item: B001ID2TPC\n",
            "Name: Fee Brothers Cherry Bitters 5oz\n",
            "\n",
            "Item: B005EG78OQ\n",
            "Name: Fee Brothers Black Walnut Bitters 5oz\n",
            "\n",
            "Item: B0037X4QDO\n",
            "Name: Unknown\n",
            "\n",
            "Item: B00PO9GEKC\n",
            "Name: BOURBON BARREL FOODS WOODFORD RESERVE BOURBON CHERRIES WRCC\n",
            "\n",
            "Item: B001CDVCCO\n",
            "Name: Regan's Orange Bitters No. 6, 10 Ounces\n",
            "\n",
            "Item: B00IRY8CJ2\n",
            "Name: Unknown\n",
            "\n",
            "Item: B008L0T0TS\n",
            "Name: Fee Brothers Aztec Chocolate Cocktail Bitters 5oz\n",
            "\n",
            "Item: B001ACDOA0\n",
            "Name: Angostura Orange Bitters, 4-Ounce\n",
            "\n",
            "Item: B009QDQVK0\n",
            "Name: Unknown\n",
            "\n",
            "Item: B01MA28YIS\n",
            "Name: Unknown\n",
            "\n",
            "Item: B001L048WO\n",
            "Name: Teavana Perfectea Rock Sugar (1 lb)\n",
            "\n",
            "Item: B00F8FHRF8\n",
            "Name: Peychaud's Bitters - 5 ounce\n",
            "\n",
            "Item: B008L0ZS44\n",
            "Name: Fee  Brothers Black Walnut Cocktail Bitters - 4 Ounce\n",
            "\n",
            "Item: B01AP7LMS6\n",
            "Name: Unknown\n",
            "\n",
            "Item: B009YLDEMW\n",
            "Name: Unknown\n",
            "\n",
            "Item: B011PK0CFQ\n",
            "Name: Luxardo, Gourmet Cocktail Maraschino Cherries 400G Jar\n",
            "\n",
            "Item: B00AQB146W\n",
            "Name: Luxardo Maraschino Cherries, 418 mL\n",
            "\n",
            "Item: B06XPQ5WG6\n",
            "Name: Unknown\n",
            "\n",
            "Item: B077YDC48D\n",
            "Name: Unknown\n",
            "\n"
          ]
        }
      ]
    },
    {
      "cell_type": "markdown",
      "source": [
        "# **Setup for Cosine_similairy Recommendations**"
      ],
      "metadata": {
        "id": "Uz0s0UvPVxPx"
      }
    },
    {
      "cell_type": "markdown",
      "source": [
        "### **Generate Sample for cosine_similarity recommendations**\n",
        "\n",
        "Note that sample_small is not able to implement cosine_similarity\n",
        "Sine the size of sample is too small to find the similar shopping tendency customers.Therefore, generating samples for bigger size.\n",
        "\n",
        "Samples to be generated:\n",
        "\n",
        "\n",
        "\n",
        "*   Sample_medium ; medium size of sample\n",
        "*   Sample_large ; large size of sample\n",
        "\n",
        "\\\n",
        "Samples bigger than the size of \"sample_large\" is approaching the boundary of infeasiblity so only two sizes of samples are used for cosine_similarity recommendations."
      ],
      "metadata": {
        "id": "lm29ehb7x3UR"
      }
    },
    {
      "cell_type": "markdown",
      "source": [
        "Generate sample_medium"
      ],
      "metadata": {
        "id": "-MUS7D3WT82N"
      }
    },
    {
      "cell_type": "code",
      "source": [
        "sample_medium = list_of_baskets.filter(lambda x : len(x[1])>=3).sample(False, 0.001, 81)"
      ],
      "metadata": {
        "id": "_t5WTE9CwImk"
      },
      "execution_count": null,
      "outputs": []
    },
    {
      "cell_type": "markdown",
      "source": [
        "Generate sample_large"
      ],
      "metadata": {
        "id": "yG89JgpXUtjR"
      }
    },
    {
      "cell_type": "code",
      "source": [
        "sample_large = list_of_baskets.filter(lambda x : len(x[1])>=3).sample(False, 0.01, 51)"
      ],
      "metadata": {
        "id": "OLbxVi_bUsvx"
      },
      "execution_count": null,
      "outputs": []
    },
    {
      "cell_type": "markdown",
      "source": [
        "Details of each sample"
      ],
      "metadata": {
        "id": "cdO-FeECUGO0"
      }
    },
    {
      "cell_type": "code",
      "source": [
        "print(\"Details of sample_medium\")\n",
        "print(\"____________________________________________________________________________________________\")\n",
        "print(f\"The number of unique items : {sample_medium.flatMap(lambda x: x[1]).distinct().count()}\")\n",
        "print(f\"The number of unique items (including redundant): \", sample_medium.flatMap(lambda x: x[1]).count())\n",
        "print(f\"The number of baskets : \", sample_medium.count())\n",
        "print(f\"The contents of sample_medium; list of (customer_id, customer's basket) : \\n\", sample_medium.take(10))\n",
        "print()\n",
        "print(\"Details of sample_large\")\n",
        "print(\"____________________________________________________________________________________________\")\n",
        "print(f\"The number of unique items : {sample_large.flatMap(lambda x: x[1]).distinct().count()}\")\n",
        "print(f\"The number of unique items (including redundant): \", sample_large.flatMap(lambda x: x[1]).count())\n",
        "print(f\"The number of baskets : \",  sample_large.count())\n",
        "print(f\"The contents of sample_large; list of (customer_id, customer's basket) : \\n\", sample_large.take(10))"
      ],
      "metadata": {
        "colab": {
          "base_uri": "https://localhost:8080/"
        },
        "id": "fHCalfuzUGtL",
        "outputId": "db395d0d-86ae-4357-930b-48469e30c5b5"
      },
      "execution_count": null,
      "outputs": [
        {
          "output_type": "stream",
          "name": "stdout",
          "text": [
            "Details of sample_medium\n",
            "____________________________________________________________________________________________\n",
            "The number of unique items : 2859\n",
            "The number of unique items (including redundant):  3015\n",
            "The number of baskets :  74\n",
            "The contents of sample_medium; list of (customer_id, customer's basket) : \n",
            " [(818, ['B0000DJ7XG', 'B001710KLA', 'B073QVVMCB', 'B001G5J7XO', 'B01E5SMSMA', 'B0000DJ7T0', 'B0000DJ7SR', 'B01I5FXHJW', 'B001712914', 'B01NCSDWE7', 'B01E5SL420', 'B0033Y16CQ', 'B00ZRDTKJW', 'B001TQKFE0', 'B01EYSCA88', 'B0000DJ7U0', 'B00ZVIWWB6', 'B00RZ6GXJE', 'B00CMS145S', 'B007H8Q6P6', 'B001EQ5AVI', 'B01K28ZMV6', 'B01A774T8O', 'B000V1JVCG', 'B01M10T49T', 'B074KN7S2D', 'B01H7DFM32', 'B000T7HG06', 'B00TE2EPCO', 'B01E5SL65K', 'B079DX8S3Z', 'B00ZWPVAKC', 'B01ITMO0G0']), (6009, ['B0001GV4O4', 'B0001GV4OE', 'B0001GV4NU', 'B0001GV4OY', 'B0001GV4NK', 'B0001GV4NA']), (8930, ['B00099XM0M', 'B000RPYZ3G', 'B000RPUD9Q', 'B000WHE7S2', 'B00FLJY8MQ', 'B07CX6LN8T', 'B000PXZZQG', 'B000UEUAGU', 'B01IVTAW9A', 'B0014CXSFM', 'B00KHKBK3Y', 'B000R4FHZW', 'B000PY53BC', 'B000UESJKO', 'B01LZ0T9GK', 'B013SGABHY', 'B07G32BZT7', 'B07G38C4JG', 'B00061ETX2', 'B00BNQLR9I', 'B000QJAWYE', 'B004SCVPKU', 'B000QJ7RTM', 'B00ZGSTI0Y']), (10300, ['B000CQ01NS', 'B00DRA8IFO', 'B0036VLZNG', 'B00WGCOBN2', 'B01JJ9H1Q8', 'B00HKIBKQS', 'B008KHV8HO', 'B010VF1ZEI', 'B000DZFMEQ', 'B017KQRT28', 'B003V5V5J6', 'B01EUZV5Z4', 'B000HDKZKU', 'B000NMJWZO', 'B00D7D1SKI', 'B00HQFFEV2', 'B00K73KOOW', 'B001HTGAQQ', 'B0000CEO85', 'B072126PMX', 'B003DIIMLK', 'B000CQ01GU', 'B0000CEO82', 'B000LKZ9KK', 'B003ZMXYMG', 'B00BN4K5W0', 'B007PE7ANY', 'B014I9HM90', 'B000CFJDWY', 'B01GF6K3HM', 'B0036VLZS6', 'B00KUDTYY0', 'B004391DK0', 'B01D1J2BW6', 'B004GW6O9E', 'B008D2X8C4', 'B00OBL0UZ4', 'B0176XTVTY', 'B000CQ25QE', 'B00503DP0O', 'B0012JNRKS', 'B017GOZOCQ', 'B00WBY0BVG', 'B004QQ9LVS', 'B003I567W4', 'B00VK5T35C', 'B00QW0AUN4', 'B00HKLK3X6', 'B000CQ26DG', 'B00886Q7KU', 'B006GKKO4A', 'B0089PYS74', 'B0028UA2NA', 'B076XR11WH', 'B072LZYJ2B', 'B076PK2568', 'B000CONMBS', 'B004AHDV5A', 'B003TNANSO', 'B0042RJR74', 'B01LTHKYZ8', 'B005MHRK5Y', 'B003TMZQC8', 'B0792LF5DZ', 'B01EPQFPHW', 'B075G629WV', 'B000EMQF58', 'B008NU516W', 'B00RXAK1PE', 'B076JPZPHH', 'B00394DVGY', 'B0788RCWW8', 'B078HSVK7P', 'B0080L99GC', 'B0026KP4GC', 'B072MZLXYZ', 'B0074CE1HU', 'B017VX31V8', 'B009JZRM1M', 'B001CTO0YA', 'B00NBT319Y', 'B007ED2FOA', 'B00MFPZJZ4', 'B00DF0T8VO', 'B0748DLKFP', 'B00DILEFNQ', 'B01GQ5GQEG', 'B00LDC73WW', 'B019RDIFEI', 'B0163JJMU0', 'B00B90LCJ8', 'B07C5WH4WN', 'B017BHBX5K', 'B07GK2JYFN', 'B01J38CP6Q']), (16321, ['B000I346XQ', 'B00716PFZQ', 'B007O58268', 'B00OGLF4NW', 'B006YVD9G6', 'B002HQT61E', 'B008F2JI8K', 'B00019FVUE', 'B0000ETAH7', 'B001M1DTYU', 'B001LO50SQ', 'B00DLNQHS2', 'B06ZZGNRHT', 'B001EQ5BQW', 'B01N5LU4I4', 'B0000CFTNR', 'B00C7BGB5I', 'B002MN424S', 'B007XNW1ZO', 'B001ACDOA0', 'B000WR4IRW', 'B00M75N9KY', 'B001HTRADI', 'B0078DPHQE', 'B0025VQE5W', 'B011PK0CFQ', 'B000XK0FFW', 'B001L048WO', 'B00716PFYM', 'B001K3L48I']), (18240, ['B000KOSMWE', 'B00G9U46DW', 'B00T0BUKW8', 'B003TLVT34', 'B01MCS6EDI', 'B0074EE6RI', 'B0053B7CT8', 'B00KI3TO42', 'B06XD6QGXY', 'B00KPVWRU0', 'B00A0MKD96', 'B0025UNV2M', 'B004GCUWAQ']), (25239, ['B000RYFMRU', 'B000VDUDPI', 'B0010XQ5K0', 'B000VDUH18', 'B000RLT490', 'B000VDUGZK', 'B07CX6LN8T', 'B000VDPYKM', 'B01F1WKXLW', 'B01F1WL0H8', 'B01F1WL0IC', 'B00TEAVHXQ', 'B000R36GD0', 'B07G39L3Q6', 'B01IF0GFQO', 'B000R30LB8']), (29578, ['B000YT5KKC', 'B000YT9K58', 'B001JK8P5M', 'B004L5EVSC', 'B004LKEU1K', 'B000YT9LSY', 'B003948C04', 'B000YT7THY', 'B004LCBR1Y', 'B000YT5R96', 'B01IFXFAU8', 'B004LUXPUW', 'B000FVKBH6', 'B000YT5T2G', 'B000YTB1WS']), (31564, ['B0012S52PW', 'B07CX6LN8T', 'B000UESJ8Q', 'B07G38C4JG']), (43584, ['B001GHYO4E', 'B00014FNU2', 'B00EIS9NW6', 'B00ENP215K', 'B010BUE6CG', 'B006VRNEFO', 'B002OOLUTK', 'B001EQ4SHK', 'B00HJCXX24', 'B01FE7PM1U', 'B005ERUCVQ', 'B0054M0U18', 'B074CHSXN4', 'B00CYMU3TA', 'B007SNJ98G', 'B01H7DFM32', 'B00UHMOG60', 'B01FG5W2KE', 'B015FFIOO8', 'B002SKVZIQ', 'B005EOTMA6', 'B07939DYBP', 'B0005ZXPY8', 'B00VVMTLV0', 'B0147CMIRE', 'B001B49UOG', 'B00VF03MUY', 'B01NB9PVP6', 'B001GHYO44', 'B00GB8PS9I', 'B0755JN13H', 'B004XJXIM6', 'B01M173US6', 'B001L97SQS', 'B018Y0WYHY', 'B001B5JT8C', 'B00LIAVX98', 'B000F0AUGO', 'B003T0668I', 'B00IXUKFVI', 'B01E9GXNCM', 'B00TXQQDW6', 'B0774M73SF', 'B00060N5OW', 'B01M4IWGHE', 'B06Y1DCSRQ', 'B0793KYR9W', 'B003XKWPD4', 'B000R4FGK8', 'B071W21LLT', 'B001PQMJIY', 'B001H8R00M', 'B079VP6DH6', 'B01FXMD3KS', 'B01HSU0UC2', 'B00GGBLPVU', 'B005HUWCFY', 'B00STSZ77G', 'B00DLKWXRO', 'B004NG9FWQ', 'B0053KN8QA', 'B00ASBOP9S', 'B007P0FWSI', 'B00P2XTTS4', 'B004YPEFH6', 'B00HNSJSX2', 'B0741GFQHJ', 'B016UMTPRK', 'B00COCUM96', 'B00BFUFYZK', 'B00125V10U', 'B00UASJHV0', 'B07B8YW192', 'B07217DZZ7', 'B000VDX25Q', 'B00Q70RCW6', 'B01H07E286', 'B07FCYFGTX', 'B006GHVOX8', 'B01BZ0N69U', 'B072MZLXYZ', 'B019DM86LA', 'B012HE3U2G', 'B00ENS39XK', 'B0049IF5W2', 'B010BUF0VM', 'B00PUOQHDA', 'B00I9VAHD2', 'B00BAO7F3U', 'B00C5RIQRK', 'B001YXXL8U', 'B00FWUO2IE'])]\n",
            "\n",
            "Details of sample_large\n",
            "____________________________________________________________________________________________\n",
            "The number of unique items : 19941\n",
            "The number of unique items (including redundant):  26049\n",
            "The number of baskets :  696\n",
            "The contents of sample_large; list of (customer_id, customer's basket) : \n",
            " [(488, ['B0000D9N18', 'B0000D9N8O', 'B0045AW7N4', 'B0075ALVJM', 'B0000D9N1H', 'B01IMCIVU8', 'B00G6I14Y6', 'B000R4DWC2', 'B00JYG5SXK', 'B017C51JB4', 'B004H0FTW8', 'B01136INBW', 'B0028AD6WO']), (531, ['B0000DBN2F', 'B01MXDGDWK', 'B0000DBN2I', 'B01F7M89ZS', 'B00WY33HV0', 'B00018HSLA', 'B00MFNG6SU', 'B00D5DVJ1S', 'B004W7T9VI', 'B000VK9YQA', 'B00N9UGRZK', 'B00016ATC2', 'B01DUTZLGK', 'B00A5WT07C', 'B019M4YX8O', 'B00028PVA4', 'B00822Y04U', 'B00FO5X1CU', 'B0033HGLTG']), (625, ['B0000DG4MK', 'B000E9JW9M', 'B00LV9TPQY', 'B06ZYXYYB6', 'B0039B0AB6', 'B00PZ6B080', 'B004MY0E60', 'B00AIR3Q38', 'B004EXLD1O', 'B00AWE2L7O', 'B00032B0V8', 'B0716G5MBX', 'B007P643GE', 'B00X8NTN54', 'B01DCFJ0DC', 'B01MYVA00B', 'B000FIBBWS', 'B01MUVI9PV', 'B073ZMC8JH', 'B00170LPPQ', 'B000FIBBWI', 'B002QWYKH4', 'B016V8KNRE', 'B00CFV999U', 'B00OG1OUSM', 'B00XLHS8HQ', 'B0035CLP86', 'B01EWVOSXW', 'B07HMJWCNL', 'B06ZZ7GNV6', 'B077T632Z7', 'B000ROAY4G', 'B00JD1MD7K', 'B0030KLW0Y', 'B07H7KPV3L', 'B079CR4FF1', 'B00DUO2GNM', 'B07822Z3N7', 'B07447JDS2', 'B009FPWGPI', 'B0085RXBN8', 'B00QELRGM4', 'B07FB9M867', 'B003Y01F2U', 'B002B9HC6I', 'B0000GHNUE', 'B075FVV5Q8', 'B00F1PXP0G', 'B07HFHMM5G', 'B016L0VRMM', 'B004H1P2J2', 'B077QFZK26', 'B01ATW6NJ0', 'B06XDW6G11', 'B01F2K494K', 'B003Y5CI7Q', 'B07B8QQCLC', 'B0100S716C', 'B00NO5TM02', 'B0000DIWWD', 'B01AGGTLKW', 'B0007MXQEI', 'B00XZZRI1Q', 'B01MXTBBCI', 'B001A39KIY', '1607744260', 'B07215M16K', 'B004QO5E0M', 'B00UK8BJHA', 'B07BY9YJVY', 'B073ZNPJF7', 'B01MUK3FK2', 'B00HHFEANE', 'B00UN02IEI', 'B01E0D73HK', 'B01MTPOHWS', 'B00HRCU0JK', 'B00QA8BSA2', 'B0005ZHPFI', 'B06XCQF5RP', 'B00L1GHHV2', 'B0791X9GSC', 'B01KIPIJZ4', 'B00SXTB0AY', 'B07KCGYLK7', 'B011LWRBES', '160342816X', 'B019PIHFLE', 'B06XXNX7ZH', 'B00LVA57AG', 'B004MXR9AU', 'B0000DG560', 'B00BADXRRO', 'B00OACBG66']), (882, ['B0000DK9W4', 'B004C7MTLA', 'B01CFJ51X4', 'B01M3UL6K9', 'B005F5OJG6', 'B00ULZBUNU', 'B0000DK8HI', 'B0000DK9VS', 'B0000DK497', 'B0000DK6UV', 'B0000DK64P', 'B0000DK5Z2', 'B005PZBRUC']), (1245, ['B0000TLEII', 'B0000TLEKQ', 'B0000TLF4Q', 'B00PKUQ784', 'B008PS0MV6', 'B0087HM9JS', 'B0087HX7NU', 'B0000TLEY2', 'B00XHTPYF2', 'B008GG20TE', 'B07BS2PN95', 'B0000TLES8', 'B0087HW90M', 'B008GFW5AY', 'B00OGQ920I', 'B0000E6GZY', 'B01M102YSF', 'B0087HUKA8', 'B000XTCUFQ', 'B01N8VU67N', 'B076ZP89VZ', 'B0000TLEJ2', 'B00O4D183C', 'B00JBBXBL4', 'B0000TLFLO', 'B0000TLRIA']), (2478, ['B0001M0YYE', 'B001VNGLEY', 'B003AYEHU2', 'B001VNP7L2', 'B001VNGMGG', 'B001VNO1NM', 'B001VNGMW0', 'B001VNGN0Q', 'B001VNEHXG', 'B01N6YKTWX', 'B003AYEHQ6', 'B0001M11CS', 'B0016AXC94', 'B003AYEHSE', 'B001VNGKTA', 'B00016XLMC', 'B00PKRAMKG', 'B00UUEAAL0', 'B003AYEHOI', 'B00269YPBS', 'B00B42KQ8O', 'B00MRD6336', 'B00ZDO6KMA', 'B00269T9JQ', 'B00W4AY9BA', 'B014VD8VF2', 'B01FAOX65G', 'B001F7E95O', 'B00ZDO39W4', 'B00016XJVK', 'B0012BULUU', 'B00ZB8A5HY', 'B001VNGOPU', 'B00FTDIMSK', 'B00UXHXU66', 'B07221P9GJ', 'B00AT7XRLS', 'B00ZGCCTDI', 'B003AYEHSY', 'B00QWPEN50', 'B003AYEHGQ', 'B000SAPXN6', 'B004XIS14M', 'B002DXXFI6', 'B075KBD1Z7', 'B00KRFLDBS', 'B000UW1PCU']), (2672, ['B0001RIS5G', 'B0006G5KEY', 'B073FR8NSK', 'B073FS8H94', 'B0006G5KE4', 'B0000WKU8K', 'B0002D8MBO', 'B00VTVCI22', 'B0002YGSJQ', 'B004LE745K', 'B002K2FJDE', 'B008H19NWA', 'B000UWE0AO', 'B00OVTMRVQ', 'B0001LW00Q', 'B00LF9RZWQ', 'B0086XR146', 'B0046H020G', 'B01HHIIGXU', 'B00290NPTM', 'B00IBNZAEE', 'B00UR6HALY', 'B0006G5KEE', 'B002M7IMFY']), (2777, ['B0001WAMA0', 'B004D9XYWU', 'B00BY78O60', 'B00O2E0RGC', 'B005VY4NVM', 'B00066N8RA', 'B002MG30VQ', 'B07K8RCCB9', 'B07KBCX5GQ', 'B00FBGKCHE', 'B00481RICU', 'B0092WEQCA', 'B000MAODJM', 'B07KLDP4X5', 'B00KPXMNAW', 'B000VENIFO', 'B001IIST1K', 'B07K6WZHMD', 'B000W20UWO', 'B01M3NUOIK', 'B00FBGIO92', 'B00QPHNUYU', 'B003SKZN9C', 'B071GCY9FT', 'B002SZAAJQ', 'B00FBGL0CK', 'B01136INBW', 'B006ZZCWQE', 'B01K8OV63M', 'B001MABOTI', 'B00FI1TGBU', 'B003U82VTC', 'B07546CJF7', 'B00GR9EM3O', 'B01EKDK4NK', 'B00FBGMBZ0', 'B072NZKZLV', 'B00GB7UK6K', 'B01MQDEOK4', 'B01K8P6XNO', 'B009LHPJ1S', 'B01M62H3GY', 'B009LHP1SO', 'B00G9ER6EO', 'B00Q35WR4I', 'B01MD1CCTT', 'B0006GRBBY', 'B00BY78O7Y', 'B009LHPBSE', 'B00GQIFMTO', 'B00FQ540KK', 'B006GY3CO0', 'B009LHPG8Y', 'B00CYLEUVI', 'B00LFVLSXG', 'B00YPM5X2Y', 'B00CKWB58W', 'B009LHPT0O', 'B077J53K7Z', 'B00KCCKV8W', 'B00061MISK', 'B00BXVBKJK', 'B006J7TAHM', 'B002E10JD6', 'B004D9VY3G', 'B0006GX1M2', 'B07KMFVM43', 'B07KFPKXGX', 'B0001R050W', 'B00F4WIL8C', 'B009LHPLWA', 'B00F4WILNC', 'B00FQ53SC6', 'B000XMG130', 'B0006BCAJM', 'B0006GX1KO']), (3221, ['B0002EQTJ0', 'B0002TJDRU', 'B0002EQTIQ', 'B01LW3UP9D', 'B0006G1K9I', 'B01JQW0SJK', 'B01G333SHO', 'B01DRQCXTY', 'B0721ZWJQN', 'B004HU6YWW', 'B01JQW0TJY', 'B00U0NMSRA', 'B01GIHUMUQ', 'B01J92O7DA', 'B07BB1ZK7C', 'B06XR95P8C', 'B076W2CG7Y', 'B000HY4RL2', 'B0009R0626', 'B0009JMKJQ', 'B000H27I1U', 'B07B6TBNXV', 'B001R1D0N0', 'B078WHLPRC', 'B071ZTPT51', 'B0141GTAUO', 'B0002VXYQE', 'B000H25X30', 'B00IDA5KQS', 'B0002VXZ3Q', 'B019Z88DVA', 'B00CMIL6YC', 'B006RXBQ98', 'B00WH0MYZA', 'B06XR92DJ2', 'B0002VXZ40', 'B014STRNEY', 'B01IU8Y86A', 'B013N84N62', 'B003SPGUHQ', 'B079DML776', 'B006VYO276', 'B072Q6DJQR', 'B005OHBN1Y', 'B0049D7HRS', 'B01E60R65Q', 'B007SS73WK', 'B01E20AVCK', 'B016SZAUAA', 'B00M07UQ6E', 'B00I9E7MK0', 'B0002YGSJQ', '616719923X', 'B0054TWQ36', 'B01DRQNDUC', 'B008MMJTKU', 'B003M6HHBE', 'B009SE5LBW', 'B001FB6AT8', 'B001PQFG9S', 'B001B5PX6O', 'B0035ESZBY', 'B072LPH87N', 'B00ICHOIGK', 'B00472ESQY']), (3297, ['B0002MRUZ4', 'B0002MRUVI', 'B001H3PXBU', 'B0002MRUX6'])]\n"
          ]
        }
      ]
    },
    {
      "cell_type": "markdown",
      "source": [
        "# **Data Setup for using Cosine_similarity**\n",
        "### Generate sparse vectors for each baskets in Sample"
      ],
      "metadata": {
        "id": "XW_WKvXkVYsp"
      }
    },
    {
      "cell_type": "code",
      "source": [
        "from pyspark.ml.linalg import SparseVector\n",
        "from math import sqrt\n",
        "#Generate Sparse vector for each sampled customer of what they purchased\n",
        "def generate_SV(customer_items_rdd):\n",
        "\n",
        "  \"\"\"This function call creat_sparse_vector function\n",
        "  to perform generating Sparse Vector for each basket with customer ID\"\"\"\n",
        "\n",
        "  # customer_items_rdd: a list of (customer_id, [item_id1, item_id2, ...]) tuples called 'customer_items'\n",
        "  # Create a dictionary of item indices for efficient lookup\n",
        "  item_indices = customer_items_rdd.flatMap(lambda x: x[1]).distinct().zipWithIndex().collectAsMap()\n",
        "\n",
        "  #Broadcast the item_indices dictionary to all worker nodes\n",
        "  item_indices_broadcast = sc.broadcast(item_indices)\n",
        "\n",
        "  # Create sparse vectors for each customer's item vector\n",
        "  def create_sparse_vector(customer_items, item_indices_broadcast):\n",
        "      indices = [item_indices_broadcast.value.get(item, 0) for item in customer_items]\n",
        "      indices = [index for index in indices if index != 0]\n",
        "      indices.sort()\n",
        "      values = [1] * len(indices)\n",
        "      print(values)\n",
        "      vector_size = len(item_indices_broadcast.value)\n",
        "      return (indices, SparseVector(vector_size, indices, values))\n",
        "\n",
        "  customer_vectors = customer_items_rdd.map(lambda x : (x[0], create_sparse_vector(x[1], item_indices_broadcast)))\n",
        "\n",
        "  return customer_vectors\n"
      ],
      "metadata": {
        "id": "maPLZkVMDjHs"
      },
      "execution_count": null,
      "outputs": []
    },
    {
      "cell_type": "markdown",
      "source": [
        "### For extracting useful data for recommending items through cosine-similarity"
      ],
      "metadata": {
        "id": "FMp0JbkSXNGC"
      }
    },
    {
      "cell_type": "code",
      "source": [
        "def SV_information(SV_rdd):\n",
        "  customer_id_list = []\n",
        "  only_SV_list = []\n",
        "  for customer_id, vector in SV_rdd.collect():\n",
        "    customer_id_list.append(customer_id)\n",
        "    only_SV_list.append(vector[1])\n",
        "  return customer_id_list, only_SV_list"
      ],
      "metadata": {
        "id": "Te4LQBOIWjNF"
      },
      "execution_count": null,
      "outputs": []
    },
    {
      "cell_type": "markdown",
      "source": [
        "### Display the contents of generated Sparse vector for customer baskets in detail"
      ],
      "metadata": {
        "id": "t0yzUYY0YoUY"
      }
    },
    {
      "cell_type": "code",
      "source": [
        "# Print the resulting customer vectors\n",
        "print(\"Display outputs of generated Sparse Vector\")\n",
        "for customer_id, vector in generate_SV(sample_medium).collect():\n",
        "    print(\"Customer ID:\", customer_id)\n",
        "    print(\"Sparse Vector:\", vector[1])\n",
        "    print(\"Indices : \", vector[0])\n",
        "    print()\n",
        "\n",
        "SV_information(generate_SV(sample_medium))"
      ],
      "metadata": {
        "colab": {
          "base_uri": "https://localhost:8080/"
        },
        "id": "mS3b2Y3EYnAj",
        "outputId": "689de300-9de3-46fc-c0c7-b72493cd315e"
      },
      "execution_count": null,
      "outputs": [
        {
          "output_type": "stream",
          "name": "stdout",
          "text": [
            "Display outputs of generated Sparse Vector\n",
            "Customer ID: 818\n",
            "Sparse Vector: (2859,[1,2,3,4,5,6,7,8,9,10,11,12,13,14,15,16,17,1443,1444,1445,1446,1447,1448,1449,1450,1451,1452,1453,1454,1455,1456,1457],[1.0,1.0,1.0,1.0,1.0,1.0,1.0,1.0,1.0,1.0,1.0,1.0,1.0,1.0,1.0,1.0,1.0,1.0,1.0,1.0,1.0,1.0,1.0,1.0,1.0,1.0,1.0,1.0,1.0,1.0,1.0,1.0])\n",
            "Indices :  [1, 2, 3, 4, 5, 6, 7, 8, 9, 10, 11, 12, 13, 14, 15, 16, 17, 1443, 1444, 1445, 1446, 1447, 1448, 1449, 1450, 1451, 1452, 1453, 1454, 1455, 1456, 1457]\n",
            "\n",
            "Customer ID: 6009\n",
            "Sparse Vector: (2859,[18,19,20,21,1458,1459],[1.0,1.0,1.0,1.0,1.0,1.0])\n",
            "Indices :  [18, 19, 20, 21, 1458, 1459]\n",
            "\n",
            "Customer ID: 8930\n",
            "Sparse Vector: (2859,[22,23,24,25,26,27,28,29,30,31,32,33,34,1460,1461,1462,1463,1464,1465,1466,1467,1468,1469,1470],[1.0,1.0,1.0,1.0,1.0,1.0,1.0,1.0,1.0,1.0,1.0,1.0,1.0,1.0,1.0,1.0,1.0,1.0,1.0,1.0,1.0,1.0,1.0,1.0])\n",
            "Indices :  [22, 23, 24, 25, 26, 27, 28, 29, 30, 31, 32, 33, 34, 1460, 1461, 1462, 1463, 1464, 1465, 1466, 1467, 1468, 1469, 1470]\n",
            "\n",
            "Customer ID: 10300\n",
            "Sparse Vector: (2859,[35,36,37,38,39,40,41,42,43,44,45,46,47,48,49,50,51,52,53,54,55,56,57,58,59,60,61,62,63,64,65,66,67,68,69,70,71,72,73,74,75,76,77,78,79,80,81,82,83,84,85,86,87,88,89,90,91,92,93,94,1471,1472,1473,1474,1475,1476,1477,1478,1479,1480,1481,1482,1483,1484,1485,1486,1487,1488,1489,1490,1491,1492,1493,1494,1495,1496,1497,1498,1499,1500,1501,1502,1503,1504,1505],[1.0,1.0,1.0,1.0,1.0,1.0,1.0,1.0,1.0,1.0,1.0,1.0,1.0,1.0,1.0,1.0,1.0,1.0,1.0,1.0,1.0,1.0,1.0,1.0,1.0,1.0,1.0,1.0,1.0,1.0,1.0,1.0,1.0,1.0,1.0,1.0,1.0,1.0,1.0,1.0,1.0,1.0,1.0,1.0,1.0,1.0,1.0,1.0,1.0,1.0,1.0,1.0,1.0,1.0,1.0,1.0,1.0,1.0,1.0,1.0,1.0,1.0,1.0,1.0,1.0,1.0,1.0,1.0,1.0,1.0,1.0,1.0,1.0,1.0,1.0,1.0,1.0,1.0,1.0,1.0,1.0,1.0,1.0,1.0,1.0,1.0,1.0,1.0,1.0,1.0,1.0,1.0,1.0,1.0,1.0])\n",
            "Indices :  [35, 36, 37, 38, 39, 40, 41, 42, 43, 44, 45, 46, 47, 48, 49, 50, 51, 52, 53, 54, 55, 56, 57, 58, 59, 60, 61, 62, 63, 64, 65, 66, 67, 68, 69, 70, 71, 72, 73, 74, 75, 76, 77, 78, 79, 80, 81, 82, 83, 84, 85, 86, 87, 88, 89, 90, 91, 92, 93, 94, 1471, 1472, 1473, 1474, 1475, 1476, 1477, 1478, 1479, 1480, 1481, 1482, 1483, 1484, 1485, 1486, 1487, 1488, 1489, 1490, 1491, 1492, 1493, 1494, 1495, 1496, 1497, 1498, 1499, 1500, 1501, 1502, 1503, 1504, 1505]\n",
            "\n",
            "Customer ID: 16321\n",
            "Sparse Vector: (2859,[95,96,97,98,99,100,101,102,103,104,105,106,107,108,109,110,111,112,1506,1507,1508,1509,1510,1511,1512,1513,1514,1515,1516,1517],[1.0,1.0,1.0,1.0,1.0,1.0,1.0,1.0,1.0,1.0,1.0,1.0,1.0,1.0,1.0,1.0,1.0,1.0,1.0,1.0,1.0,1.0,1.0,1.0,1.0,1.0,1.0,1.0,1.0,1.0])\n",
            "Indices :  [95, 96, 97, 98, 99, 100, 101, 102, 103, 104, 105, 106, 107, 108, 109, 110, 111, 112, 1506, 1507, 1508, 1509, 1510, 1511, 1512, 1513, 1514, 1515, 1516, 1517]\n",
            "\n",
            "Customer ID: 18240\n",
            "Sparse Vector: (2859,[113,114,115,1518,1519,1520,1521,1522,1523,1524,1525,1526,1527],[1.0,1.0,1.0,1.0,1.0,1.0,1.0,1.0,1.0,1.0,1.0,1.0,1.0])\n",
            "Indices :  [113, 114, 115, 1518, 1519, 1520, 1521, 1522, 1523, 1524, 1525, 1526, 1527]\n",
            "\n",
            "Customer ID: 25239\n",
            "Sparse Vector: (2859,[24,116,117,118,119,120,1528,1529,1530,1531,1532,1533,1534,1535,1536,1537],[1.0,1.0,1.0,1.0,1.0,1.0,1.0,1.0,1.0,1.0,1.0,1.0,1.0,1.0,1.0,1.0])\n",
            "Indices :  [24, 116, 117, 118, 119, 120, 1528, 1529, 1530, 1531, 1532, 1533, 1534, 1535, 1536, 1537]\n",
            "\n",
            "Customer ID: 29578\n",
            "Sparse Vector: (2859,[121,122,123,124,125,126,127,128,129,130,1538,1539,1540,1541,1542],[1.0,1.0,1.0,1.0,1.0,1.0,1.0,1.0,1.0,1.0,1.0,1.0,1.0,1.0,1.0])\n",
            "Indices :  [121, 122, 123, 124, 125, 126, 127, 128, 129, 130, 1538, 1539, 1540, 1541, 1542]\n",
            "\n",
            "Customer ID: 31564\n",
            "Sparse Vector: (2859,[24,1467,1543,1544],[1.0,1.0,1.0,1.0])\n",
            "Indices :  [24, 1467, 1543, 1544]\n",
            "\n",
            "Customer ID: 43584\n",
            "Sparse Vector: (2859,[85,131,132,133,134,135,136,137,138,139,140,141,142,143,144,145,146,147,148,149,150,151,152,153,154,155,156,157,158,159,160,161,162,163,164,165,166,167,168,169,170,1453,1545,1546,1547,1548,1549,1550,1551,1552,1553,1554,1555,1556,1557,1558,1559,1560,1561,1562,1563,1564,1565,1566,1567,1568,1569,1570,1571,1572,1573,1574,1575,1576,1577,1578,1579,1580,1581,1582,1583,1584,1585,1586,1587,1588,1589,1590,1591,1592,1593,1594],[1.0,1.0,1.0,1.0,1.0,1.0,1.0,1.0,1.0,1.0,1.0,1.0,1.0,1.0,1.0,1.0,1.0,1.0,1.0,1.0,1.0,1.0,1.0,1.0,1.0,1.0,1.0,1.0,1.0,1.0,1.0,1.0,1.0,1.0,1.0,1.0,1.0,1.0,1.0,1.0,1.0,1.0,1.0,1.0,1.0,1.0,1.0,1.0,1.0,1.0,1.0,1.0,1.0,1.0,1.0,1.0,1.0,1.0,1.0,1.0,1.0,1.0,1.0,1.0,1.0,1.0,1.0,1.0,1.0,1.0,1.0,1.0,1.0,1.0,1.0,1.0,1.0,1.0,1.0,1.0,1.0,1.0,1.0,1.0,1.0,1.0,1.0,1.0,1.0,1.0,1.0,1.0])\n",
            "Indices :  [85, 131, 132, 133, 134, 135, 136, 137, 138, 139, 140, 141, 142, 143, 144, 145, 146, 147, 148, 149, 150, 151, 152, 153, 154, 155, 156, 157, 158, 159, 160, 161, 162, 163, 164, 165, 166, 167, 168, 169, 170, 1453, 1545, 1546, 1547, 1548, 1549, 1550, 1551, 1552, 1553, 1554, 1555, 1556, 1557, 1558, 1559, 1560, 1561, 1562, 1563, 1564, 1565, 1566, 1567, 1568, 1569, 1570, 1571, 1572, 1573, 1574, 1575, 1576, 1577, 1578, 1579, 1580, 1581, 1582, 1583, 1584, 1585, 1586, 1587, 1588, 1589, 1590, 1591, 1592, 1593, 1594]\n",
            "\n",
            "Customer ID: 63224\n",
            "Sparse Vector: (2859,[171,172,173,174,175,176,177,178,179,180,181,182,183,184,185,186,187,188,1595,1596,1597,1598,1599,1600,1601,1602,1603,1604,1605,1606,1607,1608,1609,1610,1611,1612,1613,1614,1615,1616,1617,1618,1619,1620],[1.0,1.0,1.0,1.0,1.0,1.0,1.0,1.0,1.0,1.0,1.0,1.0,1.0,1.0,1.0,1.0,1.0,1.0,1.0,1.0,1.0,1.0,1.0,1.0,1.0,1.0,1.0,1.0,1.0,1.0,1.0,1.0,1.0,1.0,1.0,1.0,1.0,1.0,1.0,1.0,1.0,1.0,1.0,1.0])\n",
            "Indices :  [171, 172, 173, 174, 175, 176, 177, 178, 179, 180, 181, 182, 183, 184, 185, 186, 187, 188, 1595, 1596, 1597, 1598, 1599, 1600, 1601, 1602, 1603, 1604, 1605, 1606, 1607, 1608, 1609, 1610, 1611, 1612, 1613, 1614, 1615, 1616, 1617, 1618, 1619, 1620]\n",
            "\n",
            "Customer ID: 69945\n",
            "Sparse Vector: (2859,[189,190,191,192,193,1621,1622,1623,1624,1625,1626],[1.0,1.0,1.0,1.0,1.0,1.0,1.0,1.0,1.0,1.0,1.0])\n",
            "Indices :  [189, 190, 191, 192, 193, 1621, 1622, 1623, 1624, 1625, 1626]\n",
            "\n",
            "Customer ID: 74501\n",
            "Sparse Vector: (2859,[194,195,196,197,198,199,200,201,202,203,1627,1628,1629,1630],[1.0,1.0,1.0,1.0,1.0,1.0,1.0,1.0,1.0,1.0,1.0,1.0,1.0,1.0])\n",
            "Indices :  [194, 195, 196, 197, 198, 199, 200, 201, 202, 203, 1627, 1628, 1629, 1630]\n",
            "\n",
            "Customer ID: 79133\n",
            "Sparse Vector: (2859,[204,205,206,207,208,209,210,211,1631,1632,1633],[1.0,1.0,1.0,1.0,1.0,1.0,1.0,1.0,1.0,1.0,1.0])\n",
            "Indices :  [204, 205, 206, 207, 208, 209, 210, 211, 1631, 1632, 1633]\n",
            "\n",
            "Customer ID: 79395\n",
            "Sparse Vector: (2859,[212,213,214,215,216,217,1634,1635,1636,1637,1638],[1.0,1.0,1.0,1.0,1.0,1.0,1.0,1.0,1.0,1.0,1.0])\n",
            "Indices :  [212, 213, 214, 215, 216, 217, 1634, 1635, 1636, 1637, 1638]\n",
            "\n",
            "Customer ID: 83734\n",
            "Sparse Vector: (2859,[218,219,220,221,222,223,224,225,226,227,228,1558,1575,1588,1639,1640,1641,1642,1643,1644,1645,1646,1647,1648,1649,1650],[1.0,1.0,1.0,1.0,1.0,1.0,1.0,1.0,1.0,1.0,1.0,1.0,1.0,1.0,1.0,1.0,1.0,1.0,1.0,1.0,1.0,1.0,1.0,1.0,1.0,1.0])\n",
            "Indices :  [218, 219, 220, 221, 222, 223, 224, 225, 226, 227, 228, 1558, 1575, 1588, 1639, 1640, 1641, 1642, 1643, 1644, 1645, 1646, 1647, 1648, 1649, 1650]\n",
            "\n",
            "Customer ID: 83982\n",
            "Sparse Vector: (2859,[229,230,231,232,233,234,235,236,237,1651,1652,1653],[1.0,1.0,1.0,1.0,1.0,1.0,1.0,1.0,1.0,1.0,1.0,1.0])\n",
            "Indices :  [229, 230, 231, 232, 233, 234, 235, 236, 237, 1651, 1652, 1653]\n",
            "\n",
            "Customer ID: 90887\n",
            "Sparse Vector: (2859,[24,238,239,240,241,242,243,1654,1655,1656,1657,1658,1659,1660,1661,1662,1663],[1.0,1.0,1.0,1.0,1.0,1.0,1.0,1.0,1.0,1.0,1.0,1.0,1.0,1.0,1.0,1.0,1.0])\n",
            "Indices :  [24, 238, 239, 240, 241, 242, 243, 1654, 1655, 1656, 1657, 1658, 1659, 1660, 1661, 1662, 1663]\n",
            "\n",
            "Customer ID: 91443\n",
            "Sparse Vector: (2859,[144,244,245,246,247,248,249,250,251,252,253,254,255,256,257,258,259,260,261,262,263,264,265,266,267,268,269,270,271,272,273,274,275,276,277,278,279,280,281,282,283,284,285,286,287,288,289,290,291,1549,1573,1578,1591,1664,1665,1666,1667,1668,1669,1670,1671,1672,1673,1674,1675,1676,1677,1678,1679,1680,1681,1682,1683,1684,1685,1686,1687,1688,1689,1690,1691,1692,1693,1694,1695,1696,1697,1698,1699,1700,1701,1702,1703,1704,1705],[1.0,1.0,1.0,1.0,1.0,1.0,1.0,1.0,1.0,1.0,1.0,1.0,1.0,1.0,1.0,1.0,1.0,1.0,1.0,1.0,1.0,1.0,1.0,1.0,1.0,1.0,1.0,1.0,1.0,1.0,1.0,1.0,1.0,1.0,1.0,1.0,1.0,1.0,1.0,1.0,1.0,1.0,1.0,1.0,1.0,1.0,1.0,1.0,1.0,1.0,1.0,1.0,1.0,1.0,1.0,1.0,1.0,1.0,1.0,1.0,1.0,1.0,1.0,1.0,1.0,1.0,1.0,1.0,1.0,1.0,1.0,1.0,1.0,1.0,1.0,1.0,1.0,1.0,1.0,1.0,1.0,1.0,1.0,1.0,1.0,1.0,1.0,1.0,1.0,1.0,1.0,1.0,1.0,1.0,1.0])\n",
            "Indices :  [144, 244, 245, 246, 247, 248, 249, 250, 251, 252, 253, 254, 255, 256, 257, 258, 259, 260, 261, 262, 263, 264, 265, 266, 267, 268, 269, 270, 271, 272, 273, 274, 275, 276, 277, 278, 279, 280, 281, 282, 283, 284, 285, 286, 287, 288, 289, 290, 291, 1549, 1573, 1578, 1591, 1664, 1665, 1666, 1667, 1668, 1669, 1670, 1671, 1672, 1673, 1674, 1675, 1676, 1677, 1678, 1679, 1680, 1681, 1682, 1683, 1684, 1685, 1686, 1687, 1688, 1689, 1690, 1691, 1692, 1693, 1694, 1695, 1696, 1697, 1698, 1699, 1700, 1701, 1702, 1703, 1704, 1705]\n",
            "\n",
            "Customer ID: 93099\n",
            "Sparse Vector: (2859,[292,293,294,295,296,297,298,299,300,301,302,303,304,305,306,307,308,309,310,311,312,313,314,315,316,317,318,319,320,321,322,1706,1707,1708,1709,1710,1711,1712,1713,1714,1715,1716,1717,1718,1719,1720,1721,1722,1723,1724,1725,1726,1727,1728,1729,1730,1731],[1.0,1.0,1.0,1.0,1.0,1.0,1.0,1.0,1.0,1.0,1.0,1.0,1.0,1.0,1.0,1.0,1.0,1.0,1.0,1.0,1.0,1.0,1.0,1.0,1.0,1.0,1.0,1.0,1.0,1.0,1.0,1.0,1.0,1.0,1.0,1.0,1.0,1.0,1.0,1.0,1.0,1.0,1.0,1.0,1.0,1.0,1.0,1.0,1.0,1.0,1.0,1.0,1.0,1.0,1.0,1.0,1.0])\n",
            "Indices :  [292, 293, 294, 295, 296, 297, 298, 299, 300, 301, 302, 303, 304, 305, 306, 307, 308, 309, 310, 311, 312, 313, 314, 315, 316, 317, 318, 319, 320, 321, 322, 1706, 1707, 1708, 1709, 1710, 1711, 1712, 1713, 1714, 1715, 1716, 1717, 1718, 1719, 1720, 1721, 1722, 1723, 1724, 1725, 1726, 1727, 1728, 1729, 1730, 1731]\n",
            "\n",
            "Customer ID: 93660\n",
            "Sparse Vector: (2859,[190,191,323,324,325,326,327,328,329,330,331,1622,1623,1624,1732,1733,1734,1735,1736,1737,1738,1739,1740,1741,1742],[1.0,1.0,1.0,1.0,1.0,1.0,1.0,1.0,1.0,1.0,1.0,1.0,1.0,1.0,1.0,1.0,1.0,1.0,1.0,1.0,1.0,1.0,1.0,1.0,1.0])\n",
            "Indices :  [190, 191, 323, 324, 325, 326, 327, 328, 329, 330, 331, 1622, 1623, 1624, 1732, 1733, 1734, 1735, 1736, 1737, 1738, 1739, 1740, 1741, 1742]\n",
            "\n",
            "Customer ID: 95209\n",
            "Sparse Vector: (2859,[332,333,334,335,336,337,338,339,340,341,342,343,344,345,346,347,348,349,350,351,352,353,1743,1744,1745,1746,1747,1748,1749,1750,1751,1752,1753,1754,1755,1756,1757,1758,1759,1760,1761,1762,1763,1764,1765,1766,1767,1768,1769,1770,1771,1772],[1.0,1.0,1.0,1.0,1.0,1.0,1.0,1.0,1.0,1.0,1.0,1.0,1.0,1.0,1.0,1.0,1.0,1.0,1.0,1.0,1.0,1.0,1.0,1.0,1.0,1.0,1.0,1.0,1.0,1.0,1.0,1.0,1.0,1.0,1.0,1.0,1.0,1.0,1.0,1.0,1.0,1.0,1.0,1.0,1.0,1.0,1.0,1.0,1.0,1.0,1.0,1.0])\n",
            "Indices :  [332, 333, 334, 335, 336, 337, 338, 339, 340, 341, 342, 343, 344, 345, 346, 347, 348, 349, 350, 351, 352, 353, 1743, 1744, 1745, 1746, 1747, 1748, 1749, 1750, 1751, 1752, 1753, 1754, 1755, 1756, 1757, 1758, 1759, 1760, 1761, 1762, 1763, 1764, 1765, 1766, 1767, 1768, 1769, 1770, 1771, 1772]\n",
            "\n",
            "Customer ID: 99502\n",
            "Sparse Vector: (2859,[354,355,356,357,358,359,360,361,362,363,364,365,366,367,368,369,370,371,372,373,374,375,376,377,378,379,380,381,382,383,384,1773,1774,1775,1776,1777,1778,1779,1780,1781,1782,1783,1784,1785,1786,1787,1788,1789,1790,1791,1792,1793,1794,1795,1796],[1.0,1.0,1.0,1.0,1.0,1.0,1.0,1.0,1.0,1.0,1.0,1.0,1.0,1.0,1.0,1.0,1.0,1.0,1.0,1.0,1.0,1.0,1.0,1.0,1.0,1.0,1.0,1.0,1.0,1.0,1.0,1.0,1.0,1.0,1.0,1.0,1.0,1.0,1.0,1.0,1.0,1.0,1.0,1.0,1.0,1.0,1.0,1.0,1.0,1.0,1.0,1.0,1.0,1.0,1.0])\n",
            "Indices :  [354, 355, 356, 357, 358, 359, 360, 361, 362, 363, 364, 365, 366, 367, 368, 369, 370, 371, 372, 373, 374, 375, 376, 377, 378, 379, 380, 381, 382, 383, 384, 1773, 1774, 1775, 1776, 1777, 1778, 1779, 1780, 1781, 1782, 1783, 1784, 1785, 1786, 1787, 1788, 1789, 1790, 1791, 1792, 1793, 1794, 1795, 1796]\n",
            "\n",
            "Customer ID: 104198\n",
            "Sparse Vector: (2859,[385,386,387,388,389,390,1797,1798,1799,1800],[1.0,1.0,1.0,1.0,1.0,1.0,1.0,1.0,1.0,1.0])\n",
            "Indices :  [385, 386, 387, 388, 389, 390, 1797, 1798, 1799, 1800]\n",
            "\n",
            "Customer ID: 105820\n",
            "Sparse Vector: (2859,[1801,1802,1803,1804],[1.0,1.0,1.0,1.0])\n",
            "Indices :  [1801, 1802, 1803, 1804]\n",
            "\n",
            "Customer ID: 107435\n",
            "Sparse Vector: (2859,[391,392,393,394,395,396,397,398,399,1805,1806,1807,1808,1809],[1.0,1.0,1.0,1.0,1.0,1.0,1.0,1.0,1.0,1.0,1.0,1.0,1.0,1.0])\n",
            "Indices :  [391, 392, 393, 394, 395, 396, 397, 398, 399, 1805, 1806, 1807, 1808, 1809]\n",
            "\n",
            "Customer ID: 114381\n",
            "Sparse Vector: (2859,[400,401,1810],[1.0,1.0,1.0])\n",
            "Indices :  [400, 401, 1810]\n",
            "\n",
            "Customer ID: 122745\n",
            "Sparse Vector: (2859,[402,403,404,405,406,407,408,409,410,411,412,413,414,415,416,417,418,419,420,421,422,423,424,425,426,427,428,429,430,431,432,433,434,435,436,437,438,1575,1793,1811,1812,1813,1814,1815,1816,1817,1818,1819,1820,1821,1822,1823,1824,1825,1826,1827,1828,1829,1830,1831,1832,1833,1834,1835,1836,1837,1838,1839,1840,1841,1842,1843,1844,1845,1846,1847,1848,1849,1850,1851,1852,1853,1854,1855,1856,1857,1858],[1.0,1.0,1.0,1.0,1.0,1.0,1.0,1.0,1.0,1.0,1.0,1.0,1.0,1.0,1.0,1.0,1.0,1.0,1.0,1.0,1.0,1.0,1.0,1.0,1.0,1.0,1.0,1.0,1.0,1.0,1.0,1.0,1.0,1.0,1.0,1.0,1.0,1.0,1.0,1.0,1.0,1.0,1.0,1.0,1.0,1.0,1.0,1.0,1.0,1.0,1.0,1.0,1.0,1.0,1.0,1.0,1.0,1.0,1.0,1.0,1.0,1.0,1.0,1.0,1.0,1.0,1.0,1.0,1.0,1.0,1.0,1.0,1.0,1.0,1.0,1.0,1.0,1.0,1.0,1.0,1.0,1.0,1.0,1.0,1.0,1.0,1.0])\n",
            "Indices :  [402, 403, 404, 405, 406, 407, 408, 409, 410, 411, 412, 413, 414, 415, 416, 417, 418, 419, 420, 421, 422, 423, 424, 425, 426, 427, 428, 429, 430, 431, 432, 433, 434, 435, 436, 437, 438, 1575, 1793, 1811, 1812, 1813, 1814, 1815, 1816, 1817, 1818, 1819, 1820, 1821, 1822, 1823, 1824, 1825, 1826, 1827, 1828, 1829, 1830, 1831, 1832, 1833, 1834, 1835, 1836, 1837, 1838, 1839, 1840, 1841, 1842, 1843, 1844, 1845, 1846, 1847, 1848, 1849, 1850, 1851, 1852, 1853, 1854, 1855, 1856, 1857, 1858]\n",
            "\n",
            "Customer ID: 126051\n",
            "Sparse Vector: (2859,[267,285,439,440,441,442,443,444,445,446,447,448,449,450,451,452,453,454,455,456,457,458,459,460,461,462,463,464,465,466,467,468,1647,1859,1860,1861,1862,1863,1864,1865,1866,1867,1868,1869,1870,1871,1872,1873,1874,1875,1876,1877,1878,1879,1880,1881,1882,1883,1884,1885,1886,1887,1888,1889,1890,1891,1892],[1.0,1.0,1.0,1.0,1.0,1.0,1.0,1.0,1.0,1.0,1.0,1.0,1.0,1.0,1.0,1.0,1.0,1.0,1.0,1.0,1.0,1.0,1.0,1.0,1.0,1.0,1.0,1.0,1.0,1.0,1.0,1.0,1.0,1.0,1.0,1.0,1.0,1.0,1.0,1.0,1.0,1.0,1.0,1.0,1.0,1.0,1.0,1.0,1.0,1.0,1.0,1.0,1.0,1.0,1.0,1.0,1.0,1.0,1.0,1.0,1.0,1.0,1.0,1.0,1.0,1.0,1.0])\n",
            "Indices :  [267, 285, 439, 440, 441, 442, 443, 444, 445, 446, 447, 448, 449, 450, 451, 452, 453, 454, 455, 456, 457, 458, 459, 460, 461, 462, 463, 464, 465, 466, 467, 468, 1647, 1859, 1860, 1861, 1862, 1863, 1864, 1865, 1866, 1867, 1868, 1869, 1870, 1871, 1872, 1873, 1874, 1875, 1876, 1877, 1878, 1879, 1880, 1881, 1882, 1883, 1884, 1885, 1886, 1887, 1888, 1889, 1890, 1891, 1892]\n",
            "\n",
            "Customer ID: 128345\n",
            "Sparse Vector: (2859,[433,469,470,471,472,473,474,475,476,477,478,479,480,481,482,483,484,485,486,487,488,489,490,491,492,493,494,495,496,497,498,499,500,501,502,503,504,505,506,507,508,509,510,511,512,513,1486,1893,1894,1895,1896,1897,1898,1899,1900,1901,1902,1903,1904,1905,1906,1907,1908,1909,1910,1911,1912,1913,1914,1915,1916,1917,1918,1919,1920,1921,1922,1923,1924,1925,1926,1927,1928,1929,1930,1931,1932,1933,1934,1935,1936,1937,1938,1939,1940,1941],[1.0,1.0,1.0,1.0,1.0,1.0,1.0,1.0,1.0,1.0,1.0,1.0,1.0,1.0,1.0,1.0,1.0,1.0,1.0,1.0,1.0,1.0,1.0,1.0,1.0,1.0,1.0,1.0,1.0,1.0,1.0,1.0,1.0,1.0,1.0,1.0,1.0,1.0,1.0,1.0,1.0,1.0,1.0,1.0,1.0,1.0,1.0,1.0,1.0,1.0,1.0,1.0,1.0,1.0,1.0,1.0,1.0,1.0,1.0,1.0,1.0,1.0,1.0,1.0,1.0,1.0,1.0,1.0,1.0,1.0,1.0,1.0,1.0,1.0,1.0,1.0,1.0,1.0,1.0,1.0,1.0,1.0,1.0,1.0,1.0,1.0,1.0,1.0,1.0,1.0,1.0,1.0,1.0,1.0,1.0,1.0])\n",
            "Indices :  [433, 469, 470, 471, 472, 473, 474, 475, 476, 477, 478, 479, 480, 481, 482, 483, 484, 485, 486, 487, 488, 489, 490, 491, 492, 493, 494, 495, 496, 497, 498, 499, 500, 501, 502, 503, 504, 505, 506, 507, 508, 509, 510, 511, 512, 513, 1486, 1893, 1894, 1895, 1896, 1897, 1898, 1899, 1900, 1901, 1902, 1903, 1904, 1905, 1906, 1907, 1908, 1909, 1910, 1911, 1912, 1913, 1914, 1915, 1916, 1917, 1918, 1919, 1920, 1921, 1922, 1923, 1924, 1925, 1926, 1927, 1928, 1929, 1930, 1931, 1932, 1933, 1934, 1935, 1936, 1937, 1938, 1939, 1940, 1941]\n",
            "\n",
            "Customer ID: 133680\n",
            "Sparse Vector: (2859,[514,515,516,517,518,519,520,521,522,523,524,525,526,527,528,529,530,531,532,533,534,535,536,1942,1943,1944,1945,1946,1947,1948,1949,1950,1951,1952,1953,1954,1955,1956],[1.0,1.0,1.0,1.0,1.0,1.0,1.0,1.0,1.0,1.0,1.0,1.0,1.0,1.0,1.0,1.0,1.0,1.0,1.0,1.0,1.0,1.0,1.0,1.0,1.0,1.0,1.0,1.0,1.0,1.0,1.0,1.0,1.0,1.0,1.0,1.0,1.0,1.0])\n",
            "Indices :  [514, 515, 516, 517, 518, 519, 520, 521, 522, 523, 524, 525, 526, 527, 528, 529, 530, 531, 532, 533, 534, 535, 536, 1942, 1943, 1944, 1945, 1946, 1947, 1948, 1949, 1950, 1951, 1952, 1953, 1954, 1955, 1956]\n",
            "\n",
            "Customer ID: 134310\n",
            "Sparse Vector: (2859,[537,538,539],[1.0,1.0,1.0])\n",
            "Indices :  [537, 538, 539]\n",
            "\n",
            "Customer ID: 146434\n",
            "Sparse Vector: (2859,[540,541,542,543,544,545,546,547,548,1957,1958,1959,1960,1961,1962,1963],[1.0,1.0,1.0,1.0,1.0,1.0,1.0,1.0,1.0,1.0,1.0,1.0,1.0,1.0,1.0,1.0])\n",
            "Indices :  [540, 541, 542, 543, 544, 545, 546, 547, 548, 1957, 1958, 1959, 1960, 1961, 1962, 1963]\n",
            "\n",
            "Customer ID: 147447\n",
            "Sparse Vector: (2859,[549,550,551,552,553,554,555,556,557,558,559,560,561,562,563,564,565,566,567,568,569,570,571,572,573,574,575,576,577,578,579,580,581,582,583,584,585,586,587,1964,1965,1966,1967,1968,1969,1970,1971,1972,1973,1974,1975,1976,1977,1978,1979,1980,1981,1982,1983,1984,1985,1986,1987,1988,1989,1990,1991,1992,1993,1994,1995,1996],[1.0,1.0,1.0,1.0,1.0,1.0,1.0,1.0,1.0,1.0,1.0,1.0,1.0,1.0,1.0,1.0,1.0,1.0,1.0,1.0,1.0,1.0,1.0,1.0,1.0,1.0,1.0,1.0,1.0,1.0,1.0,1.0,1.0,1.0,1.0,1.0,1.0,1.0,1.0,1.0,1.0,1.0,1.0,1.0,1.0,1.0,1.0,1.0,1.0,1.0,1.0,1.0,1.0,1.0,1.0,1.0,1.0,1.0,1.0,1.0,1.0,1.0,1.0,1.0,1.0,1.0,1.0,1.0,1.0,1.0,1.0,1.0])\n",
            "Indices :  [549, 550, 551, 552, 553, 554, 555, 556, 557, 558, 559, 560, 561, 562, 563, 564, 565, 566, 567, 568, 569, 570, 571, 572, 573, 574, 575, 576, 577, 578, 579, 580, 581, 582, 583, 584, 585, 586, 587, 1964, 1965, 1966, 1967, 1968, 1969, 1970, 1971, 1972, 1973, 1974, 1975, 1976, 1977, 1978, 1979, 1980, 1981, 1982, 1983, 1984, 1985, 1986, 1987, 1988, 1989, 1990, 1991, 1992, 1993, 1994, 1995, 1996]\n",
            "\n",
            "Customer ID: 147703\n",
            "Sparse Vector: (2859,[394,397,398,399,588,589,590,591,592,593,594,595,596,597,598,599,600,601,602,603,604,605,606,607,608,609,610,611,612,613,614,615,616,617,618,619,620,621,622,623,624,625,626,1997,1998,1999,2000,2001,2002,2003,2004,2005,2006,2007,2008,2009,2010,2011,2012,2013,2014,2015,2016,2017,2018,2019,2020,2021,2022,2023,2024,2025,2026,2027,2028,2029,2030,2031,2032,2033,2034,2035,2036,2037,2038,2039],[1.0,1.0,1.0,1.0,1.0,1.0,1.0,1.0,1.0,1.0,1.0,1.0,1.0,1.0,1.0,1.0,1.0,1.0,1.0,1.0,1.0,1.0,1.0,1.0,1.0,1.0,1.0,1.0,1.0,1.0,1.0,1.0,1.0,1.0,1.0,1.0,1.0,1.0,1.0,1.0,1.0,1.0,1.0,1.0,1.0,1.0,1.0,1.0,1.0,1.0,1.0,1.0,1.0,1.0,1.0,1.0,1.0,1.0,1.0,1.0,1.0,1.0,1.0,1.0,1.0,1.0,1.0,1.0,1.0,1.0,1.0,1.0,1.0,1.0,1.0,1.0,1.0,1.0,1.0,1.0,1.0,1.0,1.0,1.0,1.0,1.0])\n",
            "Indices :  [394, 397, 398, 399, 588, 589, 590, 591, 592, 593, 594, 595, 596, 597, 598, 599, 600, 601, 602, 603, 604, 605, 606, 607, 608, 609, 610, 611, 612, 613, 614, 615, 616, 617, 618, 619, 620, 621, 622, 623, 624, 625, 626, 1997, 1998, 1999, 2000, 2001, 2002, 2003, 2004, 2005, 2006, 2007, 2008, 2009, 2010, 2011, 2012, 2013, 2014, 2015, 2016, 2017, 2018, 2019, 2020, 2021, 2022, 2023, 2024, 2025, 2026, 2027, 2028, 2029, 2030, 2031, 2032, 2033, 2034, 2035, 2036, 2037, 2038, 2039]\n",
            "\n",
            "Customer ID: 150614\n",
            "Sparse Vector: (2859,[627,628,629,630,631,632,633,634,635,636,637,638,639,640,641,642,643,644,645,646,647,648,649,650,651,652,653,654,655,656,657,658,659,660,661,662,663,664,665,666,667,1679,2040,2041,2042,2043,2044,2045,2046,2047,2048,2049,2050,2051,2052,2053,2054,2055,2056,2057,2058,2059,2060,2061,2062,2063,2064,2065,2066,2067,2068,2069,2070,2071,2072,2073,2074,2075,2076,2077,2078,2079,2080,2081,2082,2083,2084,2085],[1.0,1.0,1.0,1.0,1.0,1.0,1.0,1.0,1.0,1.0,1.0,1.0,1.0,1.0,1.0,1.0,1.0,1.0,1.0,1.0,1.0,1.0,1.0,1.0,1.0,1.0,1.0,1.0,1.0,1.0,1.0,1.0,1.0,1.0,1.0,1.0,1.0,1.0,1.0,1.0,1.0,1.0,1.0,1.0,1.0,1.0,1.0,1.0,1.0,1.0,1.0,1.0,1.0,1.0,1.0,1.0,1.0,1.0,1.0,1.0,1.0,1.0,1.0,1.0,1.0,1.0,1.0,1.0,1.0,1.0,1.0,1.0,1.0,1.0,1.0,1.0,1.0,1.0,1.0,1.0,1.0,1.0,1.0,1.0,1.0,1.0,1.0,1.0])\n",
            "Indices :  [627, 628, 629, 630, 631, 632, 633, 634, 635, 636, 637, 638, 639, 640, 641, 642, 643, 644, 645, 646, 647, 648, 649, 650, 651, 652, 653, 654, 655, 656, 657, 658, 659, 660, 661, 662, 663, 664, 665, 666, 667, 1679, 2040, 2041, 2042, 2043, 2044, 2045, 2046, 2047, 2048, 2049, 2050, 2051, 2052, 2053, 2054, 2055, 2056, 2057, 2058, 2059, 2060, 2061, 2062, 2063, 2064, 2065, 2066, 2067, 2068, 2069, 2070, 2071, 2072, 2073, 2074, 2075, 2076, 2077, 2078, 2079, 2080, 2081, 2082, 2083, 2084, 2085]\n",
            "\n",
            "Customer ID: 151435\n",
            "Sparse Vector: (2859,[85,170,464,668,669,670,671,672,673,674,675,676,677,678,679,680,681,682,683,684,685,686,687,688,689,690,691,692,693,694,695,696,697,1453,1557,1558,1560,1567,1571,1575,1586,1587,1933,2086,2087,2088,2089,2090,2091,2092,2093,2094,2095,2096,2097,2098,2099,2100,2101,2102,2103,2104,2105,2106,2107,2108,2109,2110,2111,2112,2113,2114,2115,2116,2117,2118,2119,2120,2121,2122,2123,2124,2125,2126],[1.0,1.0,1.0,1.0,1.0,1.0,1.0,1.0,1.0,1.0,1.0,1.0,1.0,1.0,1.0,1.0,1.0,1.0,1.0,1.0,1.0,1.0,1.0,1.0,1.0,1.0,1.0,1.0,1.0,1.0,1.0,1.0,1.0,1.0,1.0,1.0,1.0,1.0,1.0,1.0,1.0,1.0,1.0,1.0,1.0,1.0,1.0,1.0,1.0,1.0,1.0,1.0,1.0,1.0,1.0,1.0,1.0,1.0,1.0,1.0,1.0,1.0,1.0,1.0,1.0,1.0,1.0,1.0,1.0,1.0,1.0,1.0,1.0,1.0,1.0,1.0,1.0,1.0,1.0,1.0,1.0,1.0,1.0,1.0])\n",
            "Indices :  [85, 170, 464, 668, 669, 670, 671, 672, 673, 674, 675, 676, 677, 678, 679, 680, 681, 682, 683, 684, 685, 686, 687, 688, 689, 690, 691, 692, 693, 694, 695, 696, 697, 1453, 1557, 1558, 1560, 1567, 1571, 1575, 1586, 1587, 1933, 2086, 2087, 2088, 2089, 2090, 2091, 2092, 2093, 2094, 2095, 2096, 2097, 2098, 2099, 2100, 2101, 2102, 2103, 2104, 2105, 2106, 2107, 2108, 2109, 2110, 2111, 2112, 2113, 2114, 2115, 2116, 2117, 2118, 2119, 2120, 2121, 2122, 2123, 2124, 2125, 2126]\n",
            "\n",
            "Customer ID: 154591\n",
            "Sparse Vector: (2859,[545,698,699,700,701,702,703,704,705,706,707,708,709,710,711,712,713,714,715,716,717,718,719,720,721,722,723,724,725,726,727,728,729,730,731,2116,2127,2128,2129,2130,2131,2132,2133,2134,2135,2136,2137,2138,2139,2140,2141,2142,2143,2144,2145,2146,2147,2148,2149,2150,2151,2152,2153,2154,2155,2156,2157,2158],[1.0,1.0,1.0,1.0,1.0,1.0,1.0,1.0,1.0,1.0,1.0,1.0,1.0,1.0,1.0,1.0,1.0,1.0,1.0,1.0,1.0,1.0,1.0,1.0,1.0,1.0,1.0,1.0,1.0,1.0,1.0,1.0,1.0,1.0,1.0,1.0,1.0,1.0,1.0,1.0,1.0,1.0,1.0,1.0,1.0,1.0,1.0,1.0,1.0,1.0,1.0,1.0,1.0,1.0,1.0,1.0,1.0,1.0,1.0,1.0,1.0,1.0,1.0,1.0,1.0,1.0,1.0,1.0])\n",
            "Indices :  [545, 698, 699, 700, 701, 702, 703, 704, 705, 706, 707, 708, 709, 710, 711, 712, 713, 714, 715, 716, 717, 718, 719, 720, 721, 722, 723, 724, 725, 726, 727, 728, 729, 730, 731, 2116, 2127, 2128, 2129, 2130, 2131, 2132, 2133, 2134, 2135, 2136, 2137, 2138, 2139, 2140, 2141, 2142, 2143, 2144, 2145, 2146, 2147, 2148, 2149, 2150, 2151, 2152, 2153, 2154, 2155, 2156, 2157, 2158]\n",
            "\n",
            "Customer ID: 158116\n",
            "Sparse Vector: (2859,[732,733,734,735,736,737,738,739,740,741,742,743,2159,2160,2161,2162,2163,2164,2165,2166,2167,2168,2169],[1.0,1.0,1.0,1.0,1.0,1.0,1.0,1.0,1.0,1.0,1.0,1.0,1.0,1.0,1.0,1.0,1.0,1.0,1.0,1.0,1.0,1.0,1.0])\n",
            "Indices :  [732, 733, 734, 735, 736, 737, 738, 739, 740, 741, 742, 743, 2159, 2160, 2161, 2162, 2163, 2164, 2165, 2166, 2167, 2168, 2169]\n",
            "\n",
            "Customer ID: 162950\n",
            "Sparse Vector: (2859,[649,744,745,746,747,748,749,750,751,752,753,754,755,756,757,758,759,760,761,762,763,764,765,766,767,768,769,770,771,2170,2171,2172,2173,2174,2175,2176,2177,2178,2179,2180,2181,2182,2183,2184,2185,2186,2187,2188,2189,2190,2191,2192,2193,2194,2195,2196,2197],[1.0,1.0,1.0,1.0,1.0,1.0,1.0,1.0,1.0,1.0,1.0,1.0,1.0,1.0,1.0,1.0,1.0,1.0,1.0,1.0,1.0,1.0,1.0,1.0,1.0,1.0,1.0,1.0,1.0,1.0,1.0,1.0,1.0,1.0,1.0,1.0,1.0,1.0,1.0,1.0,1.0,1.0,1.0,1.0,1.0,1.0,1.0,1.0,1.0,1.0,1.0,1.0,1.0,1.0,1.0,1.0,1.0])\n",
            "Indices :  [649, 744, 745, 746, 747, 748, 749, 750, 751, 752, 753, 754, 755, 756, 757, 758, 759, 760, 761, 762, 763, 764, 765, 766, 767, 768, 769, 770, 771, 2170, 2171, 2172, 2173, 2174, 2175, 2176, 2177, 2178, 2179, 2180, 2181, 2182, 2183, 2184, 2185, 2186, 2187, 2188, 2189, 2190, 2191, 2192, 2193, 2194, 2195, 2196, 2197]\n",
            "\n",
            "Customer ID: 168004\n",
            "Sparse Vector: (2859,[53,83,772,773,774,775,776,777,778,779,780,781,782,783,784,785,786,787,788,789,790,791,792,793,794,1485,1493,2051,2198,2199,2200,2201,2202,2203,2204,2205,2206,2207,2208,2209,2210,2211,2212,2213,2214,2215,2216,2217,2218,2219,2220,2221],[1.0,1.0,1.0,1.0,1.0,1.0,1.0,1.0,1.0,1.0,1.0,1.0,1.0,1.0,1.0,1.0,1.0,1.0,1.0,1.0,1.0,1.0,1.0,1.0,1.0,1.0,1.0,1.0,1.0,1.0,1.0,1.0,1.0,1.0,1.0,1.0,1.0,1.0,1.0,1.0,1.0,1.0,1.0,1.0,1.0,1.0,1.0,1.0,1.0,1.0,1.0,1.0])\n",
            "Indices :  [53, 83, 772, 773, 774, 775, 776, 777, 778, 779, 780, 781, 782, 783, 784, 785, 786, 787, 788, 789, 790, 791, 792, 793, 794, 1485, 1493, 2051, 2198, 2199, 2200, 2201, 2202, 2203, 2204, 2205, 2206, 2207, 2208, 2209, 2210, 2211, 2212, 2213, 2214, 2215, 2216, 2217, 2218, 2219, 2220, 2221]\n",
            "\n",
            "Customer ID: 175620\n",
            "Sparse Vector: (2859,[795,796,797,798,799,800,801,802,803,804,2222,2223,2224,2225,2226,2227,2228,2229,2230,2231,2232],[1.0,1.0,1.0,1.0,1.0,1.0,1.0,1.0,1.0,1.0,1.0,1.0,1.0,1.0,1.0,1.0,1.0,1.0,1.0,1.0,1.0])\n",
            "Indices :  [795, 796, 797, 798, 799, 800, 801, 802, 803, 804, 2222, 2223, 2224, 2225, 2226, 2227, 2228, 2229, 2230, 2231, 2232]\n",
            "\n",
            "Customer ID: 179901\n",
            "Sparse Vector: (2859,[644,648,650,652,661,805,806,807,808,809,810,811,812,813,814,815,816,817,818,819,820,821,822,823,824,825,826,827,828,829,830,831,832,833,834,835,836,837,838,2118,2233,2234,2235,2236,2237,2238,2239,2240,2241,2242,2243,2244,2245,2246,2247,2248,2249,2250,2251,2252,2253,2254,2255,2256,2257,2258,2259,2260,2261,2262],[1.0,1.0,1.0,1.0,1.0,1.0,1.0,1.0,1.0,1.0,1.0,1.0,1.0,1.0,1.0,1.0,1.0,1.0,1.0,1.0,1.0,1.0,1.0,1.0,1.0,1.0,1.0,1.0,1.0,1.0,1.0,1.0,1.0,1.0,1.0,1.0,1.0,1.0,1.0,1.0,1.0,1.0,1.0,1.0,1.0,1.0,1.0,1.0,1.0,1.0,1.0,1.0,1.0,1.0,1.0,1.0,1.0,1.0,1.0,1.0,1.0,1.0,1.0,1.0,1.0,1.0,1.0,1.0,1.0,1.0])\n",
            "Indices :  [644, 648, 650, 652, 661, 805, 806, 807, 808, 809, 810, 811, 812, 813, 814, 815, 816, 817, 818, 819, 820, 821, 822, 823, 824, 825, 826, 827, 828, 829, 830, 831, 832, 833, 834, 835, 836, 837, 838, 2118, 2233, 2234, 2235, 2236, 2237, 2238, 2239, 2240, 2241, 2242, 2243, 2244, 2245, 2246, 2247, 2248, 2249, 2250, 2251, 2252, 2253, 2254, 2255, 2256, 2257, 2258, 2259, 2260, 2261, 2262]\n",
            "\n",
            "Customer ID: 189981\n",
            "Sparse Vector: (2859,[839,840,841,842,843,844,845,846,847,848,849,850,851,852,853,854,855,856,857,858,859,860,861,2263,2264,2265,2266,2267,2268,2269,2270,2271,2272,2273,2274,2275,2276,2277,2278,2279,2280,2281,2282,2283,2284,2285,2286,2287,2288,2289,2290,2291,2292,2293,2294,2295,2296,2297,2298,2299,2300,2301,2302,2303],[1.0,1.0,1.0,1.0,1.0,1.0,1.0,1.0,1.0,1.0,1.0,1.0,1.0,1.0,1.0,1.0,1.0,1.0,1.0,1.0,1.0,1.0,1.0,1.0,1.0,1.0,1.0,1.0,1.0,1.0,1.0,1.0,1.0,1.0,1.0,1.0,1.0,1.0,1.0,1.0,1.0,1.0,1.0,1.0,1.0,1.0,1.0,1.0,1.0,1.0,1.0,1.0,1.0,1.0,1.0,1.0,1.0,1.0,1.0,1.0,1.0,1.0,1.0,1.0])\n",
            "Indices :  [839, 840, 841, 842, 843, 844, 845, 846, 847, 848, 849, 850, 851, 852, 853, 854, 855, 856, 857, 858, 859, 860, 861, 2263, 2264, 2265, 2266, 2267, 2268, 2269, 2270, 2271, 2272, 2273, 2274, 2275, 2276, 2277, 2278, 2279, 2280, 2281, 2282, 2283, 2284, 2285, 2286, 2287, 2288, 2289, 2290, 2291, 2292, 2293, 2294, 2295, 2296, 2297, 2298, 2299, 2300, 2301, 2302, 2303]\n",
            "\n",
            "Customer ID: 192388\n",
            "Sparse Vector: (2859,[862,863,864,865,866,867,2304,2305,2306,2307,2308,2309,2310,2311,2312,2313],[1.0,1.0,1.0,1.0,1.0,1.0,1.0,1.0,1.0,1.0,1.0,1.0,1.0,1.0,1.0,1.0])\n",
            "Indices :  [862, 863, 864, 865, 866, 867, 2304, 2305, 2306, 2307, 2308, 2309, 2310, 2311, 2312, 2313]\n",
            "\n",
            "Customer ID: 194377\n",
            "Sparse Vector: (2859,[868,869,870,2314],[1.0,1.0,1.0,1.0])\n",
            "Indices :  [868, 869, 870, 2314]\n",
            "\n",
            "Customer ID: 194643\n",
            "Sparse Vector: (2859,[85,416,871,872,873,874,875,876,877,878,879,880,881,882,883,884,885,886,887,888,889,890,891,892,893,894,895,896,897,898,899,900,901,902,903,904,905,906,907,908,909,1585,2311,2312,2315,2316,2317,2318,2319,2320,2321,2322,2323,2324,2325,2326,2327,2328,2329,2330,2331,2332,2333,2334,2335,2336,2337,2338,2339,2340,2341,2342,2343,2344,2345,2346,2347,2348,2349,2350,2351,2352,2353,2354,2355,2356,2357,2358],[1.0,1.0,1.0,1.0,1.0,1.0,1.0,1.0,1.0,1.0,1.0,1.0,1.0,1.0,1.0,1.0,1.0,1.0,1.0,1.0,1.0,1.0,1.0,1.0,1.0,1.0,1.0,1.0,1.0,1.0,1.0,1.0,1.0,1.0,1.0,1.0,1.0,1.0,1.0,1.0,1.0,1.0,1.0,1.0,1.0,1.0,1.0,1.0,1.0,1.0,1.0,1.0,1.0,1.0,1.0,1.0,1.0,1.0,1.0,1.0,1.0,1.0,1.0,1.0,1.0,1.0,1.0,1.0,1.0,1.0,1.0,1.0,1.0,1.0,1.0,1.0,1.0,1.0,1.0,1.0,1.0,1.0,1.0,1.0,1.0,1.0,1.0,1.0])\n",
            "Indices :  [85, 416, 871, 872, 873, 874, 875, 876, 877, 878, 879, 880, 881, 882, 883, 884, 885, 886, 887, 888, 889, 890, 891, 892, 893, 894, 895, 896, 897, 898, 899, 900, 901, 902, 903, 904, 905, 906, 907, 908, 909, 1585, 2311, 2312, 2315, 2316, 2317, 2318, 2319, 2320, 2321, 2322, 2323, 2324, 2325, 2326, 2327, 2328, 2329, 2330, 2331, 2332, 2333, 2334, 2335, 2336, 2337, 2338, 2339, 2340, 2341, 2342, 2343, 2344, 2345, 2346, 2347, 2348, 2349, 2350, 2351, 2352, 2353, 2354, 2355, 2356, 2357, 2358]\n",
            "\n",
            "Customer ID: 194732\n",
            "Sparse Vector: (2859,[910,911,912,913,914,915,916,917,918,919,920,921,922,923,924,925,926,927,928,929,930,931,932,933,934,935,936,937,938,939,940,941,942,943,944,945,946,947,948,949,950,951,952,953,954,955,956,957,958,959,960,2359,2360,2361,2362,2363,2364,2365,2366,2367,2368,2369,2370,2371,2372,2373,2374,2375,2376,2377,2378,2379,2380,2381,2382,2383,2384,2385,2386,2387,2388,2389,2390,2391,2392,2393,2394,2395,2396,2397,2398,2399,2400],[1.0,1.0,1.0,1.0,1.0,1.0,1.0,1.0,1.0,1.0,1.0,1.0,1.0,1.0,1.0,1.0,1.0,1.0,1.0,1.0,1.0,1.0,1.0,1.0,1.0,1.0,1.0,1.0,1.0,1.0,1.0,1.0,1.0,1.0,1.0,1.0,1.0,1.0,1.0,1.0,1.0,1.0,1.0,1.0,1.0,1.0,1.0,1.0,1.0,1.0,1.0,1.0,1.0,1.0,1.0,1.0,1.0,1.0,1.0,1.0,1.0,1.0,1.0,1.0,1.0,1.0,1.0,1.0,1.0,1.0,1.0,1.0,1.0,1.0,1.0,1.0,1.0,1.0,1.0,1.0,1.0,1.0,1.0,1.0,1.0,1.0,1.0,1.0,1.0,1.0,1.0,1.0,1.0])\n",
            "Indices :  [910, 911, 912, 913, 914, 915, 916, 917, 918, 919, 920, 921, 922, 923, 924, 925, 926, 927, 928, 929, 930, 931, 932, 933, 934, 935, 936, 937, 938, 939, 940, 941, 942, 943, 944, 945, 946, 947, 948, 949, 950, 951, 952, 953, 954, 955, 956, 957, 958, 959, 960, 2359, 2360, 2361, 2362, 2363, 2364, 2365, 2366, 2367, 2368, 2369, 2370, 2371, 2372, 2373, 2374, 2375, 2376, 2377, 2378, 2379, 2380, 2381, 2382, 2383, 2384, 2385, 2386, 2387, 2388, 2389, 2390, 2391, 2392, 2393, 2394, 2395, 2396, 2397, 2398, 2399, 2400]\n",
            "\n",
            "Customer ID: 197639\n",
            "Sparse Vector: (2859,[961,962,2401,2402],[1.0,1.0,1.0,1.0])\n",
            "Indices :  [961, 962, 2401, 2402]\n",
            "\n",
            "Customer ID: 199642\n",
            "Sparse Vector: (2859,[963,964,965,966,967,968,969,970,971,972,973,974,975,976,977,978,979,980,981,982,983,984,985,986,987,1502,1847,2101,2403,2404,2405,2406,2407,2408,2409,2410,2411,2412,2413,2414,2415,2416,2417,2418,2419,2420,2421,2422,2423,2424,2425,2426,2427,2428,2429,2430,2431,2432,2433,2434,2435,2436,2437,2438,2439,2440,2441,2442,2443,2444],[1.0,1.0,1.0,1.0,1.0,1.0,1.0,1.0,1.0,1.0,1.0,1.0,1.0,1.0,1.0,1.0,1.0,1.0,1.0,1.0,1.0,1.0,1.0,1.0,1.0,1.0,1.0,1.0,1.0,1.0,1.0,1.0,1.0,1.0,1.0,1.0,1.0,1.0,1.0,1.0,1.0,1.0,1.0,1.0,1.0,1.0,1.0,1.0,1.0,1.0,1.0,1.0,1.0,1.0,1.0,1.0,1.0,1.0,1.0,1.0,1.0,1.0,1.0,1.0,1.0,1.0,1.0,1.0,1.0,1.0])\n",
            "Indices :  [963, 964, 965, 966, 967, 968, 969, 970, 971, 972, 973, 974, 975, 976, 977, 978, 979, 980, 981, 982, 983, 984, 985, 986, 987, 1502, 1847, 2101, 2403, 2404, 2405, 2406, 2407, 2408, 2409, 2410, 2411, 2412, 2413, 2414, 2415, 2416, 2417, 2418, 2419, 2420, 2421, 2422, 2423, 2424, 2425, 2426, 2427, 2428, 2429, 2430, 2431, 2432, 2433, 2434, 2435, 2436, 2437, 2438, 2439, 2440, 2441, 2442, 2443, 2444]\n",
            "\n",
            "Customer ID: 200950\n",
            "Sparse Vector: (2859,[988,989,990,991,992,993,994,995,2445,2446,2447,2448,2449,2450],[1.0,1.0,1.0,1.0,1.0,1.0,1.0,1.0,1.0,1.0,1.0,1.0,1.0,1.0])\n",
            "Indices :  [988, 989, 990, 991, 992, 993, 994, 995, 2445, 2446, 2447, 2448, 2449, 2450]\n",
            "\n",
            "Customer ID: 204947\n",
            "Sparse Vector: (2859,[996,997,998,999,1000,1001,1002,1003,1004,2451,2452,2453,2454,2455,2456,2457],[1.0,1.0,1.0,1.0,1.0,1.0,1.0,1.0,1.0,1.0,1.0,1.0,1.0,1.0,1.0,1.0])\n",
            "Indices :  [996, 997, 998, 999, 1000, 1001, 1002, 1003, 1004, 2451, 2452, 2453, 2454, 2455, 2456, 2457]\n",
            "\n",
            "Customer ID: 215481\n",
            "Sparse Vector: (2859,[458,466,1005,1868,1870,1872,2458,2459,2460,2461,2462,2463,2464,2465,2466,2467,2468,2469,2470,2471],[1.0,1.0,1.0,1.0,1.0,1.0,1.0,1.0,1.0,1.0,1.0,1.0,1.0,1.0,1.0,1.0,1.0,1.0,1.0,1.0])\n",
            "Indices :  [458, 466, 1005, 1868, 1870, 1872, 2458, 2459, 2460, 2461, 2462, 2463, 2464, 2465, 2466, 2467, 2468, 2469, 2470, 2471]\n",
            "\n",
            "Customer ID: 218370\n",
            "Sparse Vector: (2859,[24,29,1006,1007,1008,1009,1010,1011,1012,1013,1014,1015,1463,2472,2473,2474,2475],[1.0,1.0,1.0,1.0,1.0,1.0,1.0,1.0,1.0,1.0,1.0,1.0,1.0,1.0,1.0,1.0,1.0])\n",
            "Indices :  [24, 29, 1006, 1007, 1008, 1009, 1010, 1011, 1012, 1013, 1014, 1015, 1463, 2472, 2473, 2474, 2475]\n",
            "\n",
            "Customer ID: 222580\n",
            "Sparse Vector: (2859,[419,714,1016,1017,1018,1019,1020,1021,1022,1023,1024,1025,1026,1027,1028,1029,1030,1031,1032,1033,1034,1035,1036,1037,1038,1039,1040,1041,1042,1043,1044,1045,1046,1047,1048,1049,1050,1051,1052,1053,1054,1055,1056,1057,1842,2115,2476,2477,2478,2479,2480,2481,2482,2483,2484,2485,2486,2487,2488,2489,2490,2491,2492,2493,2494,2495,2496,2497,2498,2499,2500,2501,2502,2503,2504,2505,2506,2507,2508,2509,2510,2511,2512],[1.0,1.0,1.0,1.0,1.0,1.0,1.0,1.0,1.0,1.0,1.0,1.0,1.0,1.0,1.0,1.0,1.0,1.0,1.0,1.0,1.0,1.0,1.0,1.0,1.0,1.0,1.0,1.0,1.0,1.0,1.0,1.0,1.0,1.0,1.0,1.0,1.0,1.0,1.0,1.0,1.0,1.0,1.0,1.0,1.0,1.0,1.0,1.0,1.0,1.0,1.0,1.0,1.0,1.0,1.0,1.0,1.0,1.0,1.0,1.0,1.0,1.0,1.0,1.0,1.0,1.0,1.0,1.0,1.0,1.0,1.0,1.0,1.0,1.0,1.0,1.0,1.0,1.0,1.0,1.0,1.0,1.0,1.0])\n",
            "Indices :  [419, 714, 1016, 1017, 1018, 1019, 1020, 1021, 1022, 1023, 1024, 1025, 1026, 1027, 1028, 1029, 1030, 1031, 1032, 1033, 1034, 1035, 1036, 1037, 1038, 1039, 1040, 1041, 1042, 1043, 1044, 1045, 1046, 1047, 1048, 1049, 1050, 1051, 1052, 1053, 1054, 1055, 1056, 1057, 1842, 2115, 2476, 2477, 2478, 2479, 2480, 2481, 2482, 2483, 2484, 2485, 2486, 2487, 2488, 2489, 2490, 2491, 2492, 2493, 2494, 2495, 2496, 2497, 2498, 2499, 2500, 2501, 2502, 2503, 2504, 2505, 2506, 2507, 2508, 2509, 2510, 2511, 2512]\n",
            "\n",
            "Customer ID: 231071\n",
            "Sparse Vector: (2859,[1058,1059,1060,1061,1062,1063,1064,1065,1066,1067,1068,1069,1070,1071,1072,1073,1074,1075,1076,1077,1078,1079,1080,1081,1082,1083,1084,1085,1086,1087,1088,1089,1090,1091,1092,1093,1094,1095,1096,1097,1098,1099,1100,1101,2513,2514,2515,2516,2517,2518,2519,2520,2521,2522,2523,2524,2525,2526,2527,2528,2529,2530,2531,2532,2533,2534,2535,2536,2537,2538,2539,2540,2541,2542,2543,2544,2545,2546,2547,2548,2549,2550,2551,2552,2553,2554,2555,2556,2557,2558,2559,2560,2561,2562],[1.0,1.0,1.0,1.0,1.0,1.0,1.0,1.0,1.0,1.0,1.0,1.0,1.0,1.0,1.0,1.0,1.0,1.0,1.0,1.0,1.0,1.0,1.0,1.0,1.0,1.0,1.0,1.0,1.0,1.0,1.0,1.0,1.0,1.0,1.0,1.0,1.0,1.0,1.0,1.0,1.0,1.0,1.0,1.0,1.0,1.0,1.0,1.0,1.0,1.0,1.0,1.0,1.0,1.0,1.0,1.0,1.0,1.0,1.0,1.0,1.0,1.0,1.0,1.0,1.0,1.0,1.0,1.0,1.0,1.0,1.0,1.0,1.0,1.0,1.0,1.0,1.0,1.0,1.0,1.0,1.0,1.0,1.0,1.0,1.0,1.0,1.0,1.0,1.0,1.0,1.0,1.0,1.0,1.0])\n",
            "Indices :  [1058, 1059, 1060, 1061, 1062, 1063, 1064, 1065, 1066, 1067, 1068, 1069, 1070, 1071, 1072, 1073, 1074, 1075, 1076, 1077, 1078, 1079, 1080, 1081, 1082, 1083, 1084, 1085, 1086, 1087, 1088, 1089, 1090, 1091, 1092, 1093, 1094, 1095, 1096, 1097, 1098, 1099, 1100, 1101, 2513, 2514, 2515, 2516, 2517, 2518, 2519, 2520, 2521, 2522, 2523, 2524, 2525, 2526, 2527, 2528, 2529, 2530, 2531, 2532, 2533, 2534, 2535, 2536, 2537, 2538, 2539, 2540, 2541, 2542, 2543, 2544, 2545, 2546, 2547, 2548, 2549, 2550, 2551, 2552, 2553, 2554, 2555, 2556, 2557, 2558, 2559, 2560, 2561, 2562]\n",
            "\n",
            "Customer ID: 231983\n",
            "Sparse Vector: (2859,[1102,1103,2563],[1.0,1.0,1.0])\n",
            "Indices :  [1102, 1103, 2563]\n",
            "\n",
            "Customer ID: 233647\n",
            "Sparse Vector: (2859,[368,370,371,377,381,771,904,1104,1105,1106,1107,1108,1109,1110,1111,1112,1113,1114,1115,1116,1117,1118,1119,1120,1121,1122,1123,1124,1125,1126,1127,1128,1129,1130,1131,1132,1133,1134,1135,1136,1137,1784,1788,1794,2330,2564,2565,2566,2567,2568,2569,2570,2571,2572,2573,2574,2575,2576,2577,2578,2579,2580,2581,2582,2583,2584,2585,2586,2587,2588,2589,2590,2591],[1.0,1.0,1.0,1.0,1.0,1.0,1.0,1.0,1.0,1.0,1.0,1.0,1.0,1.0,1.0,1.0,1.0,1.0,1.0,1.0,1.0,1.0,1.0,1.0,1.0,1.0,1.0,1.0,1.0,1.0,1.0,1.0,1.0,1.0,1.0,1.0,1.0,1.0,1.0,1.0,1.0,1.0,1.0,1.0,1.0,1.0,1.0,1.0,1.0,1.0,1.0,1.0,1.0,1.0,1.0,1.0,1.0,1.0,1.0,1.0,1.0,1.0,1.0,1.0,1.0,1.0,1.0,1.0,1.0,1.0,1.0,1.0,1.0])\n",
            "Indices :  [368, 370, 371, 377, 381, 771, 904, 1104, 1105, 1106, 1107, 1108, 1109, 1110, 1111, 1112, 1113, 1114, 1115, 1116, 1117, 1118, 1119, 1120, 1121, 1122, 1123, 1124, 1125, 1126, 1127, 1128, 1129, 1130, 1131, 1132, 1133, 1134, 1135, 1136, 1137, 1784, 1788, 1794, 2330, 2564, 2565, 2566, 2567, 2568, 2569, 2570, 2571, 2572, 2573, 2574, 2575, 2576, 2577, 2578, 2579, 2580, 2581, 2582, 2583, 2584, 2585, 2586, 2587, 2588, 2589, 2590, 2591]\n",
            "\n",
            "Customer ID: 237741\n",
            "Sparse Vector: (2859,[1138,1139,1140,1141,1142,1143,1144,1145,1146,2592,2593,2594,2595,2596],[1.0,1.0,1.0,1.0,1.0,1.0,1.0,1.0,1.0,1.0,1.0,1.0,1.0,1.0])\n",
            "Indices :  [1138, 1139, 1140, 1141, 1142, 1143, 1144, 1145, 1146, 2592, 2593, 2594, 2595, 2596]\n",
            "\n",
            "Customer ID: 237810\n",
            "Sparse Vector: (2859,[69,433,1147,1148,1149,1150,1151,1152,1153,1154,1588,1847,2597,2598,2599,2600],[1.0,1.0,1.0,1.0,1.0,1.0,1.0,1.0,1.0,1.0,1.0,1.0,1.0,1.0,1.0,1.0])\n",
            "Indices :  [69, 433, 1147, 1148, 1149, 1150, 1151, 1152, 1153, 1154, 1588, 1847, 2597, 2598, 2599, 2600]\n",
            "\n",
            "Customer ID: 244365\n",
            "Sparse Vector: (2859,[1155,1156,1157,1158,1159,1160,1161,1162,1163,1164,1165,1166,1167,1168,1169,1170,1171,1172,1173,1174,1175,1176,1177,1178,1179,1180,1181,1182,1183,1184,1185,1186,1187,1188,1189,1190,1191,1192,1193,1194,1195,1196,1197,1198,1199,1200,2601,2602,2603,2604,2605,2606,2607,2608,2609,2610,2611,2612,2613,2614,2615,2616,2617,2618,2619,2620,2621,2622,2623,2624,2625,2626,2627,2628,2629,2630,2631,2632,2633,2634,2635,2636,2637,2638,2639,2640,2641,2642,2643,2644,2645],[1.0,1.0,1.0,1.0,1.0,1.0,1.0,1.0,1.0,1.0,1.0,1.0,1.0,1.0,1.0,1.0,1.0,1.0,1.0,1.0,1.0,1.0,1.0,1.0,1.0,1.0,1.0,1.0,1.0,1.0,1.0,1.0,1.0,1.0,1.0,1.0,1.0,1.0,1.0,1.0,1.0,1.0,1.0,1.0,1.0,1.0,1.0,1.0,1.0,1.0,1.0,1.0,1.0,1.0,1.0,1.0,1.0,1.0,1.0,1.0,1.0,1.0,1.0,1.0,1.0,1.0,1.0,1.0,1.0,1.0,1.0,1.0,1.0,1.0,1.0,1.0,1.0,1.0,1.0,1.0,1.0,1.0,1.0,1.0,1.0,1.0,1.0,1.0,1.0,1.0,1.0])\n",
            "Indices :  [1155, 1156, 1157, 1158, 1159, 1160, 1161, 1162, 1163, 1164, 1165, 1166, 1167, 1168, 1169, 1170, 1171, 1172, 1173, 1174, 1175, 1176, 1177, 1178, 1179, 1180, 1181, 1182, 1183, 1184, 1185, 1186, 1187, 1188, 1189, 1190, 1191, 1192, 1193, 1194, 1195, 1196, 1197, 1198, 1199, 1200, 2601, 2602, 2603, 2604, 2605, 2606, 2607, 2608, 2609, 2610, 2611, 2612, 2613, 2614, 2615, 2616, 2617, 2618, 2619, 2620, 2621, 2622, 2623, 2624, 2625, 2626, 2627, 2628, 2629, 2630, 2631, 2632, 2633, 2634, 2635, 2636, 2637, 2638, 2639, 2640, 2641, 2642, 2643, 2644, 2645]\n",
            "\n",
            "Customer ID: 250802\n",
            "Sparse Vector: (2859,[1201,1202,1203,2646,2647,2648,2649,2650,2651,2652,2653,2654],[1.0,1.0,1.0,1.0,1.0,1.0,1.0,1.0,1.0,1.0,1.0,1.0])\n",
            "Indices :  [1201, 1202, 1203, 2646, 2647, 2648, 2649, 2650, 2651, 2652, 2653, 2654]\n",
            "\n",
            "Customer ID: 254648\n",
            "Sparse Vector: (2859,[24,27,1204,1205,1206,1207,1208,1209,1210,1463,2655,2656],[1.0,1.0,1.0,1.0,1.0,1.0,1.0,1.0,1.0,1.0,1.0,1.0])\n",
            "Indices :  [24, 27, 1204, 1205, 1206, 1207, 1208, 1209, 1210, 1463, 2655, 2656]\n",
            "\n",
            "Customer ID: 260333\n",
            "Sparse Vector: (2859,[293,294,296,299,304,316,1211,1212,1213,1214,1215,1216,1708,1709,1710,1712,1721,1723,2657,2658,2659,2660],[1.0,1.0,1.0,1.0,1.0,1.0,1.0,1.0,1.0,1.0,1.0,1.0,1.0,1.0,1.0,1.0,1.0,1.0,1.0,1.0,1.0,1.0])\n",
            "Indices :  [293, 294, 296, 299, 304, 316, 1211, 1212, 1213, 1214, 1215, 1216, 1708, 1709, 1710, 1712, 1721, 1723, 2657, 2658, 2659, 2660]\n",
            "\n",
            "Customer ID: 262848\n",
            "Sparse Vector: (2859,[52,76,481,490,510,869,888,1217,1218,1219,1220,1221,1222,1223,1224,1225,1226,1227,1228,1229,1230,1231,1232,1233,1234,1235,1236,1237,1238,1239,1240,1241,1242,1243,1244,1245,1246,1247,1248,1249,1250,1903,1924,2070,2661,2662,2663,2664,2665,2666,2667,2668,2669,2670,2671,2672,2673,2674,2675,2676,2677,2678,2679,2680,2681,2682,2683,2684,2685,2686,2687,2688],[1.0,1.0,1.0,1.0,1.0,1.0,1.0,1.0,1.0,1.0,1.0,1.0,1.0,1.0,1.0,1.0,1.0,1.0,1.0,1.0,1.0,1.0,1.0,1.0,1.0,1.0,1.0,1.0,1.0,1.0,1.0,1.0,1.0,1.0,1.0,1.0,1.0,1.0,1.0,1.0,1.0,1.0,1.0,1.0,1.0,1.0,1.0,1.0,1.0,1.0,1.0,1.0,1.0,1.0,1.0,1.0,1.0,1.0,1.0,1.0,1.0,1.0,1.0,1.0,1.0,1.0,1.0,1.0,1.0,1.0,1.0,1.0])\n",
            "Indices :  [52, 76, 481, 490, 510, 869, 888, 1217, 1218, 1219, 1220, 1221, 1222, 1223, 1224, 1225, 1226, 1227, 1228, 1229, 1230, 1231, 1232, 1233, 1234, 1235, 1236, 1237, 1238, 1239, 1240, 1241, 1242, 1243, 1244, 1245, 1246, 1247, 1248, 1249, 1250, 1903, 1924, 2070, 2661, 2662, 2663, 2664, 2665, 2666, 2667, 2668, 2669, 2670, 2671, 2672, 2673, 2674, 2675, 2676, 2677, 2678, 2679, 2680, 2681, 2682, 2683, 2684, 2685, 2686, 2687, 2688]\n",
            "\n",
            "Customer ID: 265885\n",
            "Sparse Vector: (2859,[647,649,650,652,660,662,832,1251,1252,1253,1254,1255,1256,1257,1258,1259,1260,1261,1262,1263,1264,1265,1266,1267,1268,1269,1270,1271,1272,1273,1274,1275,1276,1277,1278,1279,1280,1281,1282,1283,1284,1285,1286,1287,1288,1289,1290,1291,1292,1888,2058,2060,2076,2689,2690,2691,2692,2693,2694,2695,2696,2697,2698,2699,2700,2701,2702,2703,2704,2705,2706,2707,2708,2709,2710,2711,2712,2713,2714,2715,2716,2717,2718,2719,2720,2721,2722,2723,2724,2725,2726,2727,2728,2729,2730],[1.0,1.0,1.0,1.0,1.0,1.0,1.0,1.0,1.0,1.0,1.0,1.0,1.0,1.0,1.0,1.0,1.0,1.0,1.0,1.0,1.0,1.0,1.0,1.0,1.0,1.0,1.0,1.0,1.0,1.0,1.0,1.0,1.0,1.0,1.0,1.0,1.0,1.0,1.0,1.0,1.0,1.0,1.0,1.0,1.0,1.0,1.0,1.0,1.0,1.0,1.0,1.0,1.0,1.0,1.0,1.0,1.0,1.0,1.0,1.0,1.0,1.0,1.0,1.0,1.0,1.0,1.0,1.0,1.0,1.0,1.0,1.0,1.0,1.0,1.0,1.0,1.0,1.0,1.0,1.0,1.0,1.0,1.0,1.0,1.0,1.0,1.0,1.0,1.0,1.0,1.0,1.0,1.0,1.0,1.0])\n",
            "Indices :  [647, 649, 650, 652, 660, 662, 832, 1251, 1252, 1253, 1254, 1255, 1256, 1257, 1258, 1259, 1260, 1261, 1262, 1263, 1264, 1265, 1266, 1267, 1268, 1269, 1270, 1271, 1272, 1273, 1274, 1275, 1276, 1277, 1278, 1279, 1280, 1281, 1282, 1283, 1284, 1285, 1286, 1287, 1288, 1289, 1290, 1291, 1292, 1888, 2058, 2060, 2076, 2689, 2690, 2691, 2692, 2693, 2694, 2695, 2696, 2697, 2698, 2699, 2700, 2701, 2702, 2703, 2704, 2705, 2706, 2707, 2708, 2709, 2710, 2711, 2712, 2713, 2714, 2715, 2716, 2717, 2718, 2719, 2720, 2721, 2722, 2723, 2724, 2725, 2726, 2727, 2728, 2729, 2730]\n",
            "\n",
            "Customer ID: 270219\n",
            "Sparse Vector: (2859,[545,707,712,714,720,815,1028,1293,1294,1295,1296,1297,1298,1299,1300,1301,1302,1303,1304,1305,1306,1307,1308,1309,1310,1311,1312,1313,1314,1315,1316,1317,1318,1319,1320,1321,1322,1323,1324,1325,1326,1327,1328,1329,1330,1331,1332,1333,1334,1335,1336,1337,1338,1339,1340,2116,2145,2253,2731,2732,2733,2734,2735,2736,2737,2738,2739,2740,2741,2742,2743,2744,2745,2746,2747,2748,2749,2750,2751,2752,2753,2754,2755,2756,2757,2758,2759,2760,2761,2762,2763,2764,2765,2766,2767,2768,2769,2770,2771,2772],[1.0,1.0,1.0,1.0,1.0,1.0,1.0,1.0,1.0,1.0,1.0,1.0,1.0,1.0,1.0,1.0,1.0,1.0,1.0,1.0,1.0,1.0,1.0,1.0,1.0,1.0,1.0,1.0,1.0,1.0,1.0,1.0,1.0,1.0,1.0,1.0,1.0,1.0,1.0,1.0,1.0,1.0,1.0,1.0,1.0,1.0,1.0,1.0,1.0,1.0,1.0,1.0,1.0,1.0,1.0,1.0,1.0,1.0,1.0,1.0,1.0,1.0,1.0,1.0,1.0,1.0,1.0,1.0,1.0,1.0,1.0,1.0,1.0,1.0,1.0,1.0,1.0,1.0,1.0,1.0,1.0,1.0,1.0,1.0,1.0,1.0,1.0,1.0,1.0,1.0,1.0,1.0,1.0,1.0,1.0,1.0,1.0,1.0,1.0,1.0])\n",
            "Indices :  [545, 707, 712, 714, 720, 815, 1028, 1293, 1294, 1295, 1296, 1297, 1298, 1299, 1300, 1301, 1302, 1303, 1304, 1305, 1306, 1307, 1308, 1309, 1310, 1311, 1312, 1313, 1314, 1315, 1316, 1317, 1318, 1319, 1320, 1321, 1322, 1323, 1324, 1325, 1326, 1327, 1328, 1329, 1330, 1331, 1332, 1333, 1334, 1335, 1336, 1337, 1338, 1339, 1340, 2116, 2145, 2253, 2731, 2732, 2733, 2734, 2735, 2736, 2737, 2738, 2739, 2740, 2741, 2742, 2743, 2744, 2745, 2746, 2747, 2748, 2749, 2750, 2751, 2752, 2753, 2754, 2755, 2756, 2757, 2758, 2759, 2760, 2761, 2762, 2763, 2764, 2765, 2766, 2767, 2768, 2769, 2770, 2771, 2772]\n",
            "\n",
            "Customer ID: 271666\n",
            "Sparse Vector: (2859,[1341,1342,1343,1344,1345,1346,1347,1348,1349,1350,1351,1871,2773,2774,2775,2776,2777,2778,2779,2780,2781,2782],[1.0,1.0,1.0,1.0,1.0,1.0,1.0,1.0,1.0,1.0,1.0,1.0,1.0,1.0,1.0,1.0,1.0,1.0,1.0,1.0,1.0,1.0])\n",
            "Indices :  [1341, 1342, 1343, 1344, 1345, 1346, 1347, 1348, 1349, 1350, 1351, 1871, 2773, 2774, 2775, 2776, 2777, 2778, 2779, 2780, 2781, 2782]\n",
            "\n",
            "Customer ID: 280003\n",
            "Sparse Vector: (2859,[1352,1353,2783,2784,2785],[1.0,1.0,1.0,1.0,1.0])\n",
            "Indices :  [1352, 1353, 2783, 2784, 2785]\n",
            "\n",
            "Customer ID: 281410\n",
            "Sparse Vector: (2859,[1354,1355,1356,2786,2787,2788],[1.0,1.0,1.0,1.0,1.0,1.0])\n",
            "Indices :  [1354, 1355, 1356, 2786, 2787, 2788]\n",
            "\n",
            "Customer ID: 281908\n",
            "Sparse Vector: (2859,[648,1357,1358,1359,1360,1361,1362,1363,1364,2715,2789,2790,2791,2792,2793,2794,2795,2796,2797],[1.0,1.0,1.0,1.0,1.0,1.0,1.0,1.0,1.0,1.0,1.0,1.0,1.0,1.0,1.0,1.0,1.0,1.0,1.0])\n",
            "Indices :  [648, 1357, 1358, 1359, 1360, 1361, 1362, 1363, 1364, 2715, 2789, 2790, 2791, 2792, 2793, 2794, 2795, 2796, 2797]\n",
            "\n",
            "Customer ID: 282953\n",
            "Sparse Vector: (2859,[288,642,1365,1366,1367,1368,1369,1370,1371,1372,1373,1374,1375,1376,1377,1378,1379,1380,1381,1382,1383,1384,1385,1386,1387,1388,1389,1390,1391,1392,1393,1394,1395,1396,1397,1398,2069,2798,2799,2800,2801,2802,2803,2804,2805,2806,2807,2808,2809,2810,2811,2812,2813,2814,2815,2816,2817,2818,2819,2820,2821],[1.0,1.0,1.0,1.0,1.0,1.0,1.0,1.0,1.0,1.0,1.0,1.0,1.0,1.0,1.0,1.0,1.0,1.0,1.0,1.0,1.0,1.0,1.0,1.0,1.0,1.0,1.0,1.0,1.0,1.0,1.0,1.0,1.0,1.0,1.0,1.0,1.0,1.0,1.0,1.0,1.0,1.0,1.0,1.0,1.0,1.0,1.0,1.0,1.0,1.0,1.0,1.0,1.0,1.0,1.0,1.0,1.0,1.0,1.0,1.0,1.0])\n",
            "Indices :  [288, 642, 1365, 1366, 1367, 1368, 1369, 1370, 1371, 1372, 1373, 1374, 1375, 1376, 1377, 1378, 1379, 1380, 1381, 1382, 1383, 1384, 1385, 1386, 1387, 1388, 1389, 1390, 1391, 1392, 1393, 1394, 1395, 1396, 1397, 1398, 2069, 2798, 2799, 2800, 2801, 2802, 2803, 2804, 2805, 2806, 2807, 2808, 2809, 2810, 2811, 2812, 2813, 2814, 2815, 2816, 2817, 2818, 2819, 2820, 2821]\n",
            "\n",
            "Customer ID: 284592\n",
            "Sparse Vector: (2859,[1399,2822,2823,2824],[1.0,1.0,1.0,1.0])\n",
            "Indices :  [1399, 2822, 2823, 2824]\n",
            "\n",
            "Customer ID: 286213\n",
            "Sparse Vector: (2859,[882,888,895,1400,1401,1402,1403,1404,1405,1406,1407,1408,1409,1410,1411,1412,1413,1414,1415,1416,1417,1418,1419,1420,1421,1422,1423,1424,1425,1426,1427,1428,1429,1430,1431,1432,1433,1434,1435,1436,1437,1438,1439,1440,1441,1442,1575,2312,2325,2328,2336,2339,2340,2348,2825,2826,2827,2828,2829,2830,2831,2832,2833,2834,2835,2836,2837,2838,2839,2840,2841,2842,2843,2844,2845,2846,2847,2848,2849,2850,2851,2852,2853,2854,2855,2856,2857,2858],[1.0,1.0,1.0,1.0,1.0,1.0,1.0,1.0,1.0,1.0,1.0,1.0,1.0,1.0,1.0,1.0,1.0,1.0,1.0,1.0,1.0,1.0,1.0,1.0,1.0,1.0,1.0,1.0,1.0,1.0,1.0,1.0,1.0,1.0,1.0,1.0,1.0,1.0,1.0,1.0,1.0,1.0,1.0,1.0,1.0,1.0,1.0,1.0,1.0,1.0,1.0,1.0,1.0,1.0,1.0,1.0,1.0,1.0,1.0,1.0,1.0,1.0,1.0,1.0,1.0,1.0,1.0,1.0,1.0,1.0,1.0,1.0,1.0,1.0,1.0,1.0,1.0,1.0,1.0,1.0,1.0,1.0,1.0,1.0,1.0,1.0,1.0,1.0])\n",
            "Indices :  [882, 888, 895, 1400, 1401, 1402, 1403, 1404, 1405, 1406, 1407, 1408, 1409, 1410, 1411, 1412, 1413, 1414, 1415, 1416, 1417, 1418, 1419, 1420, 1421, 1422, 1423, 1424, 1425, 1426, 1427, 1428, 1429, 1430, 1431, 1432, 1433, 1434, 1435, 1436, 1437, 1438, 1439, 1440, 1441, 1442, 1575, 2312, 2325, 2328, 2336, 2339, 2340, 2348, 2825, 2826, 2827, 2828, 2829, 2830, 2831, 2832, 2833, 2834, 2835, 2836, 2837, 2838, 2839, 2840, 2841, 2842, 2843, 2844, 2845, 2846, 2847, 2848, 2849, 2850, 2851, 2852, 2853, 2854, 2855, 2856, 2857, 2858]\n",
            "\n"
          ]
        },
        {
          "output_type": "execute_result",
          "data": {
            "text/plain": [
              "([818,\n",
              "  6009,\n",
              "  8930,\n",
              "  10300,\n",
              "  16321,\n",
              "  18240,\n",
              "  25239,\n",
              "  29578,\n",
              "  31564,\n",
              "  43584,\n",
              "  63224,\n",
              "  69945,\n",
              "  74501,\n",
              "  79133,\n",
              "  79395,\n",
              "  83734,\n",
              "  83982,\n",
              "  90887,\n",
              "  91443,\n",
              "  93099,\n",
              "  93660,\n",
              "  95209,\n",
              "  99502,\n",
              "  104198,\n",
              "  105820,\n",
              "  107435,\n",
              "  114381,\n",
              "  122745,\n",
              "  126051,\n",
              "  128345,\n",
              "  133680,\n",
              "  134310,\n",
              "  146434,\n",
              "  147447,\n",
              "  147703,\n",
              "  150614,\n",
              "  151435,\n",
              "  154591,\n",
              "  158116,\n",
              "  162950,\n",
              "  168004,\n",
              "  175620,\n",
              "  179901,\n",
              "  189981,\n",
              "  192388,\n",
              "  194377,\n",
              "  194643,\n",
              "  194732,\n",
              "  197639,\n",
              "  199642,\n",
              "  200950,\n",
              "  204947,\n",
              "  215481,\n",
              "  218370,\n",
              "  222580,\n",
              "  231071,\n",
              "  231983,\n",
              "  233647,\n",
              "  237741,\n",
              "  237810,\n",
              "  244365,\n",
              "  250802,\n",
              "  254648,\n",
              "  260333,\n",
              "  262848,\n",
              "  265885,\n",
              "  270219,\n",
              "  271666,\n",
              "  280003,\n",
              "  281410,\n",
              "  281908,\n",
              "  282953,\n",
              "  284592,\n",
              "  286213],\n",
              " [SparseVector(2859, {1: 1.0, 2: 1.0, 3: 1.0, 4: 1.0, 5: 1.0, 6: 1.0, 7: 1.0, 8: 1.0, 9: 1.0, 10: 1.0, 11: 1.0, 12: 1.0, 13: 1.0, 14: 1.0, 15: 1.0, 16: 1.0, 17: 1.0, 1443: 1.0, 1444: 1.0, 1445: 1.0, 1446: 1.0, 1447: 1.0, 1448: 1.0, 1449: 1.0, 1450: 1.0, 1451: 1.0, 1452: 1.0, 1453: 1.0, 1454: 1.0, 1455: 1.0, 1456: 1.0, 1457: 1.0}),\n",
              "  SparseVector(2859, {18: 1.0, 19: 1.0, 20: 1.0, 21: 1.0, 1458: 1.0, 1459: 1.0}),\n",
              "  SparseVector(2859, {22: 1.0, 23: 1.0, 24: 1.0, 25: 1.0, 26: 1.0, 27: 1.0, 28: 1.0, 29: 1.0, 30: 1.0, 31: 1.0, 32: 1.0, 33: 1.0, 34: 1.0, 1460: 1.0, 1461: 1.0, 1462: 1.0, 1463: 1.0, 1464: 1.0, 1465: 1.0, 1466: 1.0, 1467: 1.0, 1468: 1.0, 1469: 1.0, 1470: 1.0}),\n",
              "  SparseVector(2859, {35: 1.0, 36: 1.0, 37: 1.0, 38: 1.0, 39: 1.0, 40: 1.0, 41: 1.0, 42: 1.0, 43: 1.0, 44: 1.0, 45: 1.0, 46: 1.0, 47: 1.0, 48: 1.0, 49: 1.0, 50: 1.0, 51: 1.0, 52: 1.0, 53: 1.0, 54: 1.0, 55: 1.0, 56: 1.0, 57: 1.0, 58: 1.0, 59: 1.0, 60: 1.0, 61: 1.0, 62: 1.0, 63: 1.0, 64: 1.0, 65: 1.0, 66: 1.0, 67: 1.0, 68: 1.0, 69: 1.0, 70: 1.0, 71: 1.0, 72: 1.0, 73: 1.0, 74: 1.0, 75: 1.0, 76: 1.0, 77: 1.0, 78: 1.0, 79: 1.0, 80: 1.0, 81: 1.0, 82: 1.0, 83: 1.0, 84: 1.0, 85: 1.0, 86: 1.0, 87: 1.0, 88: 1.0, 89: 1.0, 90: 1.0, 91: 1.0, 92: 1.0, 93: 1.0, 94: 1.0, 1471: 1.0, 1472: 1.0, 1473: 1.0, 1474: 1.0, 1475: 1.0, 1476: 1.0, 1477: 1.0, 1478: 1.0, 1479: 1.0, 1480: 1.0, 1481: 1.0, 1482: 1.0, 1483: 1.0, 1484: 1.0, 1485: 1.0, 1486: 1.0, 1487: 1.0, 1488: 1.0, 1489: 1.0, 1490: 1.0, 1491: 1.0, 1492: 1.0, 1493: 1.0, 1494: 1.0, 1495: 1.0, 1496: 1.0, 1497: 1.0, 1498: 1.0, 1499: 1.0, 1500: 1.0, 1501: 1.0, 1502: 1.0, 1503: 1.0, 1504: 1.0, 1505: 1.0}),\n",
              "  SparseVector(2859, {95: 1.0, 96: 1.0, 97: 1.0, 98: 1.0, 99: 1.0, 100: 1.0, 101: 1.0, 102: 1.0, 103: 1.0, 104: 1.0, 105: 1.0, 106: 1.0, 107: 1.0, 108: 1.0, 109: 1.0, 110: 1.0, 111: 1.0, 112: 1.0, 1506: 1.0, 1507: 1.0, 1508: 1.0, 1509: 1.0, 1510: 1.0, 1511: 1.0, 1512: 1.0, 1513: 1.0, 1514: 1.0, 1515: 1.0, 1516: 1.0, 1517: 1.0}),\n",
              "  SparseVector(2859, {113: 1.0, 114: 1.0, 115: 1.0, 1518: 1.0, 1519: 1.0, 1520: 1.0, 1521: 1.0, 1522: 1.0, 1523: 1.0, 1524: 1.0, 1525: 1.0, 1526: 1.0, 1527: 1.0}),\n",
              "  SparseVector(2859, {24: 1.0, 116: 1.0, 117: 1.0, 118: 1.0, 119: 1.0, 120: 1.0, 1528: 1.0, 1529: 1.0, 1530: 1.0, 1531: 1.0, 1532: 1.0, 1533: 1.0, 1534: 1.0, 1535: 1.0, 1536: 1.0, 1537: 1.0}),\n",
              "  SparseVector(2859, {121: 1.0, 122: 1.0, 123: 1.0, 124: 1.0, 125: 1.0, 126: 1.0, 127: 1.0, 128: 1.0, 129: 1.0, 130: 1.0, 1538: 1.0, 1539: 1.0, 1540: 1.0, 1541: 1.0, 1542: 1.0}),\n",
              "  SparseVector(2859, {24: 1.0, 1467: 1.0, 1543: 1.0, 1544: 1.0}),\n",
              "  SparseVector(2859, {85: 1.0, 131: 1.0, 132: 1.0, 133: 1.0, 134: 1.0, 135: 1.0, 136: 1.0, 137: 1.0, 138: 1.0, 139: 1.0, 140: 1.0, 141: 1.0, 142: 1.0, 143: 1.0, 144: 1.0, 145: 1.0, 146: 1.0, 147: 1.0, 148: 1.0, 149: 1.0, 150: 1.0, 151: 1.0, 152: 1.0, 153: 1.0, 154: 1.0, 155: 1.0, 156: 1.0, 157: 1.0, 158: 1.0, 159: 1.0, 160: 1.0, 161: 1.0, 162: 1.0, 163: 1.0, 164: 1.0, 165: 1.0, 166: 1.0, 167: 1.0, 168: 1.0, 169: 1.0, 170: 1.0, 1453: 1.0, 1545: 1.0, 1546: 1.0, 1547: 1.0, 1548: 1.0, 1549: 1.0, 1550: 1.0, 1551: 1.0, 1552: 1.0, 1553: 1.0, 1554: 1.0, 1555: 1.0, 1556: 1.0, 1557: 1.0, 1558: 1.0, 1559: 1.0, 1560: 1.0, 1561: 1.0, 1562: 1.0, 1563: 1.0, 1564: 1.0, 1565: 1.0, 1566: 1.0, 1567: 1.0, 1568: 1.0, 1569: 1.0, 1570: 1.0, 1571: 1.0, 1572: 1.0, 1573: 1.0, 1574: 1.0, 1575: 1.0, 1576: 1.0, 1577: 1.0, 1578: 1.0, 1579: 1.0, 1580: 1.0, 1581: 1.0, 1582: 1.0, 1583: 1.0, 1584: 1.0, 1585: 1.0, 1586: 1.0, 1587: 1.0, 1588: 1.0, 1589: 1.0, 1590: 1.0, 1591: 1.0, 1592: 1.0, 1593: 1.0, 1594: 1.0}),\n",
              "  SparseVector(2859, {171: 1.0, 172: 1.0, 173: 1.0, 174: 1.0, 175: 1.0, 176: 1.0, 177: 1.0, 178: 1.0, 179: 1.0, 180: 1.0, 181: 1.0, 182: 1.0, 183: 1.0, 184: 1.0, 185: 1.0, 186: 1.0, 187: 1.0, 188: 1.0, 1595: 1.0, 1596: 1.0, 1597: 1.0, 1598: 1.0, 1599: 1.0, 1600: 1.0, 1601: 1.0, 1602: 1.0, 1603: 1.0, 1604: 1.0, 1605: 1.0, 1606: 1.0, 1607: 1.0, 1608: 1.0, 1609: 1.0, 1610: 1.0, 1611: 1.0, 1612: 1.0, 1613: 1.0, 1614: 1.0, 1615: 1.0, 1616: 1.0, 1617: 1.0, 1618: 1.0, 1619: 1.0, 1620: 1.0}),\n",
              "  SparseVector(2859, {189: 1.0, 190: 1.0, 191: 1.0, 192: 1.0, 193: 1.0, 1621: 1.0, 1622: 1.0, 1623: 1.0, 1624: 1.0, 1625: 1.0, 1626: 1.0}),\n",
              "  SparseVector(2859, {194: 1.0, 195: 1.0, 196: 1.0, 197: 1.0, 198: 1.0, 199: 1.0, 200: 1.0, 201: 1.0, 202: 1.0, 203: 1.0, 1627: 1.0, 1628: 1.0, 1629: 1.0, 1630: 1.0}),\n",
              "  SparseVector(2859, {204: 1.0, 205: 1.0, 206: 1.0, 207: 1.0, 208: 1.0, 209: 1.0, 210: 1.0, 211: 1.0, 1631: 1.0, 1632: 1.0, 1633: 1.0}),\n",
              "  SparseVector(2859, {212: 1.0, 213: 1.0, 214: 1.0, 215: 1.0, 216: 1.0, 217: 1.0, 1634: 1.0, 1635: 1.0, 1636: 1.0, 1637: 1.0, 1638: 1.0}),\n",
              "  SparseVector(2859, {218: 1.0, 219: 1.0, 220: 1.0, 221: 1.0, 222: 1.0, 223: 1.0, 224: 1.0, 225: 1.0, 226: 1.0, 227: 1.0, 228: 1.0, 1558: 1.0, 1575: 1.0, 1588: 1.0, 1639: 1.0, 1640: 1.0, 1641: 1.0, 1642: 1.0, 1643: 1.0, 1644: 1.0, 1645: 1.0, 1646: 1.0, 1647: 1.0, 1648: 1.0, 1649: 1.0, 1650: 1.0}),\n",
              "  SparseVector(2859, {229: 1.0, 230: 1.0, 231: 1.0, 232: 1.0, 233: 1.0, 234: 1.0, 235: 1.0, 236: 1.0, 237: 1.0, 1651: 1.0, 1652: 1.0, 1653: 1.0}),\n",
              "  SparseVector(2859, {24: 1.0, 238: 1.0, 239: 1.0, 240: 1.0, 241: 1.0, 242: 1.0, 243: 1.0, 1654: 1.0, 1655: 1.0, 1656: 1.0, 1657: 1.0, 1658: 1.0, 1659: 1.0, 1660: 1.0, 1661: 1.0, 1662: 1.0, 1663: 1.0}),\n",
              "  SparseVector(2859, {144: 1.0, 244: 1.0, 245: 1.0, 246: 1.0, 247: 1.0, 248: 1.0, 249: 1.0, 250: 1.0, 251: 1.0, 252: 1.0, 253: 1.0, 254: 1.0, 255: 1.0, 256: 1.0, 257: 1.0, 258: 1.0, 259: 1.0, 260: 1.0, 261: 1.0, 262: 1.0, 263: 1.0, 264: 1.0, 265: 1.0, 266: 1.0, 267: 1.0, 268: 1.0, 269: 1.0, 270: 1.0, 271: 1.0, 272: 1.0, 273: 1.0, 274: 1.0, 275: 1.0, 276: 1.0, 277: 1.0, 278: 1.0, 279: 1.0, 280: 1.0, 281: 1.0, 282: 1.0, 283: 1.0, 284: 1.0, 285: 1.0, 286: 1.0, 287: 1.0, 288: 1.0, 289: 1.0, 290: 1.0, 291: 1.0, 1549: 1.0, 1573: 1.0, 1578: 1.0, 1591: 1.0, 1664: 1.0, 1665: 1.0, 1666: 1.0, 1667: 1.0, 1668: 1.0, 1669: 1.0, 1670: 1.0, 1671: 1.0, 1672: 1.0, 1673: 1.0, 1674: 1.0, 1675: 1.0, 1676: 1.0, 1677: 1.0, 1678: 1.0, 1679: 1.0, 1680: 1.0, 1681: 1.0, 1682: 1.0, 1683: 1.0, 1684: 1.0, 1685: 1.0, 1686: 1.0, 1687: 1.0, 1688: 1.0, 1689: 1.0, 1690: 1.0, 1691: 1.0, 1692: 1.0, 1693: 1.0, 1694: 1.0, 1695: 1.0, 1696: 1.0, 1697: 1.0, 1698: 1.0, 1699: 1.0, 1700: 1.0, 1701: 1.0, 1702: 1.0, 1703: 1.0, 1704: 1.0, 1705: 1.0}),\n",
              "  SparseVector(2859, {292: 1.0, 293: 1.0, 294: 1.0, 295: 1.0, 296: 1.0, 297: 1.0, 298: 1.0, 299: 1.0, 300: 1.0, 301: 1.0, 302: 1.0, 303: 1.0, 304: 1.0, 305: 1.0, 306: 1.0, 307: 1.0, 308: 1.0, 309: 1.0, 310: 1.0, 311: 1.0, 312: 1.0, 313: 1.0, 314: 1.0, 315: 1.0, 316: 1.0, 317: 1.0, 318: 1.0, 319: 1.0, 320: 1.0, 321: 1.0, 322: 1.0, 1706: 1.0, 1707: 1.0, 1708: 1.0, 1709: 1.0, 1710: 1.0, 1711: 1.0, 1712: 1.0, 1713: 1.0, 1714: 1.0, 1715: 1.0, 1716: 1.0, 1717: 1.0, 1718: 1.0, 1719: 1.0, 1720: 1.0, 1721: 1.0, 1722: 1.0, 1723: 1.0, 1724: 1.0, 1725: 1.0, 1726: 1.0, 1727: 1.0, 1728: 1.0, 1729: 1.0, 1730: 1.0, 1731: 1.0}),\n",
              "  SparseVector(2859, {190: 1.0, 191: 1.0, 323: 1.0, 324: 1.0, 325: 1.0, 326: 1.0, 327: 1.0, 328: 1.0, 329: 1.0, 330: 1.0, 331: 1.0, 1622: 1.0, 1623: 1.0, 1624: 1.0, 1732: 1.0, 1733: 1.0, 1734: 1.0, 1735: 1.0, 1736: 1.0, 1737: 1.0, 1738: 1.0, 1739: 1.0, 1740: 1.0, 1741: 1.0, 1742: 1.0}),\n",
              "  SparseVector(2859, {332: 1.0, 333: 1.0, 334: 1.0, 335: 1.0, 336: 1.0, 337: 1.0, 338: 1.0, 339: 1.0, 340: 1.0, 341: 1.0, 342: 1.0, 343: 1.0, 344: 1.0, 345: 1.0, 346: 1.0, 347: 1.0, 348: 1.0, 349: 1.0, 350: 1.0, 351: 1.0, 352: 1.0, 353: 1.0, 1743: 1.0, 1744: 1.0, 1745: 1.0, 1746: 1.0, 1747: 1.0, 1748: 1.0, 1749: 1.0, 1750: 1.0, 1751: 1.0, 1752: 1.0, 1753: 1.0, 1754: 1.0, 1755: 1.0, 1756: 1.0, 1757: 1.0, 1758: 1.0, 1759: 1.0, 1760: 1.0, 1761: 1.0, 1762: 1.0, 1763: 1.0, 1764: 1.0, 1765: 1.0, 1766: 1.0, 1767: 1.0, 1768: 1.0, 1769: 1.0, 1770: 1.0, 1771: 1.0, 1772: 1.0}),\n",
              "  SparseVector(2859, {354: 1.0, 355: 1.0, 356: 1.0, 357: 1.0, 358: 1.0, 359: 1.0, 360: 1.0, 361: 1.0, 362: 1.0, 363: 1.0, 364: 1.0, 365: 1.0, 366: 1.0, 367: 1.0, 368: 1.0, 369: 1.0, 370: 1.0, 371: 1.0, 372: 1.0, 373: 1.0, 374: 1.0, 375: 1.0, 376: 1.0, 377: 1.0, 378: 1.0, 379: 1.0, 380: 1.0, 381: 1.0, 382: 1.0, 383: 1.0, 384: 1.0, 1773: 1.0, 1774: 1.0, 1775: 1.0, 1776: 1.0, 1777: 1.0, 1778: 1.0, 1779: 1.0, 1780: 1.0, 1781: 1.0, 1782: 1.0, 1783: 1.0, 1784: 1.0, 1785: 1.0, 1786: 1.0, 1787: 1.0, 1788: 1.0, 1789: 1.0, 1790: 1.0, 1791: 1.0, 1792: 1.0, 1793: 1.0, 1794: 1.0, 1795: 1.0, 1796: 1.0}),\n",
              "  SparseVector(2859, {385: 1.0, 386: 1.0, 387: 1.0, 388: 1.0, 389: 1.0, 390: 1.0, 1797: 1.0, 1798: 1.0, 1799: 1.0, 1800: 1.0}),\n",
              "  SparseVector(2859, {1801: 1.0, 1802: 1.0, 1803: 1.0, 1804: 1.0}),\n",
              "  SparseVector(2859, {391: 1.0, 392: 1.0, 393: 1.0, 394: 1.0, 395: 1.0, 396: 1.0, 397: 1.0, 398: 1.0, 399: 1.0, 1805: 1.0, 1806: 1.0, 1807: 1.0, 1808: 1.0, 1809: 1.0}),\n",
              "  SparseVector(2859, {400: 1.0, 401: 1.0, 1810: 1.0}),\n",
              "  SparseVector(2859, {402: 1.0, 403: 1.0, 404: 1.0, 405: 1.0, 406: 1.0, 407: 1.0, 408: 1.0, 409: 1.0, 410: 1.0, 411: 1.0, 412: 1.0, 413: 1.0, 414: 1.0, 415: 1.0, 416: 1.0, 417: 1.0, 418: 1.0, 419: 1.0, 420: 1.0, 421: 1.0, 422: 1.0, 423: 1.0, 424: 1.0, 425: 1.0, 426: 1.0, 427: 1.0, 428: 1.0, 429: 1.0, 430: 1.0, 431: 1.0, 432: 1.0, 433: 1.0, 434: 1.0, 435: 1.0, 436: 1.0, 437: 1.0, 438: 1.0, 1575: 1.0, 1793: 1.0, 1811: 1.0, 1812: 1.0, 1813: 1.0, 1814: 1.0, 1815: 1.0, 1816: 1.0, 1817: 1.0, 1818: 1.0, 1819: 1.0, 1820: 1.0, 1821: 1.0, 1822: 1.0, 1823: 1.0, 1824: 1.0, 1825: 1.0, 1826: 1.0, 1827: 1.0, 1828: 1.0, 1829: 1.0, 1830: 1.0, 1831: 1.0, 1832: 1.0, 1833: 1.0, 1834: 1.0, 1835: 1.0, 1836: 1.0, 1837: 1.0, 1838: 1.0, 1839: 1.0, 1840: 1.0, 1841: 1.0, 1842: 1.0, 1843: 1.0, 1844: 1.0, 1845: 1.0, 1846: 1.0, 1847: 1.0, 1848: 1.0, 1849: 1.0, 1850: 1.0, 1851: 1.0, 1852: 1.0, 1853: 1.0, 1854: 1.0, 1855: 1.0, 1856: 1.0, 1857: 1.0, 1858: 1.0}),\n",
              "  SparseVector(2859, {267: 1.0, 285: 1.0, 439: 1.0, 440: 1.0, 441: 1.0, 442: 1.0, 443: 1.0, 444: 1.0, 445: 1.0, 446: 1.0, 447: 1.0, 448: 1.0, 449: 1.0, 450: 1.0, 451: 1.0, 452: 1.0, 453: 1.0, 454: 1.0, 455: 1.0, 456: 1.0, 457: 1.0, 458: 1.0, 459: 1.0, 460: 1.0, 461: 1.0, 462: 1.0, 463: 1.0, 464: 1.0, 465: 1.0, 466: 1.0, 467: 1.0, 468: 1.0, 1647: 1.0, 1859: 1.0, 1860: 1.0, 1861: 1.0, 1862: 1.0, 1863: 1.0, 1864: 1.0, 1865: 1.0, 1866: 1.0, 1867: 1.0, 1868: 1.0, 1869: 1.0, 1870: 1.0, 1871: 1.0, 1872: 1.0, 1873: 1.0, 1874: 1.0, 1875: 1.0, 1876: 1.0, 1877: 1.0, 1878: 1.0, 1879: 1.0, 1880: 1.0, 1881: 1.0, 1882: 1.0, 1883: 1.0, 1884: 1.0, 1885: 1.0, 1886: 1.0, 1887: 1.0, 1888: 1.0, 1889: 1.0, 1890: 1.0, 1891: 1.0, 1892: 1.0}),\n",
              "  SparseVector(2859, {433: 1.0, 469: 1.0, 470: 1.0, 471: 1.0, 472: 1.0, 473: 1.0, 474: 1.0, 475: 1.0, 476: 1.0, 477: 1.0, 478: 1.0, 479: 1.0, 480: 1.0, 481: 1.0, 482: 1.0, 483: 1.0, 484: 1.0, 485: 1.0, 486: 1.0, 487: 1.0, 488: 1.0, 489: 1.0, 490: 1.0, 491: 1.0, 492: 1.0, 493: 1.0, 494: 1.0, 495: 1.0, 496: 1.0, 497: 1.0, 498: 1.0, 499: 1.0, 500: 1.0, 501: 1.0, 502: 1.0, 503: 1.0, 504: 1.0, 505: 1.0, 506: 1.0, 507: 1.0, 508: 1.0, 509: 1.0, 510: 1.0, 511: 1.0, 512: 1.0, 513: 1.0, 1486: 1.0, 1893: 1.0, 1894: 1.0, 1895: 1.0, 1896: 1.0, 1897: 1.0, 1898: 1.0, 1899: 1.0, 1900: 1.0, 1901: 1.0, 1902: 1.0, 1903: 1.0, 1904: 1.0, 1905: 1.0, 1906: 1.0, 1907: 1.0, 1908: 1.0, 1909: 1.0, 1910: 1.0, 1911: 1.0, 1912: 1.0, 1913: 1.0, 1914: 1.0, 1915: 1.0, 1916: 1.0, 1917: 1.0, 1918: 1.0, 1919: 1.0, 1920: 1.0, 1921: 1.0, 1922: 1.0, 1923: 1.0, 1924: 1.0, 1925: 1.0, 1926: 1.0, 1927: 1.0, 1928: 1.0, 1929: 1.0, 1930: 1.0, 1931: 1.0, 1932: 1.0, 1933: 1.0, 1934: 1.0, 1935: 1.0, 1936: 1.0, 1937: 1.0, 1938: 1.0, 1939: 1.0, 1940: 1.0, 1941: 1.0}),\n",
              "  SparseVector(2859, {514: 1.0, 515: 1.0, 516: 1.0, 517: 1.0, 518: 1.0, 519: 1.0, 520: 1.0, 521: 1.0, 522: 1.0, 523: 1.0, 524: 1.0, 525: 1.0, 526: 1.0, 527: 1.0, 528: 1.0, 529: 1.0, 530: 1.0, 531: 1.0, 532: 1.0, 533: 1.0, 534: 1.0, 535: 1.0, 536: 1.0, 1942: 1.0, 1943: 1.0, 1944: 1.0, 1945: 1.0, 1946: 1.0, 1947: 1.0, 1948: 1.0, 1949: 1.0, 1950: 1.0, 1951: 1.0, 1952: 1.0, 1953: 1.0, 1954: 1.0, 1955: 1.0, 1956: 1.0}),\n",
              "  SparseVector(2859, {537: 1.0, 538: 1.0, 539: 1.0}),\n",
              "  SparseVector(2859, {540: 1.0, 541: 1.0, 542: 1.0, 543: 1.0, 544: 1.0, 545: 1.0, 546: 1.0, 547: 1.0, 548: 1.0, 1957: 1.0, 1958: 1.0, 1959: 1.0, 1960: 1.0, 1961: 1.0, 1962: 1.0, 1963: 1.0}),\n",
              "  SparseVector(2859, {549: 1.0, 550: 1.0, 551: 1.0, 552: 1.0, 553: 1.0, 554: 1.0, 555: 1.0, 556: 1.0, 557: 1.0, 558: 1.0, 559: 1.0, 560: 1.0, 561: 1.0, 562: 1.0, 563: 1.0, 564: 1.0, 565: 1.0, 566: 1.0, 567: 1.0, 568: 1.0, 569: 1.0, 570: 1.0, 571: 1.0, 572: 1.0, 573: 1.0, 574: 1.0, 575: 1.0, 576: 1.0, 577: 1.0, 578: 1.0, 579: 1.0, 580: 1.0, 581: 1.0, 582: 1.0, 583: 1.0, 584: 1.0, 585: 1.0, 586: 1.0, 587: 1.0, 1964: 1.0, 1965: 1.0, 1966: 1.0, 1967: 1.0, 1968: 1.0, 1969: 1.0, 1970: 1.0, 1971: 1.0, 1972: 1.0, 1973: 1.0, 1974: 1.0, 1975: 1.0, 1976: 1.0, 1977: 1.0, 1978: 1.0, 1979: 1.0, 1980: 1.0, 1981: 1.0, 1982: 1.0, 1983: 1.0, 1984: 1.0, 1985: 1.0, 1986: 1.0, 1987: 1.0, 1988: 1.0, 1989: 1.0, 1990: 1.0, 1991: 1.0, 1992: 1.0, 1993: 1.0, 1994: 1.0, 1995: 1.0, 1996: 1.0}),\n",
              "  SparseVector(2859, {394: 1.0, 397: 1.0, 398: 1.0, 399: 1.0, 588: 1.0, 589: 1.0, 590: 1.0, 591: 1.0, 592: 1.0, 593: 1.0, 594: 1.0, 595: 1.0, 596: 1.0, 597: 1.0, 598: 1.0, 599: 1.0, 600: 1.0, 601: 1.0, 602: 1.0, 603: 1.0, 604: 1.0, 605: 1.0, 606: 1.0, 607: 1.0, 608: 1.0, 609: 1.0, 610: 1.0, 611: 1.0, 612: 1.0, 613: 1.0, 614: 1.0, 615: 1.0, 616: 1.0, 617: 1.0, 618: 1.0, 619: 1.0, 620: 1.0, 621: 1.0, 622: 1.0, 623: 1.0, 624: 1.0, 625: 1.0, 626: 1.0, 1997: 1.0, 1998: 1.0, 1999: 1.0, 2000: 1.0, 2001: 1.0, 2002: 1.0, 2003: 1.0, 2004: 1.0, 2005: 1.0, 2006: 1.0, 2007: 1.0, 2008: 1.0, 2009: 1.0, 2010: 1.0, 2011: 1.0, 2012: 1.0, 2013: 1.0, 2014: 1.0, 2015: 1.0, 2016: 1.0, 2017: 1.0, 2018: 1.0, 2019: 1.0, 2020: 1.0, 2021: 1.0, 2022: 1.0, 2023: 1.0, 2024: 1.0, 2025: 1.0, 2026: 1.0, 2027: 1.0, 2028: 1.0, 2029: 1.0, 2030: 1.0, 2031: 1.0, 2032: 1.0, 2033: 1.0, 2034: 1.0, 2035: 1.0, 2036: 1.0, 2037: 1.0, 2038: 1.0, 2039: 1.0}),\n",
              "  SparseVector(2859, {627: 1.0, 628: 1.0, 629: 1.0, 630: 1.0, 631: 1.0, 632: 1.0, 633: 1.0, 634: 1.0, 635: 1.0, 636: 1.0, 637: 1.0, 638: 1.0, 639: 1.0, 640: 1.0, 641: 1.0, 642: 1.0, 643: 1.0, 644: 1.0, 645: 1.0, 646: 1.0, 647: 1.0, 648: 1.0, 649: 1.0, 650: 1.0, 651: 1.0, 652: 1.0, 653: 1.0, 654: 1.0, 655: 1.0, 656: 1.0, 657: 1.0, 658: 1.0, 659: 1.0, 660: 1.0, 661: 1.0, 662: 1.0, 663: 1.0, 664: 1.0, 665: 1.0, 666: 1.0, 667: 1.0, 1679: 1.0, 2040: 1.0, 2041: 1.0, 2042: 1.0, 2043: 1.0, 2044: 1.0, 2045: 1.0, 2046: 1.0, 2047: 1.0, 2048: 1.0, 2049: 1.0, 2050: 1.0, 2051: 1.0, 2052: 1.0, 2053: 1.0, 2054: 1.0, 2055: 1.0, 2056: 1.0, 2057: 1.0, 2058: 1.0, 2059: 1.0, 2060: 1.0, 2061: 1.0, 2062: 1.0, 2063: 1.0, 2064: 1.0, 2065: 1.0, 2066: 1.0, 2067: 1.0, 2068: 1.0, 2069: 1.0, 2070: 1.0, 2071: 1.0, 2072: 1.0, 2073: 1.0, 2074: 1.0, 2075: 1.0, 2076: 1.0, 2077: 1.0, 2078: 1.0, 2079: 1.0, 2080: 1.0, 2081: 1.0, 2082: 1.0, 2083: 1.0, 2084: 1.0, 2085: 1.0}),\n",
              "  SparseVector(2859, {85: 1.0, 170: 1.0, 464: 1.0, 668: 1.0, 669: 1.0, 670: 1.0, 671: 1.0, 672: 1.0, 673: 1.0, 674: 1.0, 675: 1.0, 676: 1.0, 677: 1.0, 678: 1.0, 679: 1.0, 680: 1.0, 681: 1.0, 682: 1.0, 683: 1.0, 684: 1.0, 685: 1.0, 686: 1.0, 687: 1.0, 688: 1.0, 689: 1.0, 690: 1.0, 691: 1.0, 692: 1.0, 693: 1.0, 694: 1.0, 695: 1.0, 696: 1.0, 697: 1.0, 1453: 1.0, 1557: 1.0, 1558: 1.0, 1560: 1.0, 1567: 1.0, 1571: 1.0, 1575: 1.0, 1586: 1.0, 1587: 1.0, 1933: 1.0, 2086: 1.0, 2087: 1.0, 2088: 1.0, 2089: 1.0, 2090: 1.0, 2091: 1.0, 2092: 1.0, 2093: 1.0, 2094: 1.0, 2095: 1.0, 2096: 1.0, 2097: 1.0, 2098: 1.0, 2099: 1.0, 2100: 1.0, 2101: 1.0, 2102: 1.0, 2103: 1.0, 2104: 1.0, 2105: 1.0, 2106: 1.0, 2107: 1.0, 2108: 1.0, 2109: 1.0, 2110: 1.0, 2111: 1.0, 2112: 1.0, 2113: 1.0, 2114: 1.0, 2115: 1.0, 2116: 1.0, 2117: 1.0, 2118: 1.0, 2119: 1.0, 2120: 1.0, 2121: 1.0, 2122: 1.0, 2123: 1.0, 2124: 1.0, 2125: 1.0, 2126: 1.0}),\n",
              "  SparseVector(2859, {545: 1.0, 698: 1.0, 699: 1.0, 700: 1.0, 701: 1.0, 702: 1.0, 703: 1.0, 704: 1.0, 705: 1.0, 706: 1.0, 707: 1.0, 708: 1.0, 709: 1.0, 710: 1.0, 711: 1.0, 712: 1.0, 713: 1.0, 714: 1.0, 715: 1.0, 716: 1.0, 717: 1.0, 718: 1.0, 719: 1.0, 720: 1.0, 721: 1.0, 722: 1.0, 723: 1.0, 724: 1.0, 725: 1.0, 726: 1.0, 727: 1.0, 728: 1.0, 729: 1.0, 730: 1.0, 731: 1.0, 2116: 1.0, 2127: 1.0, 2128: 1.0, 2129: 1.0, 2130: 1.0, 2131: 1.0, 2132: 1.0, 2133: 1.0, 2134: 1.0, 2135: 1.0, 2136: 1.0, 2137: 1.0, 2138: 1.0, 2139: 1.0, 2140: 1.0, 2141: 1.0, 2142: 1.0, 2143: 1.0, 2144: 1.0, 2145: 1.0, 2146: 1.0, 2147: 1.0, 2148: 1.0, 2149: 1.0, 2150: 1.0, 2151: 1.0, 2152: 1.0, 2153: 1.0, 2154: 1.0, 2155: 1.0, 2156: 1.0, 2157: 1.0, 2158: 1.0}),\n",
              "  SparseVector(2859, {732: 1.0, 733: 1.0, 734: 1.0, 735: 1.0, 736: 1.0, 737: 1.0, 738: 1.0, 739: 1.0, 740: 1.0, 741: 1.0, 742: 1.0, 743: 1.0, 2159: 1.0, 2160: 1.0, 2161: 1.0, 2162: 1.0, 2163: 1.0, 2164: 1.0, 2165: 1.0, 2166: 1.0, 2167: 1.0, 2168: 1.0, 2169: 1.0}),\n",
              "  SparseVector(2859, {649: 1.0, 744: 1.0, 745: 1.0, 746: 1.0, 747: 1.0, 748: 1.0, 749: 1.0, 750: 1.0, 751: 1.0, 752: 1.0, 753: 1.0, 754: 1.0, 755: 1.0, 756: 1.0, 757: 1.0, 758: 1.0, 759: 1.0, 760: 1.0, 761: 1.0, 762: 1.0, 763: 1.0, 764: 1.0, 765: 1.0, 766: 1.0, 767: 1.0, 768: 1.0, 769: 1.0, 770: 1.0, 771: 1.0, 2170: 1.0, 2171: 1.0, 2172: 1.0, 2173: 1.0, 2174: 1.0, 2175: 1.0, 2176: 1.0, 2177: 1.0, 2178: 1.0, 2179: 1.0, 2180: 1.0, 2181: 1.0, 2182: 1.0, 2183: 1.0, 2184: 1.0, 2185: 1.0, 2186: 1.0, 2187: 1.0, 2188: 1.0, 2189: 1.0, 2190: 1.0, 2191: 1.0, 2192: 1.0, 2193: 1.0, 2194: 1.0, 2195: 1.0, 2196: 1.0, 2197: 1.0}),\n",
              "  SparseVector(2859, {53: 1.0, 83: 1.0, 772: 1.0, 773: 1.0, 774: 1.0, 775: 1.0, 776: 1.0, 777: 1.0, 778: 1.0, 779: 1.0, 780: 1.0, 781: 1.0, 782: 1.0, 783: 1.0, 784: 1.0, 785: 1.0, 786: 1.0, 787: 1.0, 788: 1.0, 789: 1.0, 790: 1.0, 791: 1.0, 792: 1.0, 793: 1.0, 794: 1.0, 1485: 1.0, 1493: 1.0, 2051: 1.0, 2198: 1.0, 2199: 1.0, 2200: 1.0, 2201: 1.0, 2202: 1.0, 2203: 1.0, 2204: 1.0, 2205: 1.0, 2206: 1.0, 2207: 1.0, 2208: 1.0, 2209: 1.0, 2210: 1.0, 2211: 1.0, 2212: 1.0, 2213: 1.0, 2214: 1.0, 2215: 1.0, 2216: 1.0, 2217: 1.0, 2218: 1.0, 2219: 1.0, 2220: 1.0, 2221: 1.0}),\n",
              "  SparseVector(2859, {795: 1.0, 796: 1.0, 797: 1.0, 798: 1.0, 799: 1.0, 800: 1.0, 801: 1.0, 802: 1.0, 803: 1.0, 804: 1.0, 2222: 1.0, 2223: 1.0, 2224: 1.0, 2225: 1.0, 2226: 1.0, 2227: 1.0, 2228: 1.0, 2229: 1.0, 2230: 1.0, 2231: 1.0, 2232: 1.0}),\n",
              "  SparseVector(2859, {644: 1.0, 648: 1.0, 650: 1.0, 652: 1.0, 661: 1.0, 805: 1.0, 806: 1.0, 807: 1.0, 808: 1.0, 809: 1.0, 810: 1.0, 811: 1.0, 812: 1.0, 813: 1.0, 814: 1.0, 815: 1.0, 816: 1.0, 817: 1.0, 818: 1.0, 819: 1.0, 820: 1.0, 821: 1.0, 822: 1.0, 823: 1.0, 824: 1.0, 825: 1.0, 826: 1.0, 827: 1.0, 828: 1.0, 829: 1.0, 830: 1.0, 831: 1.0, 832: 1.0, 833: 1.0, 834: 1.0, 835: 1.0, 836: 1.0, 837: 1.0, 838: 1.0, 2118: 1.0, 2233: 1.0, 2234: 1.0, 2235: 1.0, 2236: 1.0, 2237: 1.0, 2238: 1.0, 2239: 1.0, 2240: 1.0, 2241: 1.0, 2242: 1.0, 2243: 1.0, 2244: 1.0, 2245: 1.0, 2246: 1.0, 2247: 1.0, 2248: 1.0, 2249: 1.0, 2250: 1.0, 2251: 1.0, 2252: 1.0, 2253: 1.0, 2254: 1.0, 2255: 1.0, 2256: 1.0, 2257: 1.0, 2258: 1.0, 2259: 1.0, 2260: 1.0, 2261: 1.0, 2262: 1.0}),\n",
              "  SparseVector(2859, {839: 1.0, 840: 1.0, 841: 1.0, 842: 1.0, 843: 1.0, 844: 1.0, 845: 1.0, 846: 1.0, 847: 1.0, 848: 1.0, 849: 1.0, 850: 1.0, 851: 1.0, 852: 1.0, 853: 1.0, 854: 1.0, 855: 1.0, 856: 1.0, 857: 1.0, 858: 1.0, 859: 1.0, 860: 1.0, 861: 1.0, 2263: 1.0, 2264: 1.0, 2265: 1.0, 2266: 1.0, 2267: 1.0, 2268: 1.0, 2269: 1.0, 2270: 1.0, 2271: 1.0, 2272: 1.0, 2273: 1.0, 2274: 1.0, 2275: 1.0, 2276: 1.0, 2277: 1.0, 2278: 1.0, 2279: 1.0, 2280: 1.0, 2281: 1.0, 2282: 1.0, 2283: 1.0, 2284: 1.0, 2285: 1.0, 2286: 1.0, 2287: 1.0, 2288: 1.0, 2289: 1.0, 2290: 1.0, 2291: 1.0, 2292: 1.0, 2293: 1.0, 2294: 1.0, 2295: 1.0, 2296: 1.0, 2297: 1.0, 2298: 1.0, 2299: 1.0, 2300: 1.0, 2301: 1.0, 2302: 1.0, 2303: 1.0}),\n",
              "  SparseVector(2859, {862: 1.0, 863: 1.0, 864: 1.0, 865: 1.0, 866: 1.0, 867: 1.0, 2304: 1.0, 2305: 1.0, 2306: 1.0, 2307: 1.0, 2308: 1.0, 2309: 1.0, 2310: 1.0, 2311: 1.0, 2312: 1.0, 2313: 1.0}),\n",
              "  SparseVector(2859, {868: 1.0, 869: 1.0, 870: 1.0, 2314: 1.0}),\n",
              "  SparseVector(2859, {85: 1.0, 416: 1.0, 871: 1.0, 872: 1.0, 873: 1.0, 874: 1.0, 875: 1.0, 876: 1.0, 877: 1.0, 878: 1.0, 879: 1.0, 880: 1.0, 881: 1.0, 882: 1.0, 883: 1.0, 884: 1.0, 885: 1.0, 886: 1.0, 887: 1.0, 888: 1.0, 889: 1.0, 890: 1.0, 891: 1.0, 892: 1.0, 893: 1.0, 894: 1.0, 895: 1.0, 896: 1.0, 897: 1.0, 898: 1.0, 899: 1.0, 900: 1.0, 901: 1.0, 902: 1.0, 903: 1.0, 904: 1.0, 905: 1.0, 906: 1.0, 907: 1.0, 908: 1.0, 909: 1.0, 1585: 1.0, 2311: 1.0, 2312: 1.0, 2315: 1.0, 2316: 1.0, 2317: 1.0, 2318: 1.0, 2319: 1.0, 2320: 1.0, 2321: 1.0, 2322: 1.0, 2323: 1.0, 2324: 1.0, 2325: 1.0, 2326: 1.0, 2327: 1.0, 2328: 1.0, 2329: 1.0, 2330: 1.0, 2331: 1.0, 2332: 1.0, 2333: 1.0, 2334: 1.0, 2335: 1.0, 2336: 1.0, 2337: 1.0, 2338: 1.0, 2339: 1.0, 2340: 1.0, 2341: 1.0, 2342: 1.0, 2343: 1.0, 2344: 1.0, 2345: 1.0, 2346: 1.0, 2347: 1.0, 2348: 1.0, 2349: 1.0, 2350: 1.0, 2351: 1.0, 2352: 1.0, 2353: 1.0, 2354: 1.0, 2355: 1.0, 2356: 1.0, 2357: 1.0, 2358: 1.0}),\n",
              "  SparseVector(2859, {910: 1.0, 911: 1.0, 912: 1.0, 913: 1.0, 914: 1.0, 915: 1.0, 916: 1.0, 917: 1.0, 918: 1.0, 919: 1.0, 920: 1.0, 921: 1.0, 922: 1.0, 923: 1.0, 924: 1.0, 925: 1.0, 926: 1.0, 927: 1.0, 928: 1.0, 929: 1.0, 930: 1.0, 931: 1.0, 932: 1.0, 933: 1.0, 934: 1.0, 935: 1.0, 936: 1.0, 937: 1.0, 938: 1.0, 939: 1.0, 940: 1.0, 941: 1.0, 942: 1.0, 943: 1.0, 944: 1.0, 945: 1.0, 946: 1.0, 947: 1.0, 948: 1.0, 949: 1.0, 950: 1.0, 951: 1.0, 952: 1.0, 953: 1.0, 954: 1.0, 955: 1.0, 956: 1.0, 957: 1.0, 958: 1.0, 959: 1.0, 960: 1.0, 2359: 1.0, 2360: 1.0, 2361: 1.0, 2362: 1.0, 2363: 1.0, 2364: 1.0, 2365: 1.0, 2366: 1.0, 2367: 1.0, 2368: 1.0, 2369: 1.0, 2370: 1.0, 2371: 1.0, 2372: 1.0, 2373: 1.0, 2374: 1.0, 2375: 1.0, 2376: 1.0, 2377: 1.0, 2378: 1.0, 2379: 1.0, 2380: 1.0, 2381: 1.0, 2382: 1.0, 2383: 1.0, 2384: 1.0, 2385: 1.0, 2386: 1.0, 2387: 1.0, 2388: 1.0, 2389: 1.0, 2390: 1.0, 2391: 1.0, 2392: 1.0, 2393: 1.0, 2394: 1.0, 2395: 1.0, 2396: 1.0, 2397: 1.0, 2398: 1.0, 2399: 1.0, 2400: 1.0}),\n",
              "  SparseVector(2859, {961: 1.0, 962: 1.0, 2401: 1.0, 2402: 1.0}),\n",
              "  SparseVector(2859, {963: 1.0, 964: 1.0, 965: 1.0, 966: 1.0, 967: 1.0, 968: 1.0, 969: 1.0, 970: 1.0, 971: 1.0, 972: 1.0, 973: 1.0, 974: 1.0, 975: 1.0, 976: 1.0, 977: 1.0, 978: 1.0, 979: 1.0, 980: 1.0, 981: 1.0, 982: 1.0, 983: 1.0, 984: 1.0, 985: 1.0, 986: 1.0, 987: 1.0, 1502: 1.0, 1847: 1.0, 2101: 1.0, 2403: 1.0, 2404: 1.0, 2405: 1.0, 2406: 1.0, 2407: 1.0, 2408: 1.0, 2409: 1.0, 2410: 1.0, 2411: 1.0, 2412: 1.0, 2413: 1.0, 2414: 1.0, 2415: 1.0, 2416: 1.0, 2417: 1.0, 2418: 1.0, 2419: 1.0, 2420: 1.0, 2421: 1.0, 2422: 1.0, 2423: 1.0, 2424: 1.0, 2425: 1.0, 2426: 1.0, 2427: 1.0, 2428: 1.0, 2429: 1.0, 2430: 1.0, 2431: 1.0, 2432: 1.0, 2433: 1.0, 2434: 1.0, 2435: 1.0, 2436: 1.0, 2437: 1.0, 2438: 1.0, 2439: 1.0, 2440: 1.0, 2441: 1.0, 2442: 1.0, 2443: 1.0, 2444: 1.0}),\n",
              "  SparseVector(2859, {988: 1.0, 989: 1.0, 990: 1.0, 991: 1.0, 992: 1.0, 993: 1.0, 994: 1.0, 995: 1.0, 2445: 1.0, 2446: 1.0, 2447: 1.0, 2448: 1.0, 2449: 1.0, 2450: 1.0}),\n",
              "  SparseVector(2859, {996: 1.0, 997: 1.0, 998: 1.0, 999: 1.0, 1000: 1.0, 1001: 1.0, 1002: 1.0, 1003: 1.0, 1004: 1.0, 2451: 1.0, 2452: 1.0, 2453: 1.0, 2454: 1.0, 2455: 1.0, 2456: 1.0, 2457: 1.0}),\n",
              "  SparseVector(2859, {458: 1.0, 466: 1.0, 1005: 1.0, 1868: 1.0, 1870: 1.0, 1872: 1.0, 2458: 1.0, 2459: 1.0, 2460: 1.0, 2461: 1.0, 2462: 1.0, 2463: 1.0, 2464: 1.0, 2465: 1.0, 2466: 1.0, 2467: 1.0, 2468: 1.0, 2469: 1.0, 2470: 1.0, 2471: 1.0}),\n",
              "  SparseVector(2859, {24: 1.0, 29: 1.0, 1006: 1.0, 1007: 1.0, 1008: 1.0, 1009: 1.0, 1010: 1.0, 1011: 1.0, 1012: 1.0, 1013: 1.0, 1014: 1.0, 1015: 1.0, 1463: 1.0, 2472: 1.0, 2473: 1.0, 2474: 1.0, 2475: 1.0}),\n",
              "  SparseVector(2859, {419: 1.0, 714: 1.0, 1016: 1.0, 1017: 1.0, 1018: 1.0, 1019: 1.0, 1020: 1.0, 1021: 1.0, 1022: 1.0, 1023: 1.0, 1024: 1.0, 1025: 1.0, 1026: 1.0, 1027: 1.0, 1028: 1.0, 1029: 1.0, 1030: 1.0, 1031: 1.0, 1032: 1.0, 1033: 1.0, 1034: 1.0, 1035: 1.0, 1036: 1.0, 1037: 1.0, 1038: 1.0, 1039: 1.0, 1040: 1.0, 1041: 1.0, 1042: 1.0, 1043: 1.0, 1044: 1.0, 1045: 1.0, 1046: 1.0, 1047: 1.0, 1048: 1.0, 1049: 1.0, 1050: 1.0, 1051: 1.0, 1052: 1.0, 1053: 1.0, 1054: 1.0, 1055: 1.0, 1056: 1.0, 1057: 1.0, 1842: 1.0, 2115: 1.0, 2476: 1.0, 2477: 1.0, 2478: 1.0, 2479: 1.0, 2480: 1.0, 2481: 1.0, 2482: 1.0, 2483: 1.0, 2484: 1.0, 2485: 1.0, 2486: 1.0, 2487: 1.0, 2488: 1.0, 2489: 1.0, 2490: 1.0, 2491: 1.0, 2492: 1.0, 2493: 1.0, 2494: 1.0, 2495: 1.0, 2496: 1.0, 2497: 1.0, 2498: 1.0, 2499: 1.0, 2500: 1.0, 2501: 1.0, 2502: 1.0, 2503: 1.0, 2504: 1.0, 2505: 1.0, 2506: 1.0, 2507: 1.0, 2508: 1.0, 2509: 1.0, 2510: 1.0, 2511: 1.0, 2512: 1.0}),\n",
              "  SparseVector(2859, {1058: 1.0, 1059: 1.0, 1060: 1.0, 1061: 1.0, 1062: 1.0, 1063: 1.0, 1064: 1.0, 1065: 1.0, 1066: 1.0, 1067: 1.0, 1068: 1.0, 1069: 1.0, 1070: 1.0, 1071: 1.0, 1072: 1.0, 1073: 1.0, 1074: 1.0, 1075: 1.0, 1076: 1.0, 1077: 1.0, 1078: 1.0, 1079: 1.0, 1080: 1.0, 1081: 1.0, 1082: 1.0, 1083: 1.0, 1084: 1.0, 1085: 1.0, 1086: 1.0, 1087: 1.0, 1088: 1.0, 1089: 1.0, 1090: 1.0, 1091: 1.0, 1092: 1.0, 1093: 1.0, 1094: 1.0, 1095: 1.0, 1096: 1.0, 1097: 1.0, 1098: 1.0, 1099: 1.0, 1100: 1.0, 1101: 1.0, 2513: 1.0, 2514: 1.0, 2515: 1.0, 2516: 1.0, 2517: 1.0, 2518: 1.0, 2519: 1.0, 2520: 1.0, 2521: 1.0, 2522: 1.0, 2523: 1.0, 2524: 1.0, 2525: 1.0, 2526: 1.0, 2527: 1.0, 2528: 1.0, 2529: 1.0, 2530: 1.0, 2531: 1.0, 2532: 1.0, 2533: 1.0, 2534: 1.0, 2535: 1.0, 2536: 1.0, 2537: 1.0, 2538: 1.0, 2539: 1.0, 2540: 1.0, 2541: 1.0, 2542: 1.0, 2543: 1.0, 2544: 1.0, 2545: 1.0, 2546: 1.0, 2547: 1.0, 2548: 1.0, 2549: 1.0, 2550: 1.0, 2551: 1.0, 2552: 1.0, 2553: 1.0, 2554: 1.0, 2555: 1.0, 2556: 1.0, 2557: 1.0, 2558: 1.0, 2559: 1.0, 2560: 1.0, 2561: 1.0, 2562: 1.0}),\n",
              "  SparseVector(2859, {1102: 1.0, 1103: 1.0, 2563: 1.0}),\n",
              "  SparseVector(2859, {368: 1.0, 370: 1.0, 371: 1.0, 377: 1.0, 381: 1.0, 771: 1.0, 904: 1.0, 1104: 1.0, 1105: 1.0, 1106: 1.0, 1107: 1.0, 1108: 1.0, 1109: 1.0, 1110: 1.0, 1111: 1.0, 1112: 1.0, 1113: 1.0, 1114: 1.0, 1115: 1.0, 1116: 1.0, 1117: 1.0, 1118: 1.0, 1119: 1.0, 1120: 1.0, 1121: 1.0, 1122: 1.0, 1123: 1.0, 1124: 1.0, 1125: 1.0, 1126: 1.0, 1127: 1.0, 1128: 1.0, 1129: 1.0, 1130: 1.0, 1131: 1.0, 1132: 1.0, 1133: 1.0, 1134: 1.0, 1135: 1.0, 1136: 1.0, 1137: 1.0, 1784: 1.0, 1788: 1.0, 1794: 1.0, 2330: 1.0, 2564: 1.0, 2565: 1.0, 2566: 1.0, 2567: 1.0, 2568: 1.0, 2569: 1.0, 2570: 1.0, 2571: 1.0, 2572: 1.0, 2573: 1.0, 2574: 1.0, 2575: 1.0, 2576: 1.0, 2577: 1.0, 2578: 1.0, 2579: 1.0, 2580: 1.0, 2581: 1.0, 2582: 1.0, 2583: 1.0, 2584: 1.0, 2585: 1.0, 2586: 1.0, 2587: 1.0, 2588: 1.0, 2589: 1.0, 2590: 1.0, 2591: 1.0}),\n",
              "  SparseVector(2859, {1138: 1.0, 1139: 1.0, 1140: 1.0, 1141: 1.0, 1142: 1.0, 1143: 1.0, 1144: 1.0, 1145: 1.0, 1146: 1.0, 2592: 1.0, 2593: 1.0, 2594: 1.0, 2595: 1.0, 2596: 1.0}),\n",
              "  SparseVector(2859, {69: 1.0, 433: 1.0, 1147: 1.0, 1148: 1.0, 1149: 1.0, 1150: 1.0, 1151: 1.0, 1152: 1.0, 1153: 1.0, 1154: 1.0, 1588: 1.0, 1847: 1.0, 2597: 1.0, 2598: 1.0, 2599: 1.0, 2600: 1.0}),\n",
              "  SparseVector(2859, {1155: 1.0, 1156: 1.0, 1157: 1.0, 1158: 1.0, 1159: 1.0, 1160: 1.0, 1161: 1.0, 1162: 1.0, 1163: 1.0, 1164: 1.0, 1165: 1.0, 1166: 1.0, 1167: 1.0, 1168: 1.0, 1169: 1.0, 1170: 1.0, 1171: 1.0, 1172: 1.0, 1173: 1.0, 1174: 1.0, 1175: 1.0, 1176: 1.0, 1177: 1.0, 1178: 1.0, 1179: 1.0, 1180: 1.0, 1181: 1.0, 1182: 1.0, 1183: 1.0, 1184: 1.0, 1185: 1.0, 1186: 1.0, 1187: 1.0, 1188: 1.0, 1189: 1.0, 1190: 1.0, 1191: 1.0, 1192: 1.0, 1193: 1.0, 1194: 1.0, 1195: 1.0, 1196: 1.0, 1197: 1.0, 1198: 1.0, 1199: 1.0, 1200: 1.0, 2601: 1.0, 2602: 1.0, 2603: 1.0, 2604: 1.0, 2605: 1.0, 2606: 1.0, 2607: 1.0, 2608: 1.0, 2609: 1.0, 2610: 1.0, 2611: 1.0, 2612: 1.0, 2613: 1.0, 2614: 1.0, 2615: 1.0, 2616: 1.0, 2617: 1.0, 2618: 1.0, 2619: 1.0, 2620: 1.0, 2621: 1.0, 2622: 1.0, 2623: 1.0, 2624: 1.0, 2625: 1.0, 2626: 1.0, 2627: 1.0, 2628: 1.0, 2629: 1.0, 2630: 1.0, 2631: 1.0, 2632: 1.0, 2633: 1.0, 2634: 1.0, 2635: 1.0, 2636: 1.0, 2637: 1.0, 2638: 1.0, 2639: 1.0, 2640: 1.0, 2641: 1.0, 2642: 1.0, 2643: 1.0, 2644: 1.0, 2645: 1.0}),\n",
              "  SparseVector(2859, {1201: 1.0, 1202: 1.0, 1203: 1.0, 2646: 1.0, 2647: 1.0, 2648: 1.0, 2649: 1.0, 2650: 1.0, 2651: 1.0, 2652: 1.0, 2653: 1.0, 2654: 1.0}),\n",
              "  SparseVector(2859, {24: 1.0, 27: 1.0, 1204: 1.0, 1205: 1.0, 1206: 1.0, 1207: 1.0, 1208: 1.0, 1209: 1.0, 1210: 1.0, 1463: 1.0, 2655: 1.0, 2656: 1.0}),\n",
              "  SparseVector(2859, {293: 1.0, 294: 1.0, 296: 1.0, 299: 1.0, 304: 1.0, 316: 1.0, 1211: 1.0, 1212: 1.0, 1213: 1.0, 1214: 1.0, 1215: 1.0, 1216: 1.0, 1708: 1.0, 1709: 1.0, 1710: 1.0, 1712: 1.0, 1721: 1.0, 1723: 1.0, 2657: 1.0, 2658: 1.0, 2659: 1.0, 2660: 1.0}),\n",
              "  SparseVector(2859, {52: 1.0, 76: 1.0, 481: 1.0, 490: 1.0, 510: 1.0, 869: 1.0, 888: 1.0, 1217: 1.0, 1218: 1.0, 1219: 1.0, 1220: 1.0, 1221: 1.0, 1222: 1.0, 1223: 1.0, 1224: 1.0, 1225: 1.0, 1226: 1.0, 1227: 1.0, 1228: 1.0, 1229: 1.0, 1230: 1.0, 1231: 1.0, 1232: 1.0, 1233: 1.0, 1234: 1.0, 1235: 1.0, 1236: 1.0, 1237: 1.0, 1238: 1.0, 1239: 1.0, 1240: 1.0, 1241: 1.0, 1242: 1.0, 1243: 1.0, 1244: 1.0, 1245: 1.0, 1246: 1.0, 1247: 1.0, 1248: 1.0, 1249: 1.0, 1250: 1.0, 1903: 1.0, 1924: 1.0, 2070: 1.0, 2661: 1.0, 2662: 1.0, 2663: 1.0, 2664: 1.0, 2665: 1.0, 2666: 1.0, 2667: 1.0, 2668: 1.0, 2669: 1.0, 2670: 1.0, 2671: 1.0, 2672: 1.0, 2673: 1.0, 2674: 1.0, 2675: 1.0, 2676: 1.0, 2677: 1.0, 2678: 1.0, 2679: 1.0, 2680: 1.0, 2681: 1.0, 2682: 1.0, 2683: 1.0, 2684: 1.0, 2685: 1.0, 2686: 1.0, 2687: 1.0, 2688: 1.0}),\n",
              "  SparseVector(2859, {647: 1.0, 649: 1.0, 650: 1.0, 652: 1.0, 660: 1.0, 662: 1.0, 832: 1.0, 1251: 1.0, 1252: 1.0, 1253: 1.0, 1254: 1.0, 1255: 1.0, 1256: 1.0, 1257: 1.0, 1258: 1.0, 1259: 1.0, 1260: 1.0, 1261: 1.0, 1262: 1.0, 1263: 1.0, 1264: 1.0, 1265: 1.0, 1266: 1.0, 1267: 1.0, 1268: 1.0, 1269: 1.0, 1270: 1.0, 1271: 1.0, 1272: 1.0, 1273: 1.0, 1274: 1.0, 1275: 1.0, 1276: 1.0, 1277: 1.0, 1278: 1.0, 1279: 1.0, 1280: 1.0, 1281: 1.0, 1282: 1.0, 1283: 1.0, 1284: 1.0, 1285: 1.0, 1286: 1.0, 1287: 1.0, 1288: 1.0, 1289: 1.0, 1290: 1.0, 1291: 1.0, 1292: 1.0, 1888: 1.0, 2058: 1.0, 2060: 1.0, 2076: 1.0, 2689: 1.0, 2690: 1.0, 2691: 1.0, 2692: 1.0, 2693: 1.0, 2694: 1.0, 2695: 1.0, 2696: 1.0, 2697: 1.0, 2698: 1.0, 2699: 1.0, 2700: 1.0, 2701: 1.0, 2702: 1.0, 2703: 1.0, 2704: 1.0, 2705: 1.0, 2706: 1.0, 2707: 1.0, 2708: 1.0, 2709: 1.0, 2710: 1.0, 2711: 1.0, 2712: 1.0, 2713: 1.0, 2714: 1.0, 2715: 1.0, 2716: 1.0, 2717: 1.0, 2718: 1.0, 2719: 1.0, 2720: 1.0, 2721: 1.0, 2722: 1.0, 2723: 1.0, 2724: 1.0, 2725: 1.0, 2726: 1.0, 2727: 1.0, 2728: 1.0, 2729: 1.0, 2730: 1.0}),\n",
              "  SparseVector(2859, {545: 1.0, 707: 1.0, 712: 1.0, 714: 1.0, 720: 1.0, 815: 1.0, 1028: 1.0, 1293: 1.0, 1294: 1.0, 1295: 1.0, 1296: 1.0, 1297: 1.0, 1298: 1.0, 1299: 1.0, 1300: 1.0, 1301: 1.0, 1302: 1.0, 1303: 1.0, 1304: 1.0, 1305: 1.0, 1306: 1.0, 1307: 1.0, 1308: 1.0, 1309: 1.0, 1310: 1.0, 1311: 1.0, 1312: 1.0, 1313: 1.0, 1314: 1.0, 1315: 1.0, 1316: 1.0, 1317: 1.0, 1318: 1.0, 1319: 1.0, 1320: 1.0, 1321: 1.0, 1322: 1.0, 1323: 1.0, 1324: 1.0, 1325: 1.0, 1326: 1.0, 1327: 1.0, 1328: 1.0, 1329: 1.0, 1330: 1.0, 1331: 1.0, 1332: 1.0, 1333: 1.0, 1334: 1.0, 1335: 1.0, 1336: 1.0, 1337: 1.0, 1338: 1.0, 1339: 1.0, 1340: 1.0, 2116: 1.0, 2145: 1.0, 2253: 1.0, 2731: 1.0, 2732: 1.0, 2733: 1.0, 2734: 1.0, 2735: 1.0, 2736: 1.0, 2737: 1.0, 2738: 1.0, 2739: 1.0, 2740: 1.0, 2741: 1.0, 2742: 1.0, 2743: 1.0, 2744: 1.0, 2745: 1.0, 2746: 1.0, 2747: 1.0, 2748: 1.0, 2749: 1.0, 2750: 1.0, 2751: 1.0, 2752: 1.0, 2753: 1.0, 2754: 1.0, 2755: 1.0, 2756: 1.0, 2757: 1.0, 2758: 1.0, 2759: 1.0, 2760: 1.0, 2761: 1.0, 2762: 1.0, 2763: 1.0, 2764: 1.0, 2765: 1.0, 2766: 1.0, 2767: 1.0, 2768: 1.0, 2769: 1.0, 2770: 1.0, 2771: 1.0, 2772: 1.0}),\n",
              "  SparseVector(2859, {1341: 1.0, 1342: 1.0, 1343: 1.0, 1344: 1.0, 1345: 1.0, 1346: 1.0, 1347: 1.0, 1348: 1.0, 1349: 1.0, 1350: 1.0, 1351: 1.0, 1871: 1.0, 2773: 1.0, 2774: 1.0, 2775: 1.0, 2776: 1.0, 2777: 1.0, 2778: 1.0, 2779: 1.0, 2780: 1.0, 2781: 1.0, 2782: 1.0}),\n",
              "  SparseVector(2859, {1352: 1.0, 1353: 1.0, 2783: 1.0, 2784: 1.0, 2785: 1.0}),\n",
              "  SparseVector(2859, {1354: 1.0, 1355: 1.0, 1356: 1.0, 2786: 1.0, 2787: 1.0, 2788: 1.0}),\n",
              "  SparseVector(2859, {648: 1.0, 1357: 1.0, 1358: 1.0, 1359: 1.0, 1360: 1.0, 1361: 1.0, 1362: 1.0, 1363: 1.0, 1364: 1.0, 2715: 1.0, 2789: 1.0, 2790: 1.0, 2791: 1.0, 2792: 1.0, 2793: 1.0, 2794: 1.0, 2795: 1.0, 2796: 1.0, 2797: 1.0}),\n",
              "  SparseVector(2859, {288: 1.0, 642: 1.0, 1365: 1.0, 1366: 1.0, 1367: 1.0, 1368: 1.0, 1369: 1.0, 1370: 1.0, 1371: 1.0, 1372: 1.0, 1373: 1.0, 1374: 1.0, 1375: 1.0, 1376: 1.0, 1377: 1.0, 1378: 1.0, 1379: 1.0, 1380: 1.0, 1381: 1.0, 1382: 1.0, 1383: 1.0, 1384: 1.0, 1385: 1.0, 1386: 1.0, 1387: 1.0, 1388: 1.0, 1389: 1.0, 1390: 1.0, 1391: 1.0, 1392: 1.0, 1393: 1.0, 1394: 1.0, 1395: 1.0, 1396: 1.0, 1397: 1.0, 1398: 1.0, 2069: 1.0, 2798: 1.0, 2799: 1.0, 2800: 1.0, 2801: 1.0, 2802: 1.0, 2803: 1.0, 2804: 1.0, 2805: 1.0, 2806: 1.0, 2807: 1.0, 2808: 1.0, 2809: 1.0, 2810: 1.0, 2811: 1.0, 2812: 1.0, 2813: 1.0, 2814: 1.0, 2815: 1.0, 2816: 1.0, 2817: 1.0, 2818: 1.0, 2819: 1.0, 2820: 1.0, 2821: 1.0}),\n",
              "  SparseVector(2859, {1399: 1.0, 2822: 1.0, 2823: 1.0, 2824: 1.0}),\n",
              "  SparseVector(2859, {882: 1.0, 888: 1.0, 895: 1.0, 1400: 1.0, 1401: 1.0, 1402: 1.0, 1403: 1.0, 1404: 1.0, 1405: 1.0, 1406: 1.0, 1407: 1.0, 1408: 1.0, 1409: 1.0, 1410: 1.0, 1411: 1.0, 1412: 1.0, 1413: 1.0, 1414: 1.0, 1415: 1.0, 1416: 1.0, 1417: 1.0, 1418: 1.0, 1419: 1.0, 1420: 1.0, 1421: 1.0, 1422: 1.0, 1423: 1.0, 1424: 1.0, 1425: 1.0, 1426: 1.0, 1427: 1.0, 1428: 1.0, 1429: 1.0, 1430: 1.0, 1431: 1.0, 1432: 1.0, 1433: 1.0, 1434: 1.0, 1435: 1.0, 1436: 1.0, 1437: 1.0, 1438: 1.0, 1439: 1.0, 1440: 1.0, 1441: 1.0, 1442: 1.0, 1575: 1.0, 2312: 1.0, 2325: 1.0, 2328: 1.0, 2336: 1.0, 2339: 1.0, 2340: 1.0, 2348: 1.0, 2825: 1.0, 2826: 1.0, 2827: 1.0, 2828: 1.0, 2829: 1.0, 2830: 1.0, 2831: 1.0, 2832: 1.0, 2833: 1.0, 2834: 1.0, 2835: 1.0, 2836: 1.0, 2837: 1.0, 2838: 1.0, 2839: 1.0, 2840: 1.0, 2841: 1.0, 2842: 1.0, 2843: 1.0, 2844: 1.0, 2845: 1.0, 2846: 1.0, 2847: 1.0, 2848: 1.0, 2849: 1.0, 2850: 1.0, 2851: 1.0, 2852: 1.0, 2853: 1.0, 2854: 1.0, 2855: 1.0, 2856: 1.0, 2857: 1.0, 2858: 1.0})])"
            ]
          },
          "metadata": {},
          "execution_count": 27
        }
      ]
    },
    {
      "cell_type": "markdown",
      "source": [
        "### Function for calculating cosine similarity\n",
        "\n",
        "Specifically, calculating cosine similarity when parameters are given as Sparse Vector"
      ],
      "metadata": {
        "id": "000x8OJd0xaK"
      }
    },
    {
      "cell_type": "code",
      "source": [
        "def cosine_similarity_sv(x, y):\n",
        "  \"\"\"\n",
        "  Computes cosine similarity on spark ML SparseVectors x and y\n",
        "  \"\"\"\n",
        "  #multiplication of two 1's is a 1, anything else is a 0, so bitset dot product\n",
        "  # is equivalent to bitwise and followed by a count of all nonzero elements\n",
        "  dot_product = x.dot(y)\n",
        "\n",
        "  #magnitude is sqrt(sum of squares), square of 0 is 0 and square of 1 is 1,\n",
        "  #so sum of squares for us is equivalent to count of all nonzero elements\n",
        "  mag_x = sqrt(x.numNonzeros())\n",
        "  mag_y = sqrt(y.numNonzeros())\n",
        "\n",
        "  return dot_product / (mag_x*mag_y)"
      ],
      "metadata": {
        "id": "8WxaxqTn0vaQ"
      },
      "execution_count": null,
      "outputs": []
    },
    {
      "cell_type": "markdown",
      "source": [
        "### Extract the each cosine-similarity with all other customers in sample\n",
        "(by calculating cosine_similarity with provided Sparse Vector)\n",
        "\n",
        "*Note that target customer(who are to get personalized recommendations) is set to the first customer in each sample.*\n",
        "\n",
        "*Hence, you will see that in the cosine similarity list, the first element's cosine-similarity is 1 or near as it is the target customer*"
      ],
      "metadata": {
        "id": "Q3SeUwCbX_GI"
      }
    },
    {
      "cell_type": "code",
      "source": [
        "def customer_similarity(sample, baskets):\n",
        "  customer_id, only_indexes = baskets\n",
        "  baskets_list = sc.broadcast(only_indexes)\n",
        "  #Use the first customer in the sample as recomendation needed customer\n",
        "  test_user_sv = only_indexes[0]\n",
        "  similarity_cal = sample.map(lambda x: [cosine_similarity_sv(test_user_sv, s) for s in baskets_list.value])\n",
        "  similarity_list = similarity_cal.take(1)[0]\n",
        "  return similarity_list\n",
        "\n",
        "print(\"Cosine_similarity list between target customers and the other customers (in each sample)\")\n",
        "print(\"\\nFor target customer in Sample_Medium\")\n",
        "print(customer_similarity(sample_medium, SV_information(generate_SV(sample_medium))))\n",
        "print(\"\\nFor target customer in Sample_large\")\n",
        "print(customer_similarity(sample_large, SV_information(generate_SV(sample_large))))"
      ],
      "metadata": {
        "colab": {
          "base_uri": "https://localhost:8080/"
        },
        "id": "TfMkS46vKYY3",
        "outputId": "71c3a417-7d78-4612-831d-e00a8b487bb6"
      },
      "execution_count": null,
      "outputs": [
        {
          "output_type": "stream",
          "name": "stdout",
          "text": [
            "Cosine_similarity list between target customers and the other customers (in each sample)\n",
            "\n",
            "For target customer in Sample_Medium\n",
            "[0.9999999999999998, 0.0, 0.0, 0.0, 0.0, 0.0, 0.0, 0.0, 0.0, 0.018430244519362142, 0.0, 0.0, 0.0, 0.0, 0.0, 0.0, 0.0, 0.0, 0.0, 0.0, 0.0, 0.0, 0.0, 0.0, 0.0, 0.0, 0.0, 0.0, 0.0, 0.0, 0.0, 0.0, 0.0, 0.0, 0.0, 0.0, 0.01928791874526149, 0.0, 0.0, 0.0, 0.0, 0.0, 0.0, 0.0, 0.0, 0.0, 0.0, 0.0, 0.0, 0.0, 0.0, 0.0, 0.0, 0.0, 0.0, 0.0, 0.0, 0.0, 0.0, 0.0, 0.0, 0.0, 0.0, 0.0, 0.0, 0.0, 0.0, 0.0, 0.0, 0.0, 0.0, 0.0, 0.0, 0.0]\n",
            "\n",
            "For target customer in Sample_large\n",
            "[1.0000000000000002, 0.0, 0.0, 0.0, 0.0, 0.0, 0.0, 0.033113308926626096, 0.0, 0.0, 0.0, 0.0, 0.3857583749052298, 0.0, 0.0, 0.0, 0.0, 0.0, 0.0, 0.0, 0.0, 0.0, 0.0, 0.0, 0.0, 0.0, 0.0, 0.0, 0.0, 0.0, 0.0, 0.0, 0.0, 0.0, 0.0, 0.0, 0.0, 0.0, 0.0, 0.0, 0.0, 0.0, 0.0, 0.0, 0.0, 0.0, 0.0, 0.0, 0.0, 0.0, 0.0, 0.0, 0.0, 0.0, 0.0, 0.0, 0.0, 0.0, 0.0, 0.0, 0.0, 0.0, 0.0, 0.0, 0.0, 0.0, 0.0, 0.0, 0.0, 0.0, 0.0, 0.0, 0.0, 0.0, 0.0, 0.0, 0.0, 0.0, 0.0, 0.0, 0.0, 0.0, 0.0, 0.0, 0.0, 0.0, 0.0, 0.0, 0.0, 0.0, 0.0, 0.0, 0.0, 0.0, 0.0, 0.0, 0.0, 0.0, 0.0, 0.0, 0.0, 0.0, 0.0, 0.0, 0.0, 0.0, 0.0, 0.0, 0.0, 0.0, 0.0, 0.0, 0.0, 0.0, 0.0, 0.0, 0.0, 0.0, 0.0, 0.0, 0.0, 0.0, 0.0, 0.0, 0.0, 0.0, 0.0, 0.0, 0.0, 0.0, 0.0, 0.0, 0.0, 0.0, 0.0, 0.0, 0.0, 0.0, 0.0, 0.0, 0.0, 0.0, 0.0, 0.0, 0.0, 0.0, 0.0, 0.0, 0.0, 0.0, 0.0, 0.0, 0.0, 0.0, 0.0, 0.0, 0.0, 0.0, 0.0, 0.0, 0.0, 0.0, 0.0, 0.0, 0.0, 0.0, 0.0, 0.0, 0.0, 0.0, 0.05360562674188975, 0.0, 0.0, 0.0, 0.0, 0.0, 0.0, 0.0, 0.0, 0.0, 0.0, 0.0, 0.0, 0.0, 0.0, 0.0, 0.0, 0.0, 0.0, 0.0, 0.0, 0.0, 0.0, 0.0, 0.0, 0.0, 0.0, 0.0, 0.0, 0.0, 0.0545544725589981, 0.0, 0.0, 0.0, 0.0, 0.0, 0.0, 0.0, 0.0, 0.0, 0.0, 0.0, 0.0, 0.0, 0.0, 0.0, 0.0, 0.0, 0.0, 0.0, 0.0, 0.0, 0.0, 0.0, 0.0, 0.0, 0.0, 0.0, 0.0, 0.0, 0.0, 0.0, 0.0, 0.0, 0.0, 0.0, 0.05103103630798287, 0.0, 0.0, 0.0, 0.0, 0.0, 0.0, 0.0, 0.0, 0.0, 0.0, 0.0, 0.0, 0.0, 0.0, 0.0, 0.0, 0.0, 0.0, 0.0, 0.0, 0.0, 0.0, 0.0, 0.0, 0.0, 0.0, 0.0, 0.0, 0.0, 0.0, 0.0, 0.0, 0.0, 0.0, 0.0, 0.0, 0.0, 0.0, 0.0, 0.0, 0.0, 0.0, 0.0, 0.0, 0.0, 0.0, 0.0, 0.0, 0.0, 0.0, 0.0, 0.0, 0.0, 0.0, 0.0, 0.0, 0.0, 0.0, 0.0, 0.0, 0.0, 0.0, 0.0, 0.0, 0.0, 0.0, 0.0, 0.0, 0.0, 0.0, 0.0, 0.0, 0.0, 0.0, 0.0, 0.0, 0.0, 0.0, 0.0, 0.0, 0.0, 0.0, 0.0, 0.0, 0.0, 0.0, 0.0, 0.0, 0.0, 0.0, 0.0, 0.0, 0.0, 0.0, 0.0, 0.0, 0.0, 0.0, 0.0, 0.0, 0.0, 0.0, 0.0, 0.0, 0.0, 0.0, 0.0, 0.0, 0.0, 0.0, 0.0, 0.0, 0.0, 0.0, 0.0, 0.0, 0.0, 0.0, 0.0, 0.0, 0.0, 0.0, 0.0, 0.0, 0.0, 0.0, 0.0, 0.0, 0.0, 0.0, 0.0, 0.0, 0.0, 0.0, 0.0, 0.0, 0.0, 0.0, 0.0, 0.0, 0.0, 0.0, 0.0, 0.0, 0.0, 0.0, 0.0, 0.0, 0.0, 0.0, 0.0, 0.0, 0.031686212526223896, 0.0, 0.0, 0.0, 0.0, 0.0, 0.0, 0.0, 0.0, 0.0, 0.0, 0.0, 0.0, 0.0, 0.0, 0.0, 0.0, 0.0, 0.0, 0.0, 0.0, 0.0, 0.0, 0.0, 0.0, 0.0, 0.0, 0.0, 0.0, 0.0, 0.03450327796711771, 0.0, 0.0, 0.0, 0.0, 0.0, 0.0, 0.0, 0.0, 0.0, 0.0, 0.0, 0.0, 0.0, 0.0, 0.0, 0.0, 0.0, 0.0, 0.0, 0.0, 0.0, 0.0, 0.0, 0.0, 0.0, 0.0, 0.0, 0.0, 0.0, 0.0, 0.0, 0.0, 0.0, 0.05555555555555555, 0.0, 0.0, 0.0, 0.0, 0.0, 0.0, 0.0, 0.0, 0.0, 0.0, 0.0, 0.0, 0.0, 0.0, 0.0, 0.0, 0.0, 0.0, 0.0, 0.0, 0.0, 0.0, 0.0, 0.0, 0.0, 0.0, 0.0, 0.0, 0.0, 0.0, 0.0, 0.0, 0.0, 0.0, 0.0, 0.0, 0.0, 0.0, 0.0, 0.0, 0.0, 0.0, 0.0, 0.0, 0.0, 0.0, 0.0, 0.0, 0.05360562674188975, 0.0, 0.0, 0.0, 0.0, 0.0, 0.0, 0.0, 0.0, 0.0, 0.0, 0.0, 0.0, 0.0, 0.0, 0.0, 0.0, 0.0, 0.0, 0.0, 0.0, 0.0, 0.0, 0.0, 0.0, 0.0, 0.0, 0.0, 0.0, 0.0, 0.0, 0.0, 0.0, 0.0, 0.0, 0.0, 0.0, 0.0, 0.0, 0.0, 0.0, 0.0, 0.0, 0.0, 0.0, 0.0, 0.0, 0.0, 0.0, 0.0, 0.0, 0.0, 0.0, 0.0, 0.0, 0.0, 0.0, 0.0, 0.0, 0.0, 0.0, 0.0, 0.0, 0.0, 0.0, 0.0, 0.0, 0.0, 0.0, 0.0, 0.0, 0.0, 0.0, 0.0, 0.0, 0.0, 0.0, 0.0, 0.0, 0.0, 0.0, 0.0, 0.0, 0.0, 0.0, 0.0, 0.0, 0.0, 0.0, 0.0, 0.0, 0.0, 0.0, 0.0, 0.0, 0.0, 0.0, 0.0, 0.0, 0.0, 0.0, 0.0, 0.0, 0.0, 0.0, 0.0, 0.0, 0.0, 0.0, 0.0, 0.0, 0.0, 0.0, 0.0, 0.0, 0.0, 0.0, 0.0, 0.0, 0.0, 0.0, 0.0, 0.0, 0.0, 0.0, 0.0, 0.0, 0.0, 0.0, 0.0, 0.0, 0.0, 0.0, 0.0, 0.0, 0.0, 0.0, 0.0, 0.0, 0.0, 0.0, 0.0, 0.0, 0.0, 0.0, 0.0, 0.0, 0.0, 0.0, 0.0, 0.0, 0.0, 0.0, 0.0, 0.0, 0.0, 0.0, 0.0, 0.0, 0.0, 0.0, 0.0, 0.0, 0.0, 0.0, 0.0, 0.0, 0.0, 0.0, 0.0, 0.0, 0.0, 0.0, 0.0, 0.0, 0.0, 0.0, 0.0, 0.0, 0.0, 0.0, 0.0, 0.0, 0.0, 0.0, 0.0, 0.0, 0.0, 0.0, 0.0, 0.0, 0.0, 0.0, 0.0]\n"
          ]
        }
      ]
    },
    {
      "cell_type": "markdown",
      "source": [
        "### Find similar customers\n",
        "\n",
        "Note that by running this function find_similar_customers, we get the indexes of similar customers, so these indexes will be used to extract the actual details about similar customers including their own id and the items they purchased"
      ],
      "metadata": {
        "id": "Opur9VYRblEH"
      }
    },
    {
      "cell_type": "code",
      "source": [
        "def find_similar_customers(sample, similarity_list):\n",
        "    similarity_rdd = sc.parallelize(similarity_list)\n",
        "    similarity_rdd_with_indx = similarity_rdd.zipWithIndex().map(lambda x : (x[1],x[0]))\n",
        "    filter_test_customer = similarity_rdd_with_indx.filter(lambda x : x[1] < 0.9 and x[1]!=0.0)\n",
        "    similar_customers = filter_test_customer.sortBy(lambda x : -x[1])\n",
        "\n",
        "    return similar_customers\n",
        "\n",
        "similar_basket_medium = find_similar_customers(sample_medium, customer_similarity(sample_medium, SV_information(generate_SV(sample_medium))))\n",
        "similar_basket_large = find_similar_customers(sample_large, customer_similarity(sample_large, SV_information(generate_SV(sample_large))))\n",
        "print(f\"For medium samples's test customer, \\n list of (similar user index, similarity) \\n\", similar_basket_medium.collect())\n",
        "print(f\"\\nFor large samples's test customer, \\n list of (similar user index, similarity) \\n\", similar_basket_large.collect())"
      ],
      "metadata": {
        "id": "DEXlWVEDbz8J",
        "colab": {
          "base_uri": "https://localhost:8080/"
        },
        "outputId": "8e976998-b130-45e9-c63c-f1fae10c264a"
      },
      "execution_count": null,
      "outputs": [
        {
          "output_type": "stream",
          "name": "stdout",
          "text": [
            "For medium samples's test customer, \n",
            " list of (similar user index, similarity) \n",
            " [(36, 0.01928791874526149), (9, 0.018430244519362142)]\n",
            "\n",
            "For large samples's test customer, \n",
            " list of (similar user index, similarity) \n",
            " [(12, 0.3857583749052298), (453, 0.05555555555555555), (200, 0.0545544725589981), (170, 0.05360562674188975), (502, 0.05360562674188975), (236, 0.05103103630798287), (419, 0.03450327796711771), (7, 0.033113308926626096), (389, 0.031686212526223896)]\n"
          ]
        }
      ]
    },
    {
      "cell_type": "markdown",
      "source": [
        "### Obtain similar customers' basket and customer's its own id\n",
        "\n",
        "Note that in previous code, we achievd the indexes of each similar customers in sample\n",
        "\n",
        "In this step, by using these indexes, we extract the similar customers' detail including customer's id and its own baskets"
      ],
      "metadata": {
        "id": "iccTdejqbdDP"
      }
    },
    {
      "cell_type": "code",
      "source": [
        "def generate_similar_customer_with_basket(similar_customers_rdd, sample):\n",
        "  similar_customers_list = similar_customers_rdd.map(lambda x : x[0]).collect()\n",
        "  sample_indx = sample.zipWithIndex().map(lambda x : (x[1],x[0]))\n",
        "  similar_user_with_basket_indx = sample_indx.filter(lambda x : x[0] in similar_customers_list)\n",
        "\n",
        "  #Remove index for getting similar customers basket\n",
        "  similar_user_with_basket = similar_user_with_basket_indx.map(lambda x : x[1])\n",
        "  return similar_user_with_basket\n",
        "\n",
        "similar_basket_medium_ASINS = generate_similar_customer_with_basket(similar_basket_medium, sample_medium)\n",
        "similar_basket_large_ASINS = generate_similar_customer_with_basket(similar_basket_large, sample_large)\n",
        "print(similar_basket_medium_ASINS.collect())\n",
        "print(similar_basket_large_ASINS.collect())"
      ],
      "metadata": {
        "colab": {
          "base_uri": "https://localhost:8080/"
        },
        "id": "QbdJ_biI5xoF",
        "outputId": "1b2406af-050a-4786-fc42-f6d31314c17b"
      },
      "execution_count": null,
      "outputs": [
        {
          "output_type": "stream",
          "name": "stdout",
          "text": [
            "[(43584, ['B001GHYO4E', 'B00014FNU2', 'B00EIS9NW6', 'B00ENP215K', 'B010BUE6CG', 'B006VRNEFO', 'B002OOLUTK', 'B001EQ4SHK', 'B00HJCXX24', 'B01FE7PM1U', 'B005ERUCVQ', 'B0054M0U18', 'B074CHSXN4', 'B00CYMU3TA', 'B007SNJ98G', 'B01H7DFM32', 'B00UHMOG60', 'B01FG5W2KE', 'B015FFIOO8', 'B002SKVZIQ', 'B005EOTMA6', 'B07939DYBP', 'B0005ZXPY8', 'B00VVMTLV0', 'B0147CMIRE', 'B001B49UOG', 'B00VF03MUY', 'B01NB9PVP6', 'B001GHYO44', 'B00GB8PS9I', 'B0755JN13H', 'B004XJXIM6', 'B01M173US6', 'B001L97SQS', 'B018Y0WYHY', 'B001B5JT8C', 'B00LIAVX98', 'B000F0AUGO', 'B003T0668I', 'B00IXUKFVI', 'B01E9GXNCM', 'B00TXQQDW6', 'B0774M73SF', 'B00060N5OW', 'B01M4IWGHE', 'B06Y1DCSRQ', 'B0793KYR9W', 'B003XKWPD4', 'B000R4FGK8', 'B071W21LLT', 'B001PQMJIY', 'B001H8R00M', 'B079VP6DH6', 'B01FXMD3KS', 'B01HSU0UC2', 'B00GGBLPVU', 'B005HUWCFY', 'B00STSZ77G', 'B00DLKWXRO', 'B004NG9FWQ', 'B0053KN8QA', 'B00ASBOP9S', 'B007P0FWSI', 'B00P2XTTS4', 'B004YPEFH6', 'B00HNSJSX2', 'B0741GFQHJ', 'B016UMTPRK', 'B00COCUM96', 'B00BFUFYZK', 'B00125V10U', 'B00UASJHV0', 'B07B8YW192', 'B07217DZZ7', 'B000VDX25Q', 'B00Q70RCW6', 'B01H07E286', 'B07FCYFGTX', 'B006GHVOX8', 'B01BZ0N69U', 'B072MZLXYZ', 'B019DM86LA', 'B012HE3U2G', 'B00ENS39XK', 'B0049IF5W2', 'B010BUF0VM', 'B00PUOQHDA', 'B00I9VAHD2', 'B00BAO7F3U', 'B00C5RIQRK', 'B001YXXL8U', 'B00FWUO2IE']), (151435, ['B00DE6Q23Q', 'B00DE6KSTK', 'B00E0Y8PTA', 'B00BOAGEZA', 'B006GHVOX8', 'B007FA1EBW', 'B007F1LYWK', 'B001EQ4H1M', 'B0019N2EQU', 'B01IAYHZVO', 'B004M6ZDKA', 'B009F28PY2', 'B004K6771U', 'B018Y0WYHY', 'B00KPFHOPO', 'B005EOTMA6', 'B0044MNYIK', 'B01FG5W2KE', 'B004SIAOBK', 'B000FLXBN2', 'B00D1RPES2', 'B005VBD2UI', 'B00IV6ZM58', 'B00T77IBNU', 'B004CPAGNA', 'B000VDZ2N6', 'B00060N5OW', 'B00CF5DFGE', 'B0014E4DS6', 'B01GG68Q4I', 'B01M099264', 'B0032GQM5G', 'B018JZFUXY', 'B00IO2RL8K', 'B004YVOFB6', 'B00T70RNQ8', 'B01F7N4KM8', 'B0001CXUHW', 'B004G7PFRQ', 'B00KYW1K26', 'B0012XV382', 'B01H07E286', 'B00U9WIN62', 'B0058PP61U', 'B01A5MHEBU', 'B00F21YX8W', 'B00Q9EX6IY', 'B00AN91QCY', 'B00EQMJFAE', 'B00H46SFU0', 'B00CQG5QUA', 'B00FQGP20Q', 'B00M9C14UW', 'B077QLSLRQ', 'B0046EJ570', 'B01N49HPHK', 'B079VP6DH6', 'B01J3TGH1E', 'B003FULBQ4', 'B00HS6FWN4', 'B00HCNCQ2S', 'B00VF03MUY', 'B01FAOX2GO', 'B074DRLRPJ', 'B0013GMLRA', 'B01FXMDA2O', 'B01H7DFM32', 'B072MZLXYZ', 'B00KKC6C2I', 'B0000CFN0Y', 'B0014E2UP4', 'B001F0RBT2', 'B0045TMKZK', 'B008D38MDS', 'B00B1GHI3Y', 'B00440FFVG', 'B00BB80366', 'B000RYHEQW', 'B001YXXL8U', 'B00JJ6M2BQ', 'B075MWHHF4', 'B0014CZ4S6', 'B0005ZU8UW', 'B000TGEIRQ'])]\n",
            "[(2777, ['B0001WAMA0', 'B004D9XYWU', 'B00BY78O60', 'B00O2E0RGC', 'B005VY4NVM', 'B00066N8RA', 'B002MG30VQ', 'B07K8RCCB9', 'B07KBCX5GQ', 'B00FBGKCHE', 'B00481RICU', 'B0092WEQCA', 'B000MAODJM', 'B07KLDP4X5', 'B00KPXMNAW', 'B000VENIFO', 'B001IIST1K', 'B07K6WZHMD', 'B000W20UWO', 'B01M3NUOIK', 'B00FBGIO92', 'B00QPHNUYU', 'B003SKZN9C', 'B071GCY9FT', 'B002SZAAJQ', 'B00FBGL0CK', 'B01136INBW', 'B006ZZCWQE', 'B01K8OV63M', 'B001MABOTI', 'B00FI1TGBU', 'B003U82VTC', 'B07546CJF7', 'B00GR9EM3O', 'B01EKDK4NK', 'B00FBGMBZ0', 'B072NZKZLV', 'B00GB7UK6K', 'B01MQDEOK4', 'B01K8P6XNO', 'B009LHPJ1S', 'B01M62H3GY', 'B009LHP1SO', 'B00G9ER6EO', 'B00Q35WR4I', 'B01MD1CCTT', 'B0006GRBBY', 'B00BY78O7Y', 'B009LHPBSE', 'B00GQIFMTO', 'B00FQ540KK', 'B006GY3CO0', 'B009LHPG8Y', 'B00CYLEUVI', 'B00LFVLSXG', 'B00YPM5X2Y', 'B00CKWB58W', 'B009LHPT0O', 'B077J53K7Z', 'B00KCCKV8W', 'B00061MISK', 'B00BXVBKJK', 'B006J7TAHM', 'B002E10JD6', 'B004D9VY3G', 'B0006GX1M2', 'B07KMFVM43', 'B07KFPKXGX', 'B0001R050W', 'B00F4WIL8C', 'B009LHPLWA', 'B00F4WILNC', 'B00FQ53SC6', 'B000XMG130', 'B0006BCAJM', 'B0006GX1KO']), (4154, ['B0000D9N1H', 'B0045AW7N4', 'B0000D9N8O', 'B0000D9N6N', 'B00EIJN5DS', 'B0075ALVJM', 'B004H0FTW8', 'B0000D9N18', 'B001LM7QNU', 'B0000V09L4', 'B0000D9N4M', 'B0000D9N38', 'B004OYXBR2', 'B003ZIR8YU', 'B071GCY9FT']), (77160, ['B004M8PZ9W', 'B00099E8OQ', 'B0755L4S21', 'B0060KPEL4', 'B07GLVV57F', 'B00CHTY1O8', 'B00SK4VNV8', 'B0755LCTWY', 'B00H3TNZUI', 'B010JGGQ6G', 'B00U31UEBQ', 'B004P8HHRW', 'B001THPU9E', 'B001CT0ALC', 'B01BF12NN4', 'B01LB1J9BW', 'B0060KPEOQ', 'B005LURBFQ', 'B01M4RLBJU', 'B005DM3N2M', 'B003DNL9PQ', 'B0007XYBCI', 'B01GJ0ZJA0', 'B000EOXQRG', 'B0028AD6WO', 'B00IOTB7PG', 'B004M8TKA2', 'B000EM8UGU', 'B0019MJQLC']), (90366, ['B005H6E59O', 'B00GMZ2HTY', 'B006WCEXLW', 'B001HNG9CW', 'B073DCB2CW', 'B00JYG5SXK', 'B005H6FF3Y', 'B06X9D3S8X', 'B072MNMLCD', 'B01HNTK6FE', 'B00GMYQG42', 'B00QAWUU98', 'B00BCOYO7I', 'B00QAYSQWO', 'B00TYSTW3U', 'B01ATW6NJ0', 'B00D4MA5V0', 'B000FYYP1Q', 'B004H1P2J2', 'B01BLR13G0', 'B071XX3TWP', 'B005HBTNH8', 'B004NEOLIG', 'B00VKTFASW', 'B01KAGEFEA', 'B00I39OTL6', 'B007RFIPTO', 'B01L99GFAE']), (104864, ['B0075DX64W', 'B00NIPV96I', 'B006GL6N9E', 'B00NIPV8VY', 'B005XPZPG6', 'B018V3TPNK', 'B01K8OV63M', 'B002E0WEJ4', 'B002E0RIF4', 'B01136INBW', 'B004D9XYWU', 'B00KCCKV8W', 'B06ZYRHXTV', 'B077Q2ZZLH', 'B00MTTNMBE', 'B00BY78O7Y', 'B00YPM5X2Y', 'B01N8SQXRB', 'B01K8P14TC', 'B00F34772M', 'B015GAYXP6', 'B01BDI89SW', 'B074JHFQJC', 'B0742L8Y5Y', 'B0773YNFTJ', 'B072BPPSCF', 'B06Y54R68Z', 'B00H7YCVI6', 'B00R7B8DUY', 'B01KAM8LXA', 'B00KWX50BE', 'B004GZ7YBI']), (172674, ['B00GP0EZ14', 'B003W0JWCC', 'B019CXRMI8', 'B00568B1HW', 'B019HR91W4', 'B003W0KBFE', 'B00H727M6O', 'B00GO6GUIU', 'B00VDWVM7Y', 'B001J3ZUQ6', 'B00DBC0ZRC', 'B01G7SGOL2', 'B00O05974G', 'B01CMT8DFU', 'B01M1CJNXH', 'B07CV4B86R', 'B00V9N5ZQ6', 'B00608D66G', 'B00006IUWB', 'B00WM2TCMQ', 'B01NCRU557', 'B06XR59R76', 'B00AX6JGI8', 'B00INM1OQ6', 'B00VJMJZ1I', 'B07D64BRHY', 'B01M6ZKZPN', 'B01MS5U2SQ', 'B00P88AGIU', 'B00M9NJ5ES', 'B01G7SGOIA', 'B000NWNPAW', 'B01G7SGOXK', 'B00UHKJG8A', 'B0026ST9QK', 'B01EH3C9KO', 'B001J4FSR6', 'B00006IUWA', 'B010TR1SMW', 'B01DOF8Y78', 'B00PZLOVJK', 'B00M9NLJWO', 'B0089XJDIK', 'B00KL8SM92', 'B07CV2WJ3L', 'B01MT1JJVQ', 'B07HGDD3XQ', 'B01MS65QTL', 'B00H7282WW', 'B07CWY8FW6', 'B00NF9CT0C', 'B01HVOQO0W', 'B074P8GBPB', 'B00M9NJXJK', 'B00HR77LK6', 'B01D321B4A', 'B00KQ1EZX6', 'B00OQMVU4S', 'B072J834VK', 'B004W8LT10', 'B00H727TE4', 'B00ITQDSI8', 'B01H4CRK90', 'B07CV2XV7W', 'B00DX0K6F8', 'B01136INBW', 'B07CDF9Y17', 'B000RPYX4W', 'B01N2Y8UFB', 'B01CDBBB92', 'B00E3X22A6', 'B072LTWNQD', 'B00XCY3FJY', 'B07JGB83F2', 'B00IRW155C', 'B00CA6RE8S', 'B00JR5ADG0', 'B07DFMWF37', 'B07CV28ZQ2', 'B00PZMGMLY', 'B00005IBXK', 'B00004SU35', 'B07DJ1Q1HK']), (189203, ['B00J5HA3BA', 'B00E3IXY62', 'B07C41K3JB', 'B004MPA8P6', 'B01AMT1IIG', 'B01AMSZO82', 'B073HGQDL5', 'B00H32IEW4', 'B075V85ZBJ', 'B00J5HD588', 'B01AMT1IY0', 'B00D2HK9HM', 'B00H32JEWI', 'B01AMT16RO', 'B075V6L3H5', 'B00J5H9J1U', 'B01AMT2WK4', 'B00FQ24602', 'B00FQ24A9Y', 'B075V9B8SW', 'B00J5H4VWC', 'B00E3IXLJW', 'B07KWKQ83M', 'B07CN7NTPJ', 'B00J5HBHRO', 'B074JHFQJC', 'B00OPENQ80', 'B075V9V1J8', 'B00D2HKAJO', 'B06Y54R68Z', 'B01AMT32Y4', 'B00J5H3E02', 'B07D6869XT', 'B00D86P2UG', 'B00J5HA0OK', 'B00D2HK7ME', 'B00WT1O8AG', 'B00GT60FMM', 'B0000DG8AR', 'B075V5XQ1C', 'B073RGWDJS', 'B00D2HK8N2', 'B00J5HB6TI', 'B074JHFQJD', 'B01AMT1MRS', 'B01AMT1SU4', 'B01N2IZS3H', 'B0787GLLP7', 'B0166AR4EC', 'B0747BXJYH', 'B00YPM5X2Y', 'B00FQ24SJQ', 'B07B8XYSPM', 'B005TE2IU2', 'B01136INBW', 'B0166AQ97A', 'B00J5H3RV8', 'B07B8PPL3Q', 'B00E0UB5NM', 'B00FQ265QK', 'B00KWX50BE', 'B00J5HABUI', 'B00E45NJIM', 'B07B1N6MS7', 'B075VBPYSH', 'B074JJ84FG', 'B00H32I5VE', 'B00UAJ7XIS', 'B00J5H9B1I', 'B000GGXEEW']), (201081, ['B00KWX688S', 'B075V6L3H5', 'B01AMT1IY0', 'B00E3IXY62', 'B00H32JEWI', 'B00H32IEW4', 'B01AMSZO82', 'B075V9B8SW', 'B00FQ24SJQ', 'B00FQ24602', 'B00FQ24A9Y', 'B01B7H10VM', 'B004D9XYWU', 'B00OPENQ80', 'B0081BE3E4', 'B01676307A', 'B01KGLH0OG', 'B0000D9169', 'B004XDMS3C', 'B00F4WIL8C', 'B01136INBW', 'B07KQZDRX8', 'B00UAJ7XIS', 'B00E0U88XM', 'B00KWX50BE', 'B00H32I5VE', 'B00E0UB5NM']), (224004, ['B00PSHRJUY', 'B01EYSCA88', 'B00RZ6GXJE', 'B00M1XRPSY', 'B00M1XR73M', 'B00P9ZR3JC', 'B01E5SJNPA', 'B00P80SW20', 'B00BR2DWWS', 'B077YNR4HG', 'B017UMWG2A', 'B01E5SMSMA', 'B01E5SL96G', 'B0000DJ89T', 'B001TQKFE0', 'B001DSEGEO', 'B01552QYUM', 'B01MFAT709', 'B0000DJ7SR', 'B074ZLLM9V', 'B01L8563EC', 'B0000DJ7SX', 'B000T7HFZW', 'B071XP1T96', 'B01136INBW', 'B00NIPV8VY', 'B011VPH4MY', 'B004MPA8P6', 'B0199STNS8'])]\n"
          ]
        }
      ]
    },
    {
      "cell_type": "markdown",
      "source": [
        "# **Recommend Items to target customer based on Cosine Similarity**\n",
        "\n",
        "Since the number of products are very large compared with the number of customers it is not likely to find the similar customers with the high value of similarity. Therefore, we will recommend products in two ways.\n",
        "\n",
        "\n",
        "\n",
        "1.   For customer who wants many recommendations\n",
        "2.   For customer who wants more related and less number of recommendations\n",
        "\n"
      ],
      "metadata": {
        "id": "7vq0JGxVdNnd"
      }
    },
    {
      "cell_type": "markdown",
      "source": [
        "## **For this first case customer,**\n",
        "\n",
        "1.   For customer who wants many recommendations\n",
        "\n",
        "### Recomendation Approach:\n",
        "Recommend all items that **\"all similar customers\"** purchased but target customer didn't purchase\n",
        "\n",
        "\\\n",
        "Since we are recommending all products if items are not purchased by target customer from similar customer's basket. This will generate quite a lot of recommendations.\n",
        "\n"
      ],
      "metadata": {
        "id": "OiZq6v49-VSJ"
      }
    },
    {
      "cell_type": "code",
      "source": [
        "def recommended_items(sample_rdd, similar_customers_basket_rdd):\n",
        "  only_items_for_similar_customers = similar_customers_basket_rdd.flatMap(lambda x : x[1])\n",
        "  recommend_needed_customer_items = sample_rdd.take(1)[0][1]\n",
        "  new_items = only_items_for_similar_customers.filter(lambda x : x not in recommend_needed_customer_items)\n",
        "  return new_items\n",
        "\n",
        "more_recommendations_medium = recommended_items(sample_medium, similar_basket_medium_ASINS)\n",
        "more_recommendations_large =  recommended_items(sample_large, similar_basket_large_ASINS)\n",
        "print(f\"Recommended Items for customer {sample_medium.take(1)[0][0]} :\\n{more_recommendations_medium.collect()}\")\n",
        "print(f\"The number of recommended items(medium_sample): {more_recommendations_medium.count()}\")\n",
        "print(f\"Recommended Items for customer {sample_large.take(1)[0][0]} :\\n{more_recommendations_large.collect()}\")\n",
        "print(f\"The number of recommended items(medium_large): {more_recommendations_large.count()}\")\n"
      ],
      "metadata": {
        "colab": {
          "base_uri": "https://localhost:8080/"
        },
        "id": "OPn0kaly8dhC",
        "outputId": "abb46182-2531-4eff-89d2-6c8b5fb18b0a"
      },
      "execution_count": null,
      "outputs": [
        {
          "output_type": "stream",
          "name": "stdout",
          "text": [
            "Recommended Items for customer 818 :\n",
            "['B001GHYO4E', 'B00014FNU2', 'B00EIS9NW6', 'B00ENP215K', 'B010BUE6CG', 'B006VRNEFO', 'B002OOLUTK', 'B001EQ4SHK', 'B00HJCXX24', 'B01FE7PM1U', 'B005ERUCVQ', 'B0054M0U18', 'B074CHSXN4', 'B00CYMU3TA', 'B007SNJ98G', 'B00UHMOG60', 'B01FG5W2KE', 'B015FFIOO8', 'B002SKVZIQ', 'B005EOTMA6', 'B07939DYBP', 'B0005ZXPY8', 'B00VVMTLV0', 'B0147CMIRE', 'B001B49UOG', 'B00VF03MUY', 'B01NB9PVP6', 'B001GHYO44', 'B00GB8PS9I', 'B0755JN13H', 'B004XJXIM6', 'B01M173US6', 'B001L97SQS', 'B018Y0WYHY', 'B001B5JT8C', 'B00LIAVX98', 'B000F0AUGO', 'B003T0668I', 'B00IXUKFVI', 'B01E9GXNCM', 'B00TXQQDW6', 'B0774M73SF', 'B00060N5OW', 'B01M4IWGHE', 'B06Y1DCSRQ', 'B0793KYR9W', 'B003XKWPD4', 'B000R4FGK8', 'B071W21LLT', 'B001PQMJIY', 'B001H8R00M', 'B079VP6DH6', 'B01FXMD3KS', 'B01HSU0UC2', 'B00GGBLPVU', 'B005HUWCFY', 'B00STSZ77G', 'B00DLKWXRO', 'B004NG9FWQ', 'B0053KN8QA', 'B00ASBOP9S', 'B007P0FWSI', 'B00P2XTTS4', 'B004YPEFH6', 'B00HNSJSX2', 'B0741GFQHJ', 'B016UMTPRK', 'B00COCUM96', 'B00BFUFYZK', 'B00125V10U', 'B00UASJHV0', 'B07B8YW192', 'B07217DZZ7', 'B000VDX25Q', 'B00Q70RCW6', 'B01H07E286', 'B07FCYFGTX', 'B006GHVOX8', 'B01BZ0N69U', 'B072MZLXYZ', 'B019DM86LA', 'B012HE3U2G', 'B00ENS39XK', 'B0049IF5W2', 'B010BUF0VM', 'B00PUOQHDA', 'B00I9VAHD2', 'B00BAO7F3U', 'B00C5RIQRK', 'B001YXXL8U', 'B00FWUO2IE', 'B00DE6Q23Q', 'B00DE6KSTK', 'B00E0Y8PTA', 'B00BOAGEZA', 'B006GHVOX8', 'B007FA1EBW', 'B007F1LYWK', 'B001EQ4H1M', 'B0019N2EQU', 'B01IAYHZVO', 'B004M6ZDKA', 'B009F28PY2', 'B004K6771U', 'B018Y0WYHY', 'B00KPFHOPO', 'B005EOTMA6', 'B0044MNYIK', 'B01FG5W2KE', 'B004SIAOBK', 'B000FLXBN2', 'B00D1RPES2', 'B005VBD2UI', 'B00IV6ZM58', 'B00T77IBNU', 'B004CPAGNA', 'B000VDZ2N6', 'B00060N5OW', 'B00CF5DFGE', 'B0014E4DS6', 'B01GG68Q4I', 'B01M099264', 'B0032GQM5G', 'B018JZFUXY', 'B00IO2RL8K', 'B004YVOFB6', 'B00T70RNQ8', 'B01F7N4KM8', 'B0001CXUHW', 'B004G7PFRQ', 'B00KYW1K26', 'B0012XV382', 'B01H07E286', 'B00U9WIN62', 'B0058PP61U', 'B01A5MHEBU', 'B00F21YX8W', 'B00Q9EX6IY', 'B00AN91QCY', 'B00EQMJFAE', 'B00H46SFU0', 'B00CQG5QUA', 'B00FQGP20Q', 'B00M9C14UW', 'B077QLSLRQ', 'B0046EJ570', 'B01N49HPHK', 'B079VP6DH6', 'B01J3TGH1E', 'B003FULBQ4', 'B00HS6FWN4', 'B00HCNCQ2S', 'B00VF03MUY', 'B01FAOX2GO', 'B074DRLRPJ', 'B0013GMLRA', 'B01FXMDA2O', 'B072MZLXYZ', 'B00KKC6C2I', 'B0000CFN0Y', 'B0014E2UP4', 'B001F0RBT2', 'B0045TMKZK', 'B008D38MDS', 'B00B1GHI3Y', 'B00440FFVG', 'B00BB80366', 'B000RYHEQW', 'B001YXXL8U', 'B00JJ6M2BQ', 'B075MWHHF4', 'B0014CZ4S6', 'B0005ZU8UW', 'B000TGEIRQ']\n",
            "The number of recommended items(medium_sample): 174\n",
            "Recommended Items for customer 488 :\n",
            "['B0001WAMA0', 'B004D9XYWU', 'B00BY78O60', 'B00O2E0RGC', 'B005VY4NVM', 'B00066N8RA', 'B002MG30VQ', 'B07K8RCCB9', 'B07KBCX5GQ', 'B00FBGKCHE', 'B00481RICU', 'B0092WEQCA', 'B000MAODJM', 'B07KLDP4X5', 'B00KPXMNAW', 'B000VENIFO', 'B001IIST1K', 'B07K6WZHMD', 'B000W20UWO', 'B01M3NUOIK', 'B00FBGIO92', 'B00QPHNUYU', 'B003SKZN9C', 'B071GCY9FT', 'B002SZAAJQ', 'B00FBGL0CK', 'B006ZZCWQE', 'B01K8OV63M', 'B001MABOTI', 'B00FI1TGBU', 'B003U82VTC', 'B07546CJF7', 'B00GR9EM3O', 'B01EKDK4NK', 'B00FBGMBZ0', 'B072NZKZLV', 'B00GB7UK6K', 'B01MQDEOK4', 'B01K8P6XNO', 'B009LHPJ1S', 'B01M62H3GY', 'B009LHP1SO', 'B00G9ER6EO', 'B00Q35WR4I', 'B01MD1CCTT', 'B0006GRBBY', 'B00BY78O7Y', 'B009LHPBSE', 'B00GQIFMTO', 'B00FQ540KK', 'B006GY3CO0', 'B009LHPG8Y', 'B00CYLEUVI', 'B00LFVLSXG', 'B00YPM5X2Y', 'B00CKWB58W', 'B009LHPT0O', 'B077J53K7Z', 'B00KCCKV8W', 'B00061MISK', 'B00BXVBKJK', 'B006J7TAHM', 'B002E10JD6', 'B004D9VY3G', 'B0006GX1M2', 'B07KMFVM43', 'B07KFPKXGX', 'B0001R050W', 'B00F4WIL8C', 'B009LHPLWA', 'B00F4WILNC', 'B00FQ53SC6', 'B000XMG130', 'B0006BCAJM', 'B0006GX1KO', 'B0000D9N6N', 'B00EIJN5DS', 'B001LM7QNU', 'B0000V09L4', 'B0000D9N4M', 'B0000D9N38', 'B004OYXBR2', 'B003ZIR8YU', 'B071GCY9FT', 'B004M8PZ9W', 'B00099E8OQ', 'B0755L4S21', 'B0060KPEL4', 'B07GLVV57F', 'B00CHTY1O8', 'B00SK4VNV8', 'B0755LCTWY', 'B00H3TNZUI', 'B010JGGQ6G', 'B00U31UEBQ', 'B004P8HHRW', 'B001THPU9E', 'B001CT0ALC', 'B01BF12NN4', 'B01LB1J9BW', 'B0060KPEOQ', 'B005LURBFQ', 'B01M4RLBJU', 'B005DM3N2M', 'B003DNL9PQ', 'B0007XYBCI', 'B01GJ0ZJA0', 'B000EOXQRG', 'B00IOTB7PG', 'B004M8TKA2', 'B000EM8UGU', 'B0019MJQLC', 'B005H6E59O', 'B00GMZ2HTY', 'B006WCEXLW', 'B001HNG9CW', 'B073DCB2CW', 'B005H6FF3Y', 'B06X9D3S8X', 'B072MNMLCD', 'B01HNTK6FE', 'B00GMYQG42', 'B00QAWUU98', 'B00BCOYO7I', 'B00QAYSQWO', 'B00TYSTW3U', 'B01ATW6NJ0', 'B00D4MA5V0', 'B000FYYP1Q', 'B004H1P2J2', 'B01BLR13G0', 'B071XX3TWP', 'B005HBTNH8', 'B004NEOLIG', 'B00VKTFASW', 'B01KAGEFEA', 'B00I39OTL6', 'B007RFIPTO', 'B01L99GFAE', 'B0075DX64W', 'B00NIPV96I', 'B006GL6N9E', 'B00NIPV8VY', 'B005XPZPG6', 'B018V3TPNK', 'B01K8OV63M', 'B002E0WEJ4', 'B002E0RIF4', 'B004D9XYWU', 'B00KCCKV8W', 'B06ZYRHXTV', 'B077Q2ZZLH', 'B00MTTNMBE', 'B00BY78O7Y', 'B00YPM5X2Y', 'B01N8SQXRB', 'B01K8P14TC', 'B00F34772M', 'B015GAYXP6', 'B01BDI89SW', 'B074JHFQJC', 'B0742L8Y5Y', 'B0773YNFTJ', 'B072BPPSCF', 'B06Y54R68Z', 'B00H7YCVI6', 'B00R7B8DUY', 'B01KAM8LXA', 'B00KWX50BE', 'B004GZ7YBI', 'B00GP0EZ14', 'B003W0JWCC', 'B019CXRMI8', 'B00568B1HW', 'B019HR91W4', 'B003W0KBFE', 'B00H727M6O', 'B00GO6GUIU', 'B00VDWVM7Y', 'B001J3ZUQ6', 'B00DBC0ZRC', 'B01G7SGOL2', 'B00O05974G', 'B01CMT8DFU', 'B01M1CJNXH', 'B07CV4B86R', 'B00V9N5ZQ6', 'B00608D66G', 'B00006IUWB', 'B00WM2TCMQ', 'B01NCRU557', 'B06XR59R76', 'B00AX6JGI8', 'B00INM1OQ6', 'B00VJMJZ1I', 'B07D64BRHY', 'B01M6ZKZPN', 'B01MS5U2SQ', 'B00P88AGIU', 'B00M9NJ5ES', 'B01G7SGOIA', 'B000NWNPAW', 'B01G7SGOXK', 'B00UHKJG8A', 'B0026ST9QK', 'B01EH3C9KO', 'B001J4FSR6', 'B00006IUWA', 'B010TR1SMW', 'B01DOF8Y78', 'B00PZLOVJK', 'B00M9NLJWO', 'B0089XJDIK', 'B00KL8SM92', 'B07CV2WJ3L', 'B01MT1JJVQ', 'B07HGDD3XQ', 'B01MS65QTL', 'B00H7282WW', 'B07CWY8FW6', 'B00NF9CT0C', 'B01HVOQO0W', 'B074P8GBPB', 'B00M9NJXJK', 'B00HR77LK6', 'B01D321B4A', 'B00KQ1EZX6', 'B00OQMVU4S', 'B072J834VK', 'B004W8LT10', 'B00H727TE4', 'B00ITQDSI8', 'B01H4CRK90', 'B07CV2XV7W', 'B00DX0K6F8', 'B07CDF9Y17', 'B000RPYX4W', 'B01N2Y8UFB', 'B01CDBBB92', 'B00E3X22A6', 'B072LTWNQD', 'B00XCY3FJY', 'B07JGB83F2', 'B00IRW155C', 'B00CA6RE8S', 'B00JR5ADG0', 'B07DFMWF37', 'B07CV28ZQ2', 'B00PZMGMLY', 'B00005IBXK', 'B00004SU35', 'B07DJ1Q1HK', 'B00J5HA3BA', 'B00E3IXY62', 'B07C41K3JB', 'B004MPA8P6', 'B01AMT1IIG', 'B01AMSZO82', 'B073HGQDL5', 'B00H32IEW4', 'B075V85ZBJ', 'B00J5HD588', 'B01AMT1IY0', 'B00D2HK9HM', 'B00H32JEWI', 'B01AMT16RO', 'B075V6L3H5', 'B00J5H9J1U', 'B01AMT2WK4', 'B00FQ24602', 'B00FQ24A9Y', 'B075V9B8SW', 'B00J5H4VWC', 'B00E3IXLJW', 'B07KWKQ83M', 'B07CN7NTPJ', 'B00J5HBHRO', 'B074JHFQJC', 'B00OPENQ80', 'B075V9V1J8', 'B00D2HKAJO', 'B06Y54R68Z', 'B01AMT32Y4', 'B00J5H3E02', 'B07D6869XT', 'B00D86P2UG', 'B00J5HA0OK', 'B00D2HK7ME', 'B00WT1O8AG', 'B00GT60FMM', 'B0000DG8AR', 'B075V5XQ1C', 'B073RGWDJS', 'B00D2HK8N2', 'B00J5HB6TI', 'B074JHFQJD', 'B01AMT1MRS', 'B01AMT1SU4', 'B01N2IZS3H', 'B0787GLLP7', 'B0166AR4EC', 'B0747BXJYH', 'B00YPM5X2Y', 'B00FQ24SJQ', 'B07B8XYSPM', 'B005TE2IU2', 'B0166AQ97A', 'B00J5H3RV8', 'B07B8PPL3Q', 'B00E0UB5NM', 'B00FQ265QK', 'B00KWX50BE', 'B00J5HABUI', 'B00E45NJIM', 'B07B1N6MS7', 'B075VBPYSH', 'B074JJ84FG', 'B00H32I5VE', 'B00UAJ7XIS', 'B00J5H9B1I', 'B000GGXEEW', 'B00KWX688S', 'B075V6L3H5', 'B01AMT1IY0', 'B00E3IXY62', 'B00H32JEWI', 'B00H32IEW4', 'B01AMSZO82', 'B075V9B8SW', 'B00FQ24SJQ', 'B00FQ24602', 'B00FQ24A9Y', 'B01B7H10VM', 'B004D9XYWU', 'B00OPENQ80', 'B0081BE3E4', 'B01676307A', 'B01KGLH0OG', 'B0000D9169', 'B004XDMS3C', 'B00F4WIL8C', 'B07KQZDRX8', 'B00UAJ7XIS', 'B00E0U88XM', 'B00KWX50BE', 'B00H32I5VE', 'B00E0UB5NM', 'B00PSHRJUY', 'B01EYSCA88', 'B00RZ6GXJE', 'B00M1XRPSY', 'B00M1XR73M', 'B00P9ZR3JC', 'B01E5SJNPA', 'B00P80SW20', 'B00BR2DWWS', 'B077YNR4HG', 'B017UMWG2A', 'B01E5SMSMA', 'B01E5SL96G', 'B0000DJ89T', 'B001TQKFE0', 'B001DSEGEO', 'B01552QYUM', 'B01MFAT709', 'B0000DJ7SR', 'B074ZLLM9V', 'B01L8563EC', 'B0000DJ7SX', 'B000T7HFZW', 'B071XP1T96', 'B00NIPV8VY', 'B011VPH4MY', 'B004MPA8P6', 'B0199STNS8']\n",
            "The number of recommended items(medium_large): 375\n"
          ]
        }
      ]
    },
    {
      "cell_type": "markdown",
      "source": [
        "More reduced_size recommendation\n",
        "Recommend items to customer when the most similar customer purchased but the customer wants to get recommendation didn't purchase."
      ],
      "metadata": {
        "id": "qZaPPL8w-dst"
      }
    },
    {
      "cell_type": "markdown",
      "source": [
        "## **For this second case customer,**\n",
        "\n",
        "2. For customer who wants more related and less number of recommendations\n",
        "\n",
        "### Recomendation Approach:\n",
        "Recommend all items that **\"only the MOST similar customer\"** purchased but target customer didn't purchase\n",
        "\n",
        "\\\n",
        "We are recommending only products from the MOST similar customer's basket not like the first case (they are recomending products from all similar customer's baskets) This will generate qless number of recommendations to target customer and it is likely to be more personalized as the most similar customer shares the highest shopping taste with the target customer.\n"
      ],
      "metadata": {
        "id": "haLlGqXkfL-U"
      }
    },
    {
      "cell_type": "code",
      "source": [
        "def reduced_size_recommendations(sample_rdd, similar_customers_basket_rdd, similarity_rdd):\n",
        "\n",
        "  recommend_needed_customer_items = sample_rdd.take(1)[0][1]\n",
        "\n",
        "  most_similar_customer_index = similarity_rdd.sortBy(lambda x : -x[1]).take(1)[0][0]\n",
        "\n",
        "  sample_indx = sample_rdd.zipWithIndex().map(lambda x : (x[1],x[0]))\n",
        "  similar_user_with_basket_indx = sample_indx.filter(lambda x : x[0] == most_similar_customer_index)\n",
        "\n",
        "  #Remove index for getting similar customers basket\n",
        "  most_similar_user_with_basket = similar_user_with_basket_indx.map(lambda x : x[1])\n",
        "  most_similar_user_only_items = most_similar_user_with_basket.flatMap(lambda x : x[1])\n",
        "\n",
        "  new_items = most_similar_user_only_items.filter(lambda x : x not in recommend_needed_customer_items)\n",
        "  return new_items\n",
        "\n",
        "less_recommendations_medium = reduced_size_recommendations(sample_medium, similar_basket_medium_ASINS, similar_basket_medium)\n",
        "less_recommendations_large =  reduced_size_recommendations(sample_large, similar_basket_large_ASINS, similar_basket_large)\n",
        "print(f\"Recommended Items for customer {sample_medium.take(1)[0][0]} :\\n{less_recommendations_medium.collect()}\")\n",
        "print(f\"The number of recommended items(medium_sample): {less_recommendations_medium.count()}\")\n",
        "print(f\"Recommended Items for customer {sample_large.take(1)[0][0]} :\\n{less_recommendations_large.collect()}\")\n",
        "print(f\"The number of recommended items(medium_large): {less_recommendations_large.count()}\")"
      ],
      "metadata": {
        "id": "BL28xAbPb6xN",
        "colab": {
          "base_uri": "https://localhost:8080/"
        },
        "outputId": "31a1a5ac-3dd9-44f6-d6d1-2a80ae4720d8"
      },
      "execution_count": null,
      "outputs": [
        {
          "output_type": "stream",
          "name": "stdout",
          "text": [
            "Recommended Items for customer 818 :\n",
            "['B00DE6Q23Q', 'B00DE6KSTK', 'B00E0Y8PTA', 'B00BOAGEZA', 'B006GHVOX8', 'B007FA1EBW', 'B007F1LYWK', 'B001EQ4H1M', 'B0019N2EQU', 'B01IAYHZVO', 'B004M6ZDKA', 'B009F28PY2', 'B004K6771U', 'B018Y0WYHY', 'B00KPFHOPO', 'B005EOTMA6', 'B0044MNYIK', 'B01FG5W2KE', 'B004SIAOBK', 'B000FLXBN2', 'B00D1RPES2', 'B005VBD2UI', 'B00IV6ZM58', 'B00T77IBNU', 'B004CPAGNA', 'B000VDZ2N6', 'B00060N5OW', 'B00CF5DFGE', 'B0014E4DS6', 'B01GG68Q4I', 'B01M099264', 'B0032GQM5G', 'B018JZFUXY', 'B00IO2RL8K', 'B004YVOFB6', 'B00T70RNQ8', 'B01F7N4KM8', 'B0001CXUHW', 'B004G7PFRQ', 'B00KYW1K26', 'B0012XV382', 'B01H07E286', 'B00U9WIN62', 'B0058PP61U', 'B01A5MHEBU', 'B00F21YX8W', 'B00Q9EX6IY', 'B00AN91QCY', 'B00EQMJFAE', 'B00H46SFU0', 'B00CQG5QUA', 'B00FQGP20Q', 'B00M9C14UW', 'B077QLSLRQ', 'B0046EJ570', 'B01N49HPHK', 'B079VP6DH6', 'B01J3TGH1E', 'B003FULBQ4', 'B00HS6FWN4', 'B00HCNCQ2S', 'B00VF03MUY', 'B01FAOX2GO', 'B074DRLRPJ', 'B0013GMLRA', 'B01FXMDA2O', 'B072MZLXYZ', 'B00KKC6C2I', 'B0000CFN0Y', 'B0014E2UP4', 'B001F0RBT2', 'B0045TMKZK', 'B008D38MDS', 'B00B1GHI3Y', 'B00440FFVG', 'B00BB80366', 'B000RYHEQW', 'B001YXXL8U', 'B00JJ6M2BQ', 'B075MWHHF4', 'B0014CZ4S6', 'B0005ZU8UW', 'B000TGEIRQ']\n",
            "The number of recommended items(medium_sample): 83\n",
            "Recommended Items for customer 488 :\n",
            "['B0000D9N6N', 'B00EIJN5DS', 'B001LM7QNU', 'B0000V09L4', 'B0000D9N4M', 'B0000D9N38', 'B004OYXBR2', 'B003ZIR8YU', 'B071GCY9FT']\n",
            "The number of recommended items(medium_large): 9\n"
          ]
        }
      ]
    },
    {
      "cell_type": "markdown",
      "source": [
        "# **Test Scalability**"
      ],
      "metadata": {
        "id": "B3Je04rEvQQU"
      }
    },
    {
      "cell_type": "markdown",
      "source": [
        "Write  pyspark_recommendations.py"
      ],
      "metadata": {
        "id": "HAthkw23vWNM"
      }
    },
    {
      "cell_type": "code",
      "source": [
        "%%writefile pyspark_recommendations.py\n",
        "\n",
        "from operator import *\n",
        "import pyspark\n",
        "from pyspark import SparkConf, SparkContext\n",
        "from pyspark.sql import *\n",
        "spark = SparkSession.builder.master(\"local[*]\").appName('SparkExample').config(\n",
        "    \"spark.executor.memory\", \"1g\").config(\n",
        "        \"spark.executorEnv.PYTHONHASHSEED\",\"0\").config(\"spark.ui.port\", \"4050\"\n",
        "        ).getOrCreate()\n",
        "sc = spark.sparkContext\n",
        "from pyspark.ml.linalg import SparseVector\n",
        "from math import sqrt\n",
        "import pyspark, time\n",
        "import sys\n",
        "from operator import add\n",
        "\n",
        "support_threshold = 1000\n",
        "if len(sys.argv) == 3:\n",
        "  support_threshold = int(sys.argv[2])\n",
        "\n",
        "time_start = time.time()\n",
        "\n",
        "file_path = sys.argv[1]\n",
        "\n",
        "item_purchased = spark.read.json(file_path).rdd\n",
        "\n",
        "num_basket = item_purchased.count()\n",
        "\n",
        "asin = item_purchased.map(lambda x : x[2])\n",
        "title = item_purchased.map(lambda x : x[18])\n",
        "\n",
        "index_asin = asin.zipWithIndex().map(lambda x : (x[1], x[0]))\n",
        "index_title = title.zipWithIndex().map(lambda x : (x[1], x[0]))\n",
        "\n",
        "join_asin_title = index_asin.join(index_title).map(lambda x : x[1])\n",
        "\n",
        "also_buy = item_purchased.map(lambda x : x[0])\n",
        "index_also_buy = also_buy.zipWithIndex().map(lambda x : (x[1], x[0]))\n",
        "\n",
        "all_items_in_basket_with_indx = index_asin.join(index_also_buy)\n",
        "list_of_baskets_with_indx = all_items_in_basket_with_indx.map(lambda x : (x[0], [x[1][0]]+(x[1][1])))\n",
        "list_of_baskets = list_of_baskets_with_indx.sortBy(lambda x : x[0])\n",
        "num_products = list_of_baskets.flatMap(lambda x : x[1]).distinct().count()\n",
        "\n",
        "#Most frequent items\n",
        "def a_priori_step1(items_per_basket):\n",
        "  items = items_per_basket.flatMap(lambda x: x[1])\n",
        "  itemsCount = items.map(lambda x : (x, 1)).reduceByKey(add)\n",
        "  return itemsCount\n",
        "\n",
        "def a_priori(rdd, support=100):\n",
        "  supportItems = a_priori_step1(rdd).filter(lambda x : x[1] > support)\n",
        "  freqItems = sc.broadcast(supportItems.collectAsMap())\n",
        "\n",
        "  def filter_uncommon(text):\n",
        "    return [item  for item in text if item in freqItems.value]\n",
        "\n",
        "  def items_pair_tup(line):\n",
        "    \"\"\"Function for pairing up all items to tuple within the same line\"\"\"\n",
        "    return [tuple(sorted((line[j], line[i]))) for i in range(len(line)) for j in range(i)]\n",
        "\n",
        "  freqItemPerBasket = rdd.map(lambda x : x[1]).map(filter_uncommon)\n",
        "  freqItemPair = freqItemPerBasket.filter(lambda x : len(x)>=2).flatMap(items_pair_tup)\n",
        "  freqItemPairCount = freqItemPair.map(lambda x : (x, 1)).reduceByKey(add)\n",
        "\n",
        "  return freqItemPairCount\n",
        "\n",
        "top_item_counts = a_priori_step1(list_of_baskets).filter(lambda kv: kv[1]>=100)\n",
        "top_pair_counts = a_priori(list_of_baskets, support=100)\n",
        "\n",
        "def confidence(item_counts, pair_counts, n):\n",
        "  item_support = item_counts.map(lambda x : (x[0], x[1]/n))\n",
        "  pair_support = pair_counts.map(lambda x : (x[0], x[1]/n))\n",
        "  X_Ypair_map = pair_support.map(lambda x : (x[0][0],(x[0][1], x[1])))\n",
        "  Y_Xpair_map = pair_support.map(lambda x : (x[0][1],(x[0][0], x[1])))\n",
        "  X_Yjoin = item_support.join(X_Ypair_map)\n",
        "  Y_Xjoin = item_support.join(Y_Xpair_map)\n",
        "  confCombined = X_Yjoin.union(Y_Xjoin)\n",
        "  confidence = confCombined.map(lambda x : ((x[0],x[1][1][0]), x[1][1][1]/x[1][0]))\n",
        "  return confidence\n",
        "\n",
        "top_rule_confidences = confidence(top_item_counts, top_pair_counts, num_basket)\n",
        "\n",
        "def interest(item_counts, rule_confidences, n):\n",
        "  #Map the items with the corresponding its probability (Y, Probability of Y)\n",
        "  ProbY = item_counts.map(lambda x : (x[0], x[1]/n))\n",
        "\n",
        "  #Swap the pair((X, Y), _) form to (Y, (X, Conf(X->Y))) to make Y as key\n",
        "  X_YconfPair = rule_confidences.map(lambda x : (x[0][1],(x[0][0], x[1])))\n",
        "\n",
        "  #Join to get the form of (Y,(Prob(Y), (X, Conf(X->Y)))) to calculate interest next\n",
        "  X_Yjoin = ProbY.join(X_YconfPair)\n",
        "\n",
        "  #Calculate Interest by subtracting Conf(X->Y) - Prob(Y)\n",
        "  #and mapping them in form ((X, Y), Interest(X->Y))\n",
        "  interest = X_Yjoin.map(lambda x : ((x[1][1][0], x[0]), x[1][1][1]-x[1][0]))\n",
        "  return interest\n",
        "\n",
        "top_interest = interest(top_item_counts, top_rule_confidences, num_basket)\n",
        "sample_small = list_of_baskets.filter(lambda x : len(x[1])>=3).sample(False, 0.00005, 81)\n",
        "num_of_customer = sample_small.count()\n",
        "sample_customers = (sample_small.map(lambda x : x[0]).collect())\n",
        "\n",
        "def recommend_items(sample_data_rdd, co_purchased_pairs_rdd, target_user):\n",
        "  # Create a lookup dictionary for user items\n",
        "  user_items_dict = dict(sample_data_rdd.collect())\n",
        "\n",
        "  # Get the items already purchased by the target user\n",
        "  purchased_items = user_items_dict.get(target_user, [])\n",
        "\n",
        "  # Filter the co-purchased pairs with interest higher than 0.6\n",
        "  filtered_pairs_rdd = co_purchased_pairs_rdd.filter(lambda x: x[1] > 0.5)\n",
        "\n",
        "  # Find the co-purchased items from the co-purchased pair list\n",
        "  recommendations = filtered_pairs_rdd.filter(lambda x: any(item in purchased_items for item in x[0]))\n",
        "\n",
        "  # Extract the recommended items\n",
        "  recommended_items = recommendations.flatMap(lambda x: x[0]).distinct().collect()\n",
        "\n",
        "  # Extract the recommended items\n",
        "  recommended_items = recommendations.flatMap(lambda x: x[0]).distinct().collect()\n",
        "  return target_user, recommended_items\n",
        "\n",
        "for target_user in sample_customers:\n",
        "  target_customer, recommendations = (recommend_items(sample_small, top_interest, target_user))\n",
        "  print((f\"Recommended Items for user {target_customer}\", recommendations))\n",
        "  print(f\"The number of recommended items for user {target_customer} : {len(recommendations)}\\n\")\n",
        "\n",
        "sample_medium = list_of_baskets.filter(lambda x : len(x[1])>=3).sample(False, 0.001, 81)\n",
        "\n",
        "sample_large = list_of_baskets.filter(lambda x : len(x[1])>=3).sample(False, 0.01, 51)\n",
        "\n",
        "#Generate Sparse vector for each sampled customer of what they purchased\n",
        "def generate_SV(customer_items_rdd):\n",
        "\n",
        "  \"\"\"This function call creat_sparse_vector function\n",
        "  to perform generating Sparse Vector for each basket with customer ID\"\"\"\n",
        "\n",
        "  # customer_items_rdd: a list of (customer_id, [item_id1, item_id2, ...]) tuples called 'customer_items'\n",
        "  # Create a dictionary of item indices for efficient lookup\n",
        "  item_indices = customer_items_rdd.flatMap(lambda x: x[1]).distinct().zipWithIndex().collectAsMap()\n",
        "\n",
        "  #Broadcast the item_indices dictionary to all worker nodes\n",
        "  item_indices_broadcast = sc.broadcast(item_indices)\n",
        "\n",
        "  # Create sparse vectors for each customer's item vector\n",
        "  def create_sparse_vector(customer_items, item_indices_broadcast):\n",
        "      indices = [item_indices_broadcast.value.get(item, 0) for item in customer_items]\n",
        "      indices = [index for index in indices if index != 0]\n",
        "      indices.sort()\n",
        "      values = [1] * len(indices)\n",
        "      vector_size = len(item_indices_broadcast.value)\n",
        "      return (indices, SparseVector(vector_size, indices, values))\n",
        "\n",
        "  customer_vectors = customer_items_rdd.map(lambda x : (x[0], create_sparse_vector(x[1], item_indices_broadcast)))\n",
        "\n",
        "  return customer_vectors\n",
        "\n",
        "def SV_information(SV_rdd):\n",
        "  customer_id_list = []\n",
        "  only_SV_list = []\n",
        "  for customer_id, vector in SV_rdd.collect():\n",
        "    customer_id_list.append(customer_id)\n",
        "    only_SV_list.append(vector[1])\n",
        "  return customer_id_list, only_SV_list\n",
        "\n",
        "\n",
        "\n",
        "def cosine_similarity_sv(x, y):\n",
        "  \"\"\"\n",
        "  Computes cosine similarity on spark ML SparseVectors x and y\n",
        "  \"\"\"\n",
        "  #multiplication of two 1's is a 1, anything else is a 0, so bitset dot product\n",
        "  # is equivalent to bitwise and followed by a count of all nonzero elements\n",
        "  dot_product = x.dot(y)\n",
        "\n",
        "  #magnitude is sqrt(sum of squares), square of 0 is 0 and square of 1 is 1,\n",
        "  #so sum of squares for us is equivalent to count of all nonzero elements\n",
        "  mag_x = sqrt(x.numNonzeros())\n",
        "  mag_y = sqrt(y.numNonzeros())\n",
        "\n",
        "  return dot_product / (mag_x*mag_y)\n",
        "\n",
        "def customer_similarity(sample, baskets):\n",
        "  customer_id, only_indexes = baskets\n",
        "  baskets_list = sc.broadcast(only_indexes)\n",
        "  #Use the first customer in the sample as recomendation needed customer\n",
        "  test_user_sv = only_indexes[0]\n",
        "  similarity_cal = sample.map(lambda x: [cosine_similarity_sv(test_user_sv, s) for s in baskets_list.value])\n",
        "  similarity_list = similarity_cal.take(1)[0]\n",
        "  return similarity_list\n",
        "\n",
        "def find_similar_customers(sample, similarity_list):\n",
        "    similarity_rdd = sc.parallelize(similarity_list)\n",
        "    similarity_rdd_with_indx = similarity_rdd.zipWithIndex().map(lambda x : (x[1],x[0]))\n",
        "    filter_test_customer = similarity_rdd_with_indx.filter(lambda x : x[1] < 0.9 and x[1]!=0.0)\n",
        "    similar_customers = filter_test_customer.sortBy(lambda x : -x[1])\n",
        "\n",
        "    return similar_customers\n",
        "\n",
        "similar_basket_medium = find_similar_customers(sample_medium, customer_similarity(sample_medium, SV_information(generate_SV(sample_medium))))\n",
        "similar_basket_large = find_similar_customers(sample_large, customer_similarity(sample_large, SV_information(generate_SV(sample_large))))\n",
        "\n",
        "\n",
        "def generate_similar_customer_with_basket(similar_customers_rdd, sample):\n",
        "  similar_customers_list = similar_customers_rdd.map(lambda x : x[0]).collect()\n",
        "  sample_indx = sample.zipWithIndex().map(lambda x : (x[1],x[0]))\n",
        "  similar_user_with_basket_indx = sample_indx.filter(lambda x : x[0] in similar_customers_list)\n",
        "\n",
        "  #Remove index for getting similar customers basket\n",
        "  similar_user_with_basket = similar_user_with_basket_indx.map(lambda x : x[1])\n",
        "  return similar_user_with_basket\n",
        "\n",
        "similar_basket_medium_ASINS = generate_similar_customer_with_basket(similar_basket_medium, sample_medium)\n",
        "similar_basket_large_ASINS = generate_similar_customer_with_basket(similar_basket_large, sample_large)\n",
        "\n",
        "\n",
        "def recommended_items(sample_rdd, similar_customers_basket_rdd):\n",
        "  only_items_for_similar_customers = similar_customers_basket_rdd.flatMap(lambda x : x[1])\n",
        "  recommend_needed_customer_items = sample_rdd.take(1)[0][1]\n",
        "  new_items = only_items_for_similar_customers.filter(lambda x : x not in recommend_needed_customer_items)\n",
        "  return new_items\n",
        "\n",
        "more_recommendations_medium = recommended_items(sample_medium, similar_basket_medium_ASINS)\n",
        "more_recommendations_large =  recommended_items(sample_large, similar_basket_large_ASINS)\n",
        "print(f\"Recommended Items for customer {sample_medium.take(1)[0][0]} :\\n{more_recommendations_medium.collect()}\")\n",
        "print(f\"The number of recommended items(medium_sample): {more_recommendations_medium.count()}\")\n",
        "print(f\"Recommended Items for customer {sample_large.take(1)[0][0]} :\\n{more_recommendations_large.collect()}\")\n",
        "print(f\"The number of recommended items(medium_large): {more_recommendations_large.count()}\")\n",
        "\n",
        "\n",
        "time_end = time.time()\n",
        "print(f\"elapsed time is {time_end-time_start}\")"
      ],
      "metadata": {
        "colab": {
          "base_uri": "https://localhost:8080/"
        },
        "id": "C3hQQRspvVZd",
        "outputId": "28c559c7-5822-4cc4-a2d4-1f2b1b5568c0"
      },
      "execution_count": null,
      "outputs": [
        {
          "output_type": "stream",
          "name": "stdout",
          "text": [
            "Writing pyspark_recommendations.py\n"
          ]
        }
      ]
    },
    {
      "cell_type": "code",
      "source": [
        "USERNAME=\"bonghyun\"\n",
        "%env REGION=australia-southeast1\n",
        "%env ZONE=australia-southeast1-a\n",
        "%env PROJECT=data301-2023-$USERNAME\n",
        "%env CLUSTER=data301-2023-$USERNAME-project-cluster\n",
        "%env BUCKET=data301-2023-$USERNAME-project-bucket"
      ],
      "metadata": {
        "colab": {
          "base_uri": "https://localhost:8080/"
        },
        "id": "KJYo2zIwv2ev",
        "outputId": "395d49d4-a41f-4853-d7ff-7bd4df2a5fff"
      },
      "execution_count": null,
      "outputs": [
        {
          "output_type": "stream",
          "name": "stdout",
          "text": [
            "env: REGION=australia-southeast1\n",
            "env: ZONE=australia-southeast1-a\n",
            "env: PROJECT=data301-2023-bonghyun\n",
            "env: CLUSTER=data301-2023-bonghyun-project-cluster\n",
            "env: BUCKET=data301-2023-bonghyun-project-bucket\n"
          ]
        }
      ]
    },
    {
      "cell_type": "markdown",
      "source": [
        "Run code to setup google cloud project and storage bucket."
      ],
      "metadata": {
        "id": "MYJAwH63v2Ii"
      }
    },
    {
      "cell_type": "code",
      "source": [
        "!python3 -m pip install google-cloud-dataproc[libcst]"
      ],
      "metadata": {
        "colab": {
          "base_uri": "https://localhost:8080/"
        },
        "id": "0PB3RBnnv6om",
        "outputId": "6c421bcf-1dee-4aa6-f547-90c0b0d703de"
      },
      "execution_count": null,
      "outputs": [
        {
          "output_type": "stream",
          "name": "stdout",
          "text": [
            "Looking in indexes: https://pypi.org/simple, https://us-python.pkg.dev/colab-wheels/public/simple/\n",
            "Collecting google-cloud-dataproc[libcst]\n",
            "  Downloading google_cloud_dataproc-5.4.1-py2.py3-none-any.whl (307 kB)\n",
            "\u001b[2K     \u001b[90m━━━━━━━━━━━━━━━━━━━━━━━━━━━━━━━━━━━━━━━\u001b[0m \u001b[32m307.5/307.5 kB\u001b[0m \u001b[31m4.4 MB/s\u001b[0m eta \u001b[36m0:00:00\u001b[0m\n",
            "\u001b[?25h\u001b[33mWARNING: google-cloud-dataproc 5.4.1 does not provide the extra 'libcst'\u001b[0m\u001b[33m\n",
            "\u001b[0mRequirement already satisfied: google-api-core[grpc]!=2.0.*,!=2.1.*,!=2.10.*,!=2.2.*,!=2.3.*,!=2.4.*,!=2.5.*,!=2.6.*,!=2.7.*,!=2.8.*,!=2.9.*,<3.0.0dev,>=1.34.0 in /usr/local/lib/python3.10/dist-packages (from google-cloud-dataproc[libcst]) (2.11.0)\n",
            "Requirement already satisfied: proto-plus<2.0.0dev,>=1.22.0 in /usr/local/lib/python3.10/dist-packages (from google-cloud-dataproc[libcst]) (1.22.2)\n",
            "Requirement already satisfied: protobuf!=3.20.0,!=3.20.1,!=4.21.0,!=4.21.1,!=4.21.2,!=4.21.3,!=4.21.4,!=4.21.5,<5.0.0dev,>=3.19.5 in /usr/local/lib/python3.10/dist-packages (from google-cloud-dataproc[libcst]) (3.20.3)\n",
            "Collecting grpc-google-iam-v1<1.0.0dev,>=0.12.4 (from google-cloud-dataproc[libcst])\n",
            "  Downloading grpc_google_iam_v1-0.12.6-py2.py3-none-any.whl (26 kB)\n",
            "Requirement already satisfied: googleapis-common-protos<2.0dev,>=1.56.2 in /usr/local/lib/python3.10/dist-packages (from google-api-core[grpc]!=2.0.*,!=2.1.*,!=2.10.*,!=2.2.*,!=2.3.*,!=2.4.*,!=2.5.*,!=2.6.*,!=2.7.*,!=2.8.*,!=2.9.*,<3.0.0dev,>=1.34.0->google-cloud-dataproc[libcst]) (1.59.0)\n",
            "Requirement already satisfied: google-auth<3.0dev,>=2.14.1 in /usr/local/lib/python3.10/dist-packages (from google-api-core[grpc]!=2.0.*,!=2.1.*,!=2.10.*,!=2.2.*,!=2.3.*,!=2.4.*,!=2.5.*,!=2.6.*,!=2.7.*,!=2.8.*,!=2.9.*,<3.0.0dev,>=1.34.0->google-cloud-dataproc[libcst]) (2.17.3)\n",
            "Requirement already satisfied: requests<3.0.0dev,>=2.18.0 in /usr/local/lib/python3.10/dist-packages (from google-api-core[grpc]!=2.0.*,!=2.1.*,!=2.10.*,!=2.2.*,!=2.3.*,!=2.4.*,!=2.5.*,!=2.6.*,!=2.7.*,!=2.8.*,!=2.9.*,<3.0.0dev,>=1.34.0->google-cloud-dataproc[libcst]) (2.27.1)\n",
            "Requirement already satisfied: grpcio<2.0dev,>=1.33.2 in /usr/local/lib/python3.10/dist-packages (from google-api-core[grpc]!=2.0.*,!=2.1.*,!=2.10.*,!=2.2.*,!=2.3.*,!=2.4.*,!=2.5.*,!=2.6.*,!=2.7.*,!=2.8.*,!=2.9.*,<3.0.0dev,>=1.34.0->google-cloud-dataproc[libcst]) (1.54.0)\n",
            "Requirement already satisfied: grpcio-status<2.0dev,>=1.33.2 in /usr/local/lib/python3.10/dist-packages (from google-api-core[grpc]!=2.0.*,!=2.1.*,!=2.10.*,!=2.2.*,!=2.3.*,!=2.4.*,!=2.5.*,!=2.6.*,!=2.7.*,!=2.8.*,!=2.9.*,<3.0.0dev,>=1.34.0->google-cloud-dataproc[libcst]) (1.48.2)\n",
            "Requirement already satisfied: cachetools<6.0,>=2.0.0 in /usr/local/lib/python3.10/dist-packages (from google-auth<3.0dev,>=2.14.1->google-api-core[grpc]!=2.0.*,!=2.1.*,!=2.10.*,!=2.2.*,!=2.3.*,!=2.4.*,!=2.5.*,!=2.6.*,!=2.7.*,!=2.8.*,!=2.9.*,<3.0.0dev,>=1.34.0->google-cloud-dataproc[libcst]) (5.3.0)\n",
            "Requirement already satisfied: pyasn1-modules>=0.2.1 in /usr/local/lib/python3.10/dist-packages (from google-auth<3.0dev,>=2.14.1->google-api-core[grpc]!=2.0.*,!=2.1.*,!=2.10.*,!=2.2.*,!=2.3.*,!=2.4.*,!=2.5.*,!=2.6.*,!=2.7.*,!=2.8.*,!=2.9.*,<3.0.0dev,>=1.34.0->google-cloud-dataproc[libcst]) (0.3.0)\n",
            "Requirement already satisfied: six>=1.9.0 in /usr/local/lib/python3.10/dist-packages (from google-auth<3.0dev,>=2.14.1->google-api-core[grpc]!=2.0.*,!=2.1.*,!=2.10.*,!=2.2.*,!=2.3.*,!=2.4.*,!=2.5.*,!=2.6.*,!=2.7.*,!=2.8.*,!=2.9.*,<3.0.0dev,>=1.34.0->google-cloud-dataproc[libcst]) (1.16.0)\n",
            "Requirement already satisfied: rsa<5,>=3.1.4 in /usr/local/lib/python3.10/dist-packages (from google-auth<3.0dev,>=2.14.1->google-api-core[grpc]!=2.0.*,!=2.1.*,!=2.10.*,!=2.2.*,!=2.3.*,!=2.4.*,!=2.5.*,!=2.6.*,!=2.7.*,!=2.8.*,!=2.9.*,<3.0.0dev,>=1.34.0->google-cloud-dataproc[libcst]) (4.9)\n",
            "Requirement already satisfied: urllib3<1.27,>=1.21.1 in /usr/local/lib/python3.10/dist-packages (from requests<3.0.0dev,>=2.18.0->google-api-core[grpc]!=2.0.*,!=2.1.*,!=2.10.*,!=2.2.*,!=2.3.*,!=2.4.*,!=2.5.*,!=2.6.*,!=2.7.*,!=2.8.*,!=2.9.*,<3.0.0dev,>=1.34.0->google-cloud-dataproc[libcst]) (1.26.15)\n",
            "Requirement already satisfied: certifi>=2017.4.17 in /usr/local/lib/python3.10/dist-packages (from requests<3.0.0dev,>=2.18.0->google-api-core[grpc]!=2.0.*,!=2.1.*,!=2.10.*,!=2.2.*,!=2.3.*,!=2.4.*,!=2.5.*,!=2.6.*,!=2.7.*,!=2.8.*,!=2.9.*,<3.0.0dev,>=1.34.0->google-cloud-dataproc[libcst]) (2022.12.7)\n",
            "Requirement already satisfied: charset-normalizer~=2.0.0 in /usr/local/lib/python3.10/dist-packages (from requests<3.0.0dev,>=2.18.0->google-api-core[grpc]!=2.0.*,!=2.1.*,!=2.10.*,!=2.2.*,!=2.3.*,!=2.4.*,!=2.5.*,!=2.6.*,!=2.7.*,!=2.8.*,!=2.9.*,<3.0.0dev,>=1.34.0->google-cloud-dataproc[libcst]) (2.0.12)\n",
            "Requirement already satisfied: idna<4,>=2.5 in /usr/local/lib/python3.10/dist-packages (from requests<3.0.0dev,>=2.18.0->google-api-core[grpc]!=2.0.*,!=2.1.*,!=2.10.*,!=2.2.*,!=2.3.*,!=2.4.*,!=2.5.*,!=2.6.*,!=2.7.*,!=2.8.*,!=2.9.*,<3.0.0dev,>=1.34.0->google-cloud-dataproc[libcst]) (3.4)\n",
            "Requirement already satisfied: pyasn1<0.6.0,>=0.4.6 in /usr/local/lib/python3.10/dist-packages (from pyasn1-modules>=0.2.1->google-auth<3.0dev,>=2.14.1->google-api-core[grpc]!=2.0.*,!=2.1.*,!=2.10.*,!=2.2.*,!=2.3.*,!=2.4.*,!=2.5.*,!=2.6.*,!=2.7.*,!=2.8.*,!=2.9.*,<3.0.0dev,>=1.34.0->google-cloud-dataproc[libcst]) (0.5.0)\n",
            "Installing collected packages: grpc-google-iam-v1, google-cloud-dataproc\n",
            "Successfully installed google-cloud-dataproc-5.4.1 grpc-google-iam-v1-0.12.6\n"
          ]
        }
      ]
    },
    {
      "cell_type": "code",
      "source": [
        "!gcloud auth login"
      ],
      "metadata": {
        "colab": {
          "base_uri": "https://localhost:8080/"
        },
        "id": "9FMIN8MzwDAb",
        "outputId": "7b38768f-7811-4712-cbb0-093b65229772"
      },
      "execution_count": null,
      "outputs": [
        {
          "output_type": "stream",
          "name": "stdout",
          "text": [
            "Go to the following link in your browser:\n",
            "\n",
            "    https://accounts.google.com/o/oauth2/auth?response_type=code&client_id=32555940559.apps.googleusercontent.com&redirect_uri=https%3A%2F%2Fsdk.cloud.google.com%2Fauthcode.html&scope=openid+https%3A%2F%2Fwww.googleapis.com%2Fauth%2Fuserinfo.email+https%3A%2F%2Fwww.googleapis.com%2Fauth%2Fcloud-platform+https%3A%2F%2Fwww.googleapis.com%2Fauth%2Fappengine.admin+https%3A%2F%2Fwww.googleapis.com%2Fauth%2Fsqlservice.login+https%3A%2F%2Fwww.googleapis.com%2Fauth%2Fcompute+https%3A%2F%2Fwww.googleapis.com%2Fauth%2Faccounts.reauth&state=9WURBcHzzJou0VjCn1HLyQrxp07I2X&prompt=consent&access_type=offline&code_challenge=Pnsv-3vsCHrITKMFZMf1CxFG0pFO-5CHWJaKxazjHUg&code_challenge_method=S256\n",
            "\n",
            "Enter authorization code: 4/0AbUR2VOF8u6Ujps_8b8NMI1ZbFkhKrWtaJEtHuxr9BS8_eqA-MBXOUXNQRrP4JCG54ipCw\n",
            "\n",
            "You are now logged in as [bonghyun990@gmail.com].\n",
            "Your current project is [None].  You can change this setting by running:\n",
            "  $ gcloud config set project PROJECT_ID\n"
          ]
        }
      ]
    },
    {
      "cell_type": "code",
      "source": [
        "!gcloud config set project $PROJECT"
      ],
      "metadata": {
        "colab": {
          "base_uri": "https://localhost:8080/"
        },
        "id": "lh00LOL3wGp1",
        "outputId": "2140eb61-2d2d-4565-8276-2dab6d5df164"
      },
      "execution_count": null,
      "outputs": [
        {
          "output_type": "stream",
          "name": "stdout",
          "text": [
            "Updated property [core/project].\n"
          ]
        }
      ]
    },
    {
      "cell_type": "code",
      "source": [
        "!gcloud services enable dataproc.googleapis.com cloudresourcemanager.googleapis.com"
      ],
      "metadata": {
        "colab": {
          "base_uri": "https://localhost:8080/"
        },
        "id": "qIVaPHY-wJsZ",
        "outputId": "4c44f5a0-495e-4950-93c7-1bcceb77335d"
      },
      "execution_count": null,
      "outputs": [
        {
          "output_type": "stream",
          "name": "stdout",
          "text": [
            "Operation \"operations/acat.p2-224962939363-e3399dee-a7c4-4a5c-84c3-0558b02fd3ea\" finished successfully.\n"
          ]
        }
      ]
    },
    {
      "cell_type": "code",
      "source": [
        "!gsutil mb -c regional -l $REGION -p $PROJECT gs://$BUCKET"
      ],
      "metadata": {
        "colab": {
          "base_uri": "https://localhost:8080/"
        },
        "id": "7vzJxX7wwMgP",
        "outputId": "509ff937-7c67-4e5e-cd7f-d7f3ccf38d86"
      },
      "execution_count": null,
      "outputs": [
        {
          "output_type": "stream",
          "name": "stdout",
          "text": [
            "Creating gs://data301-2023-bonghyun-project-bucket/...\n",
            "ServiceException: 409 A Cloud Storage bucket named 'data301-2023-bonghyun-project-bucket' already exists. Try another name. Bucket names must be globally unique across all Google Cloud projects, including those outside of your organization.\n"
          ]
        }
      ]
    },
    {
      "cell_type": "markdown",
      "source": [
        "Run and modify the cluster create/execute/delete code for each test.\n",
        "\n",
        "NOTE: it may take 5-10 minutes"
      ],
      "metadata": {
        "id": "iIwQwJA3wQlK"
      }
    },
    {
      "cell_type": "code",
      "source": [
        "!gcloud storage cp ./meta_Grocery_Food.json.gz gs://$BUCKET"
      ],
      "metadata": {
        "colab": {
          "base_uri": "https://localhost:8080/"
        },
        "id": "dBGtVf_CwcIA",
        "outputId": "d95a2243-23ed-42a3-c9df-428298da85c2"
      },
      "execution_count": null,
      "outputs": [
        {
          "output_type": "stream",
          "name": "stdout",
          "text": [
            "Copying file://./meta_Grocery_Food.json.gz to gs://data301-2023-bonghyun-project-bucket/meta_Grocery_Food.json.gz\n",
            "\n",
            "Average throughput: 19.7MiB/s\n"
          ]
        }
      ]
    },
    {
      "cell_type": "markdown",
      "source": [
        "For running program with the number of processors\n",
        "\n",
        "\n",
        "(Creation of Clusters)\n",
        "\n",
        "\n",
        "P=1"
      ],
      "metadata": {
        "id": "c0uzslk2xhBp"
      }
    },
    {
      "cell_type": "code",
      "source": [
        "!gcloud dataproc clusters create $CLUSTER --region=$REGION --bucket=$BUCKET --zone=$ZONE \\\n",
        "--master-machine-type=custom-1-6144 \\\n",
        "--image-version=1.5 --max-age=30m --single-node"
      ],
      "metadata": {
        "colab": {
          "base_uri": "https://localhost:8080/"
        },
        "id": "VMot0W9uweVA",
        "outputId": "294e84c5-99e7-41f7-d690-d64c2f7a972d"
      },
      "execution_count": null,
      "outputs": [
        {
          "output_type": "stream",
          "name": "stdout",
          "text": [
            "Waiting on operation [projects/data301-2023-bonghyun/regions/australia-southeast1/operations/74cc27e0-4d4e-3c14-b8cd-dc6624aa376f].\n",
            "\n",
            "\u001b[1;33mWARNING:\u001b[0m Consider using Auto Zone rather than selecting a zone manually. See https://cloud.google.com/dataproc/docs/concepts/configuring-clusters/auto-zone\n",
            "\u001b[1;33mWARNING:\u001b[0m Permissions are missing for the default service account '224962939363-compute@developer.gserviceaccount.com', missing permissions: [storage.objects.get, storage.objects.update] on the staging_bucket 'projects/_/buckets/data301-2023-bonghyun-project-bucket'. This usually happens when a custom resource (ex: custom staging bucket) or a user-managed VM Service account has been provided and the default/user-managed service account hasn't been granted enough permissions on the resource. See https://cloud.google.com/dataproc/docs/concepts/configuring-clusters/service-accounts#VM_service_account.\n",
            "\u001b[1;33mWARNING:\u001b[0m Permissions are missing for the default service account '224962939363-compute@developer.gserviceaccount.com', missing permissions: [storage.objects.get, storage.objects.update] on the temp_bucket 'projects/_/buckets/dataproc-temp-au-southeast1-224962939363-2purgrl5'. This usually happens when a custom resource (ex: custom staging bucket) or a user-managed VM Service account has been provided and the default/user-managed service account hasn't been granted enough permissions on the resource. See https://cloud.google.com/dataproc/docs/concepts/configuring-clusters/service-accounts#VM_service_account.\n",
            "Created [https://dataproc.googleapis.com/v1/projects/data301-2023-bonghyun/regions/australia-southeast1/clusters/data301-2023-bonghyun-project-cluster] Cluster placed in zone [australia-southeast1-a].\n"
          ]
        }
      ]
    },
    {
      "cell_type": "markdown",
      "source": [
        "P = 4"
      ],
      "metadata": {
        "id": "I3P7ZksF0M2V"
      }
    },
    {
      "cell_type": "code",
      "source": [
        "!gcloud dataproc clusters create $CLUSTER --region=$REGION --bucket=$BUCKET --zone=$ZONE \\\n",
        "--master-machine-type=n1-standard-2 --worker-machine-type=n1-standard-2 \\\n",
        "--image-version=1.5 --max-age=30m --num-masters=1 --num-workers=2"
      ],
      "metadata": {
        "colab": {
          "base_uri": "https://localhost:8080/"
        },
        "id": "XLk8JAn_0K83",
        "outputId": "ab2e1a14-8d25-4343-c095-100113f8ce66"
      },
      "execution_count": null,
      "outputs": [
        {
          "output_type": "stream",
          "name": "stdout",
          "text": [
            "Waiting on operation [projects/data301-2023-bonghyun/regions/australia-southeast1/operations/3fa3c999-f27a-37fc-abff-62fb17b95478].\n",
            "\n",
            "\u001b[1;33mWARNING:\u001b[0m Consider using Auto Zone rather than selecting a zone manually. See https://cloud.google.com/dataproc/docs/concepts/configuring-clusters/auto-zone\n",
            "\u001b[1;33mWARNING:\u001b[0m Permissions are missing for the default service account '224962939363-compute@developer.gserviceaccount.com', missing permissions: [storage.objects.get, storage.objects.update] on the staging_bucket 'projects/_/buckets/data301-2023-bonghyun-project-bucket'. This usually happens when a custom resource (ex: custom staging bucket) or a user-managed VM Service account has been provided and the default/user-managed service account hasn't been granted enough permissions on the resource. See https://cloud.google.com/dataproc/docs/concepts/configuring-clusters/service-accounts#VM_service_account.\n",
            "\u001b[1;33mWARNING:\u001b[0m Permissions are missing for the default service account '224962939363-compute@developer.gserviceaccount.com', missing permissions: [storage.objects.get, storage.objects.update] on the temp_bucket 'projects/_/buckets/dataproc-temp-au-southeast1-224962939363-2purgrl5'. This usually happens when a custom resource (ex: custom staging bucket) or a user-managed VM Service account has been provided and the default/user-managed service account hasn't been granted enough permissions on the resource. See https://cloud.google.com/dataproc/docs/concepts/configuring-clusters/service-accounts#VM_service_account.\n",
            "Created [https://dataproc.googleapis.com/v1/projects/data301-2023-bonghyun/regions/australia-southeast1/clusters/data301-2023-bonghyun-project-cluster] Cluster placed in zone [australia-southeast1-a].\n"
          ]
        }
      ]
    },
    {
      "cell_type": "markdown",
      "source": [
        "P = 8"
      ],
      "metadata": {
        "id": "B00icArA0PYK"
      }
    },
    {
      "cell_type": "code",
      "source": [
        "!gcloud dataproc clusters create $CLUSTER --region=$REGION --bucket=$BUCKET --zone=$ZONE \\\n",
        "--master-machine-type=n1-standard-4 --worker-machine-type=n1-standard-4 \\\n",
        "--image-version=1.5 --max-age=30m --num-masters=1 --num-workers=2"
      ],
      "metadata": {
        "colab": {
          "base_uri": "https://localhost:8080/"
        },
        "id": "QJUHWWGd0LWj",
        "outputId": "70e79d63-1e01-4d90-95c9-fe0acfe69f4c"
      },
      "execution_count": null,
      "outputs": [
        {
          "output_type": "stream",
          "name": "stdout",
          "text": [
            "Waiting on operation [projects/data301-2023-bonghyun/regions/australia-southeast1/operations/3be3e7b0-00a2-35d8-9ef9-16c5ec29446e].\n",
            "\n",
            "\u001b[1;33mWARNING:\u001b[0m Consider using Auto Zone rather than selecting a zone manually. See https://cloud.google.com/dataproc/docs/concepts/configuring-clusters/auto-zone\n",
            "\u001b[1;33mWARNING:\u001b[0m Permissions are missing for the default service account '224962939363-compute@developer.gserviceaccount.com', missing permissions: [storage.objects.get, storage.objects.update] on the staging_bucket 'projects/_/buckets/data301-2023-bonghyun-project-bucket'. This usually happens when a custom resource (ex: custom staging bucket) or a user-managed VM Service account has been provided and the default/user-managed service account hasn't been granted enough permissions on the resource. See https://cloud.google.com/dataproc/docs/concepts/configuring-clusters/service-accounts#VM_service_account.\n",
            "\u001b[1;33mWARNING:\u001b[0m Permissions are missing for the default service account '224962939363-compute@developer.gserviceaccount.com', missing permissions: [storage.objects.get, storage.objects.update] on the temp_bucket 'projects/_/buckets/dataproc-temp-au-southeast1-224962939363-2purgrl5'. This usually happens when a custom resource (ex: custom staging bucket) or a user-managed VM Service account has been provided and the default/user-managed service account hasn't been granted enough permissions on the resource. See https://cloud.google.com/dataproc/docs/concepts/configuring-clusters/service-accounts#VM_service_account.\n",
            "Created [https://dataproc.googleapis.com/v1/projects/data301-2023-bonghyun/regions/australia-southeast1/clusters/data301-2023-bonghyun-project-cluster] Cluster placed in zone [australia-southeast1-a].\n"
          ]
        }
      ]
    },
    {
      "cell_type": "markdown",
      "source": [
        "P = 16"
      ],
      "metadata": {
        "id": "ilmNGbBm0SbQ"
      }
    },
    {
      "cell_type": "code",
      "source": [
        "!gcloud dataproc clusters create $CLUSTER --region=$REGION --bucket=$BUCKET --zone=$ZONE \\\n",
        "--master-machine-type=n1-standard-8 --worker-machine-type=n1-standard-8 \\\n",
        "--image-version=1.5 --max-age=30m --num-masters=1 --num-workers=2"
      ],
      "metadata": {
        "colab": {
          "base_uri": "https://localhost:8080/"
        },
        "id": "BQWHjA1A0L5X",
        "outputId": "7054a956-3ed7-4a13-d0fe-db261b9308bc"
      },
      "execution_count": null,
      "outputs": [
        {
          "output_type": "stream",
          "name": "stdout",
          "text": [
            "Waiting on operation [projects/data301-2023-bonghyun/regions/australia-southeast1/operations/2079977d-460a-31dc-8210-0db243311358].\n",
            "\n",
            "\u001b[1;33mWARNING:\u001b[0m Consider using Auto Zone rather than selecting a zone manually. See https://cloud.google.com/dataproc/docs/concepts/configuring-clusters/auto-zone\n",
            "\u001b[1;33mWARNING:\u001b[0m Permissions are missing for the default service account '224962939363-compute@developer.gserviceaccount.com', missing permissions: [storage.objects.get, storage.objects.update] on the staging_bucket 'projects/_/buckets/data301-2023-bonghyun-project-bucket'. This usually happens when a custom resource (ex: custom staging bucket) or a user-managed VM Service account has been provided and the default/user-managed service account hasn't been granted enough permissions on the resource. See https://cloud.google.com/dataproc/docs/concepts/configuring-clusters/service-accounts#VM_service_account.\n",
            "\u001b[1;33mWARNING:\u001b[0m Permissions are missing for the default service account '224962939363-compute@developer.gserviceaccount.com', missing permissions: [storage.objects.get, storage.objects.update] on the temp_bucket 'projects/_/buckets/dataproc-temp-au-southeast1-224962939363-2purgrl5'. This usually happens when a custom resource (ex: custom staging bucket) or a user-managed VM Service account has been provided and the default/user-managed service account hasn't been granted enough permissions on the resource. See https://cloud.google.com/dataproc/docs/concepts/configuring-clusters/service-accounts#VM_service_account.\n",
            "Created [https://dataproc.googleapis.com/v1/projects/data301-2023-bonghyun/regions/australia-southeast1/clusters/data301-2023-bonghyun-project-cluster] Cluster placed in zone [australia-southeast1-a].\n"
          ]
        }
      ]
    },
    {
      "cell_type": "markdown",
      "source": [
        "Submit Jobs"
      ],
      "metadata": {
        "id": "2gCFNUkLVReP"
      }
    },
    {
      "cell_type": "code",
      "source": [
        "!gcloud dataproc jobs submit pyspark --cluster=$CLUSTER --region=$REGION pyspark_recommendations.py -- gs://$BUCKET/meta_Grocery_Food.json.gz"
      ],
      "metadata": {
        "colab": {
          "base_uri": "https://localhost:8080/"
        },
        "id": "i4sDU496wg9v",
        "outputId": "434a5bcd-395d-4114-a2c5-21a0db6314ce"
      },
      "execution_count": null,
      "outputs": [
        {
          "output_type": "stream",
          "name": "stdout",
          "text": [
            "Job [5f5ccc008da7466ea80e499dc8ac0212] submitted.\n",
            "Waiting for job output...\n",
            "23/06/04 08:46:53 INFO org.apache.spark.SparkEnv: Registering MapOutputTracker\n",
            "23/06/04 08:46:53 INFO org.apache.spark.SparkEnv: Registering BlockManagerMaster\n",
            "23/06/04 08:46:53 INFO org.apache.spark.SparkEnv: Registering OutputCommitCoordinator\n",
            "23/06/04 08:46:53 INFO org.spark_project.jetty.util.log: Logging initialized @3650ms to org.spark_project.jetty.util.log.Slf4jLog\n",
            "23/06/04 08:46:54 INFO org.spark_project.jetty.server.Server: jetty-9.4.z-SNAPSHOT; built: unknown; git: unknown; jvm 1.8.0_362-b09\n",
            "23/06/04 08:46:54 INFO org.spark_project.jetty.server.Server: Started @3743ms\n",
            "23/06/04 08:46:54 INFO org.spark_project.jetty.server.AbstractConnector: Started ServerConnector@1aa397fd{HTTP/1.1, (http/1.1)}{0.0.0.0:4050}\n",
            "23/06/04 08:47:01 INFO org.apache.hadoop.io.compress.zlib.ZlibFactory: Successfully loaded & initialized native-zlib library\n",
            "23/06/04 08:47:01 INFO org.apache.hadoop.io.compress.CodecPool: Got brand-new decompressor [.gz]\n",
            "23/06/04 08:47:24 INFO org.apache.hadoop.io.compress.CodecPool: Got brand-new decompressor [.gz]\n",
            "('Recommended Items for user 16321', ['B001CDTO6U', 'B01MCZWIRJ', 'B001ID2TPC', 'B005EG78OQ', 'B0037X4QDO', 'B00IRY8CJ2', 'B00PO9GEKC', 'B001CDVCCO', 'B004Y4Z9CC', 'B008L0T0TS', 'B001ACDOA0', 'B001L048WO', 'B009QDQVK0', 'B01MA28YIS', 'B00F8FHRF8', 'B008L0ZS44', 'B009YLDEMW', 'B01AP7LMS6', 'B008GQ1ITM', 'B011PK0CFQ', 'B06XPQ5WG6', 'B00AQB146W', 'B077YDC48D', '160774970X'])\n",
            "The number of recommended items for user 16321 : 24\n",
            "\n",
            "('Recommended Items for user 90887', ['B07CX6LN8T', 'B002RZ1SRU', 'B01C2JF1WS', 'B0014CXSFM', 'B01N0SS3EH', 'B013SGABHY', 'B00BNQLR9I', 'B01N183ZGT', 'B00DX53PWE', 'B000WHSD5A', 'B000UENHBU', 'B00FNNFCMK', 'B01IVTAW9A', 'B07B8N49KT', 'B003Y8EASI', 'B01GFPSAPA', 'B0014E2UP4', 'B000RUP0JE', 'B000WH6WIA', 'B00MZF1YHQ', 'B07G39L3Q6', 'B01AZ15E22', 'B00061ETX2', 'B000RULSYK', 'B07G38C4JG', 'B000PYF8VM', 'B00G4U6UY0', 'B000T9WLTK', 'B00G4U704Y', 'B00W0C9F5M', 'B000R9COOY', 'B000T9YBT8', 'B01N0SS46Z', 'B000RPVQC4', 'B0015GQBHE', 'B00091S3K4', 'B0014D1JWA', 'B000QJAWYE', 'B01MY05VGS', 'B00EFR0PYK', 'B00G4U6QJY', 'B000PYG3X4', 'B000PY53BC', 'B000PXZZM0', 'B000R2Z6AA', 'B00L8KDBCK', 'B000RLPJHQ', 'B004G7TJPA', 'B00FVYF334', 'B078HSBHM1', 'B01MSEJQED', 'B00L3O5CE6', 'B000PXZZQG', 'B01IF0GFQO', 'B00ZGSTI0Y', 'B078HRLNL6', 'B07B8YNV83', 'B0014CS1X6', 'B01LYO7RQO', 'B0015GSBUY', 'B01LZ0T9GK', 'B078LFJFQX', 'B01MY5FHT6', 'B01AZ15AMQ', 'B000UEUAGU', 'B000OV4FXI', 'B07CX3FHMB', 'B000R9EEH4', 'B00032GI88', 'B00KHKBK3Y', 'B000UESJ8Q', 'B07G348HYQ', 'B000T9UV2O', 'B004SCTJE4', 'B07CX6LG8J', 'B000RUQPPC', 'B0015Y7706', 'B078LFVSK2', 'B000T9SZOU', 'B07G348HYR'])\n",
            "The number of recommended items for user 90887 : 80\n",
            "\n",
            "('Recommended Items for user 93660', ['B001M0A8Y0', 'B005P7YQ0I', 'B00158KNJE', 'B005P9WGUI', 'B000NY6PM0', 'B005P7YTSM', 'B005P7YTDM', 'B000NY8OEM', 'B005P7YSG0', 'B0012Z6QPA'])\n",
            "The number of recommended items for user 93660 : 10\n",
            "\n",
            "('Recommended Items for user 128345', ['B005Q8BIK2', 'B003D4IZSE', 'B00E19WE7S', 'B008GVJ9S4', 'B0029JI9OE', 'B000V9EIJY', 'B005CUK20Q', 'B0042DIZIU', 'B072J9CHRZ', 'B074N9Y8P9', 'B00HF7W2JS', 'B00KE1E7YA', 'B00VVMH586', 'B0785P5MP5', 'B071KF6791', 'B00KMPYAEK', 'B013KTYFYO', 'B013DSZFIW', 'B01KQLV2A4', 'B077SMJZ96', 'B00LAQ4Z1I', 'B009POEULC', 'B000WL39JQ', 'B003WO0IVM', 'B002ULIPL8', 'B001ONPN5E', 'B00I6CRO6M', 'B073QMN75M', 'B076BYR9JP', 'B00U45YX2M', 'B00FZPTRMM', 'B074PTW8TX', 'B071YYWBRC', 'B00HC767CE', 'B07B8XYFL6', 'B07BFPZ655', 'B003P7XXPE', 'B00OEXP0UE', 'B00TYPVRTA', 'B00440FFVG', 'B01CLHR6JW', 'B005VBD2UI', 'B00CF5DFGE', 'B00CAC6XBG', 'B00ODEN5M4', 'B011W21U0I', 'B01L8LG6MU', 'B003D4MX1E', 'B004OT9522', 'B0025W9A5C', 'B004H6MUDI', 'B004E2OJFM', 'B00CF5D032', 'B01MFGKGWU', 'B010VUQCYQ', 'B00WI0T5AQ', 'B01LNKHDAK', 'B015OA6CJ8', 'B00CWYM3G6', 'B01MUEH2GF', 'B000IXUJOQ', 'B000PGHLNS', 'B0017Z9PWQ', 'B06XQ2K9TZ', 'B071L13FXH', 'B071XHP12B', 'B00QLDGSJM', 'B0097NLDK2', 'B01MRZZ3KC', 'B00BSW6LH0', 'B01MUCGVQL', 'B071J7HHS3', 'B073376ZKY', 'B0116WQ62G', 'B001EXV844', 'B01CF2G9O6', 'B00B90LCJ8', 'B00AQBCEHK', 'B001E55Z46', 'B00GFROV7A', 'B004YPJKBC', 'B01N0MKYHI', 'B00GFROQMK', 'B003D4MYLS', 'B003D4MW38', 'B003D4IYJO', 'B00E19WJ1E', 'B001M20XA2', 'B01M3RZBFH', 'B0179D40CY', 'B0769LRM95', 'B01GQ5WNC0', 'B06XCQNZ5P', 'B00WMBP1DQ', 'B00VB1XXVU', 'B00UZO14ZG', 'B0029JE7RC', 'B008500J8K', 'B000YPMKXQ', 'B000JIN1H2', 'B00CXAEDH6', 'B01E6OL3RO', 'B0723H1H5S', 'B0118P8NFE', 'B00GAQ2LVO', 'B00O1XAOCQ', 'B01N2UDYFM', 'B00ICT73A6', 'B0753NV4VG', 'B0024SIHAG', 'B0025UAJXG', 'B072C52KFY', 'B00SV4T6O8', 'B00GOAA76C', 'B00DOSIT5I', 'B00IO2RL8K', 'B004S07G2I', 'B0057FSR6W', 'B003D4F2US', 'B004SK4KIG', 'B001PAS5GK', 'B00649MYJG', 'B01N9FN67U', 'B01C7THQR6', 'B00JNEQ6IY', 'B01EAG3VZA', 'B00CHUCBIK', 'B079ZQNYML', 'B0757Y9V47', 'B072C8HBGW', 'B01KQLULJW', 'B076T5K3JQ', 'B07DQ9852M', 'B01IFMHYO4', 'B0036FEB4W', 'B01KH9SUBY', 'B075LZZ5MR', 'B00HFC2E82', 'B01CLWDQIC', 'B01GQ5GQEG', 'B00HC767P6', 'B00DILEFNQ', 'B077K4CVJ7', 'B00VB1XY1O', 'B00VB1XXY2', 'B00R0OCAMU', 'B00OXCMM1Q', 'B00PXNNVAU', 'B00U45YWNW', 'B00C3YAH4U', 'B00FQGOY78', 'B00BGDH9V8', 'B0024SASYY', 'B003SO58Y8', 'B00HQ4YSBA', 'B00FQGP20Q', 'B00VEJ6GHM', 'B000W7WRDE', 'B00GFROON6', 'B00T0BUKW8', 'B01LNKHHZ6', 'B006F63M8U', 'B00NBT2F00', 'B00HD5OACE', 'B005Q8BL72', 'B001HXI0V0', 'B000EQYSLC', 'B0032ZB03G', 'B000R7XBF2', 'B000F9XBIE', 'B007SNJDXM', 'B00FYR5HS4', 'B00D8VGDA4', 'B00HU1AJU8', 'B07D83162X', 'B079M8YRBM', 'B014V3R2RA', 'B00J4R85P2', 'B008KAM0XM', 'B07B4MQP18', 'B072M1NC4M', 'B01I2AB38W', 'B00NS7RWAI', 'B00CQ77XB4', 'B072YR7FB3', 'B06X6JR48M', 'B000HIFA8W', 'B00B42NQC2', 'B01LYR34WA', 'B00HKLK3X6', 'B00CWYM3OI', 'B01N39RV0A', 'B01KO1Q3O6', 'B00WI0T3JY', 'B00CHUDP58', 'B00DB55O0C', 'B016R8QM50', 'B00LMH5FZK', 'B073VSQZPM', 'B0025UCA9W', 'B0014EQHQC', 'B00EHAXP88', 'B01CLHRAFC', 'B016UMTPRK', 'B00U9WIN62', 'B01DBY8GEI', 'B00281PIBA', 'B00PJCYOWE', 'B00H46RK8S', 'B004WN7DNS', 'B00KZNGQT6', 'B003ZXEBOK', 'B001QCUKII', 'B004IS56Y0', 'B076H6F974', 'B011FEEBTU', 'B014ABUQVC', 'B00BXGB4NW', 'B01COWTO4O', 'B01MZ3HE0A', 'B00U45YWSW', 'B075MFCKJY', 'B01AT3DM5M', 'B00KRFL5SO', 'B07634D5SD', 'B01L9L6V1U', 'B000IXUK2W', 'B0029JAVZ4', 'B0054RPY7I', 'B000KGW2BY', 'B07179XBP9', 'B073S4TP58', 'B01FHG3R9M', 'B00FQGOY6E', 'B076H2J9TZ', 'B00VK5TFF0', 'B015SQAWLW', 'B07CZ83J92', 'B01MTCEZTU', 'B01MSZE1NQ', 'B00R29LF24', 'B06WWJXN3K', 'B00AJXRRK4', 'B001B2SVOS', 'B00WBGKJPW', 'B01KINTX38', 'B00M1YIR26', 'B018JZFQOM', 'B01CLHQZOY', 'B01LXBWYGF', 'B071W27L6J', 'B0014GV0R6', 'B01C361N7M'])\n",
            "The number of recommended items for user 128345 : 253\n",
            "\n",
            "('Recommended Items for user 270219', ['B00E1QLUVM', 'B002N7ST6U', 'B01AMDP59K', 'B006NV880O', 'B073P95LLP', 'B01M0WDQC1', 'B07D6F62PJ', 'B00YWL02TC', 'B0000VLH8S', 'B00IE72JY6', 'B00T65BLWQ', 'B002GZZVGU', 'B00IE72O78', 'B00MWOSFH2', 'B00MYTP7PI', 'B00MWOSEPA', 'B00JM75IH2', 'B0000CFMP7', 'B078GW3DQ1', 'B000SSZI0Q', 'B00HE5YK2I', 'B000JJO058', 'B000ZNOVCA', 'B0000VZC2K', 'B001WT22AE', 'B0013GMLRA', 'B00IE72KRW', 'B004V01TS2', 'B00RPMZA0Q', 'B00T65FO10', 'B00MUU90S6', 'B001OZS2ZA', 'B00BDTS1SK', 'B000VTG6LW', 'B000MSZTQA', 'B01EOK9OHG', 'B01DZM2W46', 'B001T4OOOE', 'B00JGORXX8', 'B000VTG6BW', 'B001PBM326', 'B00CRJDJTG', 'B002PFS2W6', 'B005TAXDPK', 'B001K7Q5PQ', 'B001ENF2NM', 'B0058JILJK', 'B01MDK1OMU', 'B00JKUERUU', 'B01EXHJCTA', 'B07843LJF5', 'B01AMDRA5W', 'B06WLNXV19', 'B002PO3KBK', 'B00N5OFFFI', 'B003TQILAS', 'B0056HJ0MG', 'B00IE6Y6J8', 'B001M1V1IQ', 'B01BXPHAFI', 'B002PEYXAM', 'B001UO0FHS', 'B005CRKX3K', 'B003KK9HD8', 'B0001CXUCW', 'B003KK42V0', 'B00PR3GAY0', 'B00IE72JT6', 'B00ZYASU5S', 'B001FXU6MS', 'B001UO4IVM', 'B004NG9A62', 'B06WP86STW', 'B000VTH3BE', 'B00794FC2G', 'B00JKUDS6O', 'B017TBGLMS', 'B00KKUAITI', 'B001UO2GXO', 'B001M1VWJO', 'B071CKC7L9', 'B01E4VVI6U', 'B000W5CGR8', 'B007SQ70DY', 'B003YJ14OU', 'B00G31DWWS', 'B0000CFN0Y', 'B000PBZHOS', 'B071NT1NCB', 'B06XC477ZY', 'B000VTBFKE', 'B0017JVH5A', 'B00T6GMUV6', 'B007KBBDLC', 'B00024WNVI', 'B00JKUE31I', 'B01D3O1XIW', 'B00F6ARC1E', 'B01EOK9OEY', 'B00MHSRNNK', 'B000MGQDAS', 'B008PU126I', 'B01GIHIFTG', 'B000T9M0LO', 'B00IE727OI', 'B01AMDPI0Q', 'B0000VMF02', 'B00F93MFRE', 'B07DVQKXCJ', 'B000FRUNL4', 'B000Q6I5CS', 'B001FXM9FK', 'B01N2H7T60', 'B00FB9R91I', 'B0016JC8M2', 'B00605WJ9O', 'B00482H2FW', 'B000FJPKWO', 'B06XXXGXT9', 'B002PFRE66', 'B072HXNRT2', 'B013S2EWSC', 'B003RFYDLC', 'B000VTDEUI', 'B01E07USC8', 'B00IE72BZ8', 'B0001XXB3E', 'B00KCUXRLC'])\n",
            "The number of recommended items for user 270219 : 128\n",
            "\n",
            "Recommended Items for customer 818 :\n",
            "['B001GHYO4E', 'B00014FNU2', 'B00EIS9NW6', 'B00ENP215K', 'B010BUE6CG', 'B006VRNEFO', 'B002OOLUTK', 'B001EQ4SHK', 'B00HJCXX24', 'B01FE7PM1U', 'B005ERUCVQ', 'B0054M0U18', 'B074CHSXN4', 'B00CYMU3TA', 'B007SNJ98G', 'B00UHMOG60', 'B01FG5W2KE', 'B015FFIOO8', 'B002SKVZIQ', 'B005EOTMA6', 'B07939DYBP', 'B0005ZXPY8', 'B00VVMTLV0', 'B0147CMIRE', 'B001B49UOG', 'B00VF03MUY', 'B01NB9PVP6', 'B001GHYO44', 'B00GB8PS9I', 'B0755JN13H', 'B004XJXIM6', 'B01M173US6', 'B001L97SQS', 'B018Y0WYHY', 'B001B5JT8C', 'B00LIAVX98', 'B000F0AUGO', 'B003T0668I', 'B00IXUKFVI', 'B01E9GXNCM', 'B00TXQQDW6', 'B0774M73SF', 'B00060N5OW', 'B01M4IWGHE', 'B06Y1DCSRQ', 'B0793KYR9W', 'B003XKWPD4', 'B000R4FGK8', 'B071W21LLT', 'B001PQMJIY', 'B001H8R00M', 'B079VP6DH6', 'B01FXMD3KS', 'B01HSU0UC2', 'B00GGBLPVU', 'B005HUWCFY', 'B00STSZ77G', 'B00DLKWXRO', 'B004NG9FWQ', 'B0053KN8QA', 'B00ASBOP9S', 'B007P0FWSI', 'B00P2XTTS4', 'B004YPEFH6', 'B00HNSJSX2', 'B0741GFQHJ', 'B016UMTPRK', 'B00COCUM96', 'B00BFUFYZK', 'B00125V10U', 'B00UASJHV0', 'B07B8YW192', 'B07217DZZ7', 'B000VDX25Q', 'B00Q70RCW6', 'B01H07E286', 'B07FCYFGTX', 'B006GHVOX8', 'B01BZ0N69U', 'B072MZLXYZ', 'B019DM86LA', 'B012HE3U2G', 'B00ENS39XK', 'B0049IF5W2', 'B010BUF0VM', 'B00PUOQHDA', 'B00I9VAHD2', 'B00BAO7F3U', 'B00C5RIQRK', 'B001YXXL8U', 'B00FWUO2IE', 'B00DE6Q23Q', 'B00DE6KSTK', 'B00E0Y8PTA', 'B00BOAGEZA', 'B006GHVOX8', 'B007FA1EBW', 'B007F1LYWK', 'B001EQ4H1M', 'B0019N2EQU', 'B01IAYHZVO', 'B004M6ZDKA', 'B009F28PY2', 'B004K6771U', 'B018Y0WYHY', 'B00KPFHOPO', 'B005EOTMA6', 'B0044MNYIK', 'B01FG5W2KE', 'B004SIAOBK', 'B000FLXBN2', 'B00D1RPES2', 'B005VBD2UI', 'B00IV6ZM58', 'B00T77IBNU', 'B004CPAGNA', 'B000VDZ2N6', 'B00060N5OW', 'B00CF5DFGE', 'B0014E4DS6', 'B01GG68Q4I', 'B01M099264', 'B0032GQM5G', 'B018JZFUXY', 'B00IO2RL8K', 'B004YVOFB6', 'B00T70RNQ8', 'B01F7N4KM8', 'B0001CXUHW', 'B004G7PFRQ', 'B00KYW1K26', 'B0012XV382', 'B01H07E286', 'B00U9WIN62', 'B0058PP61U', 'B01A5MHEBU', 'B00F21YX8W', 'B00Q9EX6IY', 'B00AN91QCY', 'B00EQMJFAE', 'B00H46SFU0', 'B00CQG5QUA', 'B00FQGP20Q', 'B00M9C14UW', 'B077QLSLRQ', 'B0046EJ570', 'B01N49HPHK', 'B079VP6DH6', 'B01J3TGH1E', 'B003FULBQ4', 'B00HS6FWN4', 'B00HCNCQ2S', 'B00VF03MUY', 'B01FAOX2GO', 'B074DRLRPJ', 'B0013GMLRA', 'B01FXMDA2O', 'B072MZLXYZ', 'B00KKC6C2I', 'B0000CFN0Y', 'B0014E2UP4', 'B001F0RBT2', 'B0045TMKZK', 'B008D38MDS', 'B00B1GHI3Y', 'B00440FFVG', 'B00BB80366', 'B000RYHEQW', 'B001YXXL8U', 'B00JJ6M2BQ', 'B075MWHHF4', 'B0014CZ4S6', 'B0005ZU8UW', 'B000TGEIRQ']\n",
            "The number of recommended items(medium_sample): 174\n",
            "Recommended Items for customer 488 :\n",
            "['B0001WAMA0', 'B004D9XYWU', 'B00BY78O60', 'B00O2E0RGC', 'B005VY4NVM', 'B00066N8RA', 'B002MG30VQ', 'B07K8RCCB9', 'B07KBCX5GQ', 'B00FBGKCHE', 'B00481RICU', 'B0092WEQCA', 'B000MAODJM', 'B07KLDP4X5', 'B00KPXMNAW', 'B000VENIFO', 'B001IIST1K', 'B07K6WZHMD', 'B000W20UWO', 'B01M3NUOIK', 'B00FBGIO92', 'B00QPHNUYU', 'B003SKZN9C', 'B071GCY9FT', 'B002SZAAJQ', 'B00FBGL0CK', 'B006ZZCWQE', 'B01K8OV63M', 'B001MABOTI', 'B00FI1TGBU', 'B003U82VTC', 'B07546CJF7', 'B00GR9EM3O', 'B01EKDK4NK', 'B00FBGMBZ0', 'B072NZKZLV', 'B00GB7UK6K', 'B01MQDEOK4', 'B01K8P6XNO', 'B009LHPJ1S', 'B01M62H3GY', 'B009LHP1SO', 'B00G9ER6EO', 'B00Q35WR4I', 'B01MD1CCTT', 'B0006GRBBY', 'B00BY78O7Y', 'B009LHPBSE', 'B00GQIFMTO', 'B00FQ540KK', 'B006GY3CO0', 'B009LHPG8Y', 'B00CYLEUVI', 'B00LFVLSXG', 'B00YPM5X2Y', 'B00CKWB58W', 'B009LHPT0O', 'B077J53K7Z', 'B00KCCKV8W', 'B00061MISK', 'B00BXVBKJK', 'B006J7TAHM', 'B002E10JD6', 'B004D9VY3G', 'B0006GX1M2', 'B07KMFVM43', 'B07KFPKXGX', 'B0001R050W', 'B00F4WIL8C', 'B009LHPLWA', 'B00F4WILNC', 'B00FQ53SC6', 'B000XMG130', 'B0006BCAJM', 'B0006GX1KO', 'B0000D9N6N', 'B00EIJN5DS', 'B001LM7QNU', 'B0000V09L4', 'B0000D9N4M', 'B0000D9N38', 'B004OYXBR2', 'B003ZIR8YU', 'B071GCY9FT', 'B004M8PZ9W', 'B00099E8OQ', 'B0755L4S21', 'B0060KPEL4', 'B07GLVV57F', 'B00CHTY1O8', 'B00SK4VNV8', 'B0755LCTWY', 'B00H3TNZUI', 'B010JGGQ6G', 'B00U31UEBQ', 'B004P8HHRW', 'B001THPU9E', 'B001CT0ALC', 'B01BF12NN4', 'B01LB1J9BW', 'B0060KPEOQ', 'B005LURBFQ', 'B01M4RLBJU', 'B005DM3N2M', 'B003DNL9PQ', 'B0007XYBCI', 'B01GJ0ZJA0', 'B000EOXQRG', 'B00IOTB7PG', 'B004M8TKA2', 'B000EM8UGU', 'B0019MJQLC', 'B005H6E59O', 'B00GMZ2HTY', 'B006WCEXLW', 'B001HNG9CW', 'B073DCB2CW', 'B005H6FF3Y', 'B06X9D3S8X', 'B072MNMLCD', 'B01HNTK6FE', 'B00GMYQG42', 'B00QAWUU98', 'B00BCOYO7I', 'B00QAYSQWO', 'B00TYSTW3U', 'B01ATW6NJ0', 'B00D4MA5V0', 'B000FYYP1Q', 'B004H1P2J2', 'B01BLR13G0', 'B071XX3TWP', 'B005HBTNH8', 'B004NEOLIG', 'B00VKTFASW', 'B01KAGEFEA', 'B00I39OTL6', 'B007RFIPTO', 'B01L99GFAE', 'B0075DX64W', 'B00NIPV96I', 'B006GL6N9E', 'B00NIPV8VY', 'B005XPZPG6', 'B018V3TPNK', 'B01K8OV63M', 'B002E0WEJ4', 'B002E0RIF4', 'B004D9XYWU', 'B00KCCKV8W', 'B06ZYRHXTV', 'B077Q2ZZLH', 'B00MTTNMBE', 'B00BY78O7Y', 'B00YPM5X2Y', 'B01N8SQXRB', 'B01K8P14TC', 'B00F34772M', 'B015GAYXP6', 'B01BDI89SW', 'B074JHFQJC', 'B0742L8Y5Y', 'B0773YNFTJ', 'B072BPPSCF', 'B06Y54R68Z', 'B00H7YCVI6', 'B00R7B8DUY', 'B01KAM8LXA', 'B00KWX50BE', 'B004GZ7YBI', 'B00GP0EZ14', 'B003W0JWCC', 'B019CXRMI8', 'B00568B1HW', 'B019HR91W4', 'B003W0KBFE', 'B00H727M6O', 'B00GO6GUIU', 'B00VDWVM7Y', 'B001J3ZUQ6', 'B00DBC0ZRC', 'B01G7SGOL2', 'B00O05974G', 'B01CMT8DFU', 'B01M1CJNXH', 'B07CV4B86R', 'B00V9N5ZQ6', 'B00608D66G', 'B00006IUWB', 'B00WM2TCMQ', 'B01NCRU557', 'B06XR59R76', 'B00AX6JGI8', 'B00INM1OQ6', 'B00VJMJZ1I', 'B07D64BRHY', 'B01M6ZKZPN', 'B01MS5U2SQ', 'B00P88AGIU', 'B00M9NJ5ES', 'B01G7SGOIA', 'B000NWNPAW', 'B01G7SGOXK', 'B00UHKJG8A', 'B0026ST9QK', 'B01EH3C9KO', 'B001J4FSR6', 'B00006IUWA', 'B010TR1SMW', 'B01DOF8Y78', 'B00PZLOVJK', 'B00M9NLJWO', 'B0089XJDIK', 'B00KL8SM92', 'B07CV2WJ3L', 'B01MT1JJVQ', 'B07HGDD3XQ', 'B01MS65QTL', 'B00H7282WW', 'B07CWY8FW6', 'B00NF9CT0C', 'B01HVOQO0W', 'B074P8GBPB', 'B00M9NJXJK', 'B00HR77LK6', 'B01D321B4A', 'B00KQ1EZX6', 'B00OQMVU4S', 'B072J834VK', 'B004W8LT10', 'B00H727TE4', 'B00ITQDSI8', 'B01H4CRK90', 'B07CV2XV7W', 'B00DX0K6F8', 'B07CDF9Y17', 'B000RPYX4W', 'B01N2Y8UFB', 'B01CDBBB92', 'B00E3X22A6', 'B072LTWNQD', 'B00XCY3FJY', 'B07JGB83F2', 'B00IRW155C', 'B00CA6RE8S', 'B00JR5ADG0', 'B07DFMWF37', 'B07CV28ZQ2', 'B00PZMGMLY', 'B00005IBXK', 'B00004SU35', 'B07DJ1Q1HK', 'B00J5HA3BA', 'B00E3IXY62', 'B07C41K3JB', 'B004MPA8P6', 'B01AMT1IIG', 'B01AMSZO82', 'B073HGQDL5', 'B00H32IEW4', 'B075V85ZBJ', 'B00J5HD588', 'B01AMT1IY0', 'B00D2HK9HM', 'B00H32JEWI', 'B01AMT16RO', 'B075V6L3H5', 'B00J5H9J1U', 'B01AMT2WK4', 'B00FQ24602', 'B00FQ24A9Y', 'B075V9B8SW', 'B00J5H4VWC', 'B00E3IXLJW', 'B07KWKQ83M', 'B07CN7NTPJ', 'B00J5HBHRO', 'B074JHFQJC', 'B00OPENQ80', 'B075V9V1J8', 'B00D2HKAJO', 'B06Y54R68Z', 'B01AMT32Y4', 'B00J5H3E02', 'B07D6869XT', 'B00D86P2UG', 'B00J5HA0OK', 'B00D2HK7ME', 'B00WT1O8AG', 'B00GT60FMM', 'B0000DG8AR', 'B075V5XQ1C', 'B073RGWDJS', 'B00D2HK8N2', 'B00J5HB6TI', 'B074JHFQJD', 'B01AMT1MRS', 'B01AMT1SU4', 'B01N2IZS3H', 'B0787GLLP7', 'B0166AR4EC', 'B0747BXJYH', 'B00YPM5X2Y', 'B00FQ24SJQ', 'B07B8XYSPM', 'B005TE2IU2', 'B0166AQ97A', 'B00J5H3RV8', 'B07B8PPL3Q', 'B00E0UB5NM', 'B00FQ265QK', 'B00KWX50BE', 'B00J5HABUI', 'B00E45NJIM', 'B07B1N6MS7', 'B075VBPYSH', 'B074JJ84FG', 'B00H32I5VE', 'B00UAJ7XIS', 'B00J5H9B1I', 'B000GGXEEW', 'B00KWX688S', 'B075V6L3H5', 'B01AMT1IY0', 'B00E3IXY62', 'B00H32JEWI', 'B00H32IEW4', 'B01AMSZO82', 'B075V9B8SW', 'B00FQ24SJQ', 'B00FQ24602', 'B00FQ24A9Y', 'B01B7H10VM', 'B004D9XYWU', 'B00OPENQ80', 'B0081BE3E4', 'B01676307A', 'B01KGLH0OG', 'B0000D9169', 'B004XDMS3C', 'B00F4WIL8C', 'B07KQZDRX8', 'B00UAJ7XIS', 'B00E0U88XM', 'B00KWX50BE', 'B00H32I5VE', 'B00E0UB5NM', 'B00PSHRJUY', 'B01EYSCA88', 'B00RZ6GXJE', 'B00M1XRPSY', 'B00M1XR73M', 'B00P9ZR3JC', 'B01E5SJNPA', 'B00P80SW20', 'B00BR2DWWS', 'B077YNR4HG', 'B017UMWG2A', 'B01E5SMSMA', 'B01E5SL96G', 'B0000DJ89T', 'B001TQKFE0', 'B001DSEGEO', 'B01552QYUM', 'B01MFAT709', 'B0000DJ7SR', 'B074ZLLM9V', 'B01L8563EC', 'B0000DJ7SX', 'B000T7HFZW', 'B071XP1T96', 'B00NIPV8VY', 'B011VPH4MY', 'B004MPA8P6', 'B0199STNS8']\n",
            "The number of recommended items(medium_large): 375\n",
            "elapsed time is 115.51710772514343\n",
            "23/06/04 08:48:53 INFO org.spark_project.jetty.server.AbstractConnector: Stopped Spark@1aa397fd{HTTP/1.1, (http/1.1)}{0.0.0.0:4050}\n",
            "Job [5f5ccc008da7466ea80e499dc8ac0212] finished successfully.\n",
            "done: true\n",
            "driverControlFilesUri: gs://data301-2023-bonghyun-project-bucket/google-cloud-dataproc-metainfo/b0ea4101-e845-45f7-acf9-65c0e9ef72c8/jobs/5f5ccc008da7466ea80e499dc8ac0212/\n",
            "driverOutputResourceUri: gs://data301-2023-bonghyun-project-bucket/google-cloud-dataproc-metainfo/b0ea4101-e845-45f7-acf9-65c0e9ef72c8/jobs/5f5ccc008da7466ea80e499dc8ac0212/driveroutput\n",
            "jobUuid: 7e164fc4-c351-3383-b20d-393ee8283683\n",
            "placement:\n",
            "  clusterName: data301-2023-bonghyun-project-cluster\n",
            "  clusterUuid: b0ea4101-e845-45f7-acf9-65c0e9ef72c8\n",
            "pysparkJob:\n",
            "  args:\n",
            "  - gs://data301-2023-bonghyun-project-bucket/meta_Grocery_Food.json.gz\n",
            "  mainPythonFileUri: gs://data301-2023-bonghyun-project-bucket/google-cloud-dataproc-metainfo/b0ea4101-e845-45f7-acf9-65c0e9ef72c8/jobs/5f5ccc008da7466ea80e499dc8ac0212/staging/pyspark_recommendations.py\n",
            "reference:\n",
            "  jobId: 5f5ccc008da7466ea80e499dc8ac0212\n",
            "  projectId: data301-2023-bonghyun\n",
            "status:\n",
            "  state: DONE\n",
            "  stateStartTime: '2023-06-04T08:48:54.096724Z'\n",
            "statusHistory:\n",
            "- state: PENDING\n",
            "  stateStartTime: '2023-06-04T08:46:47.862707Z'\n",
            "- state: SETUP_DONE\n",
            "  stateStartTime: '2023-06-04T08:46:47.899113Z'\n",
            "- details: Agent reported job success\n",
            "  state: RUNNING\n",
            "  stateStartTime: '2023-06-04T08:46:48.880619Z'\n"
          ]
        }
      ]
    },
    {
      "cell_type": "markdown",
      "source": [
        "Delete Cluster"
      ],
      "metadata": {
        "id": "AzPbStzy-F0G"
      }
    },
    {
      "cell_type": "code",
      "source": [
        "!gcloud dataproc clusters delete $CLUSTER --region=$REGION --quiet"
      ],
      "metadata": {
        "colab": {
          "base_uri": "https://localhost:8080/"
        },
        "id": "lKKSL4qDxAar",
        "outputId": "7a0055d3-0129-408c-d78f-da35ebf9e81a"
      },
      "execution_count": null,
      "outputs": [
        {
          "output_type": "stream",
          "name": "stdout",
          "text": [
            "Waiting on operation [projects/data301-2023-bonghyun/regions/australia-southeast1/operations/9ad58f8b-7d58-3089-9f7d-29c310570911].\n",
            "Deleted [https://dataproc.googleapis.com/v1/projects/data301-2023-bonghyun/regions/australia-southeast1/clusters/data301-2023-bonghyun-project-cluster].\n"
          ]
        }
      ]
    }
  ]
}