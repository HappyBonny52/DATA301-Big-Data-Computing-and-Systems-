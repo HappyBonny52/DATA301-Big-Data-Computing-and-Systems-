{
  "cells": [
    {
      "cell_type": "markdown",
      "metadata": {
        "id": "qKxPJxl8je70"
      },
      "source": [
        "#Part A"
      ]
    },
    {
      "cell_type": "code",
      "execution_count": 1,
      "metadata": {
        "colab": {
          "base_uri": "https://localhost:8080/"
        },
        "id": "9TGeU0g9r60l",
        "outputId": "c381c9ee-7e06-4662-f304-035bac7a40f2"
      },
      "outputs": [
        {
          "output_type": "stream",
          "name": "stdout",
          "text": [
            "Looking in indexes: https://pypi.org/simple, https://us-python.pkg.dev/colab-wheels/public/simple/\n",
            "Collecting mpi4py\n",
            "  Downloading mpi4py-3.1.4.tar.gz (2.5 MB)\n",
            "\u001b[2K     \u001b[90m━━━━━━━━━━━━━━━━━━━━━━━━━━━━━━━━━━━━━━━━\u001b[0m \u001b[32m2.5/2.5 MB\u001b[0m \u001b[31m69.4 MB/s\u001b[0m eta \u001b[36m0:00:00\u001b[0m\n",
            "\u001b[?25h  Installing build dependencies ... \u001b[?25l\u001b[?25hdone\n",
            "  Getting requirements to build wheel ... \u001b[?25l\u001b[?25hdone\n",
            "  Preparing metadata (pyproject.toml) ... \u001b[?25l\u001b[?25hdone\n",
            "Building wheels for collected packages: mpi4py\n",
            "  Building wheel for mpi4py (pyproject.toml) ... \u001b[?25l\u001b[?25hdone\n",
            "  Created wheel for mpi4py: filename=mpi4py-3.1.4-cp310-cp310-linux_x86_64.whl size=3365662 sha256=f1e066ed67d8e60643d756ff1d3a98bf9ae1eb8f261f997a8401ac3f59ba707a\n",
            "  Stored in directory: /root/.cache/pip/wheels/e8/1b/b5/97ec4cfccdde26e0f3590ad6e09a5242d508dff09704ef86c1\n",
            "Successfully built mpi4py\n",
            "Installing collected packages: mpi4py\n",
            "Successfully installed mpi4py-3.1.4\n"
          ]
        }
      ],
      "source": [
        "!pip install mpi4py"
      ]
    },
    {
      "cell_type": "markdown",
      "metadata": {
        "id": "bdPdd3C_rjQ_"
      },
      "source": [
        "## Question 1"
      ]
    },
    {
      "cell_type": "code",
      "execution_count": 2,
      "metadata": {
        "colab": {
          "base_uri": "https://localhost:8080/"
        },
        "id": "2ZUOUPZOrtTB",
        "outputId": "670c569a-7ac1-4859-a409-f887d39dd05f"
      },
      "outputs": [
        {
          "output_type": "stream",
          "name": "stdout",
          "text": [
            "Writing question-1-mpi.py\n"
          ]
        }
      ],
      "source": [
        "%%writefile question-1-mpi.py\n",
        "\n",
        "import numpy\n",
        "from mpi4py import MPI\n",
        "comm = MPI.COMM_WORLD\n",
        "rank = comm.Get_rank()\n",
        "\n",
        "randNum = numpy.zeros(1)\n",
        "receivebuffer = numpy.zeros(1)\n",
        "randNum[0] = numpy.random.random_sample(1)\n",
        "\n",
        "if rank == 0:\n",
        "        randNum0 = randNum[0]\n",
        "        print(\"Process\", rank, \"drew the number\", randNum0)\n",
        "        comm.Send(randNum0, dest=1)\n",
        "        comm.Recv(randNum, source=1)\n",
        "        print(\"Process\", rank, \"has max value\", randNum[0])\n",
        "\n",
        "if rank == 1:\n",
        "        randNum1 = randNum[0]\n",
        "        print(\"Process\", rank, \"before receiving has the number\", randNum1)\n",
        "        comm.Recv(randNum, source=0)\n",
        "        print(\"Process\", rank, \"received the number\", randNum[0])\n",
        "        \n",
        "        if randNum1<randNum[0] :\n",
        "          comm.Send(randNum, dest=0)\n",
        "          print(\"Process\", rank, \"has max value\", randNum[0]) \n",
        "        else:\n",
        "          comm.Send(randNum1, dest=0)\n",
        "          print(\"Process\", rank, \"has max value\", randNum1)"
      ]
    },
    {
      "cell_type": "markdown",
      "source": [
        "For Q1, we expect the following cell output to be of the form:\n",
        "\n",
        "\n",
        "```\n",
        "Process 0 drew the number 0.0177029648837449\n",
        "Process 1 before receiving has the number 0.1308715233582639\n",
        "Process 1 received the number 0.0177029648837449\n",
        "Process 1 has max value 0.1308715233582639\n",
        "Process 0 has max value 0.1308715233582639\n",
        "```\n",
        "\n",
        "\n",
        "(but with different numbers)."
      ],
      "metadata": {
        "id": "2wPAeHW1qHpC"
      }
    },
    {
      "cell_type": "code",
      "execution_count": 3,
      "metadata": {
        "colab": {
          "base_uri": "https://localhost:8080/"
        },
        "id": "8rfcPAJQrvuY",
        "outputId": "7aff6611-d48e-4a95-92d4-56e9e44bc2d4"
      },
      "outputs": [
        {
          "output_type": "stream",
          "name": "stdout",
          "text": [
            "Process 0 drew the number 0.2319801925851811\n",
            "Process 1 before receiving has the number 0.38177516551629687\n",
            "Process 1 received the number 0.2319801925851811\n",
            "Process 1 has max value 0.38177516551629687\n",
            "Process 0 has max value 0.38177516551629687\n"
          ]
        }
      ],
      "source": [
        "!mpiexec --allow-run-as-root --oversubscribe -n 2 python question-1-mpi.py"
      ]
    },
    {
      "cell_type": "markdown",
      "metadata": {
        "id": "6UJ3b7F8rlxy"
      },
      "source": [
        "## Question 2"
      ]
    },
    {
      "cell_type": "code",
      "execution_count": 4,
      "metadata": {
        "colab": {
          "base_uri": "https://localhost:8080/"
        },
        "id": "1jub3libsFPC",
        "outputId": "fa9d571d-0dff-4a6b-d365-ea640861f199"
      },
      "outputs": [
        {
          "output_type": "stream",
          "name": "stdout",
          "text": [
            "Writing question-2-mpi.py\n"
          ]
        }
      ],
      "source": [
        "%%writefile question-2-mpi.py\n",
        "\n",
        "import numpy\n",
        "from mpi4py import MPI\n",
        "comm = MPI.COMM_WORLD\n",
        "rank = comm.Get_rank()\n",
        "\n",
        "import time\n",
        "\n",
        "randNum = numpy.zeros(1)\n",
        "receivebuffer = numpy.zeros(1)\n",
        "randNum[0] = numpy.random.random_sample(1)\n",
        "\n",
        "if rank == 1:\n",
        "        initNum = 0.0\n",
        "        print(\"Process\", rank, \"before receiving has the number\", initNum)\n",
        "        \n",
        "        randNum1 = randNum[0]\n",
        "        print(\"Process\", rank, \"after generating sample\", randNum1)\n",
        "        req = comm.Irecv(randNum, source=0)\n",
        "        req.Wait()\n",
        "        if req.Test():\n",
        "          print(\"Process\", rank, \"received the number\", randNum[0])\n",
        "        if randNum[0]<randNum1 :\n",
        "          comm.Send(randNum1, dest=0)\n",
        "          print(\"Process\", rank, \"has max value\", randNum1) \n",
        "        else:\n",
        "          comm.Send(randNum[0], dest=0)\n",
        "          print(\"Process\", rank, \"has max value\", randNum[0]) \n",
        "        \n",
        "if rank == 0:\n",
        "        randNum0 = randNum[0]\n",
        "        print(\"Process\", rank, \"drew the number\", randNum0)\n",
        "        comm.Isend(randNum0, dest=1)\n",
        "        req = comm.Irecv(randNum, source=1)\n",
        "        req.Wait()\n",
        "        print(\"Process\", rank, \"has max value\", randNum[0]) "
      ]
    },
    {
      "cell_type": "markdown",
      "source": [
        "For Q2, we expect the following cell output to be in the form:\n",
        "\n",
        "```\n",
        "Process 1 before receiving has the number 0.0\n",
        "Process 0 drew the number 0.714475096728165\n",
        "Process 1 after generating sample 0.5177927276591507\n",
        "Process 1 received the number 0.714475096728165\n",
        "Process 1 has max value 0.714475096728165\n",
        "Process 0 has max value 0.714475096728165\n",
        "```\n",
        "(but, again, with different numbers).\n"
      ],
      "metadata": {
        "id": "iY0puj0Xt7R0"
      }
    },
    {
      "cell_type": "code",
      "execution_count": 5,
      "metadata": {
        "colab": {
          "base_uri": "https://localhost:8080/"
        },
        "id": "7b-Zw_CNsI1b",
        "outputId": "1a774faf-8927-4da3-be97-62b8791379af"
      },
      "outputs": [
        {
          "output_type": "stream",
          "name": "stdout",
          "text": [
            "Process 0 drew the number 0.38072654943822215\n",
            "Process 1 before receiving has the number 0.0\n",
            "Process 1 after generating sample 0.6021943418553584\n",
            "Process 1 received the number 0.38072654943822215\n",
            "Process 1 has max value 0.6021943418553584\n",
            "Process 0 has max value 0.6021943418553584\n"
          ]
        }
      ],
      "source": [
        "!mpiexec --allow-run-as-root --oversubscribe -n 2 python question-2-mpi.py"
      ]
    },
    {
      "cell_type": "markdown",
      "metadata": {
        "id": "sfiAFrTLrm6H"
      },
      "source": [
        "##Question 3"
      ]
    },
    {
      "cell_type": "code",
      "execution_count": 6,
      "metadata": {
        "colab": {
          "base_uri": "https://localhost:8080/"
        },
        "id": "P_ZwiWRbsOxz",
        "outputId": "b9701ecc-9c1f-4790-9394-f0acfc4b7adb"
      },
      "outputs": [
        {
          "output_type": "stream",
          "name": "stdout",
          "text": [
            "Writing question-3-mpi.py\n"
          ]
        }
      ],
      "source": [
        "%%writefile question-3-mpi.py\n",
        "import numpy\n",
        "from mpi4py import MPI\n",
        "comm = MPI.COMM_WORLD\n",
        "rank = comm.Get_rank()\n",
        "\n",
        "randNum = numpy.zeros(1)\n",
        "status = MPI.Status()\n",
        "\n",
        "randNum[0] = numpy.random.random_sample(1)\n",
        "print(\"Process\", rank, \"drew the number\", randNum[0])      \n",
        "max = comm.reduce(randNum, op=MPI.MAX, root=0)\n",
        "\n",
        "if rank==0:\n",
        "  print(\"Process\", rank, \"has max value\", max[0]) "
      ]
    },
    {
      "cell_type": "markdown",
      "source": [
        "For Q3 (testing with 8 processes), we expect the following cell output to be in the form:\n",
        "\n",
        "```\n",
        "Process 3 drew the number 0.644414619435742\n",
        "Process 7 drew the number 0.3318780441129008\n",
        "Process 1 drew the number 0.30690199619345326\n",
        "Process 2 drew the number 0.3000357589861674\n",
        "Process 0 drew the number 0.37527495488187257\n",
        "Process 4 drew the number 0.5049044705082459\n",
        "Process 5 drew the number 0.748826873661416\n",
        "Process 6 drew the number 0.44233981192412875\n",
        "Process 0 has max value 0.748826873661416\n",
        "```\n",
        "\n",
        "(but with different numbers).\n",
        "\n"
      ],
      "metadata": {
        "id": "35DSopqPvdX8"
      }
    },
    {
      "cell_type": "code",
      "execution_count": 7,
      "metadata": {
        "colab": {
          "base_uri": "https://localhost:8080/"
        },
        "id": "99wJMqFdsRKs",
        "outputId": "7e2fd835-e378-43d9-f55a-e4d14d2aa66e"
      },
      "outputs": [
        {
          "output_type": "stream",
          "name": "stdout",
          "text": [
            "Process 2 drew the number 0.871631621952866\n",
            "Process 1 drew the number 0.9407281474387121\n",
            "Process 0 drew the number 0.16138676387161477\n",
            "Process 3 drew the number 0.1703837185828293\n",
            "Process 5 drew the number 0.9715362610494812\n",
            "Process 6 drew the number 0.9247965205165188\n",
            "Process 4 drew the number 0.7418947986475449\n",
            "Process 7 drew the number 0.6369246534888999\n",
            "Process 0 has max value 0.9715362610494812\n"
          ]
        }
      ],
      "source": [
        "!mpiexec --allow-run-as-root --oversubscribe -n 8 python question-3-mpi.py"
      ]
    },
    {
      "cell_type": "markdown",
      "metadata": {
        "id": "1ur8NQ9cEXIM"
      },
      "source": [
        "##Question 4"
      ]
    },
    {
      "cell_type": "code",
      "execution_count": 8,
      "metadata": {
        "colab": {
          "base_uri": "https://localhost:8080/"
        },
        "id": "45K9YtTUEYji",
        "outputId": "80658a92-d50d-41a6-ea59-7edf7a962458"
      },
      "outputs": [
        {
          "output_type": "stream",
          "name": "stdout",
          "text": [
            "Writing question-4-mpi.py\n"
          ]
        }
      ],
      "source": [
        "%%writefile question-4-mpi.py\n",
        "\n",
        "import numpy\n",
        "from mpi4py import MPI\n",
        "comm = MPI.COMM_WORLD\n",
        "rank = comm.Get_rank()\n",
        "\n",
        "message = numpy.zeros(1)\n",
        "status = MPI.Status()\n",
        "randNum = numpy.zeros(1)\n",
        "\n",
        "randNum[0] = numpy.random.random_sample(1)\n",
        "\n",
        "if rank != 0:  \n",
        "  print(\"Process\", rank, \"drew the number\", randNum[0])\n",
        "  comm.Send(randNum, dest=0)\n",
        "if rank == 0:\n",
        "  print(\"Process\", rank, \"drew the number\", randNum[0])\n",
        "  cur_max_num = randNum[0]\n",
        "  cur_max_src = 0\n",
        "  for i in range(comm.Get_size() - 1):\n",
        "    comm.Recv(randNum, source=MPI.ANY_SOURCE, status=status)\n",
        "    if randNum[0]>cur_max_num:\n",
        "      cur_max_num, cur_max_src = randNum[0], status.source\n",
        "  print(\"Process\", rank, \"max random number\", cur_max_num, \"found at rank\", cur_max_src)         "
      ]
    },
    {
      "cell_type": "markdown",
      "source": [
        "For Q4, we expect the following cell output to be in the form:\n",
        "\n",
        "\n",
        "```\n",
        "Process 0 drew the number 0.11288481815163798\n",
        "Process 4 drew the number 0.060721653476019655\n",
        "Process 3 drew the number 0.13311050208290287\n",
        "Process 6 drew the number 0.6279276536062464\n",
        "Process 5 drew the number 0.7787862146779945\n",
        "Process 1 drew the number 0.17355707061903436\n",
        "Process 2 drew the number 0.3926657952242526\n",
        "Process 7 drew the number 0.3321183350590743\n",
        "Process 0 max random number 0.7787862146779945 found at rank 5\n",
        "\n",
        "```\n",
        "(but with different numbers)\n"
      ],
      "metadata": {
        "id": "KZOHvhRZwtJV"
      }
    },
    {
      "cell_type": "code",
      "execution_count": 9,
      "metadata": {
        "colab": {
          "base_uri": "https://localhost:8080/"
        },
        "id": "4j-M5TAJEcRE",
        "outputId": "adac0da5-9dca-454f-fbac-1eaf9145cfda"
      },
      "outputs": [
        {
          "output_type": "stream",
          "name": "stdout",
          "text": [
            "Process 4 drew the number 0.5673868192814495\n",
            "Process 3 drew the number 0.36051256050899616\n",
            "Process 6 drew the number 0.7898560204621764\n",
            "Process 5 drew the number 0.705668128843396\n",
            "Process 7 drew the number 0.4501368088386075\n",
            "Process 1 drew the number 0.4599259922879838\n",
            "Process 0 drew the number 0.2643321305786479\n",
            "Process 2 drew the number 0.12789670404053188\n",
            "Process 0 max random number 0.7898560204621764 found at rank 6\n"
          ]
        }
      ],
      "source": [
        "!mpiexec --allow-run-as-root --oversubscribe -n 8 python question-4-mpi.py"
      ]
    },
    {
      "cell_type": "markdown",
      "metadata": {
        "id": "W4yVYviJjIn8"
      },
      "source": [
        "#Part B"
      ]
    },
    {
      "cell_type": "markdown",
      "metadata": {
        "id": "nrQB4SqgSbL6"
      },
      "source": [
        "##Question 1"
      ]
    },
    {
      "cell_type": "markdown",
      "metadata": {
        "id": "aHC1qQm9dBrJ"
      },
      "source": [
        "before jit"
      ]
    },
    {
      "cell_type": "code",
      "execution_count": 10,
      "metadata": {
        "colab": {
          "base_uri": "https://localhost:8080/"
        },
        "id": "T4L800VL9imd",
        "outputId": "42e7e1ca-0078-458c-a451-d68ae72357c3"
      },
      "outputs": [
        {
          "output_type": "stream",
          "name": "stdout",
          "text": [
            "True\n",
            "False\n",
            "True\n",
            "True\n"
          ]
        }
      ],
      "source": [
        "import numpy as np\n",
        "import numba\n",
        "from numba import jit\n",
        "\n",
        "def extract_bit(n, i):\n",
        "  return n >> i & 1 == 1\n",
        "\n",
        "print(extract_bit(0b1101, 0))\n",
        "print(extract_bit(0b1101, 1))\n",
        "print(extract_bit(0b1101, 2))\n",
        "print(extract_bit(0b1101, 3))\n"
      ]
    },
    {
      "cell_type": "code",
      "execution_count": 11,
      "metadata": {
        "id": "dvvvfLJx9qhh"
      },
      "outputs": [],
      "source": [
        "def check_circuit(start, end):\n",
        "  v = np.ones(32, dtype=np.int32)\n",
        "  count = 0\n",
        "  for bits in range(start, end):\n",
        "    for i in range(32):\n",
        "      v[i] = extract_bit(bits, i)\n",
        "\n",
        "    if (((v[0] or v[1]) and (not v[1] or not v[3]) and (v[2] or v[3])\n",
        "       and (not v[3] or not v[4]) and (v[4] or not v[5])\n",
        "       and (v[5] or not v[6]) and (v[5] or v[6])\n",
        "       and (v[6] or not v[15]) and (v[7] or not v[8])\n",
        "       and (not v[7] or not v[13]) and (v[8] or v[9])\n",
        "       and (v[8] or not v[9]) and (not v[9] or not v[10])\n",
        "       and (v[9] or v[11]) and (v[10] or v[11])\n",
        "       and (v[12] or v[13]) and (v[13] or not v[14])\n",
        "       and (v[14] or v[15]))\n",
        "       and\n",
        "          ( (v[16] or v[17]) and (not v[17] or not v[19]) and (v[18] or v[19])\n",
        "       and (not v[19] or not v[20]) and (v[20] or not v[21])\n",
        "       and (v[21] or not v[22]) and (v[21] or v[22])\n",
        "       and (v[22] or not v[31]) and (v[23] or not v[24])\n",
        "       and (not v[23] or not v[29]) and (v[24] or v[25])\n",
        "       and (v[24] or not v[25]) and (not v[25] or not v[26])\n",
        "       and (v[25] or v[27]) and (v[26] or v[27])\n",
        "       and (v[28] or v[29]) and (v[29] or not v[30])\n",
        "       and (v[30] or v[31]))):\n",
        "      count += 1\n",
        "  return count\n"
      ]
    },
    {
      "cell_type": "code",
      "execution_count": 15,
      "metadata": {
        "colab": {
          "base_uri": "https://localhost:8080/"
        },
        "id": "2zvb-QzPRf0l",
        "outputId": "db50c864-e0bc-4b50-f6f6-af9a467f4828"
      },
      "outputs": [
        {
          "output_type": "stream",
          "name": "stdout",
          "text": [
            "0\n",
            "CPU times: user 10.6 s, sys: 11.1 ms, total: 10.6 s\n",
            "Wall time: 10.8 s\n"
          ]
        }
      ],
      "source": [
        "%time print(check_circuit(0, 1048576))\n"
      ]
    },
    {
      "cell_type": "markdown",
      "metadata": {
        "id": "W9TyFZ1wdFvR"
      },
      "source": [
        "after jit"
      ]
    },
    {
      "cell_type": "code",
      "execution_count": 16,
      "metadata": {
        "id": "AACSsqPYJP6z"
      },
      "outputs": [],
      "source": [
        "from numba import jit,vectorize,int64,int32\n",
        "\n",
        "@jit\n",
        "def check_extract_bit(n, i):\n",
        "  return n >> i & 1 == 1\n",
        "\n",
        "@jit\n",
        "def check_circuit_jit(start, end):\n",
        "  v = np.ones(32, dtype=np.int32)\n",
        "  count = 0\n",
        "  for bits in range(start, end):\n",
        "    for i in range(32):\n",
        "      v[i] = check_extract_bit(bits, i)\n",
        "\n",
        "    if (((v[0] or v[1]) and (not v[1] or not v[3]) and (v[2] or v[3])\n",
        "       and (not v[3] or not v[4]) and (v[4] or not v[5])\n",
        "       and (v[5] or not v[6]) and (v[5] or v[6])\n",
        "       and (v[6] or not v[15]) and (v[7] or not v[8])\n",
        "       and (not v[7] or not v[13]) and (v[8] or v[9])\n",
        "       and (v[8] or not v[9]) and (not v[9] or not v[10])\n",
        "       and (v[9] or v[11]) and (v[10] or v[11])\n",
        "       and (v[12] or v[13]) and (v[13] or not v[14])\n",
        "       and (v[14] or v[15]))\n",
        "       and\n",
        "          ( (v[16] or v[17]) and (not v[17] or not v[19]) and (v[18] or v[19])\n",
        "       and (not v[19] or not v[20]) and (v[20] or not v[21])\n",
        "       and (v[21] or not v[22]) and (v[21] or v[22])\n",
        "       and (v[22] or not v[31]) and (v[23] or not v[24])\n",
        "       and (not v[23] or not v[29]) and (v[24] or v[25])\n",
        "       and (v[24] or not v[25]) and (not v[25] or not v[26])\n",
        "       and (v[25] or v[27]) and (v[26] or v[27])\n",
        "       and (v[28] or v[29]) and (v[29] or not v[30])\n",
        "       and (v[30] or v[31]))):\n",
        "      count += 1\n",
        "  return count\n"
      ]
    },
    {
      "cell_type": "code",
      "execution_count": 22,
      "metadata": {
        "colab": {
          "base_uri": "https://localhost:8080/"
        },
        "id": "wAXG-boBJYAc",
        "outputId": "6015c920-3d01-4aab-b99c-daa0b76b6926"
      },
      "outputs": [
        {
          "output_type": "stream",
          "name": "stdout",
          "text": [
            "0\n",
            "CPU times: user 32.1 ms, sys: 1e+03 ns, total: 32.1 ms\n",
            "Wall time: 32.1 ms\n",
            "81\n",
            "CPU times: user 2min 9s, sys: 361 ms, total: 2min 9s\n",
            "Wall time: 2min 9s\n"
          ]
        }
      ],
      "source": [
        "%time print(check_circuit_jit(0, 1048576)) # notice the function name change here\n",
        "%time print(check_circuit_jit(0, 4294967296)) # full 32-bit test.\n"
      ]
    },
    {
      "cell_type": "markdown",
      "metadata": {
        "id": "emHdnbLeSdj7"
      },
      "source": [
        "##Question 2"
      ]
    },
    {
      "cell_type": "code",
      "execution_count": 18,
      "metadata": {
        "id": "jw4pMoGwSeyS"
      },
      "outputs": [],
      "source": [
        "import os\n",
        "os.environ['NUMBAPRO_NVVM']='/usr/local/cuda-10.0/nvvm/lib64/libnvvm.so'  \n",
        "os.environ['NUMBAPRO_LIBDEVICE']='/usr/local/cuda-10.0/nvvm/libdevice/'\n",
        "os.environ['NUMBAPRO_CUDA_DRIVER']='/usr/local/cuda-10.0/nvvm/libcuda.so'\n",
        "\n",
        "import numpy as np\n",
        "import numba\n",
        "from numba import cuda, jit\n",
        "\n",
        "@cuda.jit\n",
        "def extract_bit_jit(n, i):\n",
        "  return n >> i & 1 == 1\n",
        "\n",
        "@cuda.jit\n",
        "def check_circuit_gpu(start, end, count_out):\n",
        "  v = cuda.local.array(32, dtype=numba.int32)\n",
        "  id = cuda.grid(1)\n",
        "  per = (end - start) // cuda.gridsize(1)\n",
        "  thread_start = id * per\n",
        "  thread_end = (id+1) * per\n",
        "  count = 0\n",
        "  for bits in range(thread_start , thread_end):\n",
        "    for i in range(32):\n",
        "      v[i] = extract_bit_jit(bits, i)\n",
        "\n",
        "    if (((v[0] or v[1]) and (not v[1] or not v[3]) and (v[2] or v[3])\n",
        "       and (not v[3] or not v[4]) and (v[4] or not v[5])\n",
        "       and (v[5] or not v[6]) and (v[5] or v[6])\n",
        "       and (v[6] or not v[15]) and (v[7] or not v[8])\n",
        "       and (not v[7] or not v[13]) and (v[8] or v[9])\n",
        "       and (v[8] or not v[9]) and (not v[9] or not v[10])\n",
        "       and (v[9] or v[11]) and (v[10] or v[11])\n",
        "       and (v[12] or v[13]) and (v[13] or not v[14])\n",
        "       and (v[14] or v[15]))\n",
        "       and\n",
        "          ( (v[16] or v[17]) and (not v[17] or not v[19]) and (v[18] or v[19])\n",
        "       and (not v[19] or not v[20]) and (v[20] or not v[21])\n",
        "       and (v[21] or not v[22]) and (v[21] or v[22])\n",
        "       and (v[22] or not v[31]) and (v[23] or not v[24])\n",
        "       and (not v[23] or not v[29]) and (v[24] or v[25])\n",
        "       and (v[24] or not v[25]) and (not v[25] or not v[26])\n",
        "       and (v[25] or v[27]) and (v[26] or v[27])\n",
        "       and (v[28] or v[29]) and (v[29] or not v[30])\n",
        "       and (v[30] or v[31]))):\n",
        "      count += 1\n",
        "  cuda.atomic.add(count_out, 0, count)\n",
        "  \n",
        "\n"
      ]
    },
    {
      "cell_type": "code",
      "execution_count": 19,
      "metadata": {
        "colab": {
          "base_uri": "https://localhost:8080/"
        },
        "id": "_i_rVos5zVDD",
        "outputId": "ae2d4c8d-9ce5-49fd-e480-bedc38f88983"
      },
      "outputs": [
        {
          "output_type": "stream",
          "name": "stdout",
          "text": [
            "[81] solutions\n",
            "CPU times: user 153 ms, sys: 0 ns, total: 153 ms\n",
            "Wall time: 155 ms\n"
          ]
        }
      ],
      "source": [
        "# part b\n",
        "#16384 threads should take around 52 ms, 1 will take ~5 minutes\n",
        "count_out = cuda.to_device(np.zeros(shape=1, dtype=np.int32))\n",
        "check_circuit_gpu[128, 128](0, 4294967296, count_out)\n",
        "%time print(count_out.copy_to_host(), 'solutions')"
      ]
    },
    {
      "cell_type": "code",
      "execution_count": 20,
      "metadata": {
        "colab": {
          "base_uri": "https://localhost:8080/"
        },
        "id": "E7BZzfJPbNgY",
        "outputId": "be0f6483-52f6-48aa-b624-257b1d47e198"
      },
      "outputs": [
        {
          "output_type": "stream",
          "name": "stderr",
          "text": [
            "/usr/local/lib/python3.10/dist-packages/numba/cuda/dispatcher.py:488: NumbaPerformanceWarning: Grid size 1 will likely result in GPU under-utilization due to low occupancy.\n",
            "  warn(NumbaPerformanceWarning(msg))\n"
          ]
        },
        {
          "output_type": "stream",
          "name": "stdout",
          "text": [
            "number of blocks: 1 found [81] solutions\n",
            "CPU times: user 2.75 s, sys: 4.98 ms, total: 2.75 s\n",
            "Wall time: 2.74 s\n"
          ]
        },
        {
          "output_type": "stream",
          "name": "stderr",
          "text": [
            "/usr/local/lib/python3.10/dist-packages/numba/cuda/dispatcher.py:488: NumbaPerformanceWarning: Grid size 8 will likely result in GPU under-utilization due to low occupancy.\n",
            "  warn(NumbaPerformanceWarning(msg))\n"
          ]
        },
        {
          "output_type": "stream",
          "name": "stdout",
          "text": [
            "number of blocks: 8 found [81] solutions\n",
            "CPU times: user 325 ms, sys: 4 µs, total: 325 ms\n",
            "Wall time: 322 ms\n",
            "number of blocks: 16 found [81] solutions\n",
            "CPU times: user 161 ms, sys: 2 µs, total: 161 ms\n",
            "Wall time: 161 ms\n"
          ]
        },
        {
          "output_type": "stream",
          "name": "stderr",
          "text": [
            "/usr/local/lib/python3.10/dist-packages/numba/cuda/dispatcher.py:488: NumbaPerformanceWarning: Grid size 16 will likely result in GPU under-utilization due to low occupancy.\n",
            "  warn(NumbaPerformanceWarning(msg))\n",
            "/usr/local/lib/python3.10/dist-packages/numba/cuda/dispatcher.py:488: NumbaPerformanceWarning: Grid size 32 will likely result in GPU under-utilization due to low occupancy.\n",
            "  warn(NumbaPerformanceWarning(msg))\n"
          ]
        },
        {
          "output_type": "stream",
          "name": "stdout",
          "text": [
            "number of blocks: 32 found [81] solutions\n",
            "CPU times: user 81.2 ms, sys: 1 ms, total: 82.2 ms\n",
            "Wall time: 80.2 ms\n",
            "number of blocks: 64 found [81] solutions\n",
            "CPU times: user 65.4 ms, sys: 0 ns, total: 65.4 ms\n",
            "Wall time: 65.3 ms\n",
            "number of blocks: 128 found [81] solutions\n",
            "CPU times: user 62.4 ms, sys: 0 ns, total: 62.4 ms\n",
            "Wall time: 62.3 ms\n",
            "number of blocks: 256 found [81] solutions\n",
            "CPU times: user 53.1 ms, sys: 0 ns, total: 53.1 ms\n",
            "Wall time: 53.1 ms\n"
          ]
        },
        {
          "output_type": "stream",
          "name": "stderr",
          "text": [
            "/usr/local/lib/python3.10/dist-packages/numba/cuda/dispatcher.py:488: NumbaPerformanceWarning: Grid size 64 will likely result in GPU under-utilization due to low occupancy.\n",
            "  warn(NumbaPerformanceWarning(msg))\n"
          ]
        },
        {
          "output_type": "stream",
          "name": "stdout",
          "text": [
            "number of blocks: 512 found [81] solutions\n",
            "CPU times: user 49.7 ms, sys: 0 ns, total: 49.7 ms\n",
            "Wall time: 48.3 ms\n",
            "number of blocks: 1024 found [81] solutions\n",
            "CPU times: user 48.5 ms, sys: 0 ns, total: 48.5 ms\n",
            "Wall time: 48.3 ms\n",
            "number of blocks: 2048 found [81] solutions\n",
            "CPU times: user 48 ms, sys: 0 ns, total: 48 ms\n",
            "Wall time: 48 ms\n",
            "number of blocks: 4096 found [81] solutions\n",
            "CPU times: user 48.3 ms, sys: 3 µs, total: 48.3 ms\n",
            "Wall time: 48.1 ms\n"
          ]
        }
      ],
      "source": [
        "#part c\n",
        "block_list= [1, 8, 16, 32, 64, 128, 256, 512, 1024, 2048, 4096]\n",
        "for block in block_list:\n",
        "  count_out = cuda.to_device(np.zeros(shape=1, dtype=np.int32))\n",
        "  check_circuit_gpu[block, 128](0, 4294967296, count_out)\n",
        "  %time print(f\"number of blocks: {block} found {count_out.copy_to_host()} solutions\")"
      ]
    },
    {
      "cell_type": "markdown",
      "metadata": {
        "id": "cuyzj7QHzYhZ"
      },
      "source": [
        "##Question 3"
      ]
    },
    {
      "cell_type": "code",
      "execution_count": 21,
      "metadata": {
        "colab": {
          "base_uri": "https://localhost:8080/"
        },
        "id": "39JkV2Nkzacr",
        "outputId": "5183c739-cdb0-4369-b452-007af4de1a12"
      },
      "outputs": [
        {
          "output_type": "stream",
          "name": "stderr",
          "text": [
            "/usr/local/lib/python3.10/dist-packages/numba/cuda/dispatcher.py:488: NumbaPerformanceWarning: Grid size 1 will likely result in GPU under-utilization due to low occupancy.\n",
            "  warn(NumbaPerformanceWarning(msg))\n",
            "/usr/local/lib/python3.10/dist-packages/numba/cuda/cudadrv/devicearray.py:885: NumbaPerformanceWarning: Host array used in CUDA kernel will incur copy overhead to/from device.\n",
            "  warn(NumbaPerformanceWarning(msg))\n",
            "/usr/local/lib/python3.10/dist-packages/numba/cuda/dispatcher.py:488: NumbaPerformanceWarning: Grid size 1 will likely result in GPU under-utilization due to low occupancy.\n",
            "  warn(NumbaPerformanceWarning(msg))\n",
            "/usr/local/lib/python3.10/dist-packages/numba/cuda/cudadrv/devicearray.py:885: NumbaPerformanceWarning: Host array used in CUDA kernel will incur copy overhead to/from device.\n",
            "  warn(NumbaPerformanceWarning(msg))\n"
          ]
        }
      ],
      "source": [
        "import numpy as np\n",
        "import numba\n",
        "from numba import cuda, jit\n",
        "import os\n",
        "os.environ['NUMBAPRO_NVVM']='/usr/local/cuda-10.0/nvvm/lib64/libnvvm.so'  \n",
        "os.environ['NUMBAPRO_LIBDEVICE']='/usr/local/cuda-10.0/nvvm/libdevice'\n",
        "\n",
        "@jit\n",
        "def median(a, b, c):\n",
        "  if a > b:\n",
        "    if b > c:\n",
        "      return b \n",
        "    elif a > c: \n",
        "      return c \n",
        "    else:\n",
        "      return a  \n",
        "  else: \n",
        "    if a > c:\n",
        "      return a\n",
        "    elif b > c:\n",
        "      return c\n",
        "    else:\n",
        "      return b \n",
        "\n",
        "@jit\n",
        "def median_filter_seq(A):\n",
        "  n = np.shape(A)[0]\n",
        "  r = np.zeros(n, dtype=np.uint8)\n",
        "  r[0] = A[0]\n",
        "  r[n-1] = A[n-1]\n",
        "  \n",
        "  for i in range(1,n-1):\n",
        "    r[i] = median(A[i-1], A[i], A[i+1])\n",
        "  \n",
        "  return r\n",
        "\n",
        "A = np.random.randint(256, size=256, dtype=np.uint8)\n",
        "B = np.array([1, 5, 3, 4, 2, 9, 4])\n",
        "\n",
        "A_seq = median_filter_seq(A)\n",
        "B_seq = median_filter_seq(B)\n",
        "\n",
        "@cuda.jit\n",
        "def median_filter(A):\n",
        "  i = cuda.grid(1)\n",
        "\n",
        "  if (0 < i < A.shape[0] - 1):\n",
        "    median_val = median(A[i - 1], A[i], A[i + 1])\n",
        "    A[i] = median_val\n",
        "\n",
        "median_filter[1,256](A)\n",
        "median_filter[1,7](B)\n",
        "\n",
        "assert np.array_equal(B, B_seq)\n",
        "assert np.array_equal(A, A_seq)\n",
        "\n"
      ]
    }
  ],
  "metadata": {
    "accelerator": "GPU",
    "colab": {
      "provenance": []
    },
    "kernelspec": {
      "display_name": "Python 3",
      "name": "python3"
    }
  },
  "nbformat": 4,
  "nbformat_minor": 0
}