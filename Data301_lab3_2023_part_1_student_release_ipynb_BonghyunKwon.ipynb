{
  "cells": [
    {
      "cell_type": "markdown",
      "metadata": {
        "id": "g_fnq5Kjguoz"
      },
      "source": [
        "#Part 1"
      ]
    },
    {
      "cell_type": "code",
      "execution_count": 1,
      "metadata": {
        "colab": {
          "base_uri": "https://localhost:8080/"
        },
        "id": "ih9JMaHLUX_6",
        "outputId": "1c66fb55-73b2-4f07-89d7-2d6178a6b674"
      },
      "outputs": [
        {
          "output_type": "stream",
          "name": "stdout",
          "text": [
            "env: PYTHONHASHSEED=3\n",
            "\u001b[2K     \u001b[90m━━━━━━━━━━━━━━━━━━━━━━━━━━━━━━━━━━━━━━━\u001b[0m \u001b[32m281.4/281.4 MB\u001b[0m \u001b[31m4.3 MB/s\u001b[0m eta \u001b[36m0:00:00\u001b[0m\n",
            "\u001b[?25h  Preparing metadata (setup.py) ... \u001b[?25l\u001b[?25hdone\n",
            "\u001b[2K     \u001b[90m━━━━━━━━━━━━━━━━━━━━━━━━━━━━━━━━━━━━━━\u001b[0m \u001b[32m199.7/199.7 KB\u001b[0m \u001b[31m20.2 MB/s\u001b[0m eta \u001b[36m0:00:00\u001b[0m\n",
            "\u001b[?25h  Building wheel for pyspark (setup.py) ... \u001b[?25l\u001b[?25hdone\n"
          ]
        }
      ],
      "source": [
        "%env PYTHONHASHSEED 3\n",
        "!apt-get install openjdk-8-jdk-headless -qq > /dev/null\n",
        "!pip install -q pyspark"
      ]
    },
    {
      "cell_type": "code",
      "execution_count": 2,
      "metadata": {
        "id": "_8_lZxSvYwWJ"
      },
      "outputs": [],
      "source": [
        "from math import sqrt\n",
        "import pyspark\n",
        "from pyspark import SparkConf, SparkContext\n",
        "from pyspark.sql import *\n",
        "spark = SparkSession.builder.master(\"local[*]\").appName('SparkExample').config(\n",
        "    \"spark.executor.memory\", \"1g\").config(\"spark.ui.port\", \"4050\"\n",
        "        ).getOrCreate()\n",
        "sc = spark.sparkContext\n",
        "\n",
        "def dbg(x):\n",
        "  \"\"\" A helper function to print debugging information on RDDs \"\"\"\n",
        "  if isinstance(x, pyspark.RDD):\n",
        "    print([(t[0], list(t[1]) if \n",
        "            isinstance(t[1], pyspark.resultiterable.ResultIterable) else t[1])\n",
        "           if isinstance(t, tuple) else t\n",
        "           for t in x.take(100)])\n",
        "  else:\n",
        "    print(x)                                 "
      ]
    },
    {
      "cell_type": "markdown",
      "metadata": {
        "id": "gWazm_KNFt3u"
      },
      "source": [
        "##Loading data"
      ]
    },
    {
      "cell_type": "code",
      "execution_count": 3,
      "metadata": {
        "colab": {
          "base_uri": "https://localhost:8080/"
        },
        "id": "TviInWyyB62P",
        "outputId": "915264fb-3b89-4460-d527-8831cd8ce872"
      },
      "outputs": [
        {
          "output_type": "stream",
          "name": "stdout",
          "text": [
            "browsing.txt loaded with 31101 lines\n"
          ]
        }
      ],
      "source": [
        "import urllib.request\n",
        "url = 'https://drive.google.com/uc?export=download&confirm=t&id=1Ijyh14a0Lh9sjwQUR6PE1TB2phjAZP4P'\n",
        "filename = \"browsing.txt\"\n",
        "urllib.request.urlretrieve(url, filename)\n",
        "\n",
        "# load up front for use in all questions\n",
        "text_file = sc.textFile(filename)\n",
        "# force spark to load the file\n",
        "print(f\"{filename} loaded with {text_file.count()} lines\")"
      ]
    },
    {
      "cell_type": "markdown",
      "metadata": {
        "id": "RV-CbR3352o6"
      },
      "source": [
        "##Question 1a"
      ]
    },
    {
      "cell_type": "code",
      "execution_count": 4,
      "metadata": {
        "colab": {
          "base_uri": "https://localhost:8080/"
        },
        "id": "rA2HIUKe5lzH",
        "outputId": "e47533b1-e82e-437b-cc35-c46c8b2b2c14"
      },
      "outputs": [
        {
          "output_type": "stream",
          "name": "stdout",
          "text": [
            "[(('DAI62779', 'ELE17451'), 1592), (('FRO40251', 'SNA80324'), 1412), (('DAI75645', 'FRO40251'), 1254), (('FRO40251', 'GRO85051'), 1213), (('DAI62779', 'GRO73461'), 1139)]\n"
          ]
        }
      ],
      "source": [
        "from operator import *\n",
        "def items_pair_tup(line):\n",
        "  \"\"\"Function for pairing up all items to tuple within the same line\"\"\"\n",
        "  return [tuple(sorted((line[j], line[i]))) for i in range(len(line)) for j in range(i)]\n",
        "  \n",
        "def naive(text_file_rdd):\n",
        "  \"\"\"A naive Spark approach function to finding frequest product pairs \"\"\"\n",
        "  #Map as splitted items per line and remove ''(non-item value)\n",
        "  itemsByLine = text_file_rdd.map(lambda x : x.split(\" \")).map(lambda x : x[:-1])\n",
        "  #Map each line with function to get all pairs of items in tuple in the same basket\n",
        "  itemPairTup = itemsByLine.flatMap(items_pair_tup)\n",
        "  #Counting all pairs of item\n",
        "  itemPairCount = itemPairTup.map(lambda x : (x, 1)).reduceByKey(add)\n",
        "  return itemPairCount\n",
        "    \n",
        "results_q1a = naive(text_file).takeOrdered(5, lambda kv: -kv[1])\n",
        "print(results_q1a)"
      ]
    },
    {
      "cell_type": "code",
      "execution_count": 5,
      "metadata": {
        "id": "JTQ5SDXP7XvV"
      },
      "outputs": [],
      "source": [
        "assert results_q1a == [(('DAI62779', 'ELE17451'), 1592), (('FRO40251', 'SNA80324'), 1412), \n",
        " (('DAI75645', 'FRO40251'), 1254), (('FRO40251', 'GRO85051'), 1213), \n",
        " (('DAI62779', 'GRO73461'), 1139)]"
      ]
    },
    {
      "cell_type": "markdown",
      "metadata": {
        "id": "Fl5RTj777adn"
      },
      "source": [
        "##Question 1b"
      ]
    },
    {
      "cell_type": "code",
      "execution_count": 6,
      "metadata": {
        "id": "IJDyTZkf76n_",
        "colab": {
          "base_uri": "https://localhost:8080/"
        },
        "outputId": "78e361a7-186c-4fa6-a1d7-d1e193da8bf9"
      },
      "outputs": [
        {
          "output_type": "stream",
          "name": "stdout",
          "text": [
            "[('DAI62779', 6667), ('FRO40251', 3881), ('ELE17451', 3875), ('GRO73461', 3602), ('SNA80324', 3044)]\n"
          ]
        }
      ],
      "source": [
        "#Step 1 of the A-priori algorithm (has its own function so we can test it)\n",
        "def a_priori_step1(text_file_rdd):\n",
        "  items = text_file_rdd.flatMap(lambda x : x.split(\" \")).filter(lambda x : x != '')\n",
        "  itemsCount = items.map(lambda x : (x, 1)).reduceByKey(add)\n",
        "  return itemsCount\n",
        "  \n",
        "results_q1b_step1 = a_priori_step1(text_file).takeOrdered(5, lambda kv: -kv[1])\n",
        "print(results_q1b_step1)"
      ]
    },
    {
      "cell_type": "code",
      "execution_count": 7,
      "metadata": {
        "id": "zfy_zGxb75w4"
      },
      "outputs": [],
      "source": [
        "assert results_q1b_step1 == [('DAI62779', 6667), ('FRO40251', 3881), \n",
        "                             ('ELE17451', 3875), ('GRO73461', 3602), \n",
        "                             ('SNA80324', 3044)]"
      ]
    },
    {
      "cell_type": "code",
      "execution_count": 8,
      "metadata": {
        "colab": {
          "base_uri": "https://localhost:8080/"
        },
        "id": "TCRJalF_-ObX",
        "outputId": "37aaa1c7-cc23-47ab-cd3b-4077fd407dd5"
      },
      "outputs": [
        {
          "output_type": "stream",
          "name": "stdout",
          "text": [
            "[(('DAI62779', 'ELE17451'), 1592), (('FRO40251', 'SNA80324'), 1412), (('DAI75645', 'FRO40251'), 1254), (('FRO40251', 'GRO85051'), 1213), (('DAI62779', 'GRO73461'), 1139)]\n"
          ]
        }
      ],
      "source": [
        "def a_priori(text_file_rdd, support=100):\n",
        "  supportItems = a_priori_step1(text_file_rdd).filter(lambda x : x[1] > support)\n",
        "  freqItems = sc.broadcast(supportItems.collectAsMap())\n",
        "\n",
        "  def filter_uncommon(text):\n",
        "    return [item  for item in text.split(' ') if item in freqItems.value]\n",
        "\n",
        "  freqItemPerBasket = text_file_rdd.map(filter_uncommon)\n",
        "  freqItemPair = freqItemPerBasket.flatMap(items_pair_tup)\n",
        "  freqItemPairCount = freqItemPair.map(lambda x : (x, 1)).reduceByKey(add)\n",
        "\n",
        "  return freqItemPairCount\n",
        "\n",
        "results_q1b = a_priori(text_file).takeOrdered(5, lambda kv: -kv[1])\n",
        "print(results_q1b)"
      ]
    },
    {
      "cell_type": "code",
      "execution_count": 9,
      "metadata": {
        "id": "oWfL6p4aAk6d"
      },
      "outputs": [],
      "source": [
        "assert results_q1b == [(('DAI62779', 'ELE17451'), 1592), (('FRO40251', 'SNA80324'), 1412), \n",
        " (('DAI75645', 'FRO40251'), 1254), (('FRO40251', 'GRO85051'), 1213), \n",
        " (('DAI62779', 'GRO73461'), 1139)]"
      ]
    },
    {
      "cell_type": "code",
      "execution_count": 14,
      "metadata": {
        "colab": {
          "base_uri": "https://localhost:8080/"
        },
        "id": "JJcl3CJ6BCOJ",
        "outputId": "e9150e61-4562-4ba0-a67f-dc4e6f462be5"
      },
      "outputs": [
        {
          "output_type": "stream",
          "name": "stdout",
          "text": [
            "naive took 10.96064805984497 seconds, apriori(100) took 4.080798149108887 seconds, and apriori(1000) took 1.5202529430389404 seconds\n"
          ]
        }
      ],
      "source": [
        "import time\n",
        "\n",
        "start_naive = time.time()\n",
        "results_q1a = naive(text_file).takeOrdered(5, lambda kv: -kv[1])\n",
        "end_naive = time.time()\n",
        "\n",
        "start_apriori_100 = time.time()\n",
        "results_q1b_100 = a_priori(text_file, 100).takeOrdered(5, lambda kv: -kv[1])\n",
        "end_apriori_100 = time.time()\n",
        "\n",
        "start_apriori_1000 = time.time()\n",
        "results_q1b_1000 = a_priori(text_file, 1000).takeOrdered(5, lambda kv: -kv[1])\n",
        "end_apriori_1000 = time.time()\n",
        "\n",
        "time_naive = end_naive - start_naive\n",
        "time_apriori_100 = end_apriori_100 - start_apriori_100\n",
        "time_apriori_1000 = end_apriori_1000 - start_apriori_1000\n",
        "\n",
        "\n",
        "print(f\"naive took {time_naive} seconds, apriori(100) took {time_apriori_100} seconds, and apriori(1000) took {time_apriori_1000} seconds\")"
      ]
    },
    {
      "cell_type": "code",
      "execution_count": 15,
      "metadata": {
        "id": "SruTeAqkpm7-"
      },
      "outputs": [],
      "source": [
        "assert results_q1a == results_q1b_100\n",
        "assert results_q1a == results_q1b_1000\n",
        "assert time_naive > time_apriori_100\n",
        "assert time_apriori_100 > time_apriori_1000"
      ]
    },
    {
      "cell_type": "markdown",
      "metadata": {
        "id": "EuvER5uSFmf3"
      },
      "source": [
        "##Question 2 setup"
      ]
    },
    {
      "cell_type": "code",
      "execution_count": 16,
      "metadata": {
        "id": "kiWPgQXJcyuB"
      },
      "outputs": [],
      "source": [
        "top_item_counts = a_priori_step1(text_file).filter(lambda kv: kv[1]>=100)\n",
        "top_pair_counts = a_priori(text_file, support=100)\n"
      ]
    },
    {
      "cell_type": "markdown",
      "metadata": {
        "id": "kgYQCrxRdVcC"
      },
      "source": [
        "##Question 2a"
      ]
    },
    {
      "cell_type": "code",
      "execution_count": 17,
      "metadata": {
        "colab": {
          "base_uri": "https://localhost:8080/"
        },
        "id": "V-o9703CMZFO",
        "outputId": "cd5f4a5c-8252-4179-ba3c-8dd243fe8d8a"
      },
      "outputs": [
        {
          "output_type": "stream",
          "name": "stdout",
          "text": [
            "[(('DAI93865', 'FRO40251'), 1.0), (('GRO85051', 'FRO40251'), 0.9991762767710051), (('GRO38636', 'FRO40251'), 0.9906542056074765), (('ELE12951', 'FRO40251'), 0.9905660377358491), (('DAI88079', 'FRO40251'), 0.9867256637168142)]\n"
          ]
        }
      ],
      "source": [
        "def confidence(item_counts, pair_counts, n):\n",
        "  item_support = item_counts.map(lambda x : (x[0], x[1]/n))\n",
        "  pair_support = pair_counts.map(lambda x : (x[0], x[1]/n))\n",
        "  X_Ypair_map = pair_support.map(lambda x : (x[0][0],(x[0][1], x[1])))\n",
        "  Y_Xpair_map = pair_support.map(lambda x : (x[0][1],(x[0][0], x[1])))\n",
        "  X_Yjoin = item_support.join(X_Ypair_map)\n",
        "  Y_Xjoin = item_support.join(Y_Xpair_map)\n",
        "  confCombined = X_Yjoin.union(Y_Xjoin)\n",
        "  confidence = confCombined.map(lambda x : ((x[0],x[1][1][0]), x[1][1][1]/x[1][0]))\n",
        "  return confidence\n",
        "\n",
        "top_rule_confidences = confidence(top_item_counts, top_pair_counts, text_file.count())\n",
        "results_q2a = top_rule_confidences.takeOrdered(5, lambda kv: -kv[1])\n",
        "\n",
        "print(results_q2a)"
      ]
    },
    {
      "cell_type": "code",
      "execution_count": 18,
      "metadata": {
        "id": "Z1vr_q_hMy7s"
      },
      "outputs": [],
      "source": [
        "assert results_q2a == [(('DAI93865', 'FRO40251'), 1.0), \n",
        "                       (('GRO85051', 'FRO40251'), 0.9991762767710051),\n",
        "                       (('GRO38636', 'FRO40251'), 0.9906542056074765), \n",
        "                       (('ELE12951', 'FRO40251'), 0.9905660377358491), \n",
        "                       (('DAI88079', 'FRO40251'), 0.9867256637168142)]"
      ]
    },
    {
      "cell_type": "markdown",
      "metadata": {
        "id": "kxoytVzMg7ZF"
      },
      "source": [
        "##Question 2b"
      ]
    },
    {
      "cell_type": "code",
      "execution_count": 19,
      "metadata": {
        "colab": {
          "base_uri": "https://localhost:8080/"
        },
        "id": "NRVfR-hIe4GR",
        "outputId": "e9ba6fe2-08a8-4825-8835-3bbc51f3df13"
      },
      "outputs": [
        {
          "output_type": "stream",
          "name": "stdout",
          "text": [
            "[(('DAI43868', 'SNA82528'), 0.9538739086342056), (('DAI93865', 'FRO40251'), 0.8752130156586605), (('GRO85051', 'FRO40251'), 0.8743892924296656), (('GRO38636', 'FRO40251'), 0.865867221266137), (('ELE12951', 'FRO40251'), 0.8657790533945096)]\n"
          ]
        }
      ],
      "source": [
        "def interest(item_counts, rule_confidences, n):\n",
        "  #Map the items with the corresponding its probability (Y, Probability of Y)\n",
        "  ProbY = item_counts.map(lambda x : (x[0], x[1]/n))\n",
        "  #Swap the pair((X, Y), _) form to (Y, (X, Conf(X->Y))) to make Y as key \n",
        "  X_YconfPair = rule_confidences.map(lambda x : (x[0][1],(x[0][0], x[1])))\n",
        "  #Join to get the form of (Y,(Prob(Y), (X, Conf(X->Y)))) to calculate interest next\n",
        "  X_Yjoin = ProbY.join(X_YconfPair)\n",
        "  #Calculate Interest by subtracting Conf(X->Y) - Prob(Y)\n",
        "  #and mapping them in form ((X, Y), Interest(X->Y))\n",
        "  interest = X_Yjoin.map(lambda x : ((x[1][1][0], x[0]), x[1][1][1]-x[1][0]))\n",
        "  return interest\n",
        "  \n",
        "top_interest = interest(top_item_counts, top_rule_confidences, text_file.count())\n",
        "results_q2b = top_interest.takeOrdered(5, lambda kv: -kv[1])\n",
        "print(results_q2b)"
      ]
    },
    {
      "cell_type": "code",
      "execution_count": 21,
      "metadata": {
        "id": "-GH9mgvqfkyO"
      },
      "outputs": [],
      "source": [
        "assert results_q2b == [(('DAI43868', 'SNA82528'), 0.9538739086342056), \n",
        "                       (('DAI93865', 'FRO40251'), 0.8752130156586605), \n",
        "                       (('GRO85051', 'FRO40251'), 0.8743892924296656), \n",
        "                       (('GRO38636', 'FRO40251'), 0.865867221266137), \n",
        "                       (('ELE12951', 'FRO40251'), 0.8657790533945096)]"
      ]
    }
  ],
  "metadata": {
    "colab": {
      "provenance": []
    },
    "kernelspec": {
      "display_name": "Python 3 (ipykernel)",
      "language": "python",
      "name": "python3"
    },
    "language_info": {
      "codemirror_mode": {
        "name": "ipython",
        "version": 3
      },
      "file_extension": ".py",
      "mimetype": "text/x-python",
      "name": "python",
      "nbconvert_exporter": "python",
      "pygments_lexer": "ipython3",
      "version": "3.9.13"
    }
  },
  "nbformat": 4,
  "nbformat_minor": 0
}