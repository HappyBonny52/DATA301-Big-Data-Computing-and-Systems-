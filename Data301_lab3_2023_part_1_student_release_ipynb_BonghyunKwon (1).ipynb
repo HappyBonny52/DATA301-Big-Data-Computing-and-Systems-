{
  "cells": [
    {
      "cell_type": "markdown",
      "metadata": {
        "deletable": false,
        "editable": false,
        "id": "g_fnq5Kjguoz",
        "nbgrader": {
          "cell_type": "markdown",
          "checksum": "f6c6e217a04aead2f99e5ae9877373a2",
          "grade": false,
          "grade_id": "cell-ce4ff5fcbdff910a",
          "locked": true,
          "schema_version": 3,
          "solution": false,
          "task": false
        }
      },
      "source": [
        "#Part 1"
      ]
    },
    {
      "cell_type": "code",
      "execution_count": 1,
      "metadata": {
        "deletable": false,
        "editable": false,
        "id": "ih9JMaHLUX_6",
        "nbgrader": {
          "cell_type": "code",
          "checksum": "74a1a246f872ad3b9d0b505a511c36f0",
          "grade": false,
          "grade_id": "cell-54c6c1b25ffc9c45",
          "locked": true,
          "schema_version": 3,
          "solution": false,
          "task": false
        },
        "colab": {
          "base_uri": "https://localhost:8080/"
        },
        "outputId": "3dafe421-36b1-4190-a17b-3a68dfc09312"
      },
      "outputs": [
        {
          "output_type": "stream",
          "name": "stdout",
          "text": [
            "env: PYTHONHASHSEED=3\n",
            "\u001b[2K     \u001b[90m━━━━━━━━━━━━━━━━━━━━━━━━━━━━━━━━━━━━━━━\u001b[0m \u001b[32m281.4/281.4 MB\u001b[0m \u001b[31m5.0 MB/s\u001b[0m eta \u001b[36m0:00:00\u001b[0m\n",
            "\u001b[?25h  Preparing metadata (setup.py) ... \u001b[?25l\u001b[?25hdone\n",
            "\u001b[2K     \u001b[90m━━━━━━━━━━━━━━━━━━━━━━━━━━━━━━━━━━━━━━\u001b[0m \u001b[32m199.7/199.7 KB\u001b[0m \u001b[31m13.8 MB/s\u001b[0m eta \u001b[36m0:00:00\u001b[0m\n",
            "\u001b[?25h  Building wheel for pyspark (setup.py) ... \u001b[?25l\u001b[?25hdone\n"
          ]
        }
      ],
      "source": [
        "%env PYTHONHASHSEED 3\n",
        "!apt-get install openjdk-8-jdk-headless -qq > /dev/null\n",
        "!pip install -q pyspark"
      ]
    },
    {
      "cell_type": "code",
      "execution_count": 2,
      "metadata": {
        "deletable": false,
        "editable": false,
        "id": "_8_lZxSvYwWJ",
        "nbgrader": {
          "cell_type": "code",
          "checksum": "9a26cb5e7010b2acc552751fd9ee0e15",
          "grade": false,
          "grade_id": "cell-44f76631ff33a1d6",
          "locked": true,
          "schema_version": 3,
          "solution": false,
          "task": false
        }
      },
      "outputs": [],
      "source": [
        "from math import sqrt\n",
        "import pyspark\n",
        "from pyspark import SparkConf, SparkContext\n",
        "from pyspark.sql import *\n",
        "spark = SparkSession.builder.master(\"local[*]\").appName('SparkExample').config(\n",
        "    \"spark.executor.memory\", \"1g\").config(\"spark.ui.port\", \"4050\"\n",
        "        ).getOrCreate()\n",
        "sc = spark.sparkContext\n",
        "\n",
        "def dbg(x):\n",
        "  \"\"\" A helper function to print debugging information on RDDs \"\"\"\n",
        "  if isinstance(x, pyspark.RDD):\n",
        "    print([(t[0], list(t[1]) if \n",
        "            isinstance(t[1], pyspark.resultiterable.ResultIterable) else t[1])\n",
        "           if isinstance(t, tuple) else t\n",
        "           for t in x.take(100)])\n",
        "  else:\n",
        "    print(x)                                 "
      ]
    },
    {
      "cell_type": "markdown",
      "metadata": {
        "deletable": false,
        "editable": false,
        "id": "gWazm_KNFt3u",
        "nbgrader": {
          "cell_type": "markdown",
          "checksum": "887fd26bbe83a262a6a6cc4e09d13b67",
          "grade": false,
          "grade_id": "cell-fed6ece5bd6a78c2",
          "locked": true,
          "schema_version": 3,
          "solution": false,
          "task": false
        }
      },
      "source": [
        "##Loading data"
      ]
    },
    {
      "cell_type": "code",
      "execution_count": 3,
      "metadata": {
        "deletable": false,
        "editable": false,
        "id": "TviInWyyB62P",
        "nbgrader": {
          "cell_type": "code",
          "checksum": "2d991f44aaa706dbf4faa35fa0435022",
          "grade": false,
          "grade_id": "cell-9e0e0ad21c33c959",
          "locked": true,
          "schema_version": 3,
          "solution": false,
          "task": false
        },
        "colab": {
          "base_uri": "https://localhost:8080/"
        },
        "outputId": "cb66fdc9-96d8-475d-fbda-7d95a6d0149c"
      },
      "outputs": [
        {
          "output_type": "stream",
          "name": "stdout",
          "text": [
            "browsing.txt loaded with 31101 lines\n"
          ]
        }
      ],
      "source": [
        "import urllib.request\n",
        "url = 'https://drive.google.com/uc?export=download&confirm=t&id=1Ijyh14a0Lh9sjwQUR6PE1TB2phjAZP4P'\n",
        "filename = \"browsing.txt\"\n",
        "urllib.request.urlretrieve(url, filename)\n",
        "\n",
        "# load up front for use in all questions\n",
        "text_file = sc.textFile(filename)\n",
        "# force spark to load the file\n",
        "print(f\"{filename} loaded with {text_file.count()} lines\")"
      ]
    },
    {
      "cell_type": "markdown",
      "metadata": {
        "deletable": false,
        "editable": false,
        "id": "RV-CbR3352o6",
        "nbgrader": {
          "cell_type": "markdown",
          "checksum": "8b7a057b9078473d97897d7e52119ec1",
          "grade": false,
          "grade_id": "cell-2f2a1e2257fcba65",
          "locked": true,
          "schema_version": 3,
          "solution": false,
          "task": false
        }
      },
      "source": [
        "##Question 1a"
      ]
    },
    {
      "cell_type": "code",
      "execution_count": 135,
      "metadata": {
        "deletable": false,
        "id": "rA2HIUKe5lzH",
        "nbgrader": {
          "cell_type": "code",
          "checksum": "78aab7c81a9e5b763f637281b8bddbc9",
          "grade": false,
          "grade_id": "cell-8e56428c329f1a84",
          "locked": false,
          "schema_version": 3,
          "solution": true,
          "task": false
        },
        "colab": {
          "base_uri": "https://localhost:8080/"
        },
        "outputId": "63993b64-4f7e-41a8-c9b9-fc50b7ab84f0"
      },
      "outputs": [
        {
          "output_type": "stream",
          "name": "stdout",
          "text": [
            "[(('DAI62779', 'ELE17451'), 1592), (('FRO40251', 'SNA80324'), 1412), (('DAI75645', 'FRO40251'), 1254), (('FRO40251', 'GRO85051'), 1213), (('DAI62779', 'GRO73461'), 1139)]\n"
          ]
        }
      ],
      "source": [
        "from operator import *\n",
        "def items_pair_tup(line):\n",
        "  return [tuple(sorted((line[j], line[i]))) for i in range(len(line)) for j in range(i)]\n",
        "  \n",
        "def naive(text_file_rdd):\n",
        "  wordsByLine = text_file_rdd.map(lambda x : x.split(\" \")).map(lambda x : x[:-1])\n",
        "  itemPairTup = wordsByLine.flatMap(items_pair_tup)\n",
        "  itemPairCount = itemPairTup.map(lambda x : (x, 1)).reduceByKey(add)\n",
        "  return itemPairCount\n",
        "    \n",
        "results_q1a = naive(text_file).takeOrdered(5, lambda kv: -kv[1])\n",
        "print(results_q1a)"
      ]
    },
    {
      "cell_type": "code",
      "execution_count": 67,
      "metadata": {
        "deletable": false,
        "editable": false,
        "id": "JTQ5SDXP7XvV",
        "nbgrader": {
          "cell_type": "code",
          "checksum": "b240c9f216422f2d691facc69832bf96",
          "grade": true,
          "grade_id": "cell-c44472506d90d281",
          "locked": true,
          "points": 10,
          "schema_version": 3,
          "solution": false,
          "task": false
        }
      },
      "outputs": [],
      "source": [
        "assert results_q1a == [(('DAI62779', 'ELE17451'), 1592), (('FRO40251', 'SNA80324'), 1412), \n",
        " (('DAI75645', 'FRO40251'), 1254), (('FRO40251', 'GRO85051'), 1213), \n",
        " (('DAI62779', 'GRO73461'), 1139)]"
      ]
    },
    {
      "cell_type": "markdown",
      "metadata": {
        "deletable": false,
        "editable": false,
        "id": "Fl5RTj777adn",
        "nbgrader": {
          "cell_type": "markdown",
          "checksum": "fab8dfda1e2d00f4359a219ea2e113de",
          "grade": false,
          "grade_id": "cell-49c5489f88a88597",
          "locked": true,
          "schema_version": 3,
          "solution": false,
          "task": false
        }
      },
      "source": [
        "##Question 1b"
      ]
    },
    {
      "cell_type": "code",
      "execution_count": 136,
      "metadata": {
        "deletable": false,
        "id": "IJDyTZkf76n_",
        "nbgrader": {
          "cell_type": "code",
          "checksum": "a3f0b0d716e1a5da4434e9395e0ce1c1",
          "grade": false,
          "grade_id": "cell-973edba8e675f277",
          "locked": false,
          "schema_version": 3,
          "solution": true,
          "task": false
        },
        "colab": {
          "base_uri": "https://localhost:8080/"
        },
        "outputId": "9ec2ea07-d32b-41c8-d493-75c9a85b7a05"
      },
      "outputs": [
        {
          "output_type": "stream",
          "name": "stdout",
          "text": [
            "[('DAI62779', 6667), ('FRO40251', 3881), ('ELE17451', 3875), ('GRO73461', 3602), ('SNA80324', 3044)]\n"
          ]
        }
      ],
      "source": [
        "#Step 1 of the A-priori algorithm (has its own function so we can test it)\n",
        "def a_priori_step1(text_file_rdd):\n",
        "  items = text_file_rdd.flatMap(lambda x : x.split(\" \")).filter(lambda x : x != '')\n",
        "  itemsCount = items.map(lambda x : (x, 1)).reduceByKey(add)\n",
        "  return itemsCount\n",
        "results_q1b_step1 = a_priori_step1(text_file).takeOrdered(5, lambda kv: -kv[1])\n",
        "print(results_q1b_step1)"
      ]
    },
    {
      "cell_type": "code",
      "execution_count": 70,
      "metadata": {
        "deletable": false,
        "editable": false,
        "id": "zfy_zGxb75w4",
        "nbgrader": {
          "cell_type": "code",
          "checksum": "d07797dcc3379f548439e1bca83606cf",
          "grade": true,
          "grade_id": "cell-b2c7e18d961f3a84",
          "locked": true,
          "points": 5,
          "schema_version": 3,
          "solution": false,
          "task": false
        }
      },
      "outputs": [],
      "source": [
        "assert results_q1b_step1 == [('DAI62779', 6667), ('FRO40251', 3881), \n",
        "                             ('ELE17451', 3875), ('GRO73461', 3602), \n",
        "                             ('SNA80324', 3044)]"
      ]
    },
    {
      "cell_type": "code",
      "execution_count": 217,
      "metadata": {
        "deletable": false,
        "id": "TCRJalF_-ObX",
        "nbgrader": {
          "cell_type": "code",
          "checksum": "a02a25d8260a115581bcd070d5b57df0",
          "grade": false,
          "grade_id": "cell-95e0133bceea79a8",
          "locked": false,
          "schema_version": 3,
          "solution": true,
          "task": false
        },
        "colab": {
          "base_uri": "https://localhost:8080/"
        },
        "outputId": "9c0dc0fa-8e7e-403e-a41c-a56af16f9f1e"
      },
      "outputs": [
        {
          "output_type": "stream",
          "name": "stdout",
          "text": [
            "[(('DAI62779', 'ELE17451'), 1592), (('FRO40251', 'SNA80324'), 1412), (('DAI75645', 'FRO40251'), 1254), (('FRO40251', 'GRO85051'), 1213), (('DAI62779', 'GRO73461'), 1139)]\n"
          ]
        }
      ],
      "source": [
        "def a_priori(text_file_rdd, support=100):\n",
        "  supportItems = a_priori_step1(text_file_rdd).filter(lambda x : x[1] > support)\n",
        "  freqItems = sc.broadcast(supportItems.map(lambda x : x[0]).collect())\n",
        "\n",
        "  def filter_uncommon(text):\n",
        "    return [item  for item in text.split(' ') if item in freqItems.value]\n",
        "\n",
        "  freqItemByLine = text_file_rdd.map(filter_uncommon)\n",
        "  freqItemPair = freqItemByLine.flatMap(items_pair_tup)\n",
        "  freqWordsPairCount = freqItemPair.map(lambda x : (x, 1)).reduceByKey(add)\n",
        "  return freqWordsPairCount\n",
        "\n",
        "results_q1b = a_priori(text_file).takeOrdered(5, lambda kv: -kv[1])\n",
        "print(results_q1b)"
      ]
    },
    {
      "cell_type": "code",
      "execution_count": 218,
      "metadata": {
        "deletable": false,
        "editable": false,
        "id": "oWfL6p4aAk6d",
        "nbgrader": {
          "cell_type": "code",
          "checksum": "53362816000e2e5c2a2639a993fde19c",
          "grade": true,
          "grade_id": "cell-ea3aef9d169690f7",
          "locked": true,
          "points": 10,
          "schema_version": 3,
          "solution": false,
          "task": false
        }
      },
      "outputs": [],
      "source": [
        "assert results_q1b == [(('DAI62779', 'ELE17451'), 1592), (('FRO40251', 'SNA80324'), 1412), \n",
        " (('DAI75645', 'FRO40251'), 1254), (('FRO40251', 'GRO85051'), 1213), \n",
        " (('DAI62779', 'GRO73461'), 1139)]"
      ]
    },
    {
      "cell_type": "code",
      "execution_count": 219,
      "metadata": {
        "deletable": false,
        "id": "JJcl3CJ6BCOJ",
        "nbgrader": {
          "cell_type": "code",
          "checksum": "fd8f53019e82382122d6525e4a67cfa4",
          "grade": false,
          "grade_id": "cell-211cc9297537dff4",
          "locked": false,
          "schema_version": 3,
          "solution": true,
          "task": false
        },
        "colab": {
          "base_uri": "https://localhost:8080/"
        },
        "outputId": "bf6e9854-5921-4343-fe7f-dbf58cbfa3b3"
      },
      "outputs": [
        {
          "output_type": "stream",
          "name": "stdout",
          "text": [
            "naive took 8.573988676071167 seconds, apriori(100) took 4.893145322799683 seconds, and apriori(1000) took 1.2100610733032227 seconds\n"
          ]
        }
      ],
      "source": [
        "import time\n",
        "\n",
        "start_naive = time.time()\n",
        "results_q1a = naive(text_file).takeOrdered(5, lambda kv: -kv[1])\n",
        "end_naive = time.time()\n",
        "\n",
        "start_apriori_100 = time.time()\n",
        "results_q1b_100 = a_priori(text_file, 100).takeOrdered(5, lambda kv: -kv[1])\n",
        "end_apriori_100 = time.time()\n",
        "\n",
        "start_apriori_1000 = time.time()\n",
        "results_q1b_1000 = a_priori(text_file, 1000).takeOrdered(5, lambda kv: -kv[1])\n",
        "end_apriori_1000 = time.time()\n",
        "\n",
        "time_naive = end_naive - start_naive\n",
        "time_apriori_100 = end_apriori_100 - start_apriori_100\n",
        "time_apriori_1000 = end_apriori_1000 - start_apriori_1000\n",
        "\n",
        "\n",
        "print(f\"naive took {time_naive} seconds, apriori(100) took {time_apriori_100} seconds, and apriori(1000) took {time_apriori_1000} seconds\")"
      ]
    },
    {
      "cell_type": "code",
      "execution_count": 208,
      "metadata": {
        "deletable": false,
        "editable": false,
        "nbgrader": {
          "cell_type": "code",
          "checksum": "65752c78a095b85ae09e1295509b0b03",
          "grade": true,
          "grade_id": "cell-c3b38637d1ad489b",
          "locked": true,
          "points": 5,
          "schema_version": 3,
          "solution": false,
          "task": false
        },
        "id": "SruTeAqkpm7-"
      },
      "outputs": [],
      "source": [
        "assert results_q1a == results_q1b_100\n",
        "assert results_q1a == results_q1b_1000\n",
        "assert time_naive > time_apriori_100\n",
        "assert time_apriori_100 > time_apriori_1000"
      ]
    },
    {
      "cell_type": "markdown",
      "metadata": {
        "deletable": false,
        "editable": false,
        "id": "EuvER5uSFmf3",
        "nbgrader": {
          "cell_type": "markdown",
          "checksum": "37e786605eead61ed0c7f8d509761b6b",
          "grade": false,
          "grade_id": "cell-eb0b120263a5c106",
          "locked": true,
          "schema_version": 3,
          "solution": false,
          "task": false
        }
      },
      "source": [
        "##Question 2 setup"
      ]
    },
    {
      "cell_type": "code",
      "execution_count": 209,
      "metadata": {
        "deletable": false,
        "editable": false,
        "id": "kiWPgQXJcyuB",
        "nbgrader": {
          "cell_type": "code",
          "checksum": "2ba834ac3d4672650899705248ce54dd",
          "grade": false,
          "grade_id": "cell-1a554f9e4075ad3e",
          "locked": true,
          "schema_version": 3,
          "solution": false,
          "task": false
        }
      },
      "outputs": [],
      "source": [
        "top_item_counts = a_priori_step1(text_file).filter(lambda kv: kv[1]>=100)\n",
        "top_pair_counts = a_priori(text_file, support=100)\n"
      ]
    },
    {
      "cell_type": "markdown",
      "metadata": {
        "deletable": false,
        "editable": false,
        "id": "kgYQCrxRdVcC",
        "nbgrader": {
          "cell_type": "markdown",
          "checksum": "fc707ccdbfc672376c28fcc3c821f82a",
          "grade": false,
          "grade_id": "cell-8b3bab649973a78e",
          "locked": true,
          "schema_version": 3,
          "solution": false,
          "task": false
        }
      },
      "source": [
        "##Question 2a"
      ]
    },
    {
      "cell_type": "code",
      "execution_count": 210,
      "metadata": {
        "deletable": false,
        "id": "V-o9703CMZFO",
        "nbgrader": {
          "cell_type": "code",
          "checksum": "e9316991ded76ddf1a66eaf883ba716f",
          "grade": false,
          "grade_id": "cell-d6293d7b32d72218",
          "locked": false,
          "schema_version": 3,
          "solution": true,
          "task": false
        },
        "colab": {
          "base_uri": "https://localhost:8080/"
        },
        "outputId": "5a4e57eb-b804-4329-83d6-dec65f1790df"
      },
      "outputs": [
        {
          "output_type": "stream",
          "name": "stdout",
          "text": [
            "[(('DAI93865', 'FRO40251'), 1.0), (('GRO85051', 'FRO40251'), 0.9991762767710051), (('GRO38636', 'FRO40251'), 0.9906542056074765), (('ELE12951', 'FRO40251'), 0.9905660377358491), (('DAI88079', 'FRO40251'), 0.9867256637168142)]\n"
          ]
        }
      ],
      "source": [
        "def confidence(item_counts, pair_counts, n):\n",
        "  res = []\n",
        "  item_support = item_counts.map(lambda x : (x[0], x[1]/n))\n",
        "  pair_support = pair_counts.map(lambda x : (x[0], x[1]/n))\n",
        "  X_Ypair_map = pair_support.map(lambda x : (x[0][0],(x[0][1], x[1])))\n",
        "  Y_Xpair_map = pair_support.map(lambda x : (x[0][1],(x[0][0], x[1])))\n",
        "  X_Yjoin = item_support.join(X_Ypair_map)\n",
        "  Y_Xjoin = item_support.join(Y_Xpair_map)\n",
        "  confCombined = X_Yjoin.union(Y_Xjoin)\n",
        "  confidence = confCombined.map(lambda x : ((x[0],x[1][1][0]), x[1][1][1]/x[1][0]))\n",
        "  return confidence\n",
        "\n",
        "top_rule_confidences = confidence(top_item_counts, top_pair_counts, text_file.count())\n",
        "results_q2a = top_rule_confidences.takeOrdered(5, lambda kv: -kv[1])\n",
        "\n",
        "print(results_q2a)"
      ]
    },
    {
      "cell_type": "code",
      "execution_count": 211,
      "metadata": {
        "deletable": false,
        "editable": false,
        "id": "Z1vr_q_hMy7s",
        "nbgrader": {
          "cell_type": "code",
          "checksum": "89620bbc667662915a97b2e339a574d2",
          "grade": true,
          "grade_id": "cell-4fde69aaddefd8b0",
          "locked": true,
          "points": 10,
          "schema_version": 3,
          "solution": false,
          "task": false
        }
      },
      "outputs": [],
      "source": [
        "assert results_q2a == [(('DAI93865', 'FRO40251'), 1.0), \n",
        "                       (('GRO85051', 'FRO40251'), 0.9991762767710051),\n",
        "                       (('GRO38636', 'FRO40251'), 0.9906542056074765), \n",
        "                       (('ELE12951', 'FRO40251'), 0.9905660377358491), \n",
        "                       (('DAI88079', 'FRO40251'), 0.9867256637168142)]"
      ]
    },
    {
      "cell_type": "markdown",
      "metadata": {
        "deletable": false,
        "editable": false,
        "id": "kxoytVzMg7ZF",
        "nbgrader": {
          "cell_type": "markdown",
          "checksum": "cb4366c01dd247445d566bd91e67a3b8",
          "grade": false,
          "grade_id": "cell-c38391fab2dca570",
          "locked": true,
          "schema_version": 3,
          "solution": false,
          "task": false
        }
      },
      "source": [
        "##Question 2b"
      ]
    },
    {
      "cell_type": "code",
      "execution_count": 212,
      "metadata": {
        "deletable": false,
        "id": "NRVfR-hIe4GR",
        "nbgrader": {
          "cell_type": "code",
          "checksum": "ce912a01eca8a615e87e40a40760d3c0",
          "grade": false,
          "grade_id": "cell-d83fc45e7dac0747",
          "locked": false,
          "schema_version": 3,
          "solution": true,
          "task": false
        },
        "colab": {
          "base_uri": "https://localhost:8080/"
        },
        "outputId": "4e639cc2-1070-4ffd-a781-0be762848c38"
      },
      "outputs": [
        {
          "output_type": "stream",
          "name": "stdout",
          "text": [
            "[(('DAI43868', 'SNA82528'), 0.9538739086342056), (('DAI93865', 'FRO40251'), 0.8752130156586605), (('GRO85051', 'FRO40251'), 0.8743892924296656), (('GRO38636', 'FRO40251'), 0.865867221266137), (('ELE12951', 'FRO40251'), 0.8657790533945096)]\n"
          ]
        }
      ],
      "source": [
        "def interest(item_counts, rule_confidences, n):\n",
        "  #Map the items with the corresponding its probability (Y, Probability of Y)\n",
        "  ProbY = item_counts.map(lambda x : (x[0], x[1]/n))\n",
        "  #swap the pair((X, Y), _) form to ((Y, X), _) to make the key Y \n",
        "  X_YconfPair = rule_confidences.map(lambda x : (x[0][1],(x[0][0], x[1])))\n",
        "  #Join to get the form of (Y,(Prob(Y), (X, Conf(X->Y)))) to calculate interest next\n",
        "  X_Yjoin = ProbY.join(X_YconfPair)\n",
        "  #Calculate Interest by subtracting Conf(X->Y) - Prob(Y)\n",
        "  #and mapping them in form ((X, Y), Interest(X->Y))\n",
        "  interest = X_Yjoin.map(lambda x : ((x[1][1][0], x[0]), x[1][1][1]-x[1][0]))\n",
        "  return interest\n",
        "  \n",
        "top_interest = interest(top_item_counts, top_rule_confidences, text_file.count())\n",
        "results_q2b = top_interest.takeOrdered(5, lambda kv: -kv[1])\n",
        "print(results_q2b)"
      ]
    },
    {
      "cell_type": "code",
      "execution_count": 213,
      "metadata": {
        "deletable": false,
        "editable": false,
        "id": "-GH9mgvqfkyO",
        "nbgrader": {
          "cell_type": "code",
          "checksum": "565619678e74439a7e55b16967c96695",
          "grade": true,
          "grade_id": "cell-50f58cc499634e7f",
          "locked": true,
          "points": 10,
          "schema_version": 3,
          "solution": false,
          "task": false
        }
      },
      "outputs": [],
      "source": [
        "assert results_q2b == [(('DAI43868', 'SNA82528'), 0.9538739086342056), \n",
        "                       (('DAI93865', 'FRO40251'), 0.8752130156586605), \n",
        "                       (('GRO85051', 'FRO40251'), 0.8743892924296656), \n",
        "                       (('GRO38636', 'FRO40251'), 0.865867221266137), \n",
        "                       (('ELE12951', 'FRO40251'), 0.8657790533945096)]"
      ]
    }
  ],
  "metadata": {
    "colab": {
      "provenance": []
    },
    "kernelspec": {
      "display_name": "Python 3 (ipykernel)",
      "language": "python",
      "name": "python3"
    },
    "language_info": {
      "codemirror_mode": {
        "name": "ipython",
        "version": 3
      },
      "file_extension": ".py",
      "mimetype": "text/x-python",
      "name": "python",
      "nbconvert_exporter": "python",
      "pygments_lexer": "ipython3",
      "version": "3.9.13"
    }
  },
  "nbformat": 4,
  "nbformat_minor": 0
}